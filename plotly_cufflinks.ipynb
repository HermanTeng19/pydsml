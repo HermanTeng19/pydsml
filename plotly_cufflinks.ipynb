{
 "metadata": {
  "language_info": {
   "codemirror_mode": {
    "name": "ipython",
    "version": 3
   },
   "file_extension": ".py",
   "mimetype": "text/x-python",
   "name": "python",
   "nbconvert_exporter": "python",
   "pygments_lexer": "ipython3",
   "version": "3.8.5-final"
  },
  "orig_nbformat": 2,
  "kernelspec": {
   "name": "python3",
   "display_name": "Python 3",
   "language": "python"
  }
 },
 "nbformat": 4,
 "nbformat_minor": 2,
 "cells": [
  {
   "source": [
    "# Plotly and Cufflinks"
   ],
   "cell_type": "markdown",
   "metadata": {}
  },
  {
   "cell_type": "code",
   "execution_count": 1,
   "metadata": {},
   "outputs": [],
   "source": [
    "import pandas as pd \n",
    "import numpy as np "
   ]
  },
  {
   "cell_type": "code",
   "execution_count": 2,
   "metadata": {},
   "outputs": [],
   "source": [
    "from plotly import __version__"
   ]
  },
  {
   "cell_type": "code",
   "execution_count": 3,
   "metadata": {},
   "outputs": [
    {
     "output_type": "stream",
     "name": "stdout",
     "text": [
      "4.14.1\n"
     ]
    }
   ],
   "source": [
    "print(__version__)"
   ]
  },
  {
   "cell_type": "code",
   "execution_count": 4,
   "metadata": {},
   "outputs": [],
   "source": [
    "import cufflinks as cf "
   ]
  },
  {
   "cell_type": "code",
   "execution_count": 5,
   "metadata": {},
   "outputs": [],
   "source": [
    "from plotly.offline import download_plotlyjs,init_notebook_mode,plot,iplot"
   ]
  },
  {
   "cell_type": "code",
   "execution_count": 6,
   "metadata": {},
   "outputs": [
    {
     "output_type": "display_data",
     "data": {
      "text/html": "        <script type=\"text/javascript\">\n        window.PlotlyConfig = {MathJaxConfig: 'local'};\n        if (window.MathJax) {MathJax.Hub.Config({SVG: {font: \"STIX-Web\"}});}\n        if (typeof require !== 'undefined') {\n        require.undef(\"plotly\");\n        requirejs.config({\n            paths: {\n                'plotly': ['https://cdn.plot.ly/plotly-latest.min']\n            }\n        });\n        require(['plotly'], function(Plotly) {\n            window._Plotly = Plotly;\n        });\n        }\n        </script>\n        "
     },
     "metadata": {}
    }
   ],
   "source": [
    "init_notebook_mode(connected=True)"
   ]
  },
  {
   "cell_type": "code",
   "execution_count": 7,
   "metadata": {},
   "outputs": [
    {
     "output_type": "display_data",
     "data": {
      "text/html": "        <script type=\"text/javascript\">\n        window.PlotlyConfig = {MathJaxConfig: 'local'};\n        if (window.MathJax) {MathJax.Hub.Config({SVG: {font: \"STIX-Web\"}});}\n        if (typeof require !== 'undefined') {\n        require.undef(\"plotly\");\n        requirejs.config({\n            paths: {\n                'plotly': ['https://cdn.plot.ly/plotly-latest.min']\n            }\n        });\n        require(['plotly'], function(Plotly) {\n            window._Plotly = Plotly;\n        });\n        }\n        </script>\n        "
     },
     "metadata": {}
    }
   ],
   "source": [
    "cf.go_offline()"
   ]
  },
  {
   "cell_type": "code",
   "execution_count": 9,
   "metadata": {},
   "outputs": [],
   "source": [
    "# Data\n",
    "df = pd.DataFrame(np.random.randn(100,4),columns='A B C D'.split())"
   ]
  },
  {
   "cell_type": "code",
   "execution_count": 10,
   "metadata": {},
   "outputs": [
    {
     "output_type": "execute_result",
     "data": {
      "text/plain": [
       "           A         B         C         D\n",
       "0  -1.286784 -1.243642  0.373969  0.100192\n",
       "1   0.710728  1.569286  0.485819 -0.408415\n",
       "2   1.220658 -0.266719 -0.635138  1.088023\n",
       "3   2.670689  0.281564  0.274196  0.865264\n",
       "4  -0.868396  1.365892  0.284412  1.381337\n",
       "..       ...       ...       ...       ...\n",
       "95 -0.048361  0.149378 -0.398046 -0.960900\n",
       "96  0.400872 -1.167902  1.785697 -0.698163\n",
       "97  0.260806  0.917043  1.096054  1.634086\n",
       "98 -0.318583  0.524594 -0.395858 -0.512006\n",
       "99 -0.071197 -1.288576 -0.342184 -1.350098\n",
       "\n",
       "[100 rows x 4 columns]"
      ],
      "text/html": "<div>\n<style scoped>\n    .dataframe tbody tr th:only-of-type {\n        vertical-align: middle;\n    }\n\n    .dataframe tbody tr th {\n        vertical-align: top;\n    }\n\n    .dataframe thead th {\n        text-align: right;\n    }\n</style>\n<table border=\"1\" class=\"dataframe\">\n  <thead>\n    <tr style=\"text-align: right;\">\n      <th></th>\n      <th>A</th>\n      <th>B</th>\n      <th>C</th>\n      <th>D</th>\n    </tr>\n  </thead>\n  <tbody>\n    <tr>\n      <th>0</th>\n      <td>-1.286784</td>\n      <td>-1.243642</td>\n      <td>0.373969</td>\n      <td>0.100192</td>\n    </tr>\n    <tr>\n      <th>1</th>\n      <td>0.710728</td>\n      <td>1.569286</td>\n      <td>0.485819</td>\n      <td>-0.408415</td>\n    </tr>\n    <tr>\n      <th>2</th>\n      <td>1.220658</td>\n      <td>-0.266719</td>\n      <td>-0.635138</td>\n      <td>1.088023</td>\n    </tr>\n    <tr>\n      <th>3</th>\n      <td>2.670689</td>\n      <td>0.281564</td>\n      <td>0.274196</td>\n      <td>0.865264</td>\n    </tr>\n    <tr>\n      <th>4</th>\n      <td>-0.868396</td>\n      <td>1.365892</td>\n      <td>0.284412</td>\n      <td>1.381337</td>\n    </tr>\n    <tr>\n      <th>...</th>\n      <td>...</td>\n      <td>...</td>\n      <td>...</td>\n      <td>...</td>\n    </tr>\n    <tr>\n      <th>95</th>\n      <td>-0.048361</td>\n      <td>0.149378</td>\n      <td>-0.398046</td>\n      <td>-0.960900</td>\n    </tr>\n    <tr>\n      <th>96</th>\n      <td>0.400872</td>\n      <td>-1.167902</td>\n      <td>1.785697</td>\n      <td>-0.698163</td>\n    </tr>\n    <tr>\n      <th>97</th>\n      <td>0.260806</td>\n      <td>0.917043</td>\n      <td>1.096054</td>\n      <td>1.634086</td>\n    </tr>\n    <tr>\n      <th>98</th>\n      <td>-0.318583</td>\n      <td>0.524594</td>\n      <td>-0.395858</td>\n      <td>-0.512006</td>\n    </tr>\n    <tr>\n      <th>99</th>\n      <td>-0.071197</td>\n      <td>-1.288576</td>\n      <td>-0.342184</td>\n      <td>-1.350098</td>\n    </tr>\n  </tbody>\n</table>\n<p>100 rows × 4 columns</p>\n</div>"
     },
     "metadata": {},
     "execution_count": 10
    }
   ],
   "source": [
    "df"
   ]
  },
  {
   "cell_type": "code",
   "execution_count": 11,
   "metadata": {},
   "outputs": [],
   "source": [
    "df2 = pd.DataFrame({'category':['A','B','C'],'values':[32,43,50]})"
   ]
  },
  {
   "cell_type": "code",
   "execution_count": 12,
   "metadata": {},
   "outputs": [
    {
     "output_type": "execute_result",
     "data": {
      "text/plain": [
       "  category  values\n",
       "0        A      32\n",
       "1        B      43\n",
       "2        C      50"
      ],
      "text/html": "<div>\n<style scoped>\n    .dataframe tbody tr th:only-of-type {\n        vertical-align: middle;\n    }\n\n    .dataframe tbody tr th {\n        vertical-align: top;\n    }\n\n    .dataframe thead th {\n        text-align: right;\n    }\n</style>\n<table border=\"1\" class=\"dataframe\">\n  <thead>\n    <tr style=\"text-align: right;\">\n      <th></th>\n      <th>category</th>\n      <th>values</th>\n    </tr>\n  </thead>\n  <tbody>\n    <tr>\n      <th>0</th>\n      <td>A</td>\n      <td>32</td>\n    </tr>\n    <tr>\n      <th>1</th>\n      <td>B</td>\n      <td>43</td>\n    </tr>\n    <tr>\n      <th>2</th>\n      <td>C</td>\n      <td>50</td>\n    </tr>\n  </tbody>\n</table>\n</div>"
     },
     "metadata": {},
     "execution_count": 12
    }
   ],
   "source": [
    "df2"
   ]
  },
  {
   "cell_type": "code",
   "execution_count": 13,
   "metadata": {},
   "outputs": [
    {
     "output_type": "execute_result",
     "data": {
      "text/plain": [
       "<AxesSubplot:>"
      ]
     },
     "metadata": {},
     "execution_count": 13
    },
    {
     "output_type": "display_data",
     "data": {
      "text/plain": "<Figure size 432x288 with 1 Axes>",
      "image/svg+xml": "<?xml version=\"1.0\" encoding=\"utf-8\" standalone=\"no\"?>\n<!DOCTYPE svg PUBLIC \"-//W3C//DTD SVG 1.1//EN\"\n  \"http://www.w3.org/Graphics/SVG/1.1/DTD/svg11.dtd\">\n<!-- Created with matplotlib (https://matplotlib.org/) -->\n<svg height=\"248.518125pt\" version=\"1.1\" viewBox=\"0 0 370.942187 248.518125\" width=\"370.942187pt\" xmlns=\"http://www.w3.org/2000/svg\" xmlns:xlink=\"http://www.w3.org/1999/xlink\">\n <metadata>\n  <rdf:RDF xmlns:cc=\"http://creativecommons.org/ns#\" xmlns:dc=\"http://purl.org/dc/elements/1.1/\" xmlns:rdf=\"http://www.w3.org/1999/02/22-rdf-syntax-ns#\">\n   <cc:Work>\n    <dc:type rdf:resource=\"http://purl.org/dc/dcmitype/StillImage\"/>\n    <dc:date>2021-01-20T21:18:24.653240</dc:date>\n    <dc:format>image/svg+xml</dc:format>\n    <dc:creator>\n     <cc:Agent>\n      <dc:title>Matplotlib v3.3.2, https://matplotlib.org/</dc:title>\n     </cc:Agent>\n    </dc:creator>\n   </cc:Work>\n  </rdf:RDF>\n </metadata>\n <defs>\n  <style type=\"text/css\">*{stroke-linecap:butt;stroke-linejoin:round;}</style>\n </defs>\n <g id=\"figure_1\">\n  <g id=\"patch_1\">\n   <path d=\"M 0 248.518125 \nL 370.942187 248.518125 \nL 370.942187 0 \nL 0 0 \nz\n\" style=\"fill:none;\"/>\n  </g>\n  <g id=\"axes_1\">\n   <g id=\"patch_2\">\n    <path d=\"M 28.942188 224.64 \nL 363.742188 224.64 \nL 363.742188 7.2 \nL 28.942188 7.2 \nz\n\" style=\"fill:#ffffff;\"/>\n   </g>\n   <g id=\"matplotlib.axis_1\">\n    <g id=\"xtick_1\">\n     <g id=\"line2d_1\">\n      <defs>\n       <path d=\"M 0 0 \nL 0 3.5 \n\" id=\"m178483f68c\" style=\"stroke:#000000;stroke-width:0.8;\"/>\n      </defs>\n      <g>\n       <use style=\"stroke:#000000;stroke-width:0.8;\" x=\"44.160369\" xlink:href=\"#m178483f68c\" y=\"224.64\"/>\n      </g>\n     </g>\n     <g id=\"text_1\">\n      <!-- 0 -->\n      <g transform=\"translate(40.979119 239.238438)scale(0.1 -0.1)\">\n       <defs>\n        <path d=\"M 31.78125 66.40625 \nQ 24.171875 66.40625 20.328125 58.90625 \nQ 16.5 51.421875 16.5 36.375 \nQ 16.5 21.390625 20.328125 13.890625 \nQ 24.171875 6.390625 31.78125 6.390625 \nQ 39.453125 6.390625 43.28125 13.890625 \nQ 47.125 21.390625 47.125 36.375 \nQ 47.125 51.421875 43.28125 58.90625 \nQ 39.453125 66.40625 31.78125 66.40625 \nz\nM 31.78125 74.21875 \nQ 44.046875 74.21875 50.515625 64.515625 \nQ 56.984375 54.828125 56.984375 36.375 \nQ 56.984375 17.96875 50.515625 8.265625 \nQ 44.046875 -1.421875 31.78125 -1.421875 \nQ 19.53125 -1.421875 13.0625 8.265625 \nQ 6.59375 17.96875 6.59375 36.375 \nQ 6.59375 54.828125 13.0625 64.515625 \nQ 19.53125 74.21875 31.78125 74.21875 \nz\n\" id=\"DejaVuSans-48\"/>\n       </defs>\n       <use xlink:href=\"#DejaVuSans-48\"/>\n      </g>\n     </g>\n    </g>\n    <g id=\"xtick_2\">\n     <g id=\"line2d_2\">\n      <g>\n       <use style=\"stroke:#000000;stroke-width:0.8;\" x=\"105.647973\" xlink:href=\"#m178483f68c\" y=\"224.64\"/>\n      </g>\n     </g>\n     <g id=\"text_2\">\n      <!-- 20 -->\n      <g transform=\"translate(99.285473 239.238438)scale(0.1 -0.1)\">\n       <defs>\n        <path d=\"M 19.1875 8.296875 \nL 53.609375 8.296875 \nL 53.609375 0 \nL 7.328125 0 \nL 7.328125 8.296875 \nQ 12.9375 14.109375 22.625 23.890625 \nQ 32.328125 33.6875 34.8125 36.53125 \nQ 39.546875 41.84375 41.421875 45.53125 \nQ 43.3125 49.21875 43.3125 52.78125 \nQ 43.3125 58.59375 39.234375 62.25 \nQ 35.15625 65.921875 28.609375 65.921875 \nQ 23.96875 65.921875 18.8125 64.3125 \nQ 13.671875 62.703125 7.8125 59.421875 \nL 7.8125 69.390625 \nQ 13.765625 71.78125 18.9375 73 \nQ 24.125 74.21875 28.421875 74.21875 \nQ 39.75 74.21875 46.484375 68.546875 \nQ 53.21875 62.890625 53.21875 53.421875 \nQ 53.21875 48.921875 51.53125 44.890625 \nQ 49.859375 40.875 45.40625 35.40625 \nQ 44.1875 33.984375 37.640625 27.21875 \nQ 31.109375 20.453125 19.1875 8.296875 \nz\n\" id=\"DejaVuSans-50\"/>\n       </defs>\n       <use xlink:href=\"#DejaVuSans-50\"/>\n       <use x=\"63.623047\" xlink:href=\"#DejaVuSans-48\"/>\n      </g>\n     </g>\n    </g>\n    <g id=\"xtick_3\">\n     <g id=\"line2d_3\">\n      <g>\n       <use style=\"stroke:#000000;stroke-width:0.8;\" x=\"167.135576\" xlink:href=\"#m178483f68c\" y=\"224.64\"/>\n      </g>\n     </g>\n     <g id=\"text_3\">\n      <!-- 40 -->\n      <g transform=\"translate(160.773076 239.238438)scale(0.1 -0.1)\">\n       <defs>\n        <path d=\"M 37.796875 64.3125 \nL 12.890625 25.390625 \nL 37.796875 25.390625 \nz\nM 35.203125 72.90625 \nL 47.609375 72.90625 \nL 47.609375 25.390625 \nL 58.015625 25.390625 \nL 58.015625 17.1875 \nL 47.609375 17.1875 \nL 47.609375 0 \nL 37.796875 0 \nL 37.796875 17.1875 \nL 4.890625 17.1875 \nL 4.890625 26.703125 \nz\n\" id=\"DejaVuSans-52\"/>\n       </defs>\n       <use xlink:href=\"#DejaVuSans-52\"/>\n       <use x=\"63.623047\" xlink:href=\"#DejaVuSans-48\"/>\n      </g>\n     </g>\n    </g>\n    <g id=\"xtick_4\">\n     <g id=\"line2d_4\">\n      <g>\n       <use style=\"stroke:#000000;stroke-width:0.8;\" x=\"228.623179\" xlink:href=\"#m178483f68c\" y=\"224.64\"/>\n      </g>\n     </g>\n     <g id=\"text_4\">\n      <!-- 60 -->\n      <g transform=\"translate(222.260679 239.238438)scale(0.1 -0.1)\">\n       <defs>\n        <path d=\"M 33.015625 40.375 \nQ 26.375 40.375 22.484375 35.828125 \nQ 18.609375 31.296875 18.609375 23.390625 \nQ 18.609375 15.53125 22.484375 10.953125 \nQ 26.375 6.390625 33.015625 6.390625 \nQ 39.65625 6.390625 43.53125 10.953125 \nQ 47.40625 15.53125 47.40625 23.390625 \nQ 47.40625 31.296875 43.53125 35.828125 \nQ 39.65625 40.375 33.015625 40.375 \nz\nM 52.59375 71.296875 \nL 52.59375 62.3125 \nQ 48.875 64.0625 45.09375 64.984375 \nQ 41.3125 65.921875 37.59375 65.921875 \nQ 27.828125 65.921875 22.671875 59.328125 \nQ 17.53125 52.734375 16.796875 39.40625 \nQ 19.671875 43.65625 24.015625 45.921875 \nQ 28.375 48.1875 33.59375 48.1875 \nQ 44.578125 48.1875 50.953125 41.515625 \nQ 57.328125 34.859375 57.328125 23.390625 \nQ 57.328125 12.15625 50.6875 5.359375 \nQ 44.046875 -1.421875 33.015625 -1.421875 \nQ 20.359375 -1.421875 13.671875 8.265625 \nQ 6.984375 17.96875 6.984375 36.375 \nQ 6.984375 53.65625 15.1875 63.9375 \nQ 23.390625 74.21875 37.203125 74.21875 \nQ 40.921875 74.21875 44.703125 73.484375 \nQ 48.484375 72.75 52.59375 71.296875 \nz\n\" id=\"DejaVuSans-54\"/>\n       </defs>\n       <use xlink:href=\"#DejaVuSans-54\"/>\n       <use x=\"63.623047\" xlink:href=\"#DejaVuSans-48\"/>\n      </g>\n     </g>\n    </g>\n    <g id=\"xtick_5\">\n     <g id=\"line2d_5\">\n      <g>\n       <use style=\"stroke:#000000;stroke-width:0.8;\" x=\"290.110783\" xlink:href=\"#m178483f68c\" y=\"224.64\"/>\n      </g>\n     </g>\n     <g id=\"text_5\">\n      <!-- 80 -->\n      <g transform=\"translate(283.748283 239.238438)scale(0.1 -0.1)\">\n       <defs>\n        <path d=\"M 31.78125 34.625 \nQ 24.75 34.625 20.71875 30.859375 \nQ 16.703125 27.09375 16.703125 20.515625 \nQ 16.703125 13.921875 20.71875 10.15625 \nQ 24.75 6.390625 31.78125 6.390625 \nQ 38.8125 6.390625 42.859375 10.171875 \nQ 46.921875 13.96875 46.921875 20.515625 \nQ 46.921875 27.09375 42.890625 30.859375 \nQ 38.875 34.625 31.78125 34.625 \nz\nM 21.921875 38.8125 \nQ 15.578125 40.375 12.03125 44.71875 \nQ 8.5 49.078125 8.5 55.328125 \nQ 8.5 64.0625 14.71875 69.140625 \nQ 20.953125 74.21875 31.78125 74.21875 \nQ 42.671875 74.21875 48.875 69.140625 \nQ 55.078125 64.0625 55.078125 55.328125 \nQ 55.078125 49.078125 51.53125 44.71875 \nQ 48 40.375 41.703125 38.8125 \nQ 48.828125 37.15625 52.796875 32.3125 \nQ 56.78125 27.484375 56.78125 20.515625 \nQ 56.78125 9.90625 50.3125 4.234375 \nQ 43.84375 -1.421875 31.78125 -1.421875 \nQ 19.734375 -1.421875 13.25 4.234375 \nQ 6.78125 9.90625 6.78125 20.515625 \nQ 6.78125 27.484375 10.78125 32.3125 \nQ 14.796875 37.15625 21.921875 38.8125 \nz\nM 18.3125 54.390625 \nQ 18.3125 48.734375 21.84375 45.5625 \nQ 25.390625 42.390625 31.78125 42.390625 \nQ 38.140625 42.390625 41.71875 45.5625 \nQ 45.3125 48.734375 45.3125 54.390625 \nQ 45.3125 60.0625 41.71875 63.234375 \nQ 38.140625 66.40625 31.78125 66.40625 \nQ 25.390625 66.40625 21.84375 63.234375 \nQ 18.3125 60.0625 18.3125 54.390625 \nz\n\" id=\"DejaVuSans-56\"/>\n       </defs>\n       <use xlink:href=\"#DejaVuSans-56\"/>\n       <use x=\"63.623047\" xlink:href=\"#DejaVuSans-48\"/>\n      </g>\n     </g>\n    </g>\n    <g id=\"xtick_6\">\n     <g id=\"line2d_6\">\n      <g>\n       <use style=\"stroke:#000000;stroke-width:0.8;\" x=\"351.598386\" xlink:href=\"#m178483f68c\" y=\"224.64\"/>\n      </g>\n     </g>\n     <g id=\"text_6\">\n      <!-- 100 -->\n      <g transform=\"translate(342.054636 239.238438)scale(0.1 -0.1)\">\n       <defs>\n        <path d=\"M 12.40625 8.296875 \nL 28.515625 8.296875 \nL 28.515625 63.921875 \nL 10.984375 60.40625 \nL 10.984375 69.390625 \nL 28.421875 72.90625 \nL 38.28125 72.90625 \nL 38.28125 8.296875 \nL 54.390625 8.296875 \nL 54.390625 0 \nL 12.40625 0 \nz\n\" id=\"DejaVuSans-49\"/>\n       </defs>\n       <use xlink:href=\"#DejaVuSans-49\"/>\n       <use x=\"63.623047\" xlink:href=\"#DejaVuSans-48\"/>\n       <use x=\"127.246094\" xlink:href=\"#DejaVuSans-48\"/>\n      </g>\n     </g>\n    </g>\n   </g>\n   <g id=\"matplotlib.axis_2\">\n    <g id=\"ytick_1\">\n     <g id=\"line2d_7\">\n      <defs>\n       <path d=\"M 0 0 \nL -3.5 0 \n\" id=\"m281ebc9897\" style=\"stroke:#000000;stroke-width:0.8;\"/>\n      </defs>\n      <g>\n       <use style=\"stroke:#000000;stroke-width:0.8;\" x=\"28.942188\" xlink:href=\"#m281ebc9897\" y=\"219.090173\"/>\n      </g>\n     </g>\n     <g id=\"text_7\">\n      <!-- −3 -->\n      <g transform=\"translate(7.2 222.889392)scale(0.1 -0.1)\">\n       <defs>\n        <path d=\"M 10.59375 35.5 \nL 73.1875 35.5 \nL 73.1875 27.203125 \nL 10.59375 27.203125 \nz\n\" id=\"DejaVuSans-8722\"/>\n        <path d=\"M 40.578125 39.3125 \nQ 47.65625 37.796875 51.625 33 \nQ 55.609375 28.21875 55.609375 21.1875 \nQ 55.609375 10.40625 48.1875 4.484375 \nQ 40.765625 -1.421875 27.09375 -1.421875 \nQ 22.515625 -1.421875 17.65625 -0.515625 \nQ 12.796875 0.390625 7.625 2.203125 \nL 7.625 11.71875 \nQ 11.71875 9.328125 16.59375 8.109375 \nQ 21.484375 6.890625 26.8125 6.890625 \nQ 36.078125 6.890625 40.9375 10.546875 \nQ 45.796875 14.203125 45.796875 21.1875 \nQ 45.796875 27.640625 41.28125 31.265625 \nQ 36.765625 34.90625 28.71875 34.90625 \nL 20.21875 34.90625 \nL 20.21875 43.015625 \nL 29.109375 43.015625 \nQ 36.375 43.015625 40.234375 45.921875 \nQ 44.09375 48.828125 44.09375 54.296875 \nQ 44.09375 59.90625 40.109375 62.90625 \nQ 36.140625 65.921875 28.71875 65.921875 \nQ 24.65625 65.921875 20.015625 65.03125 \nQ 15.375 64.15625 9.8125 62.3125 \nL 9.8125 71.09375 \nQ 15.4375 72.65625 20.34375 73.4375 \nQ 25.25 74.21875 29.59375 74.21875 \nQ 40.828125 74.21875 47.359375 69.109375 \nQ 53.90625 64.015625 53.90625 55.328125 \nQ 53.90625 49.265625 50.4375 45.09375 \nQ 46.96875 40.921875 40.578125 39.3125 \nz\n\" id=\"DejaVuSans-51\"/>\n       </defs>\n       <use xlink:href=\"#DejaVuSans-8722\"/>\n       <use x=\"83.789062\" xlink:href=\"#DejaVuSans-51\"/>\n      </g>\n     </g>\n    </g>\n    <g id=\"ytick_2\">\n     <g id=\"line2d_8\">\n      <g>\n       <use style=\"stroke:#000000;stroke-width:0.8;\" x=\"28.942188\" xlink:href=\"#m281ebc9897\" y=\"185.81527\"/>\n      </g>\n     </g>\n     <g id=\"text_8\">\n      <!-- −2 -->\n      <g transform=\"translate(7.2 189.614489)scale(0.1 -0.1)\">\n       <use xlink:href=\"#DejaVuSans-8722\"/>\n       <use x=\"83.789062\" xlink:href=\"#DejaVuSans-50\"/>\n      </g>\n     </g>\n    </g>\n    <g id=\"ytick_3\">\n     <g id=\"line2d_9\">\n      <g>\n       <use style=\"stroke:#000000;stroke-width:0.8;\" x=\"28.942188\" xlink:href=\"#m281ebc9897\" y=\"152.540367\"/>\n      </g>\n     </g>\n     <g id=\"text_9\">\n      <!-- −1 -->\n      <g transform=\"translate(7.2 156.339586)scale(0.1 -0.1)\">\n       <use xlink:href=\"#DejaVuSans-8722\"/>\n       <use x=\"83.789062\" xlink:href=\"#DejaVuSans-49\"/>\n      </g>\n     </g>\n    </g>\n    <g id=\"ytick_4\">\n     <g id=\"line2d_10\">\n      <g>\n       <use style=\"stroke:#000000;stroke-width:0.8;\" x=\"28.942188\" xlink:href=\"#m281ebc9897\" y=\"119.265464\"/>\n      </g>\n     </g>\n     <g id=\"text_10\">\n      <!-- 0 -->\n      <g transform=\"translate(15.579688 123.064683)scale(0.1 -0.1)\">\n       <use xlink:href=\"#DejaVuSans-48\"/>\n      </g>\n     </g>\n    </g>\n    <g id=\"ytick_5\">\n     <g id=\"line2d_11\">\n      <g>\n       <use style=\"stroke:#000000;stroke-width:0.8;\" x=\"28.942188\" xlink:href=\"#m281ebc9897\" y=\"85.990561\"/>\n      </g>\n     </g>\n     <g id=\"text_11\">\n      <!-- 1 -->\n      <g transform=\"translate(15.579688 89.78978)scale(0.1 -0.1)\">\n       <use xlink:href=\"#DejaVuSans-49\"/>\n      </g>\n     </g>\n    </g>\n    <g id=\"ytick_6\">\n     <g id=\"line2d_12\">\n      <g>\n       <use style=\"stroke:#000000;stroke-width:0.8;\" x=\"28.942188\" xlink:href=\"#m281ebc9897\" y=\"52.715658\"/>\n      </g>\n     </g>\n     <g id=\"text_12\">\n      <!-- 2 -->\n      <g transform=\"translate(15.579688 56.514877)scale(0.1 -0.1)\">\n       <use xlink:href=\"#DejaVuSans-50\"/>\n      </g>\n     </g>\n    </g>\n    <g id=\"ytick_7\">\n     <g id=\"line2d_13\">\n      <g>\n       <use style=\"stroke:#000000;stroke-width:0.8;\" x=\"28.942188\" xlink:href=\"#m281ebc9897\" y=\"19.440756\"/>\n      </g>\n     </g>\n     <g id=\"text_13\">\n      <!-- 3 -->\n      <g transform=\"translate(15.579688 23.239974)scale(0.1 -0.1)\">\n       <use xlink:href=\"#DejaVuSans-51\"/>\n      </g>\n     </g>\n    </g>\n   </g>\n   <g id=\"line2d_14\">\n    <path clip-path=\"url(#pac8c2f9a4a)\" d=\"M 44.160369 162.083066 \nL 47.234749 95.616067 \nL 50.30913 78.648198 \nL 53.38351 30.398539 \nL 56.45789 148.161266 \nL 59.53227 144.895476 \nL 62.60665 91.420157 \nL 65.68103 162.882458 \nL 68.755411 157.38111 \nL 71.829791 159.392452 \nL 74.904171 106.253606 \nL 77.978551 70.016452 \nL 81.052931 133.812645 \nL 84.127311 108.868925 \nL 87.201692 87.578888 \nL 90.276072 149.428682 \nL 93.350452 114.231575 \nL 96.424832 114.253881 \nL 99.499212 109.506709 \nL 102.573592 116.761872 \nL 105.647973 109.608264 \nL 108.722353 124.426889 \nL 111.796733 98.516526 \nL 114.871113 106.448012 \nL 117.945493 160.20729 \nL 121.019873 105.468073 \nL 124.094254 74.499817 \nL 127.168634 45.394906 \nL 130.243014 103.150353 \nL 133.317394 149.388821 \nL 136.391774 162.228882 \nL 139.466154 78.539025 \nL 142.540535 99.965818 \nL 145.614915 109.461367 \nL 148.689295 136.816754 \nL 151.763675 144.097122 \nL 154.838055 62.963409 \nL 157.912435 122.491486 \nL 160.986816 103.021187 \nL 164.061196 120.120241 \nL 167.135576 164.155829 \nL 170.209956 132.46824 \nL 173.284336 107.394557 \nL 176.358716 137.379362 \nL 179.433097 133.227283 \nL 182.507477 97.811451 \nL 185.581857 155.777395 \nL 188.656237 121.775946 \nL 191.730617 175.176277 \nL 194.804997 100.041946 \nL 197.879378 90.071432 \nL 200.953758 161.672425 \nL 204.028138 103.600804 \nL 207.102518 113.118128 \nL 210.176898 69.277024 \nL 213.251278 120.854534 \nL 216.325659 115.084457 \nL 219.400039 214.756364 \nL 222.474419 177.024792 \nL 225.548799 140.137169 \nL 228.623179 167.293119 \nL 231.697559 38.348379 \nL 234.77194 166.922974 \nL 237.84632 102.324472 \nL 240.9207 195.911682 \nL 243.99508 67.308231 \nL 247.06946 60.859584 \nL 250.14384 149.087767 \nL 253.218221 96.442573 \nL 256.292601 104.254548 \nL 259.366981 106.845184 \nL 262.441361 123.060367 \nL 265.515741 102.456187 \nL 268.590121 86.345778 \nL 271.664502 63.356464 \nL 274.738882 106.704007 \nL 277.813262 99.433563 \nL 280.887642 85.920041 \nL 283.962022 132.166777 \nL 287.036402 95.10738 \nL 290.110783 138.352434 \nL 293.185163 100.310613 \nL 296.259543 122.074176 \nL 299.333923 60.767904 \nL 302.408303 149.320664 \nL 305.482683 175.914606 \nL 308.557064 130.140452 \nL 311.631444 111.265264 \nL 314.705824 108.445035 \nL 317.780204 120.318564 \nL 320.854584 80.423535 \nL 323.928964 137.340302 \nL 327.003345 184.039595 \nL 330.077725 119.497926 \nL 333.152105 53.025703 \nL 336.226485 120.874669 \nL 339.300865 105.926497 \nL 342.375245 110.587159 \nL 345.449626 129.866293 \nL 348.524006 121.634547 \n\" style=\"fill:none;stroke:#1f77b4;stroke-linecap:square;stroke-width:1.5;\"/>\n   </g>\n   <g id=\"line2d_15\">\n    <path clip-path=\"url(#pac8c2f9a4a)\" d=\"M 44.160369 160.647528 \nL 47.234749 67.047625 \nL 50.30913 128.140509 \nL 53.38351 109.896448 \nL 56.45789 73.815525 \nL 59.53227 155.754782 \nL 62.60665 177.501329 \nL 65.68103 179.819433 \nL 68.755411 108.328684 \nL 71.829791 105.282731 \nL 74.904171 134.328852 \nL 77.978551 97.87511 \nL 81.052931 130.184605 \nL 84.127311 54.270228 \nL 87.201692 147.12242 \nL 90.276072 169.482301 \nL 93.350452 123.110005 \nL 96.424832 125.856843 \nL 99.499212 116.540523 \nL 102.573592 158.165422 \nL 105.647973 101.208803 \nL 108.722353 171.483838 \nL 111.796733 44.487214 \nL 114.871113 123.631812 \nL 117.945493 120.415059 \nL 121.019873 119.131902 \nL 124.094254 88.796798 \nL 127.168634 171.274887 \nL 130.243014 148.18994 \nL 133.317394 93.388727 \nL 136.391774 106.933793 \nL 139.466154 152.539967 \nL 142.540535 99.245736 \nL 145.614915 117.531547 \nL 148.689295 115.646379 \nL 151.763675 116.861788 \nL 154.838055 135.536204 \nL 157.912435 160.77582 \nL 160.986816 109.25341 \nL 164.061196 89.547307 \nL 167.135576 98.152494 \nL 170.209956 122.162059 \nL 173.284336 133.006681 \nL 176.358716 64.466059 \nL 179.433097 159.830992 \nL 182.507477 116.987394 \nL 185.581857 83.317427 \nL 188.656237 107.07555 \nL 191.730617 132.036322 \nL 194.804997 177.371318 \nL 197.879378 88.239932 \nL 200.953758 129.375273 \nL 204.028138 148.502166 \nL 207.102518 166.512214 \nL 210.176898 47.275543 \nL 213.251278 146.079148 \nL 216.325659 115.852655 \nL 219.400039 82.200318 \nL 222.474419 102.821704 \nL 225.548799 90.113908 \nL 228.623179 149.041573 \nL 231.697559 163.706203 \nL 234.77194 128.366625 \nL 237.84632 174.27004 \nL 240.9207 93.321352 \nL 243.99508 108.689465 \nL 247.06946 138.143173 \nL 250.14384 131.278966 \nL 253.218221 125.164105 \nL 256.292601 110.998774 \nL 259.366981 120.946801 \nL 262.441361 134.144667 \nL 265.515741 126.565549 \nL 268.590121 132.479828 \nL 271.664502 65.734097 \nL 274.738882 133.611441 \nL 277.813262 119.202481 \nL 280.887642 151.588165 \nL 283.962022 151.579581 \nL 287.036402 159.233129 \nL 290.110783 98.590406 \nL 293.185163 132.142224 \nL 296.259543 128.543695 \nL 299.333923 126.053846 \nL 302.408303 85.593997 \nL 305.482683 147.566862 \nL 308.557064 111.349002 \nL 311.631444 103.986076 \nL 314.705824 104.32971 \nL 317.780204 113.618398 \nL 320.854584 17.083636 \nL 323.928964 97.67616 \nL 327.003345 72.655391 \nL 330.077725 113.36906 \nL 333.152105 153.504438 \nL 336.226485 114.29493 \nL 339.300865 158.127281 \nL 342.375245 88.750952 \nL 345.449626 101.80964 \nL 348.524006 162.14272 \n\" style=\"fill:none;stroke:#ff7f0e;stroke-linecap:square;stroke-width:1.5;\"/>\n   </g>\n   <g id=\"line2d_16\">\n    <path clip-path=\"url(#pac8c2f9a4a)\" d=\"M 44.160369 106.821688 \nL 47.234749 103.099881 \nL 50.30913 140.399619 \nL 53.38351 110.141607 \nL 56.45789 109.801698 \nL 59.53227 138.197503 \nL 62.60665 178.375125 \nL 65.68103 96.175563 \nL 68.755411 155.584165 \nL 71.829791 85.672126 \nL 74.904171 89.190614 \nL 77.978551 104.063836 \nL 81.052931 149.089065 \nL 84.127311 73.969122 \nL 87.201692 93.675528 \nL 90.276072 97.862582 \nL 93.350452 125.108435 \nL 96.424832 50.564667 \nL 99.499212 108.332608 \nL 102.573592 134.410427 \nL 105.647973 187.259798 \nL 108.722353 126.698868 \nL 111.796733 135.103245 \nL 114.871113 96.374515 \nL 117.945493 50.80112 \nL 121.019873 128.935679 \nL 124.094254 62.776164 \nL 127.168634 147.449284 \nL 130.243014 123.868835 \nL 133.317394 121.411814 \nL 136.391774 106.40379 \nL 139.466154 158.984122 \nL 142.540535 114.674161 \nL 145.614915 115.359205 \nL 148.689295 128.916907 \nL 151.763675 65.121967 \nL 154.838055 127.569449 \nL 157.912435 151.027384 \nL 160.986816 114.853346 \nL 164.061196 139.733067 \nL 167.135576 66.50527 \nL 170.209956 108.01391 \nL 173.284336 174.076327 \nL 176.358716 128.844986 \nL 179.433097 137.810762 \nL 182.507477 126.529364 \nL 185.581857 133.903141 \nL 188.656237 118.649863 \nL 191.730617 115.967418 \nL 194.804997 162.861121 \nL 197.879378 152.927185 \nL 200.953758 107.19442 \nL 204.028138 48.418876 \nL 207.102518 156.664767 \nL 210.176898 81.569525 \nL 213.251278 111.67236 \nL 216.325659 67.814488 \nL 219.400039 131.869536 \nL 222.474419 96.142713 \nL 225.548799 158.205553 \nL 228.623179 87.753336 \nL 231.697559 111.413408 \nL 234.77194 107.66808 \nL 237.84632 203.804229 \nL 240.9207 121.928313 \nL 243.99508 123.025531 \nL 247.06946 163.859291 \nL 250.14384 91.257271 \nL 253.218221 64.930666 \nL 256.292601 164.034913 \nL 259.366981 88.078967 \nL 262.441361 39.964307 \nL 265.515741 116.82731 \nL 268.590121 113.484597 \nL 271.664502 141.386426 \nL 274.738882 119.277823 \nL 277.813262 95.428448 \nL 280.887642 108.553628 \nL 283.962022 133.562476 \nL 287.036402 89.928742 \nL 290.110783 124.235273 \nL 293.185163 114.21526 \nL 296.259543 119.247863 \nL 299.333923 128.703259 \nL 302.408303 110.157971 \nL 305.482683 113.610453 \nL 308.557064 178.994245 \nL 311.631444 157.039235 \nL 314.705824 106.33306 \nL 317.780204 81.433652 \nL 320.854584 97.57791 \nL 323.928964 206.58501 \nL 327.003345 64.509741 \nL 330.077725 183.598834 \nL 333.152105 112.534275 \nL 336.226485 132.510413 \nL 339.300865 59.846574 \nL 342.375245 82.794364 \nL 345.449626 132.43759 \nL 348.524006 130.651608 \n\" style=\"fill:none;stroke:#2ca02c;stroke-linecap:square;stroke-width:1.5;\"/>\n   </g>\n   <g id=\"line2d_17\">\n    <path clip-path=\"url(#pac8c2f9a4a)\" d=\"M 44.160369 115.931573 \nL 47.234749 132.855437 \nL 50.30913 83.061606 \nL 53.38351 90.473876 \nL 56.45789 73.301624 \nL 59.53227 124.907678 \nL 62.60665 117.982797 \nL 65.68103 88.147485 \nL 68.755411 155.551583 \nL 71.829791 112.853979 \nL 74.904171 114.172948 \nL 77.978551 151.244749 \nL 81.052931 136.031485 \nL 84.127311 120.220061 \nL 87.201692 160.310535 \nL 90.276072 82.514536 \nL 93.350452 140.984301 \nL 96.424832 147.558564 \nL 99.499212 132.6782 \nL 102.573592 70.604035 \nL 105.647973 75.90533 \nL 108.722353 101.824143 \nL 111.796733 96.31373 \nL 114.871113 111.304042 \nL 117.945493 111.09644 \nL 121.019873 96.275618 \nL 124.094254 124.834429 \nL 127.168634 92.858238 \nL 130.243014 58.70631 \nL 133.317394 109.246015 \nL 136.391774 83.857154 \nL 139.466154 97.807471 \nL 142.540535 111.772675 \nL 145.614915 150.900542 \nL 148.689295 142.867754 \nL 151.763675 83.007782 \nL 154.838055 76.641235 \nL 157.912435 128.986254 \nL 160.986816 91.309472 \nL 164.061196 73.969153 \nL 167.135576 145.511849 \nL 170.209956 116.894662 \nL 173.284336 164.229452 \nL 176.358716 122.753829 \nL 179.433097 170.555526 \nL 182.507477 94.865667 \nL 185.581857 135.701757 \nL 188.656237 146.670096 \nL 191.730617 195.812542 \nL 194.804997 110.978689 \nL 197.879378 139.199487 \nL 200.953758 160.341027 \nL 204.028138 149.102804 \nL 207.102518 135.125573 \nL 210.176898 80.975129 \nL 213.251278 94.571851 \nL 216.325659 138.94462 \nL 219.400039 97.475772 \nL 222.474419 130.509107 \nL 225.548799 118.089764 \nL 228.623179 89.523219 \nL 231.697559 73.532769 \nL 234.77194 163.657577 \nL 237.84632 56.850298 \nL 240.9207 152.725735 \nL 243.99508 174.506382 \nL 247.06946 162.678365 \nL 250.14384 153.140335 \nL 253.218221 113.581299 \nL 256.292601 181.578093 \nL 259.366981 109.1763 \nL 262.441361 74.651144 \nL 265.515741 147.093544 \nL 268.590121 111.324496 \nL 271.664502 103.457763 \nL 274.738882 156.100149 \nL 277.813262 122.052493 \nL 280.887642 108.589044 \nL 283.962022 111.01413 \nL 287.036402 114.862102 \nL 290.110783 138.397417 \nL 293.185163 112.968438 \nL 296.259543 180.9326 \nL 299.333923 189.777574 \nL 302.408303 128.647694 \nL 305.482683 100.882146 \nL 308.557064 71.281773 \nL 311.631444 122.468957 \nL 314.705824 154.277989 \nL 317.780204 109.957112 \nL 320.854584 115.994321 \nL 323.928964 126.363046 \nL 327.003345 75.654117 \nL 330.077725 161.315988 \nL 333.152105 124.795123 \nL 336.226485 151.239304 \nL 339.300865 142.496781 \nL 342.375245 64.891398 \nL 345.449626 136.302423 \nL 348.524006 164.189848 \n\" style=\"fill:none;stroke:#d62728;stroke-linecap:square;stroke-width:1.5;\"/>\n   </g>\n   <g id=\"patch_3\">\n    <path d=\"M 28.942188 224.64 \nL 28.942188 7.2 \n\" style=\"fill:none;stroke:#000000;stroke-linecap:square;stroke-linejoin:miter;stroke-width:0.8;\"/>\n   </g>\n   <g id=\"patch_4\">\n    <path d=\"M 363.742188 224.64 \nL 363.742188 7.2 \n\" style=\"fill:none;stroke:#000000;stroke-linecap:square;stroke-linejoin:miter;stroke-width:0.8;\"/>\n   </g>\n   <g id=\"patch_5\">\n    <path d=\"M 28.942188 224.64 \nL 363.742188 224.64 \n\" style=\"fill:none;stroke:#000000;stroke-linecap:square;stroke-linejoin:miter;stroke-width:0.8;\"/>\n   </g>\n   <g id=\"patch_6\">\n    <path d=\"M 28.942188 7.2 \nL 363.742188 7.2 \n\" style=\"fill:none;stroke:#000000;stroke-linecap:square;stroke-linejoin:miter;stroke-width:0.8;\"/>\n   </g>\n   <g id=\"legend_1\">\n    <g id=\"patch_7\">\n     <path d=\"M 35.942188 73.9125 \nL 75.642188 73.9125 \nQ 77.642188 73.9125 77.642188 71.9125 \nL 77.642188 14.2 \nQ 77.642188 12.2 75.642188 12.2 \nL 35.942188 12.2 \nQ 33.942188 12.2 33.942188 14.2 \nL 33.942188 71.9125 \nQ 33.942188 73.9125 35.942188 73.9125 \nz\n\" style=\"fill:#ffffff;opacity:0.8;stroke:#cccccc;stroke-linejoin:miter;\"/>\n    </g>\n    <g id=\"line2d_18\">\n     <path d=\"M 37.942188 20.298437 \nL 57.942188 20.298437 \n\" style=\"fill:none;stroke:#1f77b4;stroke-linecap:square;stroke-width:1.5;\"/>\n    </g>\n    <g id=\"line2d_19\"/>\n    <g id=\"text_14\">\n     <!-- A -->\n     <g transform=\"translate(65.942188 23.798437)scale(0.1 -0.1)\">\n      <defs>\n       <path d=\"M 34.1875 63.1875 \nL 20.796875 26.90625 \nL 47.609375 26.90625 \nz\nM 28.609375 72.90625 \nL 39.796875 72.90625 \nL 67.578125 0 \nL 57.328125 0 \nL 50.6875 18.703125 \nL 17.828125 18.703125 \nL 11.1875 0 \nL 0.78125 0 \nz\n\" id=\"DejaVuSans-65\"/>\n      </defs>\n      <use xlink:href=\"#DejaVuSans-65\"/>\n     </g>\n    </g>\n    <g id=\"line2d_20\">\n     <path d=\"M 37.942188 34.976562 \nL 57.942188 34.976562 \n\" style=\"fill:none;stroke:#ff7f0e;stroke-linecap:square;stroke-width:1.5;\"/>\n    </g>\n    <g id=\"line2d_21\"/>\n    <g id=\"text_15\">\n     <!-- B -->\n     <g transform=\"translate(65.942188 38.476562)scale(0.1 -0.1)\">\n      <defs>\n       <path d=\"M 19.671875 34.8125 \nL 19.671875 8.109375 \nL 35.5 8.109375 \nQ 43.453125 8.109375 47.28125 11.40625 \nQ 51.125 14.703125 51.125 21.484375 \nQ 51.125 28.328125 47.28125 31.5625 \nQ 43.453125 34.8125 35.5 34.8125 \nz\nM 19.671875 64.796875 \nL 19.671875 42.828125 \nL 34.28125 42.828125 \nQ 41.5 42.828125 45.03125 45.53125 \nQ 48.578125 48.25 48.578125 53.8125 \nQ 48.578125 59.328125 45.03125 62.0625 \nQ 41.5 64.796875 34.28125 64.796875 \nz\nM 9.8125 72.90625 \nL 35.015625 72.90625 \nQ 46.296875 72.90625 52.390625 68.21875 \nQ 58.5 63.53125 58.5 54.890625 \nQ 58.5 48.1875 55.375 44.234375 \nQ 52.25 40.28125 46.1875 39.3125 \nQ 53.46875 37.75 57.5 32.78125 \nQ 61.53125 27.828125 61.53125 20.40625 \nQ 61.53125 10.640625 54.890625 5.3125 \nQ 48.25 0 35.984375 0 \nL 9.8125 0 \nz\n\" id=\"DejaVuSans-66\"/>\n      </defs>\n      <use xlink:href=\"#DejaVuSans-66\"/>\n     </g>\n    </g>\n    <g id=\"line2d_22\">\n     <path d=\"M 37.942188 49.654687 \nL 57.942188 49.654687 \n\" style=\"fill:none;stroke:#2ca02c;stroke-linecap:square;stroke-width:1.5;\"/>\n    </g>\n    <g id=\"line2d_23\"/>\n    <g id=\"text_16\">\n     <!-- C -->\n     <g transform=\"translate(65.942188 53.154687)scale(0.1 -0.1)\">\n      <defs>\n       <path d=\"M 64.40625 67.28125 \nL 64.40625 56.890625 \nQ 59.421875 61.53125 53.78125 63.8125 \nQ 48.140625 66.109375 41.796875 66.109375 \nQ 29.296875 66.109375 22.65625 58.46875 \nQ 16.015625 50.828125 16.015625 36.375 \nQ 16.015625 21.96875 22.65625 14.328125 \nQ 29.296875 6.6875 41.796875 6.6875 \nQ 48.140625 6.6875 53.78125 8.984375 \nQ 59.421875 11.28125 64.40625 15.921875 \nL 64.40625 5.609375 \nQ 59.234375 2.09375 53.4375 0.328125 \nQ 47.65625 -1.421875 41.21875 -1.421875 \nQ 24.65625 -1.421875 15.125 8.703125 \nQ 5.609375 18.84375 5.609375 36.375 \nQ 5.609375 53.953125 15.125 64.078125 \nQ 24.65625 74.21875 41.21875 74.21875 \nQ 47.75 74.21875 53.53125 72.484375 \nQ 59.328125 70.75 64.40625 67.28125 \nz\n\" id=\"DejaVuSans-67\"/>\n      </defs>\n      <use xlink:href=\"#DejaVuSans-67\"/>\n     </g>\n    </g>\n    <g id=\"line2d_24\">\n     <path d=\"M 37.942188 64.332812 \nL 57.942188 64.332812 \n\" style=\"fill:none;stroke:#d62728;stroke-linecap:square;stroke-width:1.5;\"/>\n    </g>\n    <g id=\"line2d_25\"/>\n    <g id=\"text_17\">\n     <!-- D -->\n     <g transform=\"translate(65.942188 67.832812)scale(0.1 -0.1)\">\n      <defs>\n       <path d=\"M 19.671875 64.796875 \nL 19.671875 8.109375 \nL 31.59375 8.109375 \nQ 46.6875 8.109375 53.6875 14.9375 \nQ 60.6875 21.78125 60.6875 36.53125 \nQ 60.6875 51.171875 53.6875 57.984375 \nQ 46.6875 64.796875 31.59375 64.796875 \nz\nM 9.8125 72.90625 \nL 30.078125 72.90625 \nQ 51.265625 72.90625 61.171875 64.09375 \nQ 71.09375 55.28125 71.09375 36.53125 \nQ 71.09375 17.671875 61.125 8.828125 \nQ 51.171875 0 30.078125 0 \nL 9.8125 0 \nz\n\" id=\"DejaVuSans-68\"/>\n      </defs>\n      <use xlink:href=\"#DejaVuSans-68\"/>\n     </g>\n    </g>\n   </g>\n  </g>\n </g>\n <defs>\n  <clipPath id=\"pac8c2f9a4a\">\n   <rect height=\"217.44\" width=\"334.8\" x=\"28.942188\" y=\"7.2\"/>\n  </clipPath>\n </defs>\n</svg>\n",
      "image/png": "[encoded data removed]"
     },
     "metadata": {
      "needs_background": "light"
     }
    }
   ],
   "source": [
    "df.plot()"
   ]
  },
  {
   "cell_type": "code",
   "execution_count": 14,
   "metadata": {},
   "outputs": [
    {
     "output_type": "display_data",
     "data": {
      "application/vnd.plotly.v1+json": {
       "config": {
        "linkText": "Export to plot.ly",
        "plotlyServerURL": "https://plot.ly",
        "showLink": true
       },
       "data": [
        {
         "line": {
          "color": "rgba(255, 153, 51, 1.0)",
          "dash": "solid",
          "shape": "linear",
          "width": 1.3
         },
         "mode": "lines",
         "name": "A",
         "text": "",
         "type": "scatter",
         "x": [
          0,
          1,
          2,
          3,
          4,
          5,
          6,
          7,
          8,
          9,
          10,
          11,
          12,
          13,
          14,
          15,
          16,
          17,
          18,
          19,
          20,
          21,
          22,
          23,
          24,
          25,
          26,
          27,
          28,
          29,
          30,
          31,
          32,
          33,
          34,
          35,
          36,
          37,
          38,
          39,
          40,
          41,
          42,
          43,
          44,
          45,
          46,
          47,
          48,
          49,
          50,
          51,
          52,
          53,
          54,
          55,
          56,
          57,
          58,
          59,
          60,
          61,
          62,
          63,
          64,
          65,
          66,
          67,
          68,
          69,
          70,
          71,
          72,
          73,
          74,
          75,
          76,
          77,
          78,
          79,
          80,
          81,
          82,
          83,
          84,
          85,
          86,
          87,
          88,
          89,
          90,
          91,
          92,
          93,
          94,
          95,
          96,
          97,
          98,
          99
         ],
         "y": [
          -1.286783666232087,
          0.7107277470430434,
          1.2206576987234354,
          2.670689230942479,
          -0.868396268279137,
          -0.7702505222952278,
          0.836826113651275,
          -1.310807545006144,
          -1.1454772976981726,
          -1.205923510011141,
          0.39104120063317915,
          1.480064786672829,
          -0.4371817585516773,
          0.31244387330147083,
          0.9522665120953734,
          -0.9064855359217587,
          0.15128185004249292,
          0.15061151479926002,
          0.2932767331797624,
          0.07523964284633954,
          0.29022474193827164,
          -0.15511464338925918,
          0.6235611994075417,
          0.385198796402805,
          -1.23041158492017,
          0.4146485818376867,
          1.3453276550476518,
          2.2200082297196575,
          0.4843022625460223,
          -0.9052875932660301,
          -1.2911658251962215,
          1.2239386431635257,
          0.5800060939722871,
          0.29463938749835283,
          -0.5274632830251935,
          -0.7462578578754884,
          1.692027647166309,
          -0.09695059770969566,
          0.4881840463183823,
          -0.025688346575201363,
          -1.3490757613768838,
          -0.39677880092704315,
          0.35675258383857994,
          -0.5443711678860995,
          -0.4195900621836775,
          0.6447505960385553,
          -1.0972813689106393,
          -0.07544670673084743,
          -1.680269752499829,
          0.5777182254380486,
          0.8773588872922171,
          -1.2744428237723746,
          0.4707650176747216,
          0.184743927621629,
          1.502286572568263,
          -0.047755807588705734,
          0.12565047824483858,
          -2.8697574169274644,
          -1.7358225932178784,
          -0.6272506704206392,
          -1.4433597294484304,
          2.4317752497855403,
          -1.4322358810549674,
          0.5091222176333856,
          -2.303424236839607,
          1.5614540931799474,
          1.755253217137435,
          -0.8962401197499275,
          0.6858890477096122,
          0.45111826271025357,
          0.3732627172869396,
          -0.11404699509388187,
          0.505163811090925,
          0.9893247964708458,
          1.6802152688092455,
          0.3775054456483596,
          0.5960017865897772,
          1.0021193126559254,
          -0.38771902641273304,
          0.7260151830561632,
          -0.5736145908308646,
          0.5696440774836763,
          -0.08440931256891603,
          1.7580084477921427,
          -0.9032392980072976,
          -1.702458506342066,
          -0.3268225203948594,
          0.24042744103696015,
          0.3251828854999993,
          -0.03164848102043208,
          1.1673040608017295,
          -0.5431973031609296,
          -1.9466362146927483,
          -0.0069860880888541945,
          1.99068233702783,
          -0.048360909178754935,
          0.4008717221536024,
          0.26080632462817355,
          -0.31858331702889736,
          -0.071197295683597
         ]
        },
        {
         "line": {
          "color": "rgba(55, 128, 191, 1.0)",
          "dash": "solid",
          "shape": "linear",
          "width": 1.3
         },
         "mode": "lines",
         "name": "B",
         "text": "",
         "type": "scatter",
         "x": [
          0,
          1,
          2,
          3,
          4,
          5,
          6,
          7,
          8,
          9,
          10,
          11,
          12,
          13,
          14,
          15,
          16,
          17,
          18,
          19,
          20,
          21,
          22,
          23,
          24,
          25,
          26,
          27,
          28,
          29,
          30,
          31,
          32,
          33,
          34,
          35,
          36,
          37,
          38,
          39,
          40,
          41,
          42,
          43,
          44,
          45,
          46,
          47,
          48,
          49,
          50,
          51,
          52,
          53,
          54,
          55,
          56,
          57,
          58,
          59,
          60,
          61,
          62,
          63,
          64,
          65,
          66,
          67,
          68,
          69,
          70,
          71,
          72,
          73,
          74,
          75,
          76,
          77,
          78,
          79,
          80,
          81,
          82,
          83,
          84,
          85,
          86,
          87,
          88,
          89,
          90,
          91,
          92,
          93,
          94,
          95,
          96,
          97,
          98,
          99
         ],
         "y": [
          -1.2436419169159714,
          1.5692860019949753,
          -0.26671888492952217,
          0.2815640316896209,
          1.365892470714254,
          -1.0966017811139082,
          -1.7501437821712431,
          -1.819809038953777,
          0.3286795501646575,
          0.420218601730475,
          -0.4526951755973082,
          0.6428374710337051,
          -0.32814944019105596,
          1.9532810324072836,
          -0.8371761679909756,
          -1.50915051301245,
          -0.11553875435854695,
          -0.19808858021679637,
          0.08189178164630723,
          -1.1690479593556529,
          0.5426510623353725,
          -1.569302061901453,
          2.2472868053504014,
          -0.13122045124668472,
          -0.03454840736457979,
          0.004013916643951113,
          0.9156650742937736,
          -1.5630225390944321,
          -0.8692580183140872,
          0.7776652874301425,
          0.37059975574200205,
          -0.9999879818086167,
          0.6016464734009461,
          0.05210885734734563,
          0.10876319643384028,
          0.07223691516760487,
          -0.488979327879292,
          -1.2474974282935567,
          0.30088905771553354,
          0.8931102695066149,
          0.6345013410633477,
          -0.08705043588611751,
          -0.41296039681387836,
          1.6468689809139507,
          -1.2191028264563968,
          0.06846210845743836,
          1.0803348505760164,
          0.3663395830326163,
          -0.3837984909897694,
          -1.7462365995629416,
          0.9324003722594186,
          -0.3038268359150439,
          -0.8786412238263824,
          -1.419891446791575,
          2.163490032952582,
          -0.8058230604185269,
          0.10256406153351981,
          1.1139069699129942,
          0.49417906199734707,
          0.8760823766737829,
          -0.8948518726206427,
          -1.335563279231745,
          -0.27351425817938646,
          -1.6530349045940977,
          0.7796901069802878,
          0.3178371041948017,
          -0.5673257372555445,
          -0.36103792983823196,
          -0.17726997277506898,
          0.24843619696647495,
          -0.05052867323180514,
          -0.4471599049358513,
          -0.21938709534885703,
          -0.39712704411222405,
          1.6087610337457163,
          -0.43113504250683504,
          0.0018928069012562722,
          -0.9713837764015597,
          -0.9711257871443403,
          -1.201135432974757,
          0.6213409054564155,
          -0.3869811372641256,
          -0.2788357101710152,
          -0.20400907384209452,
          1.011917828496073,
          -0.8505328360888009,
          0.2379108955912931,
          0.4591865745990066,
          0.448859440096995,
          0.16970947821971874,
          3.070837746893535,
          0.6488164419269693,
          1.4007575897732754,
          0.17720275317090023,
          -1.0289729246587451,
          0.14937788270135635,
          -1.1679017277463055,
          0.9170428574901506,
          0.5245942932387379,
          -1.2885764393890806
         ]
        },
        {
         "line": {
          "color": "rgba(50, 171, 96, 1.0)",
          "dash": "solid",
          "shape": "linear",
          "width": 1.3
         },
         "mode": "lines",
         "name": "C",
         "text": "",
         "type": "scatter",
         "x": [
          0,
          1,
          2,
          3,
          4,
          5,
          6,
          7,
          8,
          9,
          10,
          11,
          12,
          13,
          14,
          15,
          16,
          17,
          18,
          19,
          20,
          21,
          22,
          23,
          24,
          25,
          26,
          27,
          28,
          29,
          30,
          31,
          32,
          33,
          34,
          35,
          36,
          37,
          38,
          39,
          40,
          41,
          42,
          43,
          44,
          45,
          46,
          47,
          48,
          49,
          50,
          51,
          52,
          53,
          54,
          55,
          56,
          57,
          58,
          59,
          60,
          61,
          62,
          63,
          64,
          65,
          66,
          67,
          68,
          69,
          70,
          71,
          72,
          73,
          74,
          75,
          76,
          77,
          78,
          79,
          80,
          81,
          82,
          83,
          84,
          85,
          86,
          87,
          88,
          89,
          90,
          91,
          92,
          93,
          94,
          95,
          96,
          97,
          98,
          99
         ],
         "y": [
          0.37396880967063184,
          0.485819109135621,
          -0.6351379982448391,
          0.2741963480308266,
          0.28441154644745953,
          -0.5689584930430098,
          -1.7764037059962785,
          0.6939134036263318,
          -1.0914742699727626,
          1.0095698440273608,
          0.9038298373786826,
          0.45684967147341277,
          -0.8962791345502362,
          1.3612764577772003,
          0.769046148307588,
          0.6432139729219714,
          -0.1755969192591122,
          2.0646430510096456,
          0.32856162509179165,
          -0.45514672532900435,
          -2.0434119509245945,
          -0.22339369216589958,
          -0.4759677637897723,
          0.6879343719088479,
          2.0575370079714554,
          -0.2906158769931298,
          1.6976548541724978,
          -0.8469992960252449,
          -0.13834361912647716,
          -0.0645035615577513,
          0.38652777747444894,
          -1.193652114101707,
          0.13798097726775968,
          0.11739355751733577,
          -0.29005171504076405,
          1.627157188783857,
          -0.2495570014946859,
          -0.9545308102971303,
          0.13259597457059744,
          -0.6151063164608173,
          1.5855852311862595,
          0.3381393618125363,
          -1.6472132904138104,
          -0.2878903051600144,
          -0.5573359078645758,
          -0.2182996588047888,
          -0.4399013980494022,
          0.018500459702916396,
          0.09911511861381764,
          -1.310166314447082,
          -1.011624910552905,
          0.3627672280932037,
          2.1291298144680497,
          -1.1239492659211483,
          1.132863981267986,
          0.228193143647071,
          1.5462397079810524,
          -0.37878613122449806,
          0.694900629886083,
          -1.17025401083286,
          0.9470238842420337,
          0.235975316301273,
          0.3485324740626605,
          -2.5406164262331252,
          -0.08002575297053341,
          -0.11300007122142385,
          -1.3401640072724892,
          0.8417212679546352,
          1.6329062905357954,
          -1.3454419101981803,
          0.9372378100116274,
          2.3832122889079166,
          0.07327306689767413,
          0.17373054974580543,
          -0.6647941881929376,
          -0.00037142532747681123,
          0.7163662020598183,
          0.32191937697929285,
          -0.4296635297447678,
          0.8816471136098253,
          -0.14935605702660373,
          0.151772180187301,
          0.000528971197049543,
          -0.28363103855286514,
          0.2737045895924919,
          0.1699482265529984,
          -1.79500990750334,
          -1.1352030321961761,
          0.3886533963873723,
          1.1369473253097777,
          0.651769135275047,
          -2.6241863552765903,
          1.645556210994583,
          -1.9333901442105705,
          0.20229028335327418,
          -0.3980462068338803,
          1.7856968855129687,
          1.0960542932501087,
          -0.3958576865717353,
          -0.3421841355431247
         ]
        },
        {
         "line": {
          "color": "rgba(128, 0, 128, 1.0)",
          "dash": "solid",
          "shape": "linear",
          "width": 1.3
         },
         "mode": "lines",
         "name": "D",
         "text": "",
         "type": "scatter",
         "x": [
          0,
          1,
          2,
          3,
          4,
          5,
          6,
          7,
          8,
          9,
          10,
          11,
          12,
          13,
          14,
          15,
          16,
          17,
          18,
          19,
          20,
          21,
          22,
          23,
          24,
          25,
          26,
          27,
          28,
          29,
          30,
          31,
          32,
          33,
          34,
          35,
          36,
          37,
          38,
          39,
          40,
          41,
          42,
          43,
          44,
          45,
          46,
          47,
          48,
          49,
          50,
          51,
          52,
          53,
          54,
          55,
          56,
          57,
          58,
          59,
          60,
          61,
          62,
          63,
          64,
          65,
          66,
          67,
          68,
          69,
          70,
          71,
          72,
          73,
          74,
          75,
          76,
          77,
          78,
          79,
          80,
          81,
          82,
          83,
          84,
          85,
          86,
          87,
          88,
          89,
          90,
          91,
          92,
          93,
          94,
          95,
          96,
          97,
          98,
          99
         ],
         "y": [
          0.10019236738679081,
          -0.40841508789911957,
          1.0880229661305265,
          0.8652643944491681,
          1.3813365573972627,
          -0.169563633595409,
          0.038547582019666356,
          0.9351786616657,
          -1.0904950978675008,
          0.19268230113792,
          0.1530437529903397,
          -0.9610632000620131,
          -0.5038638512539662,
          -0.02868819597412543,
          -1.2335143536151583,
          1.1044638647618985,
          -0.6527092429430541,
          -0.8502834548902157,
          -0.40308864747020284,
          1.4624063406367676,
          1.3030882168079807,
          0.5241584507546425,
          0.6897611065671335,
          0.23926206221512422,
          0.24550106500734678,
          0.6909064800055937,
          -0.1673623231286305,
          0.7936079202105257,
          1.8199648806134523,
          0.301111283765011,
          1.0641146030563275,
          0.6448701953770855,
          0.2251783887729817,
          -0.9507188720770672,
          -0.7093120654633488,
          1.089640515089958,
          1.2809723177519126,
          -0.29213577576302396,
          0.8401524823296217,
          1.3612755483625067,
          -0.7887741864274915,
          0.07124897413292046,
          -1.3512883291770754,
          -0.10483471513171659,
          -1.5414038063267268,
          0.7332792909199604,
          -0.4939546441889498,
          -0.8235826072554355,
          -2.3004448240965285,
          0.2490397916340618,
          -0.5990708012169211,
          -1.2344307225948057,
          -0.8966920186126316,
          -0.47663875979347725,
          1.1507271840045061,
          0.7421092404767009,
          -0.5914113744398791,
          0.6548386359286849,
          -0.33790160370389055,
          0.03533295024022777,
          0.8938341719693075,
          1.3743900300018788,
          -1.3341019341955622,
          1.875743005624606,
          -1.0055707978403516,
          -1.6601376077024619,
          -1.3046740142778521,
          -1.018030650858319,
          0.17082439143206524,
          -1.8726614680965534,
          0.3032064240152828,
          1.3407798761113288,
          -0.8363083792726096,
          0.23864738387964837,
          0.47506377189916993,
          -1.1069809945297964,
          -0.08375769526089903,
          0.32085502528923615,
          0.24797469587709156,
          0.13233284186777314,
          -0.5749664374502748,
          0.18924251545318685,
          -1.85326268569658,
          -2.1190778632475866,
          -0.28196115986216985,
          0.5524679622264345,
          1.4420384970602615,
          -0.09627353663918234,
          -1.0522201787108096,
          0.279740918763895,
          0.09830663201071498,
          -0.2133013467076015,
          1.3106378629150464,
          -1.2637309305944364,
          -0.16618105889914972,
          -0.9608995743323465,
          -0.698163313743797,
          1.6340863943666697,
          -0.5120062660189111,
          -1.3500981293658665
         ]
        }
       ],
       "layout": {
        "legend": {
         "bgcolor": "#F5F6F9",
         "font": {
          "color": "#4D5663"
         }
        },
        "paper_bgcolor": "#F5F6F9",
        "plot_bgcolor": "#F5F6F9",
        "template": {
         "data": {
          "bar": [
           {
            "error_x": {
             "color": "#2a3f5f"
            },
            "error_y": {
             "color": "#2a3f5f"
            },
            "marker": {
             "line": {
              "color": "#E5ECF6",
              "width": 0.5
             }
            },
            "type": "bar"
           }
          ],
          "barpolar": [
           {
            "marker": {
             "line": {
              "color": "#E5ECF6",
              "width": 0.5
             }
            },
            "type": "barpolar"
           }
          ],
          "carpet": [
           {
            "aaxis": {
             "endlinecolor": "#2a3f5f",
             "gridcolor": "white",
             "linecolor": "white",
             "minorgridcolor": "white",
             "startlinecolor": "#2a3f5f"
            },
            "baxis": {
             "endlinecolor": "#2a3f5f",
             "gridcolor": "white",
             "linecolor": "white",
             "minorgridcolor": "white",
             "startlinecolor": "#2a3f5f"
            },
            "type": "carpet"
           }
          ],
          "choropleth": [
           {
            "colorbar": {
             "outlinewidth": 0,
             "ticks": ""
            },
            "type": "choropleth"
           }
          ],
          "contour": [
           {
            "colorbar": {
             "outlinewidth": 0,
             "ticks": ""
            },
            "colorscale": [
             [
              0,
              "#0d0887"
             ],
             [
              0.1111111111111111,
              "#46039f"
             ],
             [
              0.2222222222222222,
              "#7201a8"
             ],
             [
              0.3333333333333333,
              "#9c179e"
             ],
             [
              0.4444444444444444,
              "#bd3786"
             ],
             [
              0.5555555555555556,
              "#d8576b"
             ],
             [
              0.6666666666666666,
              "#ed7953"
             ],
             [
              0.7777777777777778,
              "#fb9f3a"
             ],
             [
              0.8888888888888888,
              "#fdca26"
             ],
             [
              1,
              "#f0f921"
             ]
            ],
            "type": "contour"
           }
          ],
          "contourcarpet": [
           {
            "colorbar": {
             "outlinewidth": 0,
             "ticks": ""
            },
            "type": "contourcarpet"
           }
          ],
          "heatmap": [
           {
            "colorbar": {
             "outlinewidth": 0,
             "ticks": ""
            },
            "colorscale": [
             [
              0,
              "#0d0887"
             ],
             [
              0.1111111111111111,
              "#46039f"
             ],
             [
              0.2222222222222222,
              "#7201a8"
             ],
             [
              0.3333333333333333,
              "#9c179e"
             ],
             [
              0.4444444444444444,
              "#bd3786"
             ],
             [
              0.5555555555555556,
              "#d8576b"
             ],
             [
              0.6666666666666666,
              "#ed7953"
             ],
             [
              0.7777777777777778,
              "#fb9f3a"
             ],
             [
              0.8888888888888888,
              "#fdca26"
             ],
             [
              1,
              "#f0f921"
             ]
            ],
            "type": "heatmap"
           }
          ],
          "heatmapgl": [
           {
            "colorbar": {
             "outlinewidth": 0,
             "ticks": ""
            },
            "colorscale": [
             [
              0,
              "#0d0887"
             ],
             [
              0.1111111111111111,
              "#46039f"
             ],
             [
              0.2222222222222222,
              "#7201a8"
             ],
             [
              0.3333333333333333,
              "#9c179e"
             ],
             [
              0.4444444444444444,
              "#bd3786"
             ],
             [
              0.5555555555555556,
              "#d8576b"
             ],
             [
              0.6666666666666666,
              "#ed7953"
             ],
             [
              0.7777777777777778,
              "#fb9f3a"
             ],
             [
              0.8888888888888888,
              "#fdca26"
             ],
             [
              1,
              "#f0f921"
             ]
            ],
            "type": "heatmapgl"
           }
          ],
          "histogram": [
           {
            "marker": {
             "colorbar": {
              "outlinewidth": 0,
              "ticks": ""
             }
            },
            "type": "histogram"
           }
          ],
          "histogram2d": [
           {
            "colorbar": {
             "outlinewidth": 0,
             "ticks": ""
            },
            "colorscale": [
             [
              0,
              "#0d0887"
             ],
             [
              0.1111111111111111,
              "#46039f"
             ],
             [
              0.2222222222222222,
              "#7201a8"
             ],
             [
              0.3333333333333333,
              "#9c179e"
             ],
             [
              0.4444444444444444,
              "#bd3786"
             ],
             [
              0.5555555555555556,
              "#d8576b"
             ],
             [
              0.6666666666666666,
              "#ed7953"
             ],
             [
              0.7777777777777778,
              "#fb9f3a"
             ],
             [
              0.8888888888888888,
              "#fdca26"
             ],
             [
              1,
              "#f0f921"
             ]
            ],
            "type": "histogram2d"
           }
          ],
          "histogram2dcontour": [
           {
            "colorbar": {
             "outlinewidth": 0,
             "ticks": ""
            },
            "colorscale": [
             [
              0,
              "#0d0887"
             ],
             [
              0.1111111111111111,
              "#46039f"
             ],
             [
              0.2222222222222222,
              "#7201a8"
             ],
             [
              0.3333333333333333,
              "#9c179e"
             ],
             [
              0.4444444444444444,
              "#bd3786"
             ],
             [
              0.5555555555555556,
              "#d8576b"
             ],
             [
              0.6666666666666666,
              "#ed7953"
             ],
             [
              0.7777777777777778,
              "#fb9f3a"
             ],
             [
              0.8888888888888888,
              "#fdca26"
             ],
             [
              1,
              "#f0f921"
             ]
            ],
            "type": "histogram2dcontour"
           }
          ],
          "mesh3d": [
           {
            "colorbar": {
             "outlinewidth": 0,
             "ticks": ""
            },
            "type": "mesh3d"
           }
          ],
          "parcoords": [
           {
            "line": {
             "colorbar": {
              "outlinewidth": 0,
              "ticks": ""
             }
            },
            "type": "parcoords"
           }
          ],
          "pie": [
           {
            "automargin": true,
            "type": "pie"
           }
          ],
          "scatter": [
           {
            "marker": {
             "colorbar": {
              "outlinewidth": 0,
              "ticks": ""
             }
            },
            "type": "scatter"
           }
          ],
          "scatter3d": [
           {
            "line": {
             "colorbar": {
              "outlinewidth": 0,
              "ticks": ""
             }
            },
            "marker": {
             "colorbar": {
              "outlinewidth": 0,
              "ticks": ""
             }
            },
            "type": "scatter3d"
           }
          ],
          "scattercarpet": [
           {
            "marker": {
             "colorbar": {
              "outlinewidth": 0,
              "ticks": ""
             }
            },
            "type": "scattercarpet"
           }
          ],
          "scattergeo": [
           {
            "marker": {
             "colorbar": {
              "outlinewidth": 0,
              "ticks": ""
             }
            },
            "type": "scattergeo"
           }
          ],
          "scattergl": [
           {
            "marker": {
             "colorbar": {
              "outlinewidth": 0,
              "ticks": ""
             }
            },
            "type": "scattergl"
           }
          ],
          "scattermapbox": [
           {
            "marker": {
             "colorbar": {
              "outlinewidth": 0,
              "ticks": ""
             }
            },
            "type": "scattermapbox"
           }
          ],
          "scatterpolar": [
           {
            "marker": {
             "colorbar": {
              "outlinewidth": 0,
              "ticks": ""
             }
            },
            "type": "scatterpolar"
           }
          ],
          "scatterpolargl": [
           {
            "marker": {
             "colorbar": {
              "outlinewidth": 0,
              "ticks": ""
             }
            },
            "type": "scatterpolargl"
           }
          ],
          "scatterternary": [
           {
            "marker": {
             "colorbar": {
              "outlinewidth": 0,
              "ticks": ""
             }
            },
            "type": "scatterternary"
           }
          ],
          "surface": [
           {
            "colorbar": {
             "outlinewidth": 0,
             "ticks": ""
            },
            "colorscale": [
             [
              0,
              "#0d0887"
             ],
             [
              0.1111111111111111,
              "#46039f"
             ],
             [
              0.2222222222222222,
              "#7201a8"
             ],
             [
              0.3333333333333333,
              "#9c179e"
             ],
             [
              0.4444444444444444,
              "#bd3786"
             ],
             [
              0.5555555555555556,
              "#d8576b"
             ],
             [
              0.6666666666666666,
              "#ed7953"
             ],
             [
              0.7777777777777778,
              "#fb9f3a"
             ],
             [
              0.8888888888888888,
              "#fdca26"
             ],
             [
              1,
              "#f0f921"
             ]
            ],
            "type": "surface"
           }
          ],
          "table": [
           {
            "cells": {
             "fill": {
              "color": "#EBF0F8"
             },
             "line": {
              "color": "white"
             }
            },
            "header": {
             "fill": {
              "color": "#C8D4E3"
             },
             "line": {
              "color": "white"
             }
            },
            "type": "table"
           }
          ]
         },
         "layout": {
          "annotationdefaults": {
           "arrowcolor": "#2a3f5f",
           "arrowhead": 0,
           "arrowwidth": 1
          },
          "autotypenumbers": "strict",
          "coloraxis": {
           "colorbar": {
            "outlinewidth": 0,
            "ticks": ""
           }
          },
          "colorscale": {
           "diverging": [
            [
             0,
             "#8e0152"
            ],
            [
             0.1,
             "#c51b7d"
            ],
            [
             0.2,
             "#de77ae"
            ],
            [
             0.3,
             "#f1b6da"
            ],
            [
             0.4,
             "#fde0ef"
            ],
            [
             0.5,
             "#f7f7f7"
            ],
            [
             0.6,
             "#e6f5d0"
            ],
            [
             0.7,
             "#b8e186"
            ],
            [
             0.8,
             "#7fbc41"
            ],
            [
             0.9,
             "#4d9221"
            ],
            [
             1,
             "#276419"
            ]
           ],
           "sequential": [
            [
             0,
             "#0d0887"
            ],
            [
             0.1111111111111111,
             "#46039f"
            ],
            [
             0.2222222222222222,
             "#7201a8"
            ],
            [
             0.3333333333333333,
             "#9c179e"
            ],
            [
             0.4444444444444444,
             "#bd3786"
            ],
            [
             0.5555555555555556,
             "#d8576b"
            ],
            [
             0.6666666666666666,
             "#ed7953"
            ],
            [
             0.7777777777777778,
             "#fb9f3a"
            ],
            [
             0.8888888888888888,
             "#fdca26"
            ],
            [
             1,
             "#f0f921"
            ]
           ],
           "sequentialminus": [
            [
             0,
             "#0d0887"
            ],
            [
             0.1111111111111111,
             "#46039f"
            ],
            [
             0.2222222222222222,
             "#7201a8"
            ],
            [
             0.3333333333333333,
             "#9c179e"
            ],
            [
             0.4444444444444444,
             "#bd3786"
            ],
            [
             0.5555555555555556,
             "#d8576b"
            ],
            [
             0.6666666666666666,
             "#ed7953"
            ],
            [
             0.7777777777777778,
             "#fb9f3a"
            ],
            [
             0.8888888888888888,
             "#fdca26"
            ],
            [
             1,
             "#f0f921"
            ]
           ]
          },
          "colorway": [
           "#636efa",
           "#EF553B",
           "#00cc96",
           "#ab63fa",
           "#FFA15A",
           "#19d3f3",
           "#FF6692",
           "#B6E880",
           "#FF97FF",
           "#FECB52"
          ],
          "font": {
           "color": "#2a3f5f"
          },
          "geo": {
           "bgcolor": "white",
           "lakecolor": "white",
           "landcolor": "#E5ECF6",
           "showlakes": true,
           "showland": true,
           "subunitcolor": "white"
          },
          "hoverlabel": {
           "align": "left"
          },
          "hovermode": "closest",
          "mapbox": {
           "style": "light"
          },
          "paper_bgcolor": "white",
          "plot_bgcolor": "#E5ECF6",
          "polar": {
           "angularaxis": {
            "gridcolor": "white",
            "linecolor": "white",
            "ticks": ""
           },
           "bgcolor": "#E5ECF6",
           "radialaxis": {
            "gridcolor": "white",
            "linecolor": "white",
            "ticks": ""
           }
          },
          "scene": {
           "xaxis": {
            "backgroundcolor": "#E5ECF6",
            "gridcolor": "white",
            "gridwidth": 2,
            "linecolor": "white",
            "showbackground": true,
            "ticks": "",
            "zerolinecolor": "white"
           },
           "yaxis": {
            "backgroundcolor": "#E5ECF6",
            "gridcolor": "white",
            "gridwidth": 2,
            "linecolor": "white",
            "showbackground": true,
            "ticks": "",
            "zerolinecolor": "white"
           },
           "zaxis": {
            "backgroundcolor": "#E5ECF6",
            "gridcolor": "white",
            "gridwidth": 2,
            "linecolor": "white",
            "showbackground": true,
            "ticks": "",
            "zerolinecolor": "white"
           }
          },
          "shapedefaults": {
           "line": {
            "color": "#2a3f5f"
           }
          },
          "ternary": {
           "aaxis": {
            "gridcolor": "white",
            "linecolor": "white",
            "ticks": ""
           },
           "baxis": {
            "gridcolor": "white",
            "linecolor": "white",
            "ticks": ""
           },
           "bgcolor": "#E5ECF6",
           "caxis": {
            "gridcolor": "white",
            "linecolor": "white",
            "ticks": ""
           }
          },
          "title": {
           "x": 0.05
          },
          "xaxis": {
           "automargin": true,
           "gridcolor": "white",
           "linecolor": "white",
           "ticks": "",
           "title": {
            "standoff": 15
           },
           "zerolinecolor": "white",
           "zerolinewidth": 2
          },
          "yaxis": {
           "automargin": true,
           "gridcolor": "white",
           "linecolor": "white",
           "ticks": "",
           "title": {
            "standoff": 15
           },
           "zerolinecolor": "white",
           "zerolinewidth": 2
          }
         }
        },
        "title": {
         "font": {
          "color": "#4D5663"
         }
        },
        "xaxis": {
         "gridcolor": "#E1E5ED",
         "showgrid": true,
         "tickfont": {
          "color": "#4D5663"
         },
         "title": {
          "font": {
           "color": "#4D5663"
          },
          "text": ""
         },
         "zerolinecolor": "#E1E5ED"
        },
        "yaxis": {
         "gridcolor": "#E1E5ED",
         "showgrid": true,
         "tickfont": {
          "color": "#4D5663"
         },
         "title": {
          "font": {
           "color": "#4D5663"
          },
          "text": ""
         },
         "zerolinecolor": "#E1E5ED"
        }
       }
      },
      "text/html": "<div>                            <div id=\"583156d8-59d4-4f25-b996-3f0fbc968a1e\" class=\"plotly-graph-div\" style=\"height:525px; width:100%;\"></div>            <script type=\"text/javascript\">                require([\"plotly\"], function(Plotly) {                    window.PLOTLYENV=window.PLOTLYENV || {};\n                    window.PLOTLYENV.BASE_URL='https://plot.ly';                                    if (document.getElementById(\"583156d8-59d4-4f25-b996-3f0fbc968a1e\")) {                    Plotly.newPlot(                        \"583156d8-59d4-4f25-b996-3f0fbc968a1e\",                        [{\"line\": {\"color\": \"rgba(255, 153, 51, 1.0)\", \"dash\": \"solid\", \"shape\": \"linear\", \"width\": 1.3}, \"mode\": \"lines\", \"name\": \"A\", \"text\": \"\", \"type\": \"scatter\", \"x\": [0, 1, 2, 3, 4, 5, 6, 7, 8, 9, 10, 11, 12, 13, 14, 15, 16, 17, 18, 19, 20, 21, 22, 23, 24, 25, 26, 27, 28, 29, 30, 31, 32, 33, 34, 35, 36, 37, 38, 39, 40, 41, 42, 43, 44, 45, 46, 47, 48, 49, 50, 51, 52, 53, 54, 55, 56, 57, 58, 59, 60, 61, 62, 63, 64, 65, 66, 67, 68, 69, 70, 71, 72, 73, 74, 75, 76, 77, 78, 79, 80, 81, 82, 83, 84, 85, 86, 87, 88, 89, 90, 91, 92, 93, 94, 95, 96, 97, 98, 99], \"y\": [-1.286783666232087, 0.7107277470430434, 1.2206576987234354, 2.670689230942479, -0.868396268279137, -0.7702505222952278, 0.836826113651275, -1.310807545006144, -1.1454772976981726, -1.205923510011141, 0.39104120063317915, 1.480064786672829, -0.4371817585516773, 0.31244387330147083, 0.9522665120953734, -0.9064855359217587, 0.15128185004249292, 0.15061151479926002, 0.2932767331797624, 0.07523964284633954, 0.29022474193827164, -0.15511464338925918, 0.6235611994075417, 0.385198796402805, -1.23041158492017, 0.4146485818376867, 1.3453276550476518, 2.2200082297196575, 0.4843022625460223, -0.9052875932660301, -1.2911658251962215, 1.2239386431635257, 0.5800060939722871, 0.29463938749835283, -0.5274632830251935, -0.7462578578754884, 1.692027647166309, -0.09695059770969566, 0.4881840463183823, -0.025688346575201363, -1.3490757613768838, -0.39677880092704315, 0.35675258383857994, -0.5443711678860995, -0.4195900621836775, 0.6447505960385553, -1.0972813689106393, -0.07544670673084743, -1.680269752499829, 0.5777182254380486, 0.8773588872922171, -1.2744428237723746, 0.4707650176747216, 0.184743927621629, 1.502286572568263, -0.047755807588705734, 0.12565047824483858, -2.8697574169274644, -1.7358225932178784, -0.6272506704206392, -1.4433597294484304, 2.4317752497855403, -1.4322358810549674, 0.5091222176333856, -2.303424236839607, 1.5614540931799474, 1.755253217137435, -0.8962401197499275, 0.6858890477096122, 0.45111826271025357, 0.3732627172869396, -0.11404699509388187, 0.505163811090925, 0.9893247964708458, 1.6802152688092455, 0.3775054456483596, 0.5960017865897772, 1.0021193126559254, -0.38771902641273304, 0.7260151830561632, -0.5736145908308646, 0.5696440774836763, -0.08440931256891603, 1.7580084477921427, -0.9032392980072976, -1.702458506342066, -0.3268225203948594, 0.24042744103696015, 0.3251828854999993, -0.03164848102043208, 1.1673040608017295, -0.5431973031609296, -1.9466362146927483, -0.0069860880888541945, 1.99068233702783, -0.048360909178754935, 0.4008717221536024, 0.26080632462817355, -0.31858331702889736, -0.071197295683597]}, {\"line\": {\"color\": \"rgba(55, 128, 191, 1.0)\", \"dash\": \"solid\", \"shape\": \"linear\", \"width\": 1.3}, \"mode\": \"lines\", \"name\": \"B\", \"text\": \"\", \"type\": \"scatter\", \"x\": [0, 1, 2, 3, 4, 5, 6, 7, 8, 9, 10, 11, 12, 13, 14, 15, 16, 17, 18, 19, 20, 21, 22, 23, 24, 25, 26, 27, 28, 29, 30, 31, 32, 33, 34, 35, 36, 37, 38, 39, 40, 41, 42, 43, 44, 45, 46, 47, 48, 49, 50, 51, 52, 53, 54, 55, 56, 57, 58, 59, 60, 61, 62, 63, 64, 65, 66, 67, 68, 69, 70, 71, 72, 73, 74, 75, 76, 77, 78, 79, 80, 81, 82, 83, 84, 85, 86, 87, 88, 89, 90, 91, 92, 93, 94, 95, 96, 97, 98, 99], \"y\": [-1.2436419169159714, 1.5692860019949753, -0.26671888492952217, 0.2815640316896209, 1.365892470714254, -1.0966017811139082, -1.7501437821712431, -1.819809038953777, 0.3286795501646575, 0.420218601730475, -0.4526951755973082, 0.6428374710337051, -0.32814944019105596, 1.9532810324072836, -0.8371761679909756, -1.50915051301245, -0.11553875435854695, -0.19808858021679637, 0.08189178164630723, -1.1690479593556529, 0.5426510623353725, -1.569302061901453, 2.2472868053504014, -0.13122045124668472, -0.03454840736457979, 0.004013916643951113, 0.9156650742937736, -1.5630225390944321, -0.8692580183140872, 0.7776652874301425, 0.37059975574200205, -0.9999879818086167, 0.6016464734009461, 0.05210885734734563, 0.10876319643384028, 0.07223691516760487, -0.488979327879292, -1.2474974282935567, 0.30088905771553354, 0.8931102695066149, 0.6345013410633477, -0.08705043588611751, -0.41296039681387836, 1.6468689809139507, -1.2191028264563968, 0.06846210845743836, 1.0803348505760164, 0.3663395830326163, -0.3837984909897694, -1.7462365995629416, 0.9324003722594186, -0.3038268359150439, -0.8786412238263824, -1.419891446791575, 2.163490032952582, -0.8058230604185269, 0.10256406153351981, 1.1139069699129942, 0.49417906199734707, 0.8760823766737829, -0.8948518726206427, -1.335563279231745, -0.27351425817938646, -1.6530349045940977, 0.7796901069802878, 0.3178371041948017, -0.5673257372555445, -0.36103792983823196, -0.17726997277506898, 0.24843619696647495, -0.05052867323180514, -0.4471599049358513, -0.21938709534885703, -0.39712704411222405, 1.6087610337457163, -0.43113504250683504, 0.0018928069012562722, -0.9713837764015597, -0.9711257871443403, -1.201135432974757, 0.6213409054564155, -0.3869811372641256, -0.2788357101710152, -0.20400907384209452, 1.011917828496073, -0.8505328360888009, 0.2379108955912931, 0.4591865745990066, 0.448859440096995, 0.16970947821971874, 3.070837746893535, 0.6488164419269693, 1.4007575897732754, 0.17720275317090023, -1.0289729246587451, 0.14937788270135635, -1.1679017277463055, 0.9170428574901506, 0.5245942932387379, -1.2885764393890806]}, {\"line\": {\"color\": \"rgba(50, 171, 96, 1.0)\", \"dash\": \"solid\", \"shape\": \"linear\", \"width\": 1.3}, \"mode\": \"lines\", \"name\": \"C\", \"text\": \"\", \"type\": \"scatter\", \"x\": [0, 1, 2, 3, 4, 5, 6, 7, 8, 9, 10, 11, 12, 13, 14, 15, 16, 17, 18, 19, 20, 21, 22, 23, 24, 25, 26, 27, 28, 29, 30, 31, 32, 33, 34, 35, 36, 37, 38, 39, 40, 41, 42, 43, 44, 45, 46, 47, 48, 49, 50, 51, 52, 53, 54, 55, 56, 57, 58, 59, 60, 61, 62, 63, 64, 65, 66, 67, 68, 69, 70, 71, 72, 73, 74, 75, 76, 77, 78, 79, 80, 81, 82, 83, 84, 85, 86, 87, 88, 89, 90, 91, 92, 93, 94, 95, 96, 97, 98, 99], \"y\": [0.37396880967063184, 0.485819109135621, -0.6351379982448391, 0.2741963480308266, 0.28441154644745953, -0.5689584930430098, -1.7764037059962785, 0.6939134036263318, -1.0914742699727626, 1.0095698440273608, 0.9038298373786826, 0.45684967147341277, -0.8962791345502362, 1.3612764577772003, 0.769046148307588, 0.6432139729219714, -0.1755969192591122, 2.0646430510096456, 0.32856162509179165, -0.45514672532900435, -2.0434119509245945, -0.22339369216589958, -0.4759677637897723, 0.6879343719088479, 2.0575370079714554, -0.2906158769931298, 1.6976548541724978, -0.8469992960252449, -0.13834361912647716, -0.0645035615577513, 0.38652777747444894, -1.193652114101707, 0.13798097726775968, 0.11739355751733577, -0.29005171504076405, 1.627157188783857, -0.2495570014946859, -0.9545308102971303, 0.13259597457059744, -0.6151063164608173, 1.5855852311862595, 0.3381393618125363, -1.6472132904138104, -0.2878903051600144, -0.5573359078645758, -0.2182996588047888, -0.4399013980494022, 0.018500459702916396, 0.09911511861381764, -1.310166314447082, -1.011624910552905, 0.3627672280932037, 2.1291298144680497, -1.1239492659211483, 1.132863981267986, 0.228193143647071, 1.5462397079810524, -0.37878613122449806, 0.694900629886083, -1.17025401083286, 0.9470238842420337, 0.235975316301273, 0.3485324740626605, -2.5406164262331252, -0.08002575297053341, -0.11300007122142385, -1.3401640072724892, 0.8417212679546352, 1.6329062905357954, -1.3454419101981803, 0.9372378100116274, 2.3832122889079166, 0.07327306689767413, 0.17373054974580543, -0.6647941881929376, -0.00037142532747681123, 0.7163662020598183, 0.32191937697929285, -0.4296635297447678, 0.8816471136098253, -0.14935605702660373, 0.151772180187301, 0.000528971197049543, -0.28363103855286514, 0.2737045895924919, 0.1699482265529984, -1.79500990750334, -1.1352030321961761, 0.3886533963873723, 1.1369473253097777, 0.651769135275047, -2.6241863552765903, 1.645556210994583, -1.9333901442105705, 0.20229028335327418, -0.3980462068338803, 1.7856968855129687, 1.0960542932501087, -0.3958576865717353, -0.3421841355431247]}, {\"line\": {\"color\": \"rgba(128, 0, 128, 1.0)\", \"dash\": \"solid\", \"shape\": \"linear\", \"width\": 1.3}, \"mode\": \"lines\", \"name\": \"D\", \"text\": \"\", \"type\": \"scatter\", \"x\": [0, 1, 2, 3, 4, 5, 6, 7, 8, 9, 10, 11, 12, 13, 14, 15, 16, 17, 18, 19, 20, 21, 22, 23, 24, 25, 26, 27, 28, 29, 30, 31, 32, 33, 34, 35, 36, 37, 38, 39, 40, 41, 42, 43, 44, 45, 46, 47, 48, 49, 50, 51, 52, 53, 54, 55, 56, 57, 58, 59, 60, 61, 62, 63, 64, 65, 66, 67, 68, 69, 70, 71, 72, 73, 74, 75, 76, 77, 78, 79, 80, 81, 82, 83, 84, 85, 86, 87, 88, 89, 90, 91, 92, 93, 94, 95, 96, 97, 98, 99], \"y\": [0.10019236738679081, -0.40841508789911957, 1.0880229661305265, 0.8652643944491681, 1.3813365573972627, -0.169563633595409, 0.038547582019666356, 0.9351786616657, -1.0904950978675008, 0.19268230113792, 0.1530437529903397, -0.9610632000620131, -0.5038638512539662, -0.02868819597412543, -1.2335143536151583, 1.1044638647618985, -0.6527092429430541, -0.8502834548902157, -0.40308864747020284, 1.4624063406367676, 1.3030882168079807, 0.5241584507546425, 0.6897611065671335, 0.23926206221512422, 0.24550106500734678, 0.6909064800055937, -0.1673623231286305, 0.7936079202105257, 1.8199648806134523, 0.301111283765011, 1.0641146030563275, 0.6448701953770855, 0.2251783887729817, -0.9507188720770672, -0.7093120654633488, 1.089640515089958, 1.2809723177519126, -0.29213577576302396, 0.8401524823296217, 1.3612755483625067, -0.7887741864274915, 0.07124897413292046, -1.3512883291770754, -0.10483471513171659, -1.5414038063267268, 0.7332792909199604, -0.4939546441889498, -0.8235826072554355, -2.3004448240965285, 0.2490397916340618, -0.5990708012169211, -1.2344307225948057, -0.8966920186126316, -0.47663875979347725, 1.1507271840045061, 0.7421092404767009, -0.5914113744398791, 0.6548386359286849, -0.33790160370389055, 0.03533295024022777, 0.8938341719693075, 1.3743900300018788, -1.3341019341955622, 1.875743005624606, -1.0055707978403516, -1.6601376077024619, -1.3046740142778521, -1.018030650858319, 0.17082439143206524, -1.8726614680965534, 0.3032064240152828, 1.3407798761113288, -0.8363083792726096, 0.23864738387964837, 0.47506377189916993, -1.1069809945297964, -0.08375769526089903, 0.32085502528923615, 0.24797469587709156, 0.13233284186777314, -0.5749664374502748, 0.18924251545318685, -1.85326268569658, -2.1190778632475866, -0.28196115986216985, 0.5524679622264345, 1.4420384970602615, -0.09627353663918234, -1.0522201787108096, 0.279740918763895, 0.09830663201071498, -0.2133013467076015, 1.3106378629150464, -1.2637309305944364, -0.16618105889914972, -0.9608995743323465, -0.698163313743797, 1.6340863943666697, -0.5120062660189111, -1.3500981293658665]}],                        {\"legend\": {\"bgcolor\": \"#F5F6F9\", \"font\": {\"color\": \"#4D5663\"}}, \"paper_bgcolor\": \"#F5F6F9\", \"plot_bgcolor\": \"#F5F6F9\", \"template\": {\"data\": {\"bar\": [{\"error_x\": {\"color\": \"#2a3f5f\"}, \"error_y\": {\"color\": \"#2a3f5f\"}, \"marker\": {\"line\": {\"color\": \"#E5ECF6\", \"width\": 0.5}}, \"type\": \"bar\"}], \"barpolar\": [{\"marker\": {\"line\": {\"color\": \"#E5ECF6\", \"width\": 0.5}}, \"type\": \"barpolar\"}], \"carpet\": [{\"aaxis\": {\"endlinecolor\": \"#2a3f5f\", \"gridcolor\": \"white\", \"linecolor\": \"white\", \"minorgridcolor\": \"white\", \"startlinecolor\": \"#2a3f5f\"}, \"baxis\": {\"endlinecolor\": \"#2a3f5f\", \"gridcolor\": \"white\", \"linecolor\": \"white\", \"minorgridcolor\": \"white\", \"startlinecolor\": \"#2a3f5f\"}, \"type\": \"carpet\"}], \"choropleth\": [{\"colorbar\": {\"outlinewidth\": 0, \"ticks\": \"\"}, \"type\": \"choropleth\"}], \"contour\": [{\"colorbar\": {\"outlinewidth\": 0, \"ticks\": \"\"}, \"colorscale\": [[0.0, \"#0d0887\"], [0.1111111111111111, \"#46039f\"], [0.2222222222222222, \"#7201a8\"], [0.3333333333333333, \"#9c179e\"], [0.4444444444444444, \"#bd3786\"], [0.5555555555555556, \"#d8576b\"], [0.6666666666666666, \"#ed7953\"], [0.7777777777777778, \"#fb9f3a\"], [0.8888888888888888, \"#fdca26\"], [1.0, \"#f0f921\"]], \"type\": \"contour\"}], \"contourcarpet\": [{\"colorbar\": {\"outlinewidth\": 0, \"ticks\": \"\"}, \"type\": \"contourcarpet\"}], \"heatmap\": [{\"colorbar\": {\"outlinewidth\": 0, \"ticks\": \"\"}, \"colorscale\": [[0.0, \"#0d0887\"], [0.1111111111111111, \"#46039f\"], [0.2222222222222222, \"#7201a8\"], [0.3333333333333333, \"#9c179e\"], [0.4444444444444444, \"#bd3786\"], [0.5555555555555556, \"#d8576b\"], [0.6666666666666666, \"#ed7953\"], [0.7777777777777778, \"#fb9f3a\"], [0.8888888888888888, \"#fdca26\"], [1.0, \"#f0f921\"]], \"type\": \"heatmap\"}], \"heatmapgl\": [{\"colorbar\": {\"outlinewidth\": 0, \"ticks\": \"\"}, \"colorscale\": [[0.0, \"#0d0887\"], [0.1111111111111111, \"#46039f\"], [0.2222222222222222, \"#7201a8\"], [0.3333333333333333, \"#9c179e\"], [0.4444444444444444, \"#bd3786\"], [0.5555555555555556, \"#d8576b\"], [0.6666666666666666, \"#ed7953\"], [0.7777777777777778, \"#fb9f3a\"], [0.8888888888888888, \"#fdca26\"], [1.0, \"#f0f921\"]], \"type\": \"heatmapgl\"}], \"histogram\": [{\"marker\": {\"colorbar\": {\"outlinewidth\": 0, \"ticks\": \"\"}}, \"type\": \"histogram\"}], \"histogram2d\": [{\"colorbar\": {\"outlinewidth\": 0, \"ticks\": \"\"}, \"colorscale\": [[0.0, \"#0d0887\"], [0.1111111111111111, \"#46039f\"], [0.2222222222222222, \"#7201a8\"], [0.3333333333333333, \"#9c179e\"], [0.4444444444444444, \"#bd3786\"], [0.5555555555555556, \"#d8576b\"], [0.6666666666666666, \"#ed7953\"], [0.7777777777777778, \"#fb9f3a\"], [0.8888888888888888, \"#fdca26\"], [1.0, \"#f0f921\"]], \"type\": \"histogram2d\"}], \"histogram2dcontour\": [{\"colorbar\": {\"outlinewidth\": 0, \"ticks\": \"\"}, \"colorscale\": [[0.0, \"#0d0887\"], [0.1111111111111111, \"#46039f\"], [0.2222222222222222, \"#7201a8\"], [0.3333333333333333, \"#9c179e\"], [0.4444444444444444, \"#bd3786\"], [0.5555555555555556, \"#d8576b\"], [0.6666666666666666, \"#ed7953\"], [0.7777777777777778, \"#fb9f3a\"], [0.8888888888888888, \"#fdca26\"], [1.0, \"#f0f921\"]], \"type\": \"histogram2dcontour\"}], \"mesh3d\": [{\"colorbar\": {\"outlinewidth\": 0, \"ticks\": \"\"}, \"type\": \"mesh3d\"}], \"parcoords\": [{\"line\": {\"colorbar\": {\"outlinewidth\": 0, \"ticks\": \"\"}}, \"type\": \"parcoords\"}], \"pie\": [{\"automargin\": true, \"type\": \"pie\"}], \"scatter\": [{\"marker\": {\"colorbar\": {\"outlinewidth\": 0, \"ticks\": \"\"}}, \"type\": \"scatter\"}], \"scatter3d\": [{\"line\": {\"colorbar\": {\"outlinewidth\": 0, \"ticks\": \"\"}}, \"marker\": {\"colorbar\": {\"outlinewidth\": 0, \"ticks\": \"\"}}, \"type\": \"scatter3d\"}], \"scattercarpet\": [{\"marker\": {\"colorbar\": {\"outlinewidth\": 0, \"ticks\": \"\"}}, \"type\": \"scattercarpet\"}], \"scattergeo\": [{\"marker\": {\"colorbar\": {\"outlinewidth\": 0, \"ticks\": \"\"}}, \"type\": \"scattergeo\"}], \"scattergl\": [{\"marker\": {\"colorbar\": {\"outlinewidth\": 0, \"ticks\": \"\"}}, \"type\": \"scattergl\"}], \"scattermapbox\": [{\"marker\": {\"colorbar\": {\"outlinewidth\": 0, \"ticks\": \"\"}}, \"type\": \"scattermapbox\"}], \"scatterpolar\": [{\"marker\": {\"colorbar\": {\"outlinewidth\": 0, \"ticks\": \"\"}}, \"type\": \"scatterpolar\"}], \"scatterpolargl\": [{\"marker\": {\"colorbar\": {\"outlinewidth\": 0, \"ticks\": \"\"}}, \"type\": \"scatterpolargl\"}], \"scatterternary\": [{\"marker\": {\"colorbar\": {\"outlinewidth\": 0, \"ticks\": \"\"}}, \"type\": \"scatterternary\"}], \"surface\": [{\"colorbar\": {\"outlinewidth\": 0, \"ticks\": \"\"}, \"colorscale\": [[0.0, \"#0d0887\"], [0.1111111111111111, \"#46039f\"], [0.2222222222222222, \"#7201a8\"], [0.3333333333333333, \"#9c179e\"], [0.4444444444444444, \"#bd3786\"], [0.5555555555555556, \"#d8576b\"], [0.6666666666666666, \"#ed7953\"], [0.7777777777777778, \"#fb9f3a\"], [0.8888888888888888, \"#fdca26\"], [1.0, \"#f0f921\"]], \"type\": \"surface\"}], \"table\": [{\"cells\": {\"fill\": {\"color\": \"#EBF0F8\"}, \"line\": {\"color\": \"white\"}}, \"header\": {\"fill\": {\"color\": \"#C8D4E3\"}, \"line\": {\"color\": \"white\"}}, \"type\": \"table\"}]}, \"layout\": {\"annotationdefaults\": {\"arrowcolor\": \"#2a3f5f\", \"arrowhead\": 0, \"arrowwidth\": 1}, \"autotypenumbers\": \"strict\", \"coloraxis\": {\"colorbar\": {\"outlinewidth\": 0, \"ticks\": \"\"}}, \"colorscale\": {\"diverging\": [[0, \"#8e0152\"], [0.1, \"#c51b7d\"], [0.2, \"#de77ae\"], [0.3, \"#f1b6da\"], [0.4, \"#fde0ef\"], [0.5, \"#f7f7f7\"], [0.6, \"#e6f5d0\"], [0.7, \"#b8e186\"], [0.8, \"#7fbc41\"], [0.9, \"#4d9221\"], [1, \"#276419\"]], \"sequential\": [[0.0, \"#0d0887\"], [0.1111111111111111, \"#46039f\"], [0.2222222222222222, \"#7201a8\"], [0.3333333333333333, \"#9c179e\"], [0.4444444444444444, \"#bd3786\"], [0.5555555555555556, \"#d8576b\"], [0.6666666666666666, \"#ed7953\"], [0.7777777777777778, \"#fb9f3a\"], [0.8888888888888888, \"#fdca26\"], [1.0, \"#f0f921\"]], \"sequentialminus\": [[0.0, \"#0d0887\"], [0.1111111111111111, \"#46039f\"], [0.2222222222222222, \"#7201a8\"], [0.3333333333333333, \"#9c179e\"], [0.4444444444444444, \"#bd3786\"], [0.5555555555555556, \"#d8576b\"], [0.6666666666666666, \"#ed7953\"], [0.7777777777777778, \"#fb9f3a\"], [0.8888888888888888, \"#fdca26\"], [1.0, \"#f0f921\"]]}, \"colorway\": [\"#636efa\", \"#EF553B\", \"#00cc96\", \"#ab63fa\", \"#FFA15A\", \"#19d3f3\", \"#FF6692\", \"#B6E880\", \"#FF97FF\", \"#FECB52\"], \"font\": {\"color\": \"#2a3f5f\"}, \"geo\": {\"bgcolor\": \"white\", \"lakecolor\": \"white\", \"landcolor\": \"#E5ECF6\", \"showlakes\": true, \"showland\": true, \"subunitcolor\": \"white\"}, \"hoverlabel\": {\"align\": \"left\"}, \"hovermode\": \"closest\", \"mapbox\": {\"style\": \"light\"}, \"paper_bgcolor\": \"white\", \"plot_bgcolor\": \"#E5ECF6\", \"polar\": {\"angularaxis\": {\"gridcolor\": \"white\", \"linecolor\": \"white\", \"ticks\": \"\"}, \"bgcolor\": \"#E5ECF6\", \"radialaxis\": {\"gridcolor\": \"white\", \"linecolor\": \"white\", \"ticks\": \"\"}}, \"scene\": {\"xaxis\": {\"backgroundcolor\": \"#E5ECF6\", \"gridcolor\": \"white\", \"gridwidth\": 2, \"linecolor\": \"white\", \"showbackground\": true, \"ticks\": \"\", \"zerolinecolor\": \"white\"}, \"yaxis\": {\"backgroundcolor\": \"#E5ECF6\", \"gridcolor\": \"white\", \"gridwidth\": 2, \"linecolor\": \"white\", \"showbackground\": true, \"ticks\": \"\", \"zerolinecolor\": \"white\"}, \"zaxis\": {\"backgroundcolor\": \"#E5ECF6\", \"gridcolor\": \"white\", \"gridwidth\": 2, \"linecolor\": \"white\", \"showbackground\": true, \"ticks\": \"\", \"zerolinecolor\": \"white\"}}, \"shapedefaults\": {\"line\": {\"color\": \"#2a3f5f\"}}, \"ternary\": {\"aaxis\": {\"gridcolor\": \"white\", \"linecolor\": \"white\", \"ticks\": \"\"}, \"baxis\": {\"gridcolor\": \"white\", \"linecolor\": \"white\", \"ticks\": \"\"}, \"bgcolor\": \"#E5ECF6\", \"caxis\": {\"gridcolor\": \"white\", \"linecolor\": \"white\", \"ticks\": \"\"}}, \"title\": {\"x\": 0.05}, \"xaxis\": {\"automargin\": true, \"gridcolor\": \"white\", \"linecolor\": \"white\", \"ticks\": \"\", \"title\": {\"standoff\": 15}, \"zerolinecolor\": \"white\", \"zerolinewidth\": 2}, \"yaxis\": {\"automargin\": true, \"gridcolor\": \"white\", \"linecolor\": \"white\", \"ticks\": \"\", \"title\": {\"standoff\": 15}, \"zerolinecolor\": \"white\", \"zerolinewidth\": 2}}}, \"title\": {\"font\": {\"color\": \"#4D5663\"}}, \"xaxis\": {\"gridcolor\": \"#E1E5ED\", \"showgrid\": true, \"tickfont\": {\"color\": \"#4D5663\"}, \"title\": {\"font\": {\"color\": \"#4D5663\"}, \"text\": \"\"}, \"zerolinecolor\": \"#E1E5ED\"}, \"yaxis\": {\"gridcolor\": \"#E1E5ED\", \"showgrid\": true, \"tickfont\": {\"color\": \"#4D5663\"}, \"title\": {\"font\": {\"color\": \"#4D5663\"}, \"text\": \"\"}, \"zerolinecolor\": \"#E1E5ED\"}},                        {\"showLink\": true, \"linkText\": \"Export to plot.ly\", \"plotlyServerURL\": \"https://plot.ly\", \"responsive\": true}                    ).then(function(){\n                            \nvar gd = document.getElementById('583156d8-59d4-4f25-b996-3f0fbc968a1e');\nvar x = new MutationObserver(function (mutations, observer) {{\n        var display = window.getComputedStyle(gd).display;\n        if (!display || display === 'none') {{\n            console.log([gd, 'removed!']);\n            Plotly.purge(gd);\n            observer.disconnect();\n        }}\n}});\n\n// Listen for the removal of the full notebook cells\nvar notebookContainer = gd.closest('#notebook-container');\nif (notebookContainer) {{\n    x.observe(notebookContainer, {childList: true});\n}}\n\n// Listen for the clearing of the current output cell\nvar outputEl = gd.closest('.output');\nif (outputEl) {{\n    x.observe(outputEl, {childList: true});\n}}\n\n                        })                };                });            </script>        </div>"
     },
     "metadata": {}
    }
   ],
   "source": [
    "df.iplot()"
   ]
  },
  {
   "cell_type": "code",
   "execution_count": 17,
   "metadata": {},
   "outputs": [
    {
     "output_type": "display_data",
     "data": {
      "application/vnd.plotly.v1+json": {
       "config": {
        "linkText": "Export to plot.ly",
        "plotlyServerURL": "https://plot.ly",
        "showLink": true
       },
       "data": [
        {
         "line": {
          "color": "rgba(255, 153, 51, 1.0)",
          "dash": "solid",
          "shape": "linear",
          "width": 1.3
         },
         "marker": {
          "size": 20,
          "symbol": "circle"
         },
         "mode": "markers",
         "name": "B",
         "text": "",
         "type": "scatter",
         "x": [
          -1.286783666232087,
          0.7107277470430434,
          1.2206576987234354,
          2.670689230942479,
          -0.868396268279137,
          -0.7702505222952278,
          0.836826113651275,
          -1.310807545006144,
          -1.1454772976981726,
          -1.205923510011141,
          0.39104120063317915,
          1.480064786672829,
          -0.4371817585516773,
          0.31244387330147083,
          0.9522665120953734,
          -0.9064855359217587,
          0.15128185004249292,
          0.15061151479926002,
          0.2932767331797624,
          0.07523964284633954,
          0.29022474193827164,
          -0.15511464338925918,
          0.6235611994075417,
          0.385198796402805,
          -1.23041158492017,
          0.4146485818376867,
          1.3453276550476518,
          2.2200082297196575,
          0.4843022625460223,
          -0.9052875932660301,
          -1.2911658251962215,
          1.2239386431635257,
          0.5800060939722871,
          0.29463938749835283,
          -0.5274632830251935,
          -0.7462578578754884,
          1.692027647166309,
          -0.09695059770969566,
          0.4881840463183823,
          -0.025688346575201363,
          -1.3490757613768838,
          -0.39677880092704315,
          0.35675258383857994,
          -0.5443711678860995,
          -0.4195900621836775,
          0.6447505960385553,
          -1.0972813689106393,
          -0.07544670673084743,
          -1.680269752499829,
          0.5777182254380486,
          0.8773588872922171,
          -1.2744428237723746,
          0.4707650176747216,
          0.184743927621629,
          1.502286572568263,
          -0.047755807588705734,
          0.12565047824483858,
          -2.8697574169274644,
          -1.7358225932178784,
          -0.6272506704206392,
          -1.4433597294484304,
          2.4317752497855403,
          -1.4322358810549674,
          0.5091222176333856,
          -2.303424236839607,
          1.5614540931799474,
          1.755253217137435,
          -0.8962401197499275,
          0.6858890477096122,
          0.45111826271025357,
          0.3732627172869396,
          -0.11404699509388187,
          0.505163811090925,
          0.9893247964708458,
          1.6802152688092455,
          0.3775054456483596,
          0.5960017865897772,
          1.0021193126559254,
          -0.38771902641273304,
          0.7260151830561632,
          -0.5736145908308646,
          0.5696440774836763,
          -0.08440931256891603,
          1.7580084477921427,
          -0.9032392980072976,
          -1.702458506342066,
          -0.3268225203948594,
          0.24042744103696015,
          0.3251828854999993,
          -0.03164848102043208,
          1.1673040608017295,
          -0.5431973031609296,
          -1.9466362146927483,
          -0.0069860880888541945,
          1.99068233702783,
          -0.048360909178754935,
          0.4008717221536024,
          0.26080632462817355,
          -0.31858331702889736,
          -0.071197295683597
         ],
         "y": [
          -1.2436419169159714,
          1.5692860019949753,
          -0.26671888492952217,
          0.2815640316896209,
          1.365892470714254,
          -1.0966017811139082,
          -1.7501437821712431,
          -1.819809038953777,
          0.3286795501646575,
          0.420218601730475,
          -0.4526951755973082,
          0.6428374710337051,
          -0.32814944019105596,
          1.9532810324072836,
          -0.8371761679909756,
          -1.50915051301245,
          -0.11553875435854695,
          -0.19808858021679637,
          0.08189178164630723,
          -1.1690479593556529,
          0.5426510623353725,
          -1.569302061901453,
          2.2472868053504014,
          -0.13122045124668472,
          -0.03454840736457979,
          0.004013916643951113,
          0.9156650742937736,
          -1.5630225390944321,
          -0.8692580183140872,
          0.7776652874301425,
          0.37059975574200205,
          -0.9999879818086167,
          0.6016464734009461,
          0.05210885734734563,
          0.10876319643384028,
          0.07223691516760487,
          -0.488979327879292,
          -1.2474974282935567,
          0.30088905771553354,
          0.8931102695066149,
          0.6345013410633477,
          -0.08705043588611751,
          -0.41296039681387836,
          1.6468689809139507,
          -1.2191028264563968,
          0.06846210845743836,
          1.0803348505760164,
          0.3663395830326163,
          -0.3837984909897694,
          -1.7462365995629416,
          0.9324003722594186,
          -0.3038268359150439,
          -0.8786412238263824,
          -1.419891446791575,
          2.163490032952582,
          -0.8058230604185269,
          0.10256406153351981,
          1.1139069699129942,
          0.49417906199734707,
          0.8760823766737829,
          -0.8948518726206427,
          -1.335563279231745,
          -0.27351425817938646,
          -1.6530349045940977,
          0.7796901069802878,
          0.3178371041948017,
          -0.5673257372555445,
          -0.36103792983823196,
          -0.17726997277506898,
          0.24843619696647495,
          -0.05052867323180514,
          -0.4471599049358513,
          -0.21938709534885703,
          -0.39712704411222405,
          1.6087610337457163,
          -0.43113504250683504,
          0.0018928069012562722,
          -0.9713837764015597,
          -0.9711257871443403,
          -1.201135432974757,
          0.6213409054564155,
          -0.3869811372641256,
          -0.2788357101710152,
          -0.20400907384209452,
          1.011917828496073,
          -0.8505328360888009,
          0.2379108955912931,
          0.4591865745990066,
          0.448859440096995,
          0.16970947821971874,
          3.070837746893535,
          0.6488164419269693,
          1.4007575897732754,
          0.17720275317090023,
          -1.0289729246587451,
          0.14937788270135635,
          -1.1679017277463055,
          0.9170428574901506,
          0.5245942932387379,
          -1.2885764393890806
         ]
        }
       ],
       "layout": {
        "legend": {
         "bgcolor": "#F5F6F9",
         "font": {
          "color": "#4D5663"
         }
        },
        "paper_bgcolor": "#F5F6F9",
        "plot_bgcolor": "#F5F6F9",
        "template": {
         "data": {
          "bar": [
           {
            "error_x": {
             "color": "#2a3f5f"
            },
            "error_y": {
             "color": "#2a3f5f"
            },
            "marker": {
             "line": {
              "color": "#E5ECF6",
              "width": 0.5
             }
            },
            "type": "bar"
           }
          ],
          "barpolar": [
           {
            "marker": {
             "line": {
              "color": "#E5ECF6",
              "width": 0.5
             }
            },
            "type": "barpolar"
           }
          ],
          "carpet": [
           {
            "aaxis": {
             "endlinecolor": "#2a3f5f",
             "gridcolor": "white",
             "linecolor": "white",
             "minorgridcolor": "white",
             "startlinecolor": "#2a3f5f"
            },
            "baxis": {
             "endlinecolor": "#2a3f5f",
             "gridcolor": "white",
             "linecolor": "white",
             "minorgridcolor": "white",
             "startlinecolor": "#2a3f5f"
            },
            "type": "carpet"
           }
          ],
          "choropleth": [
           {
            "colorbar": {
             "outlinewidth": 0,
             "ticks": ""
            },
            "type": "choropleth"
           }
          ],
          "contour": [
           {
            "colorbar": {
             "outlinewidth": 0,
             "ticks": ""
            },
            "colorscale": [
             [
              0,
              "#0d0887"
             ],
             [
              0.1111111111111111,
              "#46039f"
             ],
             [
              0.2222222222222222,
              "#7201a8"
             ],
             [
              0.3333333333333333,
              "#9c179e"
             ],
             [
              0.4444444444444444,
              "#bd3786"
             ],
             [
              0.5555555555555556,
              "#d8576b"
             ],
             [
              0.6666666666666666,
              "#ed7953"
             ],
             [
              0.7777777777777778,
              "#fb9f3a"
             ],
             [
              0.8888888888888888,
              "#fdca26"
             ],
             [
              1,
              "#f0f921"
             ]
            ],
            "type": "contour"
           }
          ],
          "contourcarpet": [
           {
            "colorbar": {
             "outlinewidth": 0,
             "ticks": ""
            },
            "type": "contourcarpet"
           }
          ],
          "heatmap": [
           {
            "colorbar": {
             "outlinewidth": 0,
             "ticks": ""
            },
            "colorscale": [
             [
              0,
              "#0d0887"
             ],
             [
              0.1111111111111111,
              "#46039f"
             ],
             [
              0.2222222222222222,
              "#7201a8"
             ],
             [
              0.3333333333333333,
              "#9c179e"
             ],
             [
              0.4444444444444444,
              "#bd3786"
             ],
             [
              0.5555555555555556,
              "#d8576b"
             ],
             [
              0.6666666666666666,
              "#ed7953"
             ],
             [
              0.7777777777777778,
              "#fb9f3a"
             ],
             [
              0.8888888888888888,
              "#fdca26"
             ],
             [
              1,
              "#f0f921"
             ]
            ],
            "type": "heatmap"
           }
          ],
          "heatmapgl": [
           {
            "colorbar": {
             "outlinewidth": 0,
             "ticks": ""
            },
            "colorscale": [
             [
              0,
              "#0d0887"
             ],
             [
              0.1111111111111111,
              "#46039f"
             ],
             [
              0.2222222222222222,
              "#7201a8"
             ],
             [
              0.3333333333333333,
              "#9c179e"
             ],
             [
              0.4444444444444444,
              "#bd3786"
             ],
             [
              0.5555555555555556,
              "#d8576b"
             ],
             [
              0.6666666666666666,
              "#ed7953"
             ],
             [
              0.7777777777777778,
              "#fb9f3a"
             ],
             [
              0.8888888888888888,
              "#fdca26"
             ],
             [
              1,
              "#f0f921"
             ]
            ],
            "type": "heatmapgl"
           }
          ],
          "histogram": [
           {
            "marker": {
             "colorbar": {
              "outlinewidth": 0,
              "ticks": ""
             }
            },
            "type": "histogram"
           }
          ],
          "histogram2d": [
           {
            "colorbar": {
             "outlinewidth": 0,
             "ticks": ""
            },
            "colorscale": [
             [
              0,
              "#0d0887"
             ],
             [
              0.1111111111111111,
              "#46039f"
             ],
             [
              0.2222222222222222,
              "#7201a8"
             ],
             [
              0.3333333333333333,
              "#9c179e"
             ],
             [
              0.4444444444444444,
              "#bd3786"
             ],
             [
              0.5555555555555556,
              "#d8576b"
             ],
             [
              0.6666666666666666,
              "#ed7953"
             ],
             [
              0.7777777777777778,
              "#fb9f3a"
             ],
             [
              0.8888888888888888,
              "#fdca26"
             ],
             [
              1,
              "#f0f921"
             ]
            ],
            "type": "histogram2d"
           }
          ],
          "histogram2dcontour": [
           {
            "colorbar": {
             "outlinewidth": 0,
             "ticks": ""
            },
            "colorscale": [
             [
              0,
              "#0d0887"
             ],
             [
              0.1111111111111111,
              "#46039f"
             ],
             [
              0.2222222222222222,
              "#7201a8"
             ],
             [
              0.3333333333333333,
              "#9c179e"
             ],
             [
              0.4444444444444444,
              "#bd3786"
             ],
             [
              0.5555555555555556,
              "#d8576b"
             ],
             [
              0.6666666666666666,
              "#ed7953"
             ],
             [
              0.7777777777777778,
              "#fb9f3a"
             ],
             [
              0.8888888888888888,
              "#fdca26"
             ],
             [
              1,
              "#f0f921"
             ]
            ],
            "type": "histogram2dcontour"
           }
          ],
          "mesh3d": [
           {
            "colorbar": {
             "outlinewidth": 0,
             "ticks": ""
            },
            "type": "mesh3d"
           }
          ],
          "parcoords": [
           {
            "line": {
             "colorbar": {
              "outlinewidth": 0,
              "ticks": ""
             }
            },
            "type": "parcoords"
           }
          ],
          "pie": [
           {
            "automargin": true,
            "type": "pie"
           }
          ],
          "scatter": [
           {
            "marker": {
             "colorbar": {
              "outlinewidth": 0,
              "ticks": ""
             }
            },
            "type": "scatter"
           }
          ],
          "scatter3d": [
           {
            "line": {
             "colorbar": {
              "outlinewidth": 0,
              "ticks": ""
             }
            },
            "marker": {
             "colorbar": {
              "outlinewidth": 0,
              "ticks": ""
             }
            },
            "type": "scatter3d"
           }
          ],
          "scattercarpet": [
           {
            "marker": {
             "colorbar": {
              "outlinewidth": 0,
              "ticks": ""
             }
            },
            "type": "scattercarpet"
           }
          ],
          "scattergeo": [
           {
            "marker": {
             "colorbar": {
              "outlinewidth": 0,
              "ticks": ""
             }
            },
            "type": "scattergeo"
           }
          ],
          "scattergl": [
           {
            "marker": {
             "colorbar": {
              "outlinewidth": 0,
              "ticks": ""
             }
            },
            "type": "scattergl"
           }
          ],
          "scattermapbox": [
           {
            "marker": {
             "colorbar": {
              "outlinewidth": 0,
              "ticks": ""
             }
            },
            "type": "scattermapbox"
           }
          ],
          "scatterpolar": [
           {
            "marker": {
             "colorbar": {
              "outlinewidth": 0,
              "ticks": ""
             }
            },
            "type": "scatterpolar"
           }
          ],
          "scatterpolargl": [
           {
            "marker": {
             "colorbar": {
              "outlinewidth": 0,
              "ticks": ""
             }
            },
            "type": "scatterpolargl"
           }
          ],
          "scatterternary": [
           {
            "marker": {
             "colorbar": {
              "outlinewidth": 0,
              "ticks": ""
             }
            },
            "type": "scatterternary"
           }
          ],
          "surface": [
           {
            "colorbar": {
             "outlinewidth": 0,
             "ticks": ""
            },
            "colorscale": [
             [
              0,
              "#0d0887"
             ],
             [
              0.1111111111111111,
              "#46039f"
             ],
             [
              0.2222222222222222,
              "#7201a8"
             ],
             [
              0.3333333333333333,
              "#9c179e"
             ],
             [
              0.4444444444444444,
              "#bd3786"
             ],
             [
              0.5555555555555556,
              "#d8576b"
             ],
             [
              0.6666666666666666,
              "#ed7953"
             ],
             [
              0.7777777777777778,
              "#fb9f3a"
             ],
             [
              0.8888888888888888,
              "#fdca26"
             ],
             [
              1,
              "#f0f921"
             ]
            ],
            "type": "surface"
           }
          ],
          "table": [
           {
            "cells": {
             "fill": {
              "color": "#EBF0F8"
             },
             "line": {
              "color": "white"
             }
            },
            "header": {
             "fill": {
              "color": "#C8D4E3"
             },
             "line": {
              "color": "white"
             }
            },
            "type": "table"
           }
          ]
         },
         "layout": {
          "annotationdefaults": {
           "arrowcolor": "#2a3f5f",
           "arrowhead": 0,
           "arrowwidth": 1
          },
          "autotypenumbers": "strict",
          "coloraxis": {
           "colorbar": {
            "outlinewidth": 0,
            "ticks": ""
           }
          },
          "colorscale": {
           "diverging": [
            [
             0,
             "#8e0152"
            ],
            [
             0.1,
             "#c51b7d"
            ],
            [
             0.2,
             "#de77ae"
            ],
            [
             0.3,
             "#f1b6da"
            ],
            [
             0.4,
             "#fde0ef"
            ],
            [
             0.5,
             "#f7f7f7"
            ],
            [
             0.6,
             "#e6f5d0"
            ],
            [
             0.7,
             "#b8e186"
            ],
            [
             0.8,
             "#7fbc41"
            ],
            [
             0.9,
             "#4d9221"
            ],
            [
             1,
             "#276419"
            ]
           ],
           "sequential": [
            [
             0,
             "#0d0887"
            ],
            [
             0.1111111111111111,
             "#46039f"
            ],
            [
             0.2222222222222222,
             "#7201a8"
            ],
            [
             0.3333333333333333,
             "#9c179e"
            ],
            [
             0.4444444444444444,
             "#bd3786"
            ],
            [
             0.5555555555555556,
             "#d8576b"
            ],
            [
             0.6666666666666666,
             "#ed7953"
            ],
            [
             0.7777777777777778,
             "#fb9f3a"
            ],
            [
             0.8888888888888888,
             "#fdca26"
            ],
            [
             1,
             "#f0f921"
            ]
           ],
           "sequentialminus": [
            [
             0,
             "#0d0887"
            ],
            [
             0.1111111111111111,
             "#46039f"
            ],
            [
             0.2222222222222222,
             "#7201a8"
            ],
            [
             0.3333333333333333,
             "#9c179e"
            ],
            [
             0.4444444444444444,
             "#bd3786"
            ],
            [
             0.5555555555555556,
             "#d8576b"
            ],
            [
             0.6666666666666666,
             "#ed7953"
            ],
            [
             0.7777777777777778,
             "#fb9f3a"
            ],
            [
             0.8888888888888888,
             "#fdca26"
            ],
            [
             1,
             "#f0f921"
            ]
           ]
          },
          "colorway": [
           "#636efa",
           "#EF553B",
           "#00cc96",
           "#ab63fa",
           "#FFA15A",
           "#19d3f3",
           "#FF6692",
           "#B6E880",
           "#FF97FF",
           "#FECB52"
          ],
          "font": {
           "color": "#2a3f5f"
          },
          "geo": {
           "bgcolor": "white",
           "lakecolor": "white",
           "landcolor": "#E5ECF6",
           "showlakes": true,
           "showland": true,
           "subunitcolor": "white"
          },
          "hoverlabel": {
           "align": "left"
          },
          "hovermode": "closest",
          "mapbox": {
           "style": "light"
          },
          "paper_bgcolor": "white",
          "plot_bgcolor": "#E5ECF6",
          "polar": {
           "angularaxis": {
            "gridcolor": "white",
            "linecolor": "white",
            "ticks": ""
           },
           "bgcolor": "#E5ECF6",
           "radialaxis": {
            "gridcolor": "white",
            "linecolor": "white",
            "ticks": ""
           }
          },
          "scene": {
           "xaxis": {
            "backgroundcolor": "#E5ECF6",
            "gridcolor": "white",
            "gridwidth": 2,
            "linecolor": "white",
            "showbackground": true,
            "ticks": "",
            "zerolinecolor": "white"
           },
           "yaxis": {
            "backgroundcolor": "#E5ECF6",
            "gridcolor": "white",
            "gridwidth": 2,
            "linecolor": "white",
            "showbackground": true,
            "ticks": "",
            "zerolinecolor": "white"
           },
           "zaxis": {
            "backgroundcolor": "#E5ECF6",
            "gridcolor": "white",
            "gridwidth": 2,
            "linecolor": "white",
            "showbackground": true,
            "ticks": "",
            "zerolinecolor": "white"
           }
          },
          "shapedefaults": {
           "line": {
            "color": "#2a3f5f"
           }
          },
          "ternary": {
           "aaxis": {
            "gridcolor": "white",
            "linecolor": "white",
            "ticks": ""
           },
           "baxis": {
            "gridcolor": "white",
            "linecolor": "white",
            "ticks": ""
           },
           "bgcolor": "#E5ECF6",
           "caxis": {
            "gridcolor": "white",
            "linecolor": "white",
            "ticks": ""
           }
          },
          "title": {
           "x": 0.05
          },
          "xaxis": {
           "automargin": true,
           "gridcolor": "white",
           "linecolor": "white",
           "ticks": "",
           "title": {
            "standoff": 15
           },
           "zerolinecolor": "white",
           "zerolinewidth": 2
          },
          "yaxis": {
           "automargin": true,
           "gridcolor": "white",
           "linecolor": "white",
           "ticks": "",
           "title": {
            "standoff": 15
           },
           "zerolinecolor": "white",
           "zerolinewidth": 2
          }
         }
        },
        "title": {
         "font": {
          "color": "#4D5663"
         }
        },
        "xaxis": {
         "gridcolor": "#E1E5ED",
         "showgrid": true,
         "tickfont": {
          "color": "#4D5663"
         },
         "title": {
          "font": {
           "color": "#4D5663"
          },
          "text": ""
         },
         "zerolinecolor": "#E1E5ED"
        },
        "yaxis": {
         "gridcolor": "#E1E5ED",
         "showgrid": true,
         "tickfont": {
          "color": "#4D5663"
         },
         "title": {
          "font": {
           "color": "#4D5663"
          },
          "text": ""
         },
         "zerolinecolor": "#E1E5ED"
        }
       }
      },
      "text/html": "<div>                            <div id=\"ab9369b4-2222-4f02-b9f9-f88771c110af\" class=\"plotly-graph-div\" style=\"height:525px; width:100%;\"></div>            <script type=\"text/javascript\">                require([\"plotly\"], function(Plotly) {                    window.PLOTLYENV=window.PLOTLYENV || {};\n                    window.PLOTLYENV.BASE_URL='https://plot.ly';                                    if (document.getElementById(\"ab9369b4-2222-4f02-b9f9-f88771c110af\")) {                    Plotly.newPlot(                        \"ab9369b4-2222-4f02-b9f9-f88771c110af\",                        [{\"line\": {\"color\": \"rgba(255, 153, 51, 1.0)\", \"dash\": \"solid\", \"shape\": \"linear\", \"width\": 1.3}, \"marker\": {\"size\": 20, \"symbol\": \"circle\"}, \"mode\": \"markers\", \"name\": \"B\", \"text\": \"\", \"type\": \"scatter\", \"x\": [-1.286783666232087, 0.7107277470430434, 1.2206576987234354, 2.670689230942479, -0.868396268279137, -0.7702505222952278, 0.836826113651275, -1.310807545006144, -1.1454772976981726, -1.205923510011141, 0.39104120063317915, 1.480064786672829, -0.4371817585516773, 0.31244387330147083, 0.9522665120953734, -0.9064855359217587, 0.15128185004249292, 0.15061151479926002, 0.2932767331797624, 0.07523964284633954, 0.29022474193827164, -0.15511464338925918, 0.6235611994075417, 0.385198796402805, -1.23041158492017, 0.4146485818376867, 1.3453276550476518, 2.2200082297196575, 0.4843022625460223, -0.9052875932660301, -1.2911658251962215, 1.2239386431635257, 0.5800060939722871, 0.29463938749835283, -0.5274632830251935, -0.7462578578754884, 1.692027647166309, -0.09695059770969566, 0.4881840463183823, -0.025688346575201363, -1.3490757613768838, -0.39677880092704315, 0.35675258383857994, -0.5443711678860995, -0.4195900621836775, 0.6447505960385553, -1.0972813689106393, -0.07544670673084743, -1.680269752499829, 0.5777182254380486, 0.8773588872922171, -1.2744428237723746, 0.4707650176747216, 0.184743927621629, 1.502286572568263, -0.047755807588705734, 0.12565047824483858, -2.8697574169274644, -1.7358225932178784, -0.6272506704206392, -1.4433597294484304, 2.4317752497855403, -1.4322358810549674, 0.5091222176333856, -2.303424236839607, 1.5614540931799474, 1.755253217137435, -0.8962401197499275, 0.6858890477096122, 0.45111826271025357, 0.3732627172869396, -0.11404699509388187, 0.505163811090925, 0.9893247964708458, 1.6802152688092455, 0.3775054456483596, 0.5960017865897772, 1.0021193126559254, -0.38771902641273304, 0.7260151830561632, -0.5736145908308646, 0.5696440774836763, -0.08440931256891603, 1.7580084477921427, -0.9032392980072976, -1.702458506342066, -0.3268225203948594, 0.24042744103696015, 0.3251828854999993, -0.03164848102043208, 1.1673040608017295, -0.5431973031609296, -1.9466362146927483, -0.0069860880888541945, 1.99068233702783, -0.048360909178754935, 0.4008717221536024, 0.26080632462817355, -0.31858331702889736, -0.071197295683597], \"y\": [-1.2436419169159714, 1.5692860019949753, -0.26671888492952217, 0.2815640316896209, 1.365892470714254, -1.0966017811139082, -1.7501437821712431, -1.819809038953777, 0.3286795501646575, 0.420218601730475, -0.4526951755973082, 0.6428374710337051, -0.32814944019105596, 1.9532810324072836, -0.8371761679909756, -1.50915051301245, -0.11553875435854695, -0.19808858021679637, 0.08189178164630723, -1.1690479593556529, 0.5426510623353725, -1.569302061901453, 2.2472868053504014, -0.13122045124668472, -0.03454840736457979, 0.004013916643951113, 0.9156650742937736, -1.5630225390944321, -0.8692580183140872, 0.7776652874301425, 0.37059975574200205, -0.9999879818086167, 0.6016464734009461, 0.05210885734734563, 0.10876319643384028, 0.07223691516760487, -0.488979327879292, -1.2474974282935567, 0.30088905771553354, 0.8931102695066149, 0.6345013410633477, -0.08705043588611751, -0.41296039681387836, 1.6468689809139507, -1.2191028264563968, 0.06846210845743836, 1.0803348505760164, 0.3663395830326163, -0.3837984909897694, -1.7462365995629416, 0.9324003722594186, -0.3038268359150439, -0.8786412238263824, -1.419891446791575, 2.163490032952582, -0.8058230604185269, 0.10256406153351981, 1.1139069699129942, 0.49417906199734707, 0.8760823766737829, -0.8948518726206427, -1.335563279231745, -0.27351425817938646, -1.6530349045940977, 0.7796901069802878, 0.3178371041948017, -0.5673257372555445, -0.36103792983823196, -0.17726997277506898, 0.24843619696647495, -0.05052867323180514, -0.4471599049358513, -0.21938709534885703, -0.39712704411222405, 1.6087610337457163, -0.43113504250683504, 0.0018928069012562722, -0.9713837764015597, -0.9711257871443403, -1.201135432974757, 0.6213409054564155, -0.3869811372641256, -0.2788357101710152, -0.20400907384209452, 1.011917828496073, -0.8505328360888009, 0.2379108955912931, 0.4591865745990066, 0.448859440096995, 0.16970947821971874, 3.070837746893535, 0.6488164419269693, 1.4007575897732754, 0.17720275317090023, -1.0289729246587451, 0.14937788270135635, -1.1679017277463055, 0.9170428574901506, 0.5245942932387379, -1.2885764393890806]}],                        {\"legend\": {\"bgcolor\": \"#F5F6F9\", \"font\": {\"color\": \"#4D5663\"}}, \"paper_bgcolor\": \"#F5F6F9\", \"plot_bgcolor\": \"#F5F6F9\", \"template\": {\"data\": {\"bar\": [{\"error_x\": {\"color\": \"#2a3f5f\"}, \"error_y\": {\"color\": \"#2a3f5f\"}, \"marker\": {\"line\": {\"color\": \"#E5ECF6\", \"width\": 0.5}}, \"type\": \"bar\"}], \"barpolar\": [{\"marker\": {\"line\": {\"color\": \"#E5ECF6\", \"width\": 0.5}}, \"type\": \"barpolar\"}], \"carpet\": [{\"aaxis\": {\"endlinecolor\": \"#2a3f5f\", \"gridcolor\": \"white\", \"linecolor\": \"white\", \"minorgridcolor\": \"white\", \"startlinecolor\": \"#2a3f5f\"}, \"baxis\": {\"endlinecolor\": \"#2a3f5f\", \"gridcolor\": \"white\", \"linecolor\": \"white\", \"minorgridcolor\": \"white\", \"startlinecolor\": \"#2a3f5f\"}, \"type\": \"carpet\"}], \"choropleth\": [{\"colorbar\": {\"outlinewidth\": 0, \"ticks\": \"\"}, \"type\": \"choropleth\"}], \"contour\": [{\"colorbar\": {\"outlinewidth\": 0, \"ticks\": \"\"}, \"colorscale\": [[0.0, \"#0d0887\"], [0.1111111111111111, \"#46039f\"], [0.2222222222222222, \"#7201a8\"], [0.3333333333333333, \"#9c179e\"], [0.4444444444444444, \"#bd3786\"], [0.5555555555555556, \"#d8576b\"], [0.6666666666666666, \"#ed7953\"], [0.7777777777777778, \"#fb9f3a\"], [0.8888888888888888, \"#fdca26\"], [1.0, \"#f0f921\"]], \"type\": \"contour\"}], \"contourcarpet\": [{\"colorbar\": {\"outlinewidth\": 0, \"ticks\": \"\"}, \"type\": \"contourcarpet\"}], \"heatmap\": [{\"colorbar\": {\"outlinewidth\": 0, \"ticks\": \"\"}, \"colorscale\": [[0.0, \"#0d0887\"], [0.1111111111111111, \"#46039f\"], [0.2222222222222222, \"#7201a8\"], [0.3333333333333333, \"#9c179e\"], [0.4444444444444444, \"#bd3786\"], [0.5555555555555556, \"#d8576b\"], [0.6666666666666666, \"#ed7953\"], [0.7777777777777778, \"#fb9f3a\"], [0.8888888888888888, \"#fdca26\"], [1.0, \"#f0f921\"]], \"type\": \"heatmap\"}], \"heatmapgl\": [{\"colorbar\": {\"outlinewidth\": 0, \"ticks\": \"\"}, \"colorscale\": [[0.0, \"#0d0887\"], [0.1111111111111111, \"#46039f\"], [0.2222222222222222, \"#7201a8\"], [0.3333333333333333, \"#9c179e\"], [0.4444444444444444, \"#bd3786\"], [0.5555555555555556, \"#d8576b\"], [0.6666666666666666, \"#ed7953\"], [0.7777777777777778, \"#fb9f3a\"], [0.8888888888888888, \"#fdca26\"], [1.0, \"#f0f921\"]], \"type\": \"heatmapgl\"}], \"histogram\": [{\"marker\": {\"colorbar\": {\"outlinewidth\": 0, \"ticks\": \"\"}}, \"type\": \"histogram\"}], \"histogram2d\": [{\"colorbar\": {\"outlinewidth\": 0, \"ticks\": \"\"}, \"colorscale\": [[0.0, \"#0d0887\"], [0.1111111111111111, \"#46039f\"], [0.2222222222222222, \"#7201a8\"], [0.3333333333333333, \"#9c179e\"], [0.4444444444444444, \"#bd3786\"], [0.5555555555555556, \"#d8576b\"], [0.6666666666666666, \"#ed7953\"], [0.7777777777777778, \"#fb9f3a\"], [0.8888888888888888, \"#fdca26\"], [1.0, \"#f0f921\"]], \"type\": \"histogram2d\"}], \"histogram2dcontour\": [{\"colorbar\": {\"outlinewidth\": 0, \"ticks\": \"\"}, \"colorscale\": [[0.0, \"#0d0887\"], [0.1111111111111111, \"#46039f\"], [0.2222222222222222, \"#7201a8\"], [0.3333333333333333, \"#9c179e\"], [0.4444444444444444, \"#bd3786\"], [0.5555555555555556, \"#d8576b\"], [0.6666666666666666, \"#ed7953\"], [0.7777777777777778, \"#fb9f3a\"], [0.8888888888888888, \"#fdca26\"], [1.0, \"#f0f921\"]], \"type\": \"histogram2dcontour\"}], \"mesh3d\": [{\"colorbar\": {\"outlinewidth\": 0, \"ticks\": \"\"}, \"type\": \"mesh3d\"}], \"parcoords\": [{\"line\": {\"colorbar\": {\"outlinewidth\": 0, \"ticks\": \"\"}}, \"type\": \"parcoords\"}], \"pie\": [{\"automargin\": true, \"type\": \"pie\"}], \"scatter\": [{\"marker\": {\"colorbar\": {\"outlinewidth\": 0, \"ticks\": \"\"}}, \"type\": \"scatter\"}], \"scatter3d\": [{\"line\": {\"colorbar\": {\"outlinewidth\": 0, \"ticks\": \"\"}}, \"marker\": {\"colorbar\": {\"outlinewidth\": 0, \"ticks\": \"\"}}, \"type\": \"scatter3d\"}], \"scattercarpet\": [{\"marker\": {\"colorbar\": {\"outlinewidth\": 0, \"ticks\": \"\"}}, \"type\": \"scattercarpet\"}], \"scattergeo\": [{\"marker\": {\"colorbar\": {\"outlinewidth\": 0, \"ticks\": \"\"}}, \"type\": \"scattergeo\"}], \"scattergl\": [{\"marker\": {\"colorbar\": {\"outlinewidth\": 0, \"ticks\": \"\"}}, \"type\": \"scattergl\"}], \"scattermapbox\": [{\"marker\": {\"colorbar\": {\"outlinewidth\": 0, \"ticks\": \"\"}}, \"type\": \"scattermapbox\"}], \"scatterpolar\": [{\"marker\": {\"colorbar\": {\"outlinewidth\": 0, \"ticks\": \"\"}}, \"type\": \"scatterpolar\"}], \"scatterpolargl\": [{\"marker\": {\"colorbar\": {\"outlinewidth\": 0, \"ticks\": \"\"}}, \"type\": \"scatterpolargl\"}], \"scatterternary\": [{\"marker\": {\"colorbar\": {\"outlinewidth\": 0, \"ticks\": \"\"}}, \"type\": \"scatterternary\"}], \"surface\": [{\"colorbar\": {\"outlinewidth\": 0, \"ticks\": \"\"}, \"colorscale\": [[0.0, \"#0d0887\"], [0.1111111111111111, \"#46039f\"], [0.2222222222222222, \"#7201a8\"], [0.3333333333333333, \"#9c179e\"], [0.4444444444444444, \"#bd3786\"], [0.5555555555555556, \"#d8576b\"], [0.6666666666666666, \"#ed7953\"], [0.7777777777777778, \"#fb9f3a\"], [0.8888888888888888, \"#fdca26\"], [1.0, \"#f0f921\"]], \"type\": \"surface\"}], \"table\": [{\"cells\": {\"fill\": {\"color\": \"#EBF0F8\"}, \"line\": {\"color\": \"white\"}}, \"header\": {\"fill\": {\"color\": \"#C8D4E3\"}, \"line\": {\"color\": \"white\"}}, \"type\": \"table\"}]}, \"layout\": {\"annotationdefaults\": {\"arrowcolor\": \"#2a3f5f\", \"arrowhead\": 0, \"arrowwidth\": 1}, \"autotypenumbers\": \"strict\", \"coloraxis\": {\"colorbar\": {\"outlinewidth\": 0, \"ticks\": \"\"}}, \"colorscale\": {\"diverging\": [[0, \"#8e0152\"], [0.1, \"#c51b7d\"], [0.2, \"#de77ae\"], [0.3, \"#f1b6da\"], [0.4, \"#fde0ef\"], [0.5, \"#f7f7f7\"], [0.6, \"#e6f5d0\"], [0.7, \"#b8e186\"], [0.8, \"#7fbc41\"], [0.9, \"#4d9221\"], [1, \"#276419\"]], \"sequential\": [[0.0, \"#0d0887\"], [0.1111111111111111, \"#46039f\"], [0.2222222222222222, \"#7201a8\"], [0.3333333333333333, \"#9c179e\"], [0.4444444444444444, \"#bd3786\"], [0.5555555555555556, \"#d8576b\"], [0.6666666666666666, \"#ed7953\"], [0.7777777777777778, \"#fb9f3a\"], [0.8888888888888888, \"#fdca26\"], [1.0, \"#f0f921\"]], \"sequentialminus\": [[0.0, \"#0d0887\"], [0.1111111111111111, \"#46039f\"], [0.2222222222222222, \"#7201a8\"], [0.3333333333333333, \"#9c179e\"], [0.4444444444444444, \"#bd3786\"], [0.5555555555555556, \"#d8576b\"], [0.6666666666666666, \"#ed7953\"], [0.7777777777777778, \"#fb9f3a\"], [0.8888888888888888, \"#fdca26\"], [1.0, \"#f0f921\"]]}, \"colorway\": [\"#636efa\", \"#EF553B\", \"#00cc96\", \"#ab63fa\", \"#FFA15A\", \"#19d3f3\", \"#FF6692\", \"#B6E880\", \"#FF97FF\", \"#FECB52\"], \"font\": {\"color\": \"#2a3f5f\"}, \"geo\": {\"bgcolor\": \"white\", \"lakecolor\": \"white\", \"landcolor\": \"#E5ECF6\", \"showlakes\": true, \"showland\": true, \"subunitcolor\": \"white\"}, \"hoverlabel\": {\"align\": \"left\"}, \"hovermode\": \"closest\", \"mapbox\": {\"style\": \"light\"}, \"paper_bgcolor\": \"white\", \"plot_bgcolor\": \"#E5ECF6\", \"polar\": {\"angularaxis\": {\"gridcolor\": \"white\", \"linecolor\": \"white\", \"ticks\": \"\"}, \"bgcolor\": \"#E5ECF6\", \"radialaxis\": {\"gridcolor\": \"white\", \"linecolor\": \"white\", \"ticks\": \"\"}}, \"scene\": {\"xaxis\": {\"backgroundcolor\": \"#E5ECF6\", \"gridcolor\": \"white\", \"gridwidth\": 2, \"linecolor\": \"white\", \"showbackground\": true, \"ticks\": \"\", \"zerolinecolor\": \"white\"}, \"yaxis\": {\"backgroundcolor\": \"#E5ECF6\", \"gridcolor\": \"white\", \"gridwidth\": 2, \"linecolor\": \"white\", \"showbackground\": true, \"ticks\": \"\", \"zerolinecolor\": \"white\"}, \"zaxis\": {\"backgroundcolor\": \"#E5ECF6\", \"gridcolor\": \"white\", \"gridwidth\": 2, \"linecolor\": \"white\", \"showbackground\": true, \"ticks\": \"\", \"zerolinecolor\": \"white\"}}, \"shapedefaults\": {\"line\": {\"color\": \"#2a3f5f\"}}, \"ternary\": {\"aaxis\": {\"gridcolor\": \"white\", \"linecolor\": \"white\", \"ticks\": \"\"}, \"baxis\": {\"gridcolor\": \"white\", \"linecolor\": \"white\", \"ticks\": \"\"}, \"bgcolor\": \"#E5ECF6\", \"caxis\": {\"gridcolor\": \"white\", \"linecolor\": \"white\", \"ticks\": \"\"}}, \"title\": {\"x\": 0.05}, \"xaxis\": {\"automargin\": true, \"gridcolor\": \"white\", \"linecolor\": \"white\", \"ticks\": \"\", \"title\": {\"standoff\": 15}, \"zerolinecolor\": \"white\", \"zerolinewidth\": 2}, \"yaxis\": {\"automargin\": true, \"gridcolor\": \"white\", \"linecolor\": \"white\", \"ticks\": \"\", \"title\": {\"standoff\": 15}, \"zerolinecolor\": \"white\", \"zerolinewidth\": 2}}}, \"title\": {\"font\": {\"color\": \"#4D5663\"}}, \"xaxis\": {\"gridcolor\": \"#E1E5ED\", \"showgrid\": true, \"tickfont\": {\"color\": \"#4D5663\"}, \"title\": {\"font\": {\"color\": \"#4D5663\"}, \"text\": \"\"}, \"zerolinecolor\": \"#E1E5ED\"}, \"yaxis\": {\"gridcolor\": \"#E1E5ED\", \"showgrid\": true, \"tickfont\": {\"color\": \"#4D5663\"}, \"title\": {\"font\": {\"color\": \"#4D5663\"}, \"text\": \"\"}, \"zerolinecolor\": \"#E1E5ED\"}},                        {\"showLink\": true, \"linkText\": \"Export to plot.ly\", \"plotlyServerURL\": \"https://plot.ly\", \"responsive\": true}                    ).then(function(){\n                            \nvar gd = document.getElementById('ab9369b4-2222-4f02-b9f9-f88771c110af');\nvar x = new MutationObserver(function (mutations, observer) {{\n        var display = window.getComputedStyle(gd).display;\n        if (!display || display === 'none') {{\n            console.log([gd, 'removed!']);\n            Plotly.purge(gd);\n            observer.disconnect();\n        }}\n}});\n\n// Listen for the removal of the full notebook cells\nvar notebookContainer = gd.closest('#notebook-container');\nif (notebookContainer) {{\n    x.observe(notebookContainer, {childList: true});\n}}\n\n// Listen for the clearing of the current output cell\nvar outputEl = gd.closest('.output');\nif (outputEl) {{\n    x.observe(outputEl, {childList: true});\n}}\n\n                        })                };                });            </script>        </div>"
     },
     "metadata": {}
    }
   ],
   "source": [
    "df.iplot(kind='scatter',x='A',y='B',mode='markers',size=20)"
   ]
  },
  {
   "cell_type": "code",
   "execution_count": 18,
   "metadata": {},
   "outputs": [
    {
     "output_type": "display_data",
     "data": {
      "application/vnd.plotly.v1+json": {
       "config": {
        "linkText": "Export to plot.ly",
        "plotlyServerURL": "https://plot.ly",
        "showLink": true
       },
       "data": [
        {
         "marker": {
          "color": "rgba(255, 153, 51, 0.6)",
          "line": {
           "color": "rgba(255, 153, 51, 1.0)",
           "width": 1
          }
         },
         "name": "values",
         "orientation": "v",
         "text": "",
         "type": "bar",
         "x": [
          "A",
          "B",
          "C"
         ],
         "y": [
          32,
          43,
          50
         ]
        }
       ],
       "layout": {
        "legend": {
         "bgcolor": "#F5F6F9",
         "font": {
          "color": "#4D5663"
         }
        },
        "paper_bgcolor": "#F5F6F9",
        "plot_bgcolor": "#F5F6F9",
        "template": {
         "data": {
          "bar": [
           {
            "error_x": {
             "color": "#2a3f5f"
            },
            "error_y": {
             "color": "#2a3f5f"
            },
            "marker": {
             "line": {
              "color": "#E5ECF6",
              "width": 0.5
             }
            },
            "type": "bar"
           }
          ],
          "barpolar": [
           {
            "marker": {
             "line": {
              "color": "#E5ECF6",
              "width": 0.5
             }
            },
            "type": "barpolar"
           }
          ],
          "carpet": [
           {
            "aaxis": {
             "endlinecolor": "#2a3f5f",
             "gridcolor": "white",
             "linecolor": "white",
             "minorgridcolor": "white",
             "startlinecolor": "#2a3f5f"
            },
            "baxis": {
             "endlinecolor": "#2a3f5f",
             "gridcolor": "white",
             "linecolor": "white",
             "minorgridcolor": "white",
             "startlinecolor": "#2a3f5f"
            },
            "type": "carpet"
           }
          ],
          "choropleth": [
           {
            "colorbar": {
             "outlinewidth": 0,
             "ticks": ""
            },
            "type": "choropleth"
           }
          ],
          "contour": [
           {
            "colorbar": {
             "outlinewidth": 0,
             "ticks": ""
            },
            "colorscale": [
             [
              0,
              "#0d0887"
             ],
             [
              0.1111111111111111,
              "#46039f"
             ],
             [
              0.2222222222222222,
              "#7201a8"
             ],
             [
              0.3333333333333333,
              "#9c179e"
             ],
             [
              0.4444444444444444,
              "#bd3786"
             ],
             [
              0.5555555555555556,
              "#d8576b"
             ],
             [
              0.6666666666666666,
              "#ed7953"
             ],
             [
              0.7777777777777778,
              "#fb9f3a"
             ],
             [
              0.8888888888888888,
              "#fdca26"
             ],
             [
              1,
              "#f0f921"
             ]
            ],
            "type": "contour"
           }
          ],
          "contourcarpet": [
           {
            "colorbar": {
             "outlinewidth": 0,
             "ticks": ""
            },
            "type": "contourcarpet"
           }
          ],
          "heatmap": [
           {
            "colorbar": {
             "outlinewidth": 0,
             "ticks": ""
            },
            "colorscale": [
             [
              0,
              "#0d0887"
             ],
             [
              0.1111111111111111,
              "#46039f"
             ],
             [
              0.2222222222222222,
              "#7201a8"
             ],
             [
              0.3333333333333333,
              "#9c179e"
             ],
             [
              0.4444444444444444,
              "#bd3786"
             ],
             [
              0.5555555555555556,
              "#d8576b"
             ],
             [
              0.6666666666666666,
              "#ed7953"
             ],
             [
              0.7777777777777778,
              "#fb9f3a"
             ],
             [
              0.8888888888888888,
              "#fdca26"
             ],
             [
              1,
              "#f0f921"
             ]
            ],
            "type": "heatmap"
           }
          ],
          "heatmapgl": [
           {
            "colorbar": {
             "outlinewidth": 0,
             "ticks": ""
            },
            "colorscale": [
             [
              0,
              "#0d0887"
             ],
             [
              0.1111111111111111,
              "#46039f"
             ],
             [
              0.2222222222222222,
              "#7201a8"
             ],
             [
              0.3333333333333333,
              "#9c179e"
             ],
             [
              0.4444444444444444,
              "#bd3786"
             ],
             [
              0.5555555555555556,
              "#d8576b"
             ],
             [
              0.6666666666666666,
              "#ed7953"
             ],
             [
              0.7777777777777778,
              "#fb9f3a"
             ],
             [
              0.8888888888888888,
              "#fdca26"
             ],
             [
              1,
              "#f0f921"
             ]
            ],
            "type": "heatmapgl"
           }
          ],
          "histogram": [
           {
            "marker": {
             "colorbar": {
              "outlinewidth": 0,
              "ticks": ""
             }
            },
            "type": "histogram"
           }
          ],
          "histogram2d": [
           {
            "colorbar": {
             "outlinewidth": 0,
             "ticks": ""
            },
            "colorscale": [
             [
              0,
              "#0d0887"
             ],
             [
              0.1111111111111111,
              "#46039f"
             ],
             [
              0.2222222222222222,
              "#7201a8"
             ],
             [
              0.3333333333333333,
              "#9c179e"
             ],
             [
              0.4444444444444444,
              "#bd3786"
             ],
             [
              0.5555555555555556,
              "#d8576b"
             ],
             [
              0.6666666666666666,
              "#ed7953"
             ],
             [
              0.7777777777777778,
              "#fb9f3a"
             ],
             [
              0.8888888888888888,
              "#fdca26"
             ],
             [
              1,
              "#f0f921"
             ]
            ],
            "type": "histogram2d"
           }
          ],
          "histogram2dcontour": [
           {
            "colorbar": {
             "outlinewidth": 0,
             "ticks": ""
            },
            "colorscale": [
             [
              0,
              "#0d0887"
             ],
             [
              0.1111111111111111,
              "#46039f"
             ],
             [
              0.2222222222222222,
              "#7201a8"
             ],
             [
              0.3333333333333333,
              "#9c179e"
             ],
             [
              0.4444444444444444,
              "#bd3786"
             ],
             [
              0.5555555555555556,
              "#d8576b"
             ],
             [
              0.6666666666666666,
              "#ed7953"
             ],
             [
              0.7777777777777778,
              "#fb9f3a"
             ],
             [
              0.8888888888888888,
              "#fdca26"
             ],
             [
              1,
              "#f0f921"
             ]
            ],
            "type": "histogram2dcontour"
           }
          ],
          "mesh3d": [
           {
            "colorbar": {
             "outlinewidth": 0,
             "ticks": ""
            },
            "type": "mesh3d"
           }
          ],
          "parcoords": [
           {
            "line": {
             "colorbar": {
              "outlinewidth": 0,
              "ticks": ""
             }
            },
            "type": "parcoords"
           }
          ],
          "pie": [
           {
            "automargin": true,
            "type": "pie"
           }
          ],
          "scatter": [
           {
            "marker": {
             "colorbar": {
              "outlinewidth": 0,
              "ticks": ""
             }
            },
            "type": "scatter"
           }
          ],
          "scatter3d": [
           {
            "line": {
             "colorbar": {
              "outlinewidth": 0,
              "ticks": ""
             }
            },
            "marker": {
             "colorbar": {
              "outlinewidth": 0,
              "ticks": ""
             }
            },
            "type": "scatter3d"
           }
          ],
          "scattercarpet": [
           {
            "marker": {
             "colorbar": {
              "outlinewidth": 0,
              "ticks": ""
             }
            },
            "type": "scattercarpet"
           }
          ],
          "scattergeo": [
           {
            "marker": {
             "colorbar": {
              "outlinewidth": 0,
              "ticks": ""
             }
            },
            "type": "scattergeo"
           }
          ],
          "scattergl": [
           {
            "marker": {
             "colorbar": {
              "outlinewidth": 0,
              "ticks": ""
             }
            },
            "type": "scattergl"
           }
          ],
          "scattermapbox": [
           {
            "marker": {
             "colorbar": {
              "outlinewidth": 0,
              "ticks": ""
             }
            },
            "type": "scattermapbox"
           }
          ],
          "scatterpolar": [
           {
            "marker": {
             "colorbar": {
              "outlinewidth": 0,
              "ticks": ""
             }
            },
            "type": "scatterpolar"
           }
          ],
          "scatterpolargl": [
           {
            "marker": {
             "colorbar": {
              "outlinewidth": 0,
              "ticks": ""
             }
            },
            "type": "scatterpolargl"
           }
          ],
          "scatterternary": [
           {
            "marker": {
             "colorbar": {
              "outlinewidth": 0,
              "ticks": ""
             }
            },
            "type": "scatterternary"
           }
          ],
          "surface": [
           {
            "colorbar": {
             "outlinewidth": 0,
             "ticks": ""
            },
            "colorscale": [
             [
              0,
              "#0d0887"
             ],
             [
              0.1111111111111111,
              "#46039f"
             ],
             [
              0.2222222222222222,
              "#7201a8"
             ],
             [
              0.3333333333333333,
              "#9c179e"
             ],
             [
              0.4444444444444444,
              "#bd3786"
             ],
             [
              0.5555555555555556,
              "#d8576b"
             ],
             [
              0.6666666666666666,
              "#ed7953"
             ],
             [
              0.7777777777777778,
              "#fb9f3a"
             ],
             [
              0.8888888888888888,
              "#fdca26"
             ],
             [
              1,
              "#f0f921"
             ]
            ],
            "type": "surface"
           }
          ],
          "table": [
           {
            "cells": {
             "fill": {
              "color": "#EBF0F8"
             },
             "line": {
              "color": "white"
             }
            },
            "header": {
             "fill": {
              "color": "#C8D4E3"
             },
             "line": {
              "color": "white"
             }
            },
            "type": "table"
           }
          ]
         },
         "layout": {
          "annotationdefaults": {
           "arrowcolor": "#2a3f5f",
           "arrowhead": 0,
           "arrowwidth": 1
          },
          "autotypenumbers": "strict",
          "coloraxis": {
           "colorbar": {
            "outlinewidth": 0,
            "ticks": ""
           }
          },
          "colorscale": {
           "diverging": [
            [
             0,
             "#8e0152"
            ],
            [
             0.1,
             "#c51b7d"
            ],
            [
             0.2,
             "#de77ae"
            ],
            [
             0.3,
             "#f1b6da"
            ],
            [
             0.4,
             "#fde0ef"
            ],
            [
             0.5,
             "#f7f7f7"
            ],
            [
             0.6,
             "#e6f5d0"
            ],
            [
             0.7,
             "#b8e186"
            ],
            [
             0.8,
             "#7fbc41"
            ],
            [
             0.9,
             "#4d9221"
            ],
            [
             1,
             "#276419"
            ]
           ],
           "sequential": [
            [
             0,
             "#0d0887"
            ],
            [
             0.1111111111111111,
             "#46039f"
            ],
            [
             0.2222222222222222,
             "#7201a8"
            ],
            [
             0.3333333333333333,
             "#9c179e"
            ],
            [
             0.4444444444444444,
             "#bd3786"
            ],
            [
             0.5555555555555556,
             "#d8576b"
            ],
            [
             0.6666666666666666,
             "#ed7953"
            ],
            [
             0.7777777777777778,
             "#fb9f3a"
            ],
            [
             0.8888888888888888,
             "#fdca26"
            ],
            [
             1,
             "#f0f921"
            ]
           ],
           "sequentialminus": [
            [
             0,
             "#0d0887"
            ],
            [
             0.1111111111111111,
             "#46039f"
            ],
            [
             0.2222222222222222,
             "#7201a8"
            ],
            [
             0.3333333333333333,
             "#9c179e"
            ],
            [
             0.4444444444444444,
             "#bd3786"
            ],
            [
             0.5555555555555556,
             "#d8576b"
            ],
            [
             0.6666666666666666,
             "#ed7953"
            ],
            [
             0.7777777777777778,
             "#fb9f3a"
            ],
            [
             0.8888888888888888,
             "#fdca26"
            ],
            [
             1,
             "#f0f921"
            ]
           ]
          },
          "colorway": [
           "#636efa",
           "#EF553B",
           "#00cc96",
           "#ab63fa",
           "#FFA15A",
           "#19d3f3",
           "#FF6692",
           "#B6E880",
           "#FF97FF",
           "#FECB52"
          ],
          "font": {
           "color": "#2a3f5f"
          },
          "geo": {
           "bgcolor": "white",
           "lakecolor": "white",
           "landcolor": "#E5ECF6",
           "showlakes": true,
           "showland": true,
           "subunitcolor": "white"
          },
          "hoverlabel": {
           "align": "left"
          },
          "hovermode": "closest",
          "mapbox": {
           "style": "light"
          },
          "paper_bgcolor": "white",
          "plot_bgcolor": "#E5ECF6",
          "polar": {
           "angularaxis": {
            "gridcolor": "white",
            "linecolor": "white",
            "ticks": ""
           },
           "bgcolor": "#E5ECF6",
           "radialaxis": {
            "gridcolor": "white",
            "linecolor": "white",
            "ticks": ""
           }
          },
          "scene": {
           "xaxis": {
            "backgroundcolor": "#E5ECF6",
            "gridcolor": "white",
            "gridwidth": 2,
            "linecolor": "white",
            "showbackground": true,
            "ticks": "",
            "zerolinecolor": "white"
           },
           "yaxis": {
            "backgroundcolor": "#E5ECF6",
            "gridcolor": "white",
            "gridwidth": 2,
            "linecolor": "white",
            "showbackground": true,
            "ticks": "",
            "zerolinecolor": "white"
           },
           "zaxis": {
            "backgroundcolor": "#E5ECF6",
            "gridcolor": "white",
            "gridwidth": 2,
            "linecolor": "white",
            "showbackground": true,
            "ticks": "",
            "zerolinecolor": "white"
           }
          },
          "shapedefaults": {
           "line": {
            "color": "#2a3f5f"
           }
          },
          "ternary": {
           "aaxis": {
            "gridcolor": "white",
            "linecolor": "white",
            "ticks": ""
           },
           "baxis": {
            "gridcolor": "white",
            "linecolor": "white",
            "ticks": ""
           },
           "bgcolor": "#E5ECF6",
           "caxis": {
            "gridcolor": "white",
            "linecolor": "white",
            "ticks": ""
           }
          },
          "title": {
           "x": 0.05
          },
          "xaxis": {
           "automargin": true,
           "gridcolor": "white",
           "linecolor": "white",
           "ticks": "",
           "title": {
            "standoff": 15
           },
           "zerolinecolor": "white",
           "zerolinewidth": 2
          },
          "yaxis": {
           "automargin": true,
           "gridcolor": "white",
           "linecolor": "white",
           "ticks": "",
           "title": {
            "standoff": 15
           },
           "zerolinecolor": "white",
           "zerolinewidth": 2
          }
         }
        },
        "title": {
         "font": {
          "color": "#4D5663"
         }
        },
        "xaxis": {
         "gridcolor": "#E1E5ED",
         "showgrid": true,
         "tickfont": {
          "color": "#4D5663"
         },
         "title": {
          "font": {
           "color": "#4D5663"
          },
          "text": ""
         },
         "zerolinecolor": "#E1E5ED"
        },
        "yaxis": {
         "gridcolor": "#E1E5ED",
         "showgrid": true,
         "tickfont": {
          "color": "#4D5663"
         },
         "title": {
          "font": {
           "color": "#4D5663"
          },
          "text": ""
         },
         "zerolinecolor": "#E1E5ED"
        }
       }
      },
      "text/html": "<div>                            <div id=\"57833de9-0891-4a6b-b797-46ecb2efb3af\" class=\"plotly-graph-div\" style=\"height:525px; width:100%;\"></div>            <script type=\"text/javascript\">                require([\"plotly\"], function(Plotly) {                    window.PLOTLYENV=window.PLOTLYENV || {};\n                    window.PLOTLYENV.BASE_URL='https://plot.ly';                                    if (document.getElementById(\"57833de9-0891-4a6b-b797-46ecb2efb3af\")) {                    Plotly.newPlot(                        \"57833de9-0891-4a6b-b797-46ecb2efb3af\",                        [{\"marker\": {\"color\": \"rgba(255, 153, 51, 0.6)\", \"line\": {\"color\": \"rgba(255, 153, 51, 1.0)\", \"width\": 1}}, \"name\": \"values\", \"orientation\": \"v\", \"text\": \"\", \"type\": \"bar\", \"x\": [\"A\", \"B\", \"C\"], \"y\": [32, 43, 50]}],                        {\"legend\": {\"bgcolor\": \"#F5F6F9\", \"font\": {\"color\": \"#4D5663\"}}, \"paper_bgcolor\": \"#F5F6F9\", \"plot_bgcolor\": \"#F5F6F9\", \"template\": {\"data\": {\"bar\": [{\"error_x\": {\"color\": \"#2a3f5f\"}, \"error_y\": {\"color\": \"#2a3f5f\"}, \"marker\": {\"line\": {\"color\": \"#E5ECF6\", \"width\": 0.5}}, \"type\": \"bar\"}], \"barpolar\": [{\"marker\": {\"line\": {\"color\": \"#E5ECF6\", \"width\": 0.5}}, \"type\": \"barpolar\"}], \"carpet\": [{\"aaxis\": {\"endlinecolor\": \"#2a3f5f\", \"gridcolor\": \"white\", \"linecolor\": \"white\", \"minorgridcolor\": \"white\", \"startlinecolor\": \"#2a3f5f\"}, \"baxis\": {\"endlinecolor\": \"#2a3f5f\", \"gridcolor\": \"white\", \"linecolor\": \"white\", \"minorgridcolor\": \"white\", \"startlinecolor\": \"#2a3f5f\"}, \"type\": \"carpet\"}], \"choropleth\": [{\"colorbar\": {\"outlinewidth\": 0, \"ticks\": \"\"}, \"type\": \"choropleth\"}], \"contour\": [{\"colorbar\": {\"outlinewidth\": 0, \"ticks\": \"\"}, \"colorscale\": [[0.0, \"#0d0887\"], [0.1111111111111111, \"#46039f\"], [0.2222222222222222, \"#7201a8\"], [0.3333333333333333, \"#9c179e\"], [0.4444444444444444, \"#bd3786\"], [0.5555555555555556, \"#d8576b\"], [0.6666666666666666, \"#ed7953\"], [0.7777777777777778, \"#fb9f3a\"], [0.8888888888888888, \"#fdca26\"], [1.0, \"#f0f921\"]], \"type\": \"contour\"}], \"contourcarpet\": [{\"colorbar\": {\"outlinewidth\": 0, \"ticks\": \"\"}, \"type\": \"contourcarpet\"}], \"heatmap\": [{\"colorbar\": {\"outlinewidth\": 0, \"ticks\": \"\"}, \"colorscale\": [[0.0, \"#0d0887\"], [0.1111111111111111, \"#46039f\"], [0.2222222222222222, \"#7201a8\"], [0.3333333333333333, \"#9c179e\"], [0.4444444444444444, \"#bd3786\"], [0.5555555555555556, \"#d8576b\"], [0.6666666666666666, \"#ed7953\"], [0.7777777777777778, \"#fb9f3a\"], [0.8888888888888888, \"#fdca26\"], [1.0, \"#f0f921\"]], \"type\": \"heatmap\"}], \"heatmapgl\": [{\"colorbar\": {\"outlinewidth\": 0, \"ticks\": \"\"}, \"colorscale\": [[0.0, \"#0d0887\"], [0.1111111111111111, \"#46039f\"], [0.2222222222222222, \"#7201a8\"], [0.3333333333333333, \"#9c179e\"], [0.4444444444444444, \"#bd3786\"], [0.5555555555555556, \"#d8576b\"], [0.6666666666666666, \"#ed7953\"], [0.7777777777777778, \"#fb9f3a\"], [0.8888888888888888, \"#fdca26\"], [1.0, \"#f0f921\"]], \"type\": \"heatmapgl\"}], \"histogram\": [{\"marker\": {\"colorbar\": {\"outlinewidth\": 0, \"ticks\": \"\"}}, \"type\": \"histogram\"}], \"histogram2d\": [{\"colorbar\": {\"outlinewidth\": 0, \"ticks\": \"\"}, \"colorscale\": [[0.0, \"#0d0887\"], [0.1111111111111111, \"#46039f\"], [0.2222222222222222, \"#7201a8\"], [0.3333333333333333, \"#9c179e\"], [0.4444444444444444, \"#bd3786\"], [0.5555555555555556, \"#d8576b\"], [0.6666666666666666, \"#ed7953\"], [0.7777777777777778, \"#fb9f3a\"], [0.8888888888888888, \"#fdca26\"], [1.0, \"#f0f921\"]], \"type\": \"histogram2d\"}], \"histogram2dcontour\": [{\"colorbar\": {\"outlinewidth\": 0, \"ticks\": \"\"}, \"colorscale\": [[0.0, \"#0d0887\"], [0.1111111111111111, \"#46039f\"], [0.2222222222222222, \"#7201a8\"], [0.3333333333333333, \"#9c179e\"], [0.4444444444444444, \"#bd3786\"], [0.5555555555555556, \"#d8576b\"], [0.6666666666666666, \"#ed7953\"], [0.7777777777777778, \"#fb9f3a\"], [0.8888888888888888, \"#fdca26\"], [1.0, \"#f0f921\"]], \"type\": \"histogram2dcontour\"}], \"mesh3d\": [{\"colorbar\": {\"outlinewidth\": 0, \"ticks\": \"\"}, \"type\": \"mesh3d\"}], \"parcoords\": [{\"line\": {\"colorbar\": {\"outlinewidth\": 0, \"ticks\": \"\"}}, \"type\": \"parcoords\"}], \"pie\": [{\"automargin\": true, \"type\": \"pie\"}], \"scatter\": [{\"marker\": {\"colorbar\": {\"outlinewidth\": 0, \"ticks\": \"\"}}, \"type\": \"scatter\"}], \"scatter3d\": [{\"line\": {\"colorbar\": {\"outlinewidth\": 0, \"ticks\": \"\"}}, \"marker\": {\"colorbar\": {\"outlinewidth\": 0, \"ticks\": \"\"}}, \"type\": \"scatter3d\"}], \"scattercarpet\": [{\"marker\": {\"colorbar\": {\"outlinewidth\": 0, \"ticks\": \"\"}}, \"type\": \"scattercarpet\"}], \"scattergeo\": [{\"marker\": {\"colorbar\": {\"outlinewidth\": 0, \"ticks\": \"\"}}, \"type\": \"scattergeo\"}], \"scattergl\": [{\"marker\": {\"colorbar\": {\"outlinewidth\": 0, \"ticks\": \"\"}}, \"type\": \"scattergl\"}], \"scattermapbox\": [{\"marker\": {\"colorbar\": {\"outlinewidth\": 0, \"ticks\": \"\"}}, \"type\": \"scattermapbox\"}], \"scatterpolar\": [{\"marker\": {\"colorbar\": {\"outlinewidth\": 0, \"ticks\": \"\"}}, \"type\": \"scatterpolar\"}], \"scatterpolargl\": [{\"marker\": {\"colorbar\": {\"outlinewidth\": 0, \"ticks\": \"\"}}, \"type\": \"scatterpolargl\"}], \"scatterternary\": [{\"marker\": {\"colorbar\": {\"outlinewidth\": 0, \"ticks\": \"\"}}, \"type\": \"scatterternary\"}], \"surface\": [{\"colorbar\": {\"outlinewidth\": 0, \"ticks\": \"\"}, \"colorscale\": [[0.0, \"#0d0887\"], [0.1111111111111111, \"#46039f\"], [0.2222222222222222, \"#7201a8\"], [0.3333333333333333, \"#9c179e\"], [0.4444444444444444, \"#bd3786\"], [0.5555555555555556, \"#d8576b\"], [0.6666666666666666, \"#ed7953\"], [0.7777777777777778, \"#fb9f3a\"], [0.8888888888888888, \"#fdca26\"], [1.0, \"#f0f921\"]], \"type\": \"surface\"}], \"table\": [{\"cells\": {\"fill\": {\"color\": \"#EBF0F8\"}, \"line\": {\"color\": \"white\"}}, \"header\": {\"fill\": {\"color\": \"#C8D4E3\"}, \"line\": {\"color\": \"white\"}}, \"type\": \"table\"}]}, \"layout\": {\"annotationdefaults\": {\"arrowcolor\": \"#2a3f5f\", \"arrowhead\": 0, \"arrowwidth\": 1}, \"autotypenumbers\": \"strict\", \"coloraxis\": {\"colorbar\": {\"outlinewidth\": 0, \"ticks\": \"\"}}, \"colorscale\": {\"diverging\": [[0, \"#8e0152\"], [0.1, \"#c51b7d\"], [0.2, \"#de77ae\"], [0.3, \"#f1b6da\"], [0.4, \"#fde0ef\"], [0.5, \"#f7f7f7\"], [0.6, \"#e6f5d0\"], [0.7, \"#b8e186\"], [0.8, \"#7fbc41\"], [0.9, \"#4d9221\"], [1, \"#276419\"]], \"sequential\": [[0.0, \"#0d0887\"], [0.1111111111111111, \"#46039f\"], [0.2222222222222222, \"#7201a8\"], [0.3333333333333333, \"#9c179e\"], [0.4444444444444444, \"#bd3786\"], [0.5555555555555556, \"#d8576b\"], [0.6666666666666666, \"#ed7953\"], [0.7777777777777778, \"#fb9f3a\"], [0.8888888888888888, \"#fdca26\"], [1.0, \"#f0f921\"]], \"sequentialminus\": [[0.0, \"#0d0887\"], [0.1111111111111111, \"#46039f\"], [0.2222222222222222, \"#7201a8\"], [0.3333333333333333, \"#9c179e\"], [0.4444444444444444, \"#bd3786\"], [0.5555555555555556, \"#d8576b\"], [0.6666666666666666, \"#ed7953\"], [0.7777777777777778, \"#fb9f3a\"], [0.8888888888888888, \"#fdca26\"], [1.0, \"#f0f921\"]]}, \"colorway\": [\"#636efa\", \"#EF553B\", \"#00cc96\", \"#ab63fa\", \"#FFA15A\", \"#19d3f3\", \"#FF6692\", \"#B6E880\", \"#FF97FF\", \"#FECB52\"], \"font\": {\"color\": \"#2a3f5f\"}, \"geo\": {\"bgcolor\": \"white\", \"lakecolor\": \"white\", \"landcolor\": \"#E5ECF6\", \"showlakes\": true, \"showland\": true, \"subunitcolor\": \"white\"}, \"hoverlabel\": {\"align\": \"left\"}, \"hovermode\": \"closest\", \"mapbox\": {\"style\": \"light\"}, \"paper_bgcolor\": \"white\", \"plot_bgcolor\": \"#E5ECF6\", \"polar\": {\"angularaxis\": {\"gridcolor\": \"white\", \"linecolor\": \"white\", \"ticks\": \"\"}, \"bgcolor\": \"#E5ECF6\", \"radialaxis\": {\"gridcolor\": \"white\", \"linecolor\": \"white\", \"ticks\": \"\"}}, \"scene\": {\"xaxis\": {\"backgroundcolor\": \"#E5ECF6\", \"gridcolor\": \"white\", \"gridwidth\": 2, \"linecolor\": \"white\", \"showbackground\": true, \"ticks\": \"\", \"zerolinecolor\": \"white\"}, \"yaxis\": {\"backgroundcolor\": \"#E5ECF6\", \"gridcolor\": \"white\", \"gridwidth\": 2, \"linecolor\": \"white\", \"showbackground\": true, \"ticks\": \"\", \"zerolinecolor\": \"white\"}, \"zaxis\": {\"backgroundcolor\": \"#E5ECF6\", \"gridcolor\": \"white\", \"gridwidth\": 2, \"linecolor\": \"white\", \"showbackground\": true, \"ticks\": \"\", \"zerolinecolor\": \"white\"}}, \"shapedefaults\": {\"line\": {\"color\": \"#2a3f5f\"}}, \"ternary\": {\"aaxis\": {\"gridcolor\": \"white\", \"linecolor\": \"white\", \"ticks\": \"\"}, \"baxis\": {\"gridcolor\": \"white\", \"linecolor\": \"white\", \"ticks\": \"\"}, \"bgcolor\": \"#E5ECF6\", \"caxis\": {\"gridcolor\": \"white\", \"linecolor\": \"white\", \"ticks\": \"\"}}, \"title\": {\"x\": 0.05}, \"xaxis\": {\"automargin\": true, \"gridcolor\": \"white\", \"linecolor\": \"white\", \"ticks\": \"\", \"title\": {\"standoff\": 15}, \"zerolinecolor\": \"white\", \"zerolinewidth\": 2}, \"yaxis\": {\"automargin\": true, \"gridcolor\": \"white\", \"linecolor\": \"white\", \"ticks\": \"\", \"title\": {\"standoff\": 15}, \"zerolinecolor\": \"white\", \"zerolinewidth\": 2}}}, \"title\": {\"font\": {\"color\": \"#4D5663\"}}, \"xaxis\": {\"gridcolor\": \"#E1E5ED\", \"showgrid\": true, \"tickfont\": {\"color\": \"#4D5663\"}, \"title\": {\"font\": {\"color\": \"#4D5663\"}, \"text\": \"\"}, \"zerolinecolor\": \"#E1E5ED\"}, \"yaxis\": {\"gridcolor\": \"#E1E5ED\", \"showgrid\": true, \"tickfont\": {\"color\": \"#4D5663\"}, \"title\": {\"font\": {\"color\": \"#4D5663\"}, \"text\": \"\"}, \"zerolinecolor\": \"#E1E5ED\"}},                        {\"showLink\": true, \"linkText\": \"Export to plot.ly\", \"plotlyServerURL\": \"https://plot.ly\", \"responsive\": true}                    ).then(function(){\n                            \nvar gd = document.getElementById('57833de9-0891-4a6b-b797-46ecb2efb3af');\nvar x = new MutationObserver(function (mutations, observer) {{\n        var display = window.getComputedStyle(gd).display;\n        if (!display || display === 'none') {{\n            console.log([gd, 'removed!']);\n            Plotly.purge(gd);\n            observer.disconnect();\n        }}\n}});\n\n// Listen for the removal of the full notebook cells\nvar notebookContainer = gd.closest('#notebook-container');\nif (notebookContainer) {{\n    x.observe(notebookContainer, {childList: true});\n}}\n\n// Listen for the clearing of the current output cell\nvar outputEl = gd.closest('.output');\nif (outputEl) {{\n    x.observe(outputEl, {childList: true});\n}}\n\n                        })                };                });            </script>        </div>"
     },
     "metadata": {}
    }
   ],
   "source": [
    "df2.iplot(kind='bar',x='category',y='values')"
   ]
  },
  {
   "cell_type": "code",
   "execution_count": 19,
   "metadata": {},
   "outputs": [
    {
     "output_type": "display_data",
     "data": {
      "application/vnd.plotly.v1+json": {
       "config": {
        "linkText": "Export to plot.ly",
        "plotlyServerURL": "https://plot.ly",
        "showLink": true
       },
       "data": [
        {
         "marker": {
          "color": "rgba(255, 153, 51, 0.6)",
          "line": {
           "color": "rgba(255, 153, 51, 1.0)",
           "width": 1
          }
         },
         "name": "None",
         "orientation": "v",
         "text": "",
         "type": "bar",
         "x": [
          "A",
          "B",
          "C",
          "D"
         ],
         "y": [
          6.222699589862306,
          -4.30171079911687,
          4.9244893176255085,
          -4.374555444907581
         ]
        }
       ],
       "layout": {
        "legend": {
         "bgcolor": "#F5F6F9",
         "font": {
          "color": "#4D5663"
         }
        },
        "paper_bgcolor": "#F5F6F9",
        "plot_bgcolor": "#F5F6F9",
        "template": {
         "data": {
          "bar": [
           {
            "error_x": {
             "color": "#2a3f5f"
            },
            "error_y": {
             "color": "#2a3f5f"
            },
            "marker": {
             "line": {
              "color": "#E5ECF6",
              "width": 0.5
             }
            },
            "type": "bar"
           }
          ],
          "barpolar": [
           {
            "marker": {
             "line": {
              "color": "#E5ECF6",
              "width": 0.5
             }
            },
            "type": "barpolar"
           }
          ],
          "carpet": [
           {
            "aaxis": {
             "endlinecolor": "#2a3f5f",
             "gridcolor": "white",
             "linecolor": "white",
             "minorgridcolor": "white",
             "startlinecolor": "#2a3f5f"
            },
            "baxis": {
             "endlinecolor": "#2a3f5f",
             "gridcolor": "white",
             "linecolor": "white",
             "minorgridcolor": "white",
             "startlinecolor": "#2a3f5f"
            },
            "type": "carpet"
           }
          ],
          "choropleth": [
           {
            "colorbar": {
             "outlinewidth": 0,
             "ticks": ""
            },
            "type": "choropleth"
           }
          ],
          "contour": [
           {
            "colorbar": {
             "outlinewidth": 0,
             "ticks": ""
            },
            "colorscale": [
             [
              0,
              "#0d0887"
             ],
             [
              0.1111111111111111,
              "#46039f"
             ],
             [
              0.2222222222222222,
              "#7201a8"
             ],
             [
              0.3333333333333333,
              "#9c179e"
             ],
             [
              0.4444444444444444,
              "#bd3786"
             ],
             [
              0.5555555555555556,
              "#d8576b"
             ],
             [
              0.6666666666666666,
              "#ed7953"
             ],
             [
              0.7777777777777778,
              "#fb9f3a"
             ],
             [
              0.8888888888888888,
              "#fdca26"
             ],
             [
              1,
              "#f0f921"
             ]
            ],
            "type": "contour"
           }
          ],
          "contourcarpet": [
           {
            "colorbar": {
             "outlinewidth": 0,
             "ticks": ""
            },
            "type": "contourcarpet"
           }
          ],
          "heatmap": [
           {
            "colorbar": {
             "outlinewidth": 0,
             "ticks": ""
            },
            "colorscale": [
             [
              0,
              "#0d0887"
             ],
             [
              0.1111111111111111,
              "#46039f"
             ],
             [
              0.2222222222222222,
              "#7201a8"
             ],
             [
              0.3333333333333333,
              "#9c179e"
             ],
             [
              0.4444444444444444,
              "#bd3786"
             ],
             [
              0.5555555555555556,
              "#d8576b"
             ],
             [
              0.6666666666666666,
              "#ed7953"
             ],
             [
              0.7777777777777778,
              "#fb9f3a"
             ],
             [
              0.8888888888888888,
              "#fdca26"
             ],
             [
              1,
              "#f0f921"
             ]
            ],
            "type": "heatmap"
           }
          ],
          "heatmapgl": [
           {
            "colorbar": {
             "outlinewidth": 0,
             "ticks": ""
            },
            "colorscale": [
             [
              0,
              "#0d0887"
             ],
             [
              0.1111111111111111,
              "#46039f"
             ],
             [
              0.2222222222222222,
              "#7201a8"
             ],
             [
              0.3333333333333333,
              "#9c179e"
             ],
             [
              0.4444444444444444,
              "#bd3786"
             ],
             [
              0.5555555555555556,
              "#d8576b"
             ],
             [
              0.6666666666666666,
              "#ed7953"
             ],
             [
              0.7777777777777778,
              "#fb9f3a"
             ],
             [
              0.8888888888888888,
              "#fdca26"
             ],
             [
              1,
              "#f0f921"
             ]
            ],
            "type": "heatmapgl"
           }
          ],
          "histogram": [
           {
            "marker": {
             "colorbar": {
              "outlinewidth": 0,
              "ticks": ""
             }
            },
            "type": "histogram"
           }
          ],
          "histogram2d": [
           {
            "colorbar": {
             "outlinewidth": 0,
             "ticks": ""
            },
            "colorscale": [
             [
              0,
              "#0d0887"
             ],
             [
              0.1111111111111111,
              "#46039f"
             ],
             [
              0.2222222222222222,
              "#7201a8"
             ],
             [
              0.3333333333333333,
              "#9c179e"
             ],
             [
              0.4444444444444444,
              "#bd3786"
             ],
             [
              0.5555555555555556,
              "#d8576b"
             ],
             [
              0.6666666666666666,
              "#ed7953"
             ],
             [
              0.7777777777777778,
              "#fb9f3a"
             ],
             [
              0.8888888888888888,
              "#fdca26"
             ],
             [
              1,
              "#f0f921"
             ]
            ],
            "type": "histogram2d"
           }
          ],
          "histogram2dcontour": [
           {
            "colorbar": {
             "outlinewidth": 0,
             "ticks": ""
            },
            "colorscale": [
             [
              0,
              "#0d0887"
             ],
             [
              0.1111111111111111,
              "#46039f"
             ],
             [
              0.2222222222222222,
              "#7201a8"
             ],
             [
              0.3333333333333333,
              "#9c179e"
             ],
             [
              0.4444444444444444,
              "#bd3786"
             ],
             [
              0.5555555555555556,
              "#d8576b"
             ],
             [
              0.6666666666666666,
              "#ed7953"
             ],
             [
              0.7777777777777778,
              "#fb9f3a"
             ],
             [
              0.8888888888888888,
              "#fdca26"
             ],
             [
              1,
              "#f0f921"
             ]
            ],
            "type": "histogram2dcontour"
           }
          ],
          "mesh3d": [
           {
            "colorbar": {
             "outlinewidth": 0,
             "ticks": ""
            },
            "type": "mesh3d"
           }
          ],
          "parcoords": [
           {
            "line": {
             "colorbar": {
              "outlinewidth": 0,
              "ticks": ""
             }
            },
            "type": "parcoords"
           }
          ],
          "pie": [
           {
            "automargin": true,
            "type": "pie"
           }
          ],
          "scatter": [
           {
            "marker": {
             "colorbar": {
              "outlinewidth": 0,
              "ticks": ""
             }
            },
            "type": "scatter"
           }
          ],
          "scatter3d": [
           {
            "line": {
             "colorbar": {
              "outlinewidth": 0,
              "ticks": ""
             }
            },
            "marker": {
             "colorbar": {
              "outlinewidth": 0,
              "ticks": ""
             }
            },
            "type": "scatter3d"
           }
          ],
          "scattercarpet": [
           {
            "marker": {
             "colorbar": {
              "outlinewidth": 0,
              "ticks": ""
             }
            },
            "type": "scattercarpet"
           }
          ],
          "scattergeo": [
           {
            "marker": {
             "colorbar": {
              "outlinewidth": 0,
              "ticks": ""
             }
            },
            "type": "scattergeo"
           }
          ],
          "scattergl": [
           {
            "marker": {
             "colorbar": {
              "outlinewidth": 0,
              "ticks": ""
             }
            },
            "type": "scattergl"
           }
          ],
          "scattermapbox": [
           {
            "marker": {
             "colorbar": {
              "outlinewidth": 0,
              "ticks": ""
             }
            },
            "type": "scattermapbox"
           }
          ],
          "scatterpolar": [
           {
            "marker": {
             "colorbar": {
              "outlinewidth": 0,
              "ticks": ""
             }
            },
            "type": "scatterpolar"
           }
          ],
          "scatterpolargl": [
           {
            "marker": {
             "colorbar": {
              "outlinewidth": 0,
              "ticks": ""
             }
            },
            "type": "scatterpolargl"
           }
          ],
          "scatterternary": [
           {
            "marker": {
             "colorbar": {
              "outlinewidth": 0,
              "ticks": ""
             }
            },
            "type": "scatterternary"
           }
          ],
          "surface": [
           {
            "colorbar": {
             "outlinewidth": 0,
             "ticks": ""
            },
            "colorscale": [
             [
              0,
              "#0d0887"
             ],
             [
              0.1111111111111111,
              "#46039f"
             ],
             [
              0.2222222222222222,
              "#7201a8"
             ],
             [
              0.3333333333333333,
              "#9c179e"
             ],
             [
              0.4444444444444444,
              "#bd3786"
             ],
             [
              0.5555555555555556,
              "#d8576b"
             ],
             [
              0.6666666666666666,
              "#ed7953"
             ],
             [
              0.7777777777777778,
              "#fb9f3a"
             ],
             [
              0.8888888888888888,
              "#fdca26"
             ],
             [
              1,
              "#f0f921"
             ]
            ],
            "type": "surface"
           }
          ],
          "table": [
           {
            "cells": {
             "fill": {
              "color": "#EBF0F8"
             },
             "line": {
              "color": "white"
             }
            },
            "header": {
             "fill": {
              "color": "#C8D4E3"
             },
             "line": {
              "color": "white"
             }
            },
            "type": "table"
           }
          ]
         },
         "layout": {
          "annotationdefaults": {
           "arrowcolor": "#2a3f5f",
           "arrowhead": 0,
           "arrowwidth": 1
          },
          "autotypenumbers": "strict",
          "coloraxis": {
           "colorbar": {
            "outlinewidth": 0,
            "ticks": ""
           }
          },
          "colorscale": {
           "diverging": [
            [
             0,
             "#8e0152"
            ],
            [
             0.1,
             "#c51b7d"
            ],
            [
             0.2,
             "#de77ae"
            ],
            [
             0.3,
             "#f1b6da"
            ],
            [
             0.4,
             "#fde0ef"
            ],
            [
             0.5,
             "#f7f7f7"
            ],
            [
             0.6,
             "#e6f5d0"
            ],
            [
             0.7,
             "#b8e186"
            ],
            [
             0.8,
             "#7fbc41"
            ],
            [
             0.9,
             "#4d9221"
            ],
            [
             1,
             "#276419"
            ]
           ],
           "sequential": [
            [
             0,
             "#0d0887"
            ],
            [
             0.1111111111111111,
             "#46039f"
            ],
            [
             0.2222222222222222,
             "#7201a8"
            ],
            [
             0.3333333333333333,
             "#9c179e"
            ],
            [
             0.4444444444444444,
             "#bd3786"
            ],
            [
             0.5555555555555556,
             "#d8576b"
            ],
            [
             0.6666666666666666,
             "#ed7953"
            ],
            [
             0.7777777777777778,
             "#fb9f3a"
            ],
            [
             0.8888888888888888,
             "#fdca26"
            ],
            [
             1,
             "#f0f921"
            ]
           ],
           "sequentialminus": [
            [
             0,
             "#0d0887"
            ],
            [
             0.1111111111111111,
             "#46039f"
            ],
            [
             0.2222222222222222,
             "#7201a8"
            ],
            [
             0.3333333333333333,
             "#9c179e"
            ],
            [
             0.4444444444444444,
             "#bd3786"
            ],
            [
             0.5555555555555556,
             "#d8576b"
            ],
            [
             0.6666666666666666,
             "#ed7953"
            ],
            [
             0.7777777777777778,
             "#fb9f3a"
            ],
            [
             0.8888888888888888,
             "#fdca26"
            ],
            [
             1,
             "#f0f921"
            ]
           ]
          },
          "colorway": [
           "#636efa",
           "#EF553B",
           "#00cc96",
           "#ab63fa",
           "#FFA15A",
           "#19d3f3",
           "#FF6692",
           "#B6E880",
           "#FF97FF",
           "#FECB52"
          ],
          "font": {
           "color": "#2a3f5f"
          },
          "geo": {
           "bgcolor": "white",
           "lakecolor": "white",
           "landcolor": "#E5ECF6",
           "showlakes": true,
           "showland": true,
           "subunitcolor": "white"
          },
          "hoverlabel": {
           "align": "left"
          },
          "hovermode": "closest",
          "mapbox": {
           "style": "light"
          },
          "paper_bgcolor": "white",
          "plot_bgcolor": "#E5ECF6",
          "polar": {
           "angularaxis": {
            "gridcolor": "white",
            "linecolor": "white",
            "ticks": ""
           },
           "bgcolor": "#E5ECF6",
           "radialaxis": {
            "gridcolor": "white",
            "linecolor": "white",
            "ticks": ""
           }
          },
          "scene": {
           "xaxis": {
            "backgroundcolor": "#E5ECF6",
            "gridcolor": "white",
            "gridwidth": 2,
            "linecolor": "white",
            "showbackground": true,
            "ticks": "",
            "zerolinecolor": "white"
           },
           "yaxis": {
            "backgroundcolor": "#E5ECF6",
            "gridcolor": "white",
            "gridwidth": 2,
            "linecolor": "white",
            "showbackground": true,
            "ticks": "",
            "zerolinecolor": "white"
           },
           "zaxis": {
            "backgroundcolor": "#E5ECF6",
            "gridcolor": "white",
            "gridwidth": 2,
            "linecolor": "white",
            "showbackground": true,
            "ticks": "",
            "zerolinecolor": "white"
           }
          },
          "shapedefaults": {
           "line": {
            "color": "#2a3f5f"
           }
          },
          "ternary": {
           "aaxis": {
            "gridcolor": "white",
            "linecolor": "white",
            "ticks": ""
           },
           "baxis": {
            "gridcolor": "white",
            "linecolor": "white",
            "ticks": ""
           },
           "bgcolor": "#E5ECF6",
           "caxis": {
            "gridcolor": "white",
            "linecolor": "white",
            "ticks": ""
           }
          },
          "title": {
           "x": 0.05
          },
          "xaxis": {
           "automargin": true,
           "gridcolor": "white",
           "linecolor": "white",
           "ticks": "",
           "title": {
            "standoff": 15
           },
           "zerolinecolor": "white",
           "zerolinewidth": 2
          },
          "yaxis": {
           "automargin": true,
           "gridcolor": "white",
           "linecolor": "white",
           "ticks": "",
           "title": {
            "standoff": 15
           },
           "zerolinecolor": "white",
           "zerolinewidth": 2
          }
         }
        },
        "title": {
         "font": {
          "color": "#4D5663"
         }
        },
        "xaxis": {
         "gridcolor": "#E1E5ED",
         "showgrid": true,
         "tickfont": {
          "color": "#4D5663"
         },
         "title": {
          "font": {
           "color": "#4D5663"
          },
          "text": ""
         },
         "zerolinecolor": "#E1E5ED"
        },
        "yaxis": {
         "gridcolor": "#E1E5ED",
         "showgrid": true,
         "tickfont": {
          "color": "#4D5663"
         },
         "title": {
          "font": {
           "color": "#4D5663"
          },
          "text": ""
         },
         "zerolinecolor": "#E1E5ED"
        }
       }
      },
      "text/html": "<div>                            <div id=\"cf9de7ab-9711-4684-b242-280431559ff4\" class=\"plotly-graph-div\" style=\"height:525px; width:100%;\"></div>            <script type=\"text/javascript\">                require([\"plotly\"], function(Plotly) {                    window.PLOTLYENV=window.PLOTLYENV || {};\n                    window.PLOTLYENV.BASE_URL='https://plot.ly';                                    if (document.getElementById(\"cf9de7ab-9711-4684-b242-280431559ff4\")) {                    Plotly.newPlot(                        \"cf9de7ab-9711-4684-b242-280431559ff4\",                        [{\"marker\": {\"color\": \"rgba(255, 153, 51, 0.6)\", \"line\": {\"color\": \"rgba(255, 153, 51, 1.0)\", \"width\": 1}}, \"name\": \"None\", \"orientation\": \"v\", \"text\": \"\", \"type\": \"bar\", \"x\": [\"A\", \"B\", \"C\", \"D\"], \"y\": [6.222699589862306, -4.30171079911687, 4.9244893176255085, -4.374555444907581]}],                        {\"legend\": {\"bgcolor\": \"#F5F6F9\", \"font\": {\"color\": \"#4D5663\"}}, \"paper_bgcolor\": \"#F5F6F9\", \"plot_bgcolor\": \"#F5F6F9\", \"template\": {\"data\": {\"bar\": [{\"error_x\": {\"color\": \"#2a3f5f\"}, \"error_y\": {\"color\": \"#2a3f5f\"}, \"marker\": {\"line\": {\"color\": \"#E5ECF6\", \"width\": 0.5}}, \"type\": \"bar\"}], \"barpolar\": [{\"marker\": {\"line\": {\"color\": \"#E5ECF6\", \"width\": 0.5}}, \"type\": \"barpolar\"}], \"carpet\": [{\"aaxis\": {\"endlinecolor\": \"#2a3f5f\", \"gridcolor\": \"white\", \"linecolor\": \"white\", \"minorgridcolor\": \"white\", \"startlinecolor\": \"#2a3f5f\"}, \"baxis\": {\"endlinecolor\": \"#2a3f5f\", \"gridcolor\": \"white\", \"linecolor\": \"white\", \"minorgridcolor\": \"white\", \"startlinecolor\": \"#2a3f5f\"}, \"type\": \"carpet\"}], \"choropleth\": [{\"colorbar\": {\"outlinewidth\": 0, \"ticks\": \"\"}, \"type\": \"choropleth\"}], \"contour\": [{\"colorbar\": {\"outlinewidth\": 0, \"ticks\": \"\"}, \"colorscale\": [[0.0, \"#0d0887\"], [0.1111111111111111, \"#46039f\"], [0.2222222222222222, \"#7201a8\"], [0.3333333333333333, \"#9c179e\"], [0.4444444444444444, \"#bd3786\"], [0.5555555555555556, \"#d8576b\"], [0.6666666666666666, \"#ed7953\"], [0.7777777777777778, \"#fb9f3a\"], [0.8888888888888888, \"#fdca26\"], [1.0, \"#f0f921\"]], \"type\": \"contour\"}], \"contourcarpet\": [{\"colorbar\": {\"outlinewidth\": 0, \"ticks\": \"\"}, \"type\": \"contourcarpet\"}], \"heatmap\": [{\"colorbar\": {\"outlinewidth\": 0, \"ticks\": \"\"}, \"colorscale\": [[0.0, \"#0d0887\"], [0.1111111111111111, \"#46039f\"], [0.2222222222222222, \"#7201a8\"], [0.3333333333333333, \"#9c179e\"], [0.4444444444444444, \"#bd3786\"], [0.5555555555555556, \"#d8576b\"], [0.6666666666666666, \"#ed7953\"], [0.7777777777777778, \"#fb9f3a\"], [0.8888888888888888, \"#fdca26\"], [1.0, \"#f0f921\"]], \"type\": \"heatmap\"}], \"heatmapgl\": [{\"colorbar\": {\"outlinewidth\": 0, \"ticks\": \"\"}, \"colorscale\": [[0.0, \"#0d0887\"], [0.1111111111111111, \"#46039f\"], [0.2222222222222222, \"#7201a8\"], [0.3333333333333333, \"#9c179e\"], [0.4444444444444444, \"#bd3786\"], [0.5555555555555556, \"#d8576b\"], [0.6666666666666666, \"#ed7953\"], [0.7777777777777778, \"#fb9f3a\"], [0.8888888888888888, \"#fdca26\"], [1.0, \"#f0f921\"]], \"type\": \"heatmapgl\"}], \"histogram\": [{\"marker\": {\"colorbar\": {\"outlinewidth\": 0, \"ticks\": \"\"}}, \"type\": \"histogram\"}], \"histogram2d\": [{\"colorbar\": {\"outlinewidth\": 0, \"ticks\": \"\"}, \"colorscale\": [[0.0, \"#0d0887\"], [0.1111111111111111, \"#46039f\"], [0.2222222222222222, \"#7201a8\"], [0.3333333333333333, \"#9c179e\"], [0.4444444444444444, \"#bd3786\"], [0.5555555555555556, \"#d8576b\"], [0.6666666666666666, \"#ed7953\"], [0.7777777777777778, \"#fb9f3a\"], [0.8888888888888888, \"#fdca26\"], [1.0, \"#f0f921\"]], \"type\": \"histogram2d\"}], \"histogram2dcontour\": [{\"colorbar\": {\"outlinewidth\": 0, \"ticks\": \"\"}, \"colorscale\": [[0.0, \"#0d0887\"], [0.1111111111111111, \"#46039f\"], [0.2222222222222222, \"#7201a8\"], [0.3333333333333333, \"#9c179e\"], [0.4444444444444444, \"#bd3786\"], [0.5555555555555556, \"#d8576b\"], [0.6666666666666666, \"#ed7953\"], [0.7777777777777778, \"#fb9f3a\"], [0.8888888888888888, \"#fdca26\"], [1.0, \"#f0f921\"]], \"type\": \"histogram2dcontour\"}], \"mesh3d\": [{\"colorbar\": {\"outlinewidth\": 0, \"ticks\": \"\"}, \"type\": \"mesh3d\"}], \"parcoords\": [{\"line\": {\"colorbar\": {\"outlinewidth\": 0, \"ticks\": \"\"}}, \"type\": \"parcoords\"}], \"pie\": [{\"automargin\": true, \"type\": \"pie\"}], \"scatter\": [{\"marker\": {\"colorbar\": {\"outlinewidth\": 0, \"ticks\": \"\"}}, \"type\": \"scatter\"}], \"scatter3d\": [{\"line\": {\"colorbar\": {\"outlinewidth\": 0, \"ticks\": \"\"}}, \"marker\": {\"colorbar\": {\"outlinewidth\": 0, \"ticks\": \"\"}}, \"type\": \"scatter3d\"}], \"scattercarpet\": [{\"marker\": {\"colorbar\": {\"outlinewidth\": 0, \"ticks\": \"\"}}, \"type\": \"scattercarpet\"}], \"scattergeo\": [{\"marker\": {\"colorbar\": {\"outlinewidth\": 0, \"ticks\": \"\"}}, \"type\": \"scattergeo\"}], \"scattergl\": [{\"marker\": {\"colorbar\": {\"outlinewidth\": 0, \"ticks\": \"\"}}, \"type\": \"scattergl\"}], \"scattermapbox\": [{\"marker\": {\"colorbar\": {\"outlinewidth\": 0, \"ticks\": \"\"}}, \"type\": \"scattermapbox\"}], \"scatterpolar\": [{\"marker\": {\"colorbar\": {\"outlinewidth\": 0, \"ticks\": \"\"}}, \"type\": \"scatterpolar\"}], \"scatterpolargl\": [{\"marker\": {\"colorbar\": {\"outlinewidth\": 0, \"ticks\": \"\"}}, \"type\": \"scatterpolargl\"}], \"scatterternary\": [{\"marker\": {\"colorbar\": {\"outlinewidth\": 0, \"ticks\": \"\"}}, \"type\": \"scatterternary\"}], \"surface\": [{\"colorbar\": {\"outlinewidth\": 0, \"ticks\": \"\"}, \"colorscale\": [[0.0, \"#0d0887\"], [0.1111111111111111, \"#46039f\"], [0.2222222222222222, \"#7201a8\"], [0.3333333333333333, \"#9c179e\"], [0.4444444444444444, \"#bd3786\"], [0.5555555555555556, \"#d8576b\"], [0.6666666666666666, \"#ed7953\"], [0.7777777777777778, \"#fb9f3a\"], [0.8888888888888888, \"#fdca26\"], [1.0, \"#f0f921\"]], \"type\": \"surface\"}], \"table\": [{\"cells\": {\"fill\": {\"color\": \"#EBF0F8\"}, \"line\": {\"color\": \"white\"}}, \"header\": {\"fill\": {\"color\": \"#C8D4E3\"}, \"line\": {\"color\": \"white\"}}, \"type\": \"table\"}]}, \"layout\": {\"annotationdefaults\": {\"arrowcolor\": \"#2a3f5f\", \"arrowhead\": 0, \"arrowwidth\": 1}, \"autotypenumbers\": \"strict\", \"coloraxis\": {\"colorbar\": {\"outlinewidth\": 0, \"ticks\": \"\"}}, \"colorscale\": {\"diverging\": [[0, \"#8e0152\"], [0.1, \"#c51b7d\"], [0.2, \"#de77ae\"], [0.3, \"#f1b6da\"], [0.4, \"#fde0ef\"], [0.5, \"#f7f7f7\"], [0.6, \"#e6f5d0\"], [0.7, \"#b8e186\"], [0.8, \"#7fbc41\"], [0.9, \"#4d9221\"], [1, \"#276419\"]], \"sequential\": [[0.0, \"#0d0887\"], [0.1111111111111111, \"#46039f\"], [0.2222222222222222, \"#7201a8\"], [0.3333333333333333, \"#9c179e\"], [0.4444444444444444, \"#bd3786\"], [0.5555555555555556, \"#d8576b\"], [0.6666666666666666, \"#ed7953\"], [0.7777777777777778, \"#fb9f3a\"], [0.8888888888888888, \"#fdca26\"], [1.0, \"#f0f921\"]], \"sequentialminus\": [[0.0, \"#0d0887\"], [0.1111111111111111, \"#46039f\"], [0.2222222222222222, \"#7201a8\"], [0.3333333333333333, \"#9c179e\"], [0.4444444444444444, \"#bd3786\"], [0.5555555555555556, \"#d8576b\"], [0.6666666666666666, \"#ed7953\"], [0.7777777777777778, \"#fb9f3a\"], [0.8888888888888888, \"#fdca26\"], [1.0, \"#f0f921\"]]}, \"colorway\": [\"#636efa\", \"#EF553B\", \"#00cc96\", \"#ab63fa\", \"#FFA15A\", \"#19d3f3\", \"#FF6692\", \"#B6E880\", \"#FF97FF\", \"#FECB52\"], \"font\": {\"color\": \"#2a3f5f\"}, \"geo\": {\"bgcolor\": \"white\", \"lakecolor\": \"white\", \"landcolor\": \"#E5ECF6\", \"showlakes\": true, \"showland\": true, \"subunitcolor\": \"white\"}, \"hoverlabel\": {\"align\": \"left\"}, \"hovermode\": \"closest\", \"mapbox\": {\"style\": \"light\"}, \"paper_bgcolor\": \"white\", \"plot_bgcolor\": \"#E5ECF6\", \"polar\": {\"angularaxis\": {\"gridcolor\": \"white\", \"linecolor\": \"white\", \"ticks\": \"\"}, \"bgcolor\": \"#E5ECF6\", \"radialaxis\": {\"gridcolor\": \"white\", \"linecolor\": \"white\", \"ticks\": \"\"}}, \"scene\": {\"xaxis\": {\"backgroundcolor\": \"#E5ECF6\", \"gridcolor\": \"white\", \"gridwidth\": 2, \"linecolor\": \"white\", \"showbackground\": true, \"ticks\": \"\", \"zerolinecolor\": \"white\"}, \"yaxis\": {\"backgroundcolor\": \"#E5ECF6\", \"gridcolor\": \"white\", \"gridwidth\": 2, \"linecolor\": \"white\", \"showbackground\": true, \"ticks\": \"\", \"zerolinecolor\": \"white\"}, \"zaxis\": {\"backgroundcolor\": \"#E5ECF6\", \"gridcolor\": \"white\", \"gridwidth\": 2, \"linecolor\": \"white\", \"showbackground\": true, \"ticks\": \"\", \"zerolinecolor\": \"white\"}}, \"shapedefaults\": {\"line\": {\"color\": \"#2a3f5f\"}}, \"ternary\": {\"aaxis\": {\"gridcolor\": \"white\", \"linecolor\": \"white\", \"ticks\": \"\"}, \"baxis\": {\"gridcolor\": \"white\", \"linecolor\": \"white\", \"ticks\": \"\"}, \"bgcolor\": \"#E5ECF6\", \"caxis\": {\"gridcolor\": \"white\", \"linecolor\": \"white\", \"ticks\": \"\"}}, \"title\": {\"x\": 0.05}, \"xaxis\": {\"automargin\": true, \"gridcolor\": \"white\", \"linecolor\": \"white\", \"ticks\": \"\", \"title\": {\"standoff\": 15}, \"zerolinecolor\": \"white\", \"zerolinewidth\": 2}, \"yaxis\": {\"automargin\": true, \"gridcolor\": \"white\", \"linecolor\": \"white\", \"ticks\": \"\", \"title\": {\"standoff\": 15}, \"zerolinecolor\": \"white\", \"zerolinewidth\": 2}}}, \"title\": {\"font\": {\"color\": \"#4D5663\"}}, \"xaxis\": {\"gridcolor\": \"#E1E5ED\", \"showgrid\": true, \"tickfont\": {\"color\": \"#4D5663\"}, \"title\": {\"font\": {\"color\": \"#4D5663\"}, \"text\": \"\"}, \"zerolinecolor\": \"#E1E5ED\"}, \"yaxis\": {\"gridcolor\": \"#E1E5ED\", \"showgrid\": true, \"tickfont\": {\"color\": \"#4D5663\"}, \"title\": {\"font\": {\"color\": \"#4D5663\"}, \"text\": \"\"}, \"zerolinecolor\": \"#E1E5ED\"}},                        {\"showLink\": true, \"linkText\": \"Export to plot.ly\", \"plotlyServerURL\": \"https://plot.ly\", \"responsive\": true}                    ).then(function(){\n                            \nvar gd = document.getElementById('cf9de7ab-9711-4684-b242-280431559ff4');\nvar x = new MutationObserver(function (mutations, observer) {{\n        var display = window.getComputedStyle(gd).display;\n        if (!display || display === 'none') {{\n            console.log([gd, 'removed!']);\n            Plotly.purge(gd);\n            observer.disconnect();\n        }}\n}});\n\n// Listen for the removal of the full notebook cells\nvar notebookContainer = gd.closest('#notebook-container');\nif (notebookContainer) {{\n    x.observe(notebookContainer, {childList: true});\n}}\n\n// Listen for the clearing of the current output cell\nvar outputEl = gd.closest('.output');\nif (outputEl) {{\n    x.observe(outputEl, {childList: true});\n}}\n\n                        })                };                });            </script>        </div>"
     },
     "metadata": {}
    }
   ],
   "source": [
    "df.sum().iplot(kind='bar')"
   ]
  },
  {
   "cell_type": "code",
   "execution_count": 20,
   "metadata": {},
   "outputs": [
    {
     "output_type": "display_data",
     "data": {
      "application/vnd.plotly.v1+json": {
       "config": {
        "linkText": "Export to plot.ly",
        "plotlyServerURL": "https://plot.ly",
        "showLink": true
       },
       "data": [
        {
         "boxpoints": false,
         "line": {
          "width": 1.3
         },
         "marker": {
          "color": "rgba(255, 153, 51, 1.0)"
         },
         "name": "A",
         "orientation": "v",
         "type": "box",
         "y": [
          -1.286783666232087,
          0.7107277470430434,
          1.2206576987234354,
          2.670689230942479,
          -0.868396268279137,
          -0.7702505222952278,
          0.836826113651275,
          -1.310807545006144,
          -1.1454772976981726,
          -1.205923510011141,
          0.39104120063317915,
          1.480064786672829,
          -0.4371817585516773,
          0.31244387330147083,
          0.9522665120953734,
          -0.9064855359217587,
          0.15128185004249292,
          0.15061151479926002,
          0.2932767331797624,
          0.07523964284633954,
          0.29022474193827164,
          -0.15511464338925918,
          0.6235611994075417,
          0.385198796402805,
          -1.23041158492017,
          0.4146485818376867,
          1.3453276550476518,
          2.2200082297196575,
          0.4843022625460223,
          -0.9052875932660301,
          -1.2911658251962215,
          1.2239386431635257,
          0.5800060939722871,
          0.29463938749835283,
          -0.5274632830251935,
          -0.7462578578754884,
          1.692027647166309,
          -0.09695059770969566,
          0.4881840463183823,
          -0.025688346575201363,
          -1.3490757613768838,
          -0.39677880092704315,
          0.35675258383857994,
          -0.5443711678860995,
          -0.4195900621836775,
          0.6447505960385553,
          -1.0972813689106393,
          -0.07544670673084743,
          -1.680269752499829,
          0.5777182254380486,
          0.8773588872922171,
          -1.2744428237723746,
          0.4707650176747216,
          0.184743927621629,
          1.502286572568263,
          -0.047755807588705734,
          0.12565047824483858,
          -2.8697574169274644,
          -1.7358225932178784,
          -0.6272506704206392,
          -1.4433597294484304,
          2.4317752497855403,
          -1.4322358810549674,
          0.5091222176333856,
          -2.303424236839607,
          1.5614540931799474,
          1.755253217137435,
          -0.8962401197499275,
          0.6858890477096122,
          0.45111826271025357,
          0.3732627172869396,
          -0.11404699509388187,
          0.505163811090925,
          0.9893247964708458,
          1.6802152688092455,
          0.3775054456483596,
          0.5960017865897772,
          1.0021193126559254,
          -0.38771902641273304,
          0.7260151830561632,
          -0.5736145908308646,
          0.5696440774836763,
          -0.08440931256891603,
          1.7580084477921427,
          -0.9032392980072976,
          -1.702458506342066,
          -0.3268225203948594,
          0.24042744103696015,
          0.3251828854999993,
          -0.03164848102043208,
          1.1673040608017295,
          -0.5431973031609296,
          -1.9466362146927483,
          -0.0069860880888541945,
          1.99068233702783,
          -0.048360909178754935,
          0.4008717221536024,
          0.26080632462817355,
          -0.31858331702889736,
          -0.071197295683597
         ]
        },
        {
         "boxpoints": false,
         "line": {
          "width": 1.3
         },
         "marker": {
          "color": "rgba(55, 128, 191, 1.0)"
         },
         "name": "B",
         "orientation": "v",
         "type": "box",
         "y": [
          -1.2436419169159714,
          1.5692860019949753,
          -0.26671888492952217,
          0.2815640316896209,
          1.365892470714254,
          -1.0966017811139082,
          -1.7501437821712431,
          -1.819809038953777,
          0.3286795501646575,
          0.420218601730475,
          -0.4526951755973082,
          0.6428374710337051,
          -0.32814944019105596,
          1.9532810324072836,
          -0.8371761679909756,
          -1.50915051301245,
          -0.11553875435854695,
          -0.19808858021679637,
          0.08189178164630723,
          -1.1690479593556529,
          0.5426510623353725,
          -1.569302061901453,
          2.2472868053504014,
          -0.13122045124668472,
          -0.03454840736457979,
          0.004013916643951113,
          0.9156650742937736,
          -1.5630225390944321,
          -0.8692580183140872,
          0.7776652874301425,
          0.37059975574200205,
          -0.9999879818086167,
          0.6016464734009461,
          0.05210885734734563,
          0.10876319643384028,
          0.07223691516760487,
          -0.488979327879292,
          -1.2474974282935567,
          0.30088905771553354,
          0.8931102695066149,
          0.6345013410633477,
          -0.08705043588611751,
          -0.41296039681387836,
          1.6468689809139507,
          -1.2191028264563968,
          0.06846210845743836,
          1.0803348505760164,
          0.3663395830326163,
          -0.3837984909897694,
          -1.7462365995629416,
          0.9324003722594186,
          -0.3038268359150439,
          -0.8786412238263824,
          -1.419891446791575,
          2.163490032952582,
          -0.8058230604185269,
          0.10256406153351981,
          1.1139069699129942,
          0.49417906199734707,
          0.8760823766737829,
          -0.8948518726206427,
          -1.335563279231745,
          -0.27351425817938646,
          -1.6530349045940977,
          0.7796901069802878,
          0.3178371041948017,
          -0.5673257372555445,
          -0.36103792983823196,
          -0.17726997277506898,
          0.24843619696647495,
          -0.05052867323180514,
          -0.4471599049358513,
          -0.21938709534885703,
          -0.39712704411222405,
          1.6087610337457163,
          -0.43113504250683504,
          0.0018928069012562722,
          -0.9713837764015597,
          -0.9711257871443403,
          -1.201135432974757,
          0.6213409054564155,
          -0.3869811372641256,
          -0.2788357101710152,
          -0.20400907384209452,
          1.011917828496073,
          -0.8505328360888009,
          0.2379108955912931,
          0.4591865745990066,
          0.448859440096995,
          0.16970947821971874,
          3.070837746893535,
          0.6488164419269693,
          1.4007575897732754,
          0.17720275317090023,
          -1.0289729246587451,
          0.14937788270135635,
          -1.1679017277463055,
          0.9170428574901506,
          0.5245942932387379,
          -1.2885764393890806
         ]
        },
        {
         "boxpoints": false,
         "line": {
          "width": 1.3
         },
         "marker": {
          "color": "rgba(50, 171, 96, 1.0)"
         },
         "name": "C",
         "orientation": "v",
         "type": "box",
         "y": [
          0.37396880967063184,
          0.485819109135621,
          -0.6351379982448391,
          0.2741963480308266,
          0.28441154644745953,
          -0.5689584930430098,
          -1.7764037059962785,
          0.6939134036263318,
          -1.0914742699727626,
          1.0095698440273608,
          0.9038298373786826,
          0.45684967147341277,
          -0.8962791345502362,
          1.3612764577772003,
          0.769046148307588,
          0.6432139729219714,
          -0.1755969192591122,
          2.0646430510096456,
          0.32856162509179165,
          -0.45514672532900435,
          -2.0434119509245945,
          -0.22339369216589958,
          -0.4759677637897723,
          0.6879343719088479,
          2.0575370079714554,
          -0.2906158769931298,
          1.6976548541724978,
          -0.8469992960252449,
          -0.13834361912647716,
          -0.0645035615577513,
          0.38652777747444894,
          -1.193652114101707,
          0.13798097726775968,
          0.11739355751733577,
          -0.29005171504076405,
          1.627157188783857,
          -0.2495570014946859,
          -0.9545308102971303,
          0.13259597457059744,
          -0.6151063164608173,
          1.5855852311862595,
          0.3381393618125363,
          -1.6472132904138104,
          -0.2878903051600144,
          -0.5573359078645758,
          -0.2182996588047888,
          -0.4399013980494022,
          0.018500459702916396,
          0.09911511861381764,
          -1.310166314447082,
          -1.011624910552905,
          0.3627672280932037,
          2.1291298144680497,
          -1.1239492659211483,
          1.132863981267986,
          0.228193143647071,
          1.5462397079810524,
          -0.37878613122449806,
          0.694900629886083,
          -1.17025401083286,
          0.9470238842420337,
          0.235975316301273,
          0.3485324740626605,
          -2.5406164262331252,
          -0.08002575297053341,
          -0.11300007122142385,
          -1.3401640072724892,
          0.8417212679546352,
          1.6329062905357954,
          -1.3454419101981803,
          0.9372378100116274,
          2.3832122889079166,
          0.07327306689767413,
          0.17373054974580543,
          -0.6647941881929376,
          -0.00037142532747681123,
          0.7163662020598183,
          0.32191937697929285,
          -0.4296635297447678,
          0.8816471136098253,
          -0.14935605702660373,
          0.151772180187301,
          0.000528971197049543,
          -0.28363103855286514,
          0.2737045895924919,
          0.1699482265529984,
          -1.79500990750334,
          -1.1352030321961761,
          0.3886533963873723,
          1.1369473253097777,
          0.651769135275047,
          -2.6241863552765903,
          1.645556210994583,
          -1.9333901442105705,
          0.20229028335327418,
          -0.3980462068338803,
          1.7856968855129687,
          1.0960542932501087,
          -0.3958576865717353,
          -0.3421841355431247
         ]
        },
        {
         "boxpoints": false,
         "line": {
          "width": 1.3
         },
         "marker": {
          "color": "rgba(128, 0, 128, 1.0)"
         },
         "name": "D",
         "orientation": "v",
         "type": "box",
         "y": [
          0.10019236738679081,
          -0.40841508789911957,
          1.0880229661305265,
          0.8652643944491681,
          1.3813365573972627,
          -0.169563633595409,
          0.038547582019666356,
          0.9351786616657,
          -1.0904950978675008,
          0.19268230113792,
          0.1530437529903397,
          -0.9610632000620131,
          -0.5038638512539662,
          -0.02868819597412543,
          -1.2335143536151583,
          1.1044638647618985,
          -0.6527092429430541,
          -0.8502834548902157,
          -0.40308864747020284,
          1.4624063406367676,
          1.3030882168079807,
          0.5241584507546425,
          0.6897611065671335,
          0.23926206221512422,
          0.24550106500734678,
          0.6909064800055937,
          -0.1673623231286305,
          0.7936079202105257,
          1.8199648806134523,
          0.301111283765011,
          1.0641146030563275,
          0.6448701953770855,
          0.2251783887729817,
          -0.9507188720770672,
          -0.7093120654633488,
          1.089640515089958,
          1.2809723177519126,
          -0.29213577576302396,
          0.8401524823296217,
          1.3612755483625067,
          -0.7887741864274915,
          0.07124897413292046,
          -1.3512883291770754,
          -0.10483471513171659,
          -1.5414038063267268,
          0.7332792909199604,
          -0.4939546441889498,
          -0.8235826072554355,
          -2.3004448240965285,
          0.2490397916340618,
          -0.5990708012169211,
          -1.2344307225948057,
          -0.8966920186126316,
          -0.47663875979347725,
          1.1507271840045061,
          0.7421092404767009,
          -0.5914113744398791,
          0.6548386359286849,
          -0.33790160370389055,
          0.03533295024022777,
          0.8938341719693075,
          1.3743900300018788,
          -1.3341019341955622,
          1.875743005624606,
          -1.0055707978403516,
          -1.6601376077024619,
          -1.3046740142778521,
          -1.018030650858319,
          0.17082439143206524,
          -1.8726614680965534,
          0.3032064240152828,
          1.3407798761113288,
          -0.8363083792726096,
          0.23864738387964837,
          0.47506377189916993,
          -1.1069809945297964,
          -0.08375769526089903,
          0.32085502528923615,
          0.24797469587709156,
          0.13233284186777314,
          -0.5749664374502748,
          0.18924251545318685,
          -1.85326268569658,
          -2.1190778632475866,
          -0.28196115986216985,
          0.5524679622264345,
          1.4420384970602615,
          -0.09627353663918234,
          -1.0522201787108096,
          0.279740918763895,
          0.09830663201071498,
          -0.2133013467076015,
          1.3106378629150464,
          -1.2637309305944364,
          -0.16618105889914972,
          -0.9608995743323465,
          -0.698163313743797,
          1.6340863943666697,
          -0.5120062660189111,
          -1.3500981293658665
         ]
        }
       ],
       "layout": {
        "legend": {
         "bgcolor": "#F5F6F9",
         "font": {
          "color": "#4D5663"
         }
        },
        "paper_bgcolor": "#F5F6F9",
        "plot_bgcolor": "#F5F6F9",
        "template": {
         "data": {
          "bar": [
           {
            "error_x": {
             "color": "#2a3f5f"
            },
            "error_y": {
             "color": "#2a3f5f"
            },
            "marker": {
             "line": {
              "color": "#E5ECF6",
              "width": 0.5
             }
            },
            "type": "bar"
           }
          ],
          "barpolar": [
           {
            "marker": {
             "line": {
              "color": "#E5ECF6",
              "width": 0.5
             }
            },
            "type": "barpolar"
           }
          ],
          "carpet": [
           {
            "aaxis": {
             "endlinecolor": "#2a3f5f",
             "gridcolor": "white",
             "linecolor": "white",
             "minorgridcolor": "white",
             "startlinecolor": "#2a3f5f"
            },
            "baxis": {
             "endlinecolor": "#2a3f5f",
             "gridcolor": "white",
             "linecolor": "white",
             "minorgridcolor": "white",
             "startlinecolor": "#2a3f5f"
            },
            "type": "carpet"
           }
          ],
          "choropleth": [
           {
            "colorbar": {
             "outlinewidth": 0,
             "ticks": ""
            },
            "type": "choropleth"
           }
          ],
          "contour": [
           {
            "colorbar": {
             "outlinewidth": 0,
             "ticks": ""
            },
            "colorscale": [
             [
              0,
              "#0d0887"
             ],
             [
              0.1111111111111111,
              "#46039f"
             ],
             [
              0.2222222222222222,
              "#7201a8"
             ],
             [
              0.3333333333333333,
              "#9c179e"
             ],
             [
              0.4444444444444444,
              "#bd3786"
             ],
             [
              0.5555555555555556,
              "#d8576b"
             ],
             [
              0.6666666666666666,
              "#ed7953"
             ],
             [
              0.7777777777777778,
              "#fb9f3a"
             ],
             [
              0.8888888888888888,
              "#fdca26"
             ],
             [
              1,
              "#f0f921"
             ]
            ],
            "type": "contour"
           }
          ],
          "contourcarpet": [
           {
            "colorbar": {
             "outlinewidth": 0,
             "ticks": ""
            },
            "type": "contourcarpet"
           }
          ],
          "heatmap": [
           {
            "colorbar": {
             "outlinewidth": 0,
             "ticks": ""
            },
            "colorscale": [
             [
              0,
              "#0d0887"
             ],
             [
              0.1111111111111111,
              "#46039f"
             ],
             [
              0.2222222222222222,
              "#7201a8"
             ],
             [
              0.3333333333333333,
              "#9c179e"
             ],
             [
              0.4444444444444444,
              "#bd3786"
             ],
             [
              0.5555555555555556,
              "#d8576b"
             ],
             [
              0.6666666666666666,
              "#ed7953"
             ],
             [
              0.7777777777777778,
              "#fb9f3a"
             ],
             [
              0.8888888888888888,
              "#fdca26"
             ],
             [
              1,
              "#f0f921"
             ]
            ],
            "type": "heatmap"
           }
          ],
          "heatmapgl": [
           {
            "colorbar": {
             "outlinewidth": 0,
             "ticks": ""
            },
            "colorscale": [
             [
              0,
              "#0d0887"
             ],
             [
              0.1111111111111111,
              "#46039f"
             ],
             [
              0.2222222222222222,
              "#7201a8"
             ],
             [
              0.3333333333333333,
              "#9c179e"
             ],
             [
              0.4444444444444444,
              "#bd3786"
             ],
             [
              0.5555555555555556,
              "#d8576b"
             ],
             [
              0.6666666666666666,
              "#ed7953"
             ],
             [
              0.7777777777777778,
              "#fb9f3a"
             ],
             [
              0.8888888888888888,
              "#fdca26"
             ],
             [
              1,
              "#f0f921"
             ]
            ],
            "type": "heatmapgl"
           }
          ],
          "histogram": [
           {
            "marker": {
             "colorbar": {
              "outlinewidth": 0,
              "ticks": ""
             }
            },
            "type": "histogram"
           }
          ],
          "histogram2d": [
           {
            "colorbar": {
             "outlinewidth": 0,
             "ticks": ""
            },
            "colorscale": [
             [
              0,
              "#0d0887"
             ],
             [
              0.1111111111111111,
              "#46039f"
             ],
             [
              0.2222222222222222,
              "#7201a8"
             ],
             [
              0.3333333333333333,
              "#9c179e"
             ],
             [
              0.4444444444444444,
              "#bd3786"
             ],
             [
              0.5555555555555556,
              "#d8576b"
             ],
             [
              0.6666666666666666,
              "#ed7953"
             ],
             [
              0.7777777777777778,
              "#fb9f3a"
             ],
             [
              0.8888888888888888,
              "#fdca26"
             ],
             [
              1,
              "#f0f921"
             ]
            ],
            "type": "histogram2d"
           }
          ],
          "histogram2dcontour": [
           {
            "colorbar": {
             "outlinewidth": 0,
             "ticks": ""
            },
            "colorscale": [
             [
              0,
              "#0d0887"
             ],
             [
              0.1111111111111111,
              "#46039f"
             ],
             [
              0.2222222222222222,
              "#7201a8"
             ],
             [
              0.3333333333333333,
              "#9c179e"
             ],
             [
              0.4444444444444444,
              "#bd3786"
             ],
             [
              0.5555555555555556,
              "#d8576b"
             ],
             [
              0.6666666666666666,
              "#ed7953"
             ],
             [
              0.7777777777777778,
              "#fb9f3a"
             ],
             [
              0.8888888888888888,
              "#fdca26"
             ],
             [
              1,
              "#f0f921"
             ]
            ],
            "type": "histogram2dcontour"
           }
          ],
          "mesh3d": [
           {
            "colorbar": {
             "outlinewidth": 0,
             "ticks": ""
            },
            "type": "mesh3d"
           }
          ],
          "parcoords": [
           {
            "line": {
             "colorbar": {
              "outlinewidth": 0,
              "ticks": ""
             }
            },
            "type": "parcoords"
           }
          ],
          "pie": [
           {
            "automargin": true,
            "type": "pie"
           }
          ],
          "scatter": [
           {
            "marker": {
             "colorbar": {
              "outlinewidth": 0,
              "ticks": ""
             }
            },
            "type": "scatter"
           }
          ],
          "scatter3d": [
           {
            "line": {
             "colorbar": {
              "outlinewidth": 0,
              "ticks": ""
             }
            },
            "marker": {
             "colorbar": {
              "outlinewidth": 0,
              "ticks": ""
             }
            },
            "type": "scatter3d"
           }
          ],
          "scattercarpet": [
           {
            "marker": {
             "colorbar": {
              "outlinewidth": 0,
              "ticks": ""
             }
            },
            "type": "scattercarpet"
           }
          ],
          "scattergeo": [
           {
            "marker": {
             "colorbar": {
              "outlinewidth": 0,
              "ticks": ""
             }
            },
            "type": "scattergeo"
           }
          ],
          "scattergl": [
           {
            "marker": {
             "colorbar": {
              "outlinewidth": 0,
              "ticks": ""
             }
            },
            "type": "scattergl"
           }
          ],
          "scattermapbox": [
           {
            "marker": {
             "colorbar": {
              "outlinewidth": 0,
              "ticks": ""
             }
            },
            "type": "scattermapbox"
           }
          ],
          "scatterpolar": [
           {
            "marker": {
             "colorbar": {
              "outlinewidth": 0,
              "ticks": ""
             }
            },
            "type": "scatterpolar"
           }
          ],
          "scatterpolargl": [
           {
            "marker": {
             "colorbar": {
              "outlinewidth": 0,
              "ticks": ""
             }
            },
            "type": "scatterpolargl"
           }
          ],
          "scatterternary": [
           {
            "marker": {
             "colorbar": {
              "outlinewidth": 0,
              "ticks": ""
             }
            },
            "type": "scatterternary"
           }
          ],
          "surface": [
           {
            "colorbar": {
             "outlinewidth": 0,
             "ticks": ""
            },
            "colorscale": [
             [
              0,
              "#0d0887"
             ],
             [
              0.1111111111111111,
              "#46039f"
             ],
             [
              0.2222222222222222,
              "#7201a8"
             ],
             [
              0.3333333333333333,
              "#9c179e"
             ],
             [
              0.4444444444444444,
              "#bd3786"
             ],
             [
              0.5555555555555556,
              "#d8576b"
             ],
             [
              0.6666666666666666,
              "#ed7953"
             ],
             [
              0.7777777777777778,
              "#fb9f3a"
             ],
             [
              0.8888888888888888,
              "#fdca26"
             ],
             [
              1,
              "#f0f921"
             ]
            ],
            "type": "surface"
           }
          ],
          "table": [
           {
            "cells": {
             "fill": {
              "color": "#EBF0F8"
             },
             "line": {
              "color": "white"
             }
            },
            "header": {
             "fill": {
              "color": "#C8D4E3"
             },
             "line": {
              "color": "white"
             }
            },
            "type": "table"
           }
          ]
         },
         "layout": {
          "annotationdefaults": {
           "arrowcolor": "#2a3f5f",
           "arrowhead": 0,
           "arrowwidth": 1
          },
          "autotypenumbers": "strict",
          "coloraxis": {
           "colorbar": {
            "outlinewidth": 0,
            "ticks": ""
           }
          },
          "colorscale": {
           "diverging": [
            [
             0,
             "#8e0152"
            ],
            [
             0.1,
             "#c51b7d"
            ],
            [
             0.2,
             "#de77ae"
            ],
            [
             0.3,
             "#f1b6da"
            ],
            [
             0.4,
             "#fde0ef"
            ],
            [
             0.5,
             "#f7f7f7"
            ],
            [
             0.6,
             "#e6f5d0"
            ],
            [
             0.7,
             "#b8e186"
            ],
            [
             0.8,
             "#7fbc41"
            ],
            [
             0.9,
             "#4d9221"
            ],
            [
             1,
             "#276419"
            ]
           ],
           "sequential": [
            [
             0,
             "#0d0887"
            ],
            [
             0.1111111111111111,
             "#46039f"
            ],
            [
             0.2222222222222222,
             "#7201a8"
            ],
            [
             0.3333333333333333,
             "#9c179e"
            ],
            [
             0.4444444444444444,
             "#bd3786"
            ],
            [
             0.5555555555555556,
             "#d8576b"
            ],
            [
             0.6666666666666666,
             "#ed7953"
            ],
            [
             0.7777777777777778,
             "#fb9f3a"
            ],
            [
             0.8888888888888888,
             "#fdca26"
            ],
            [
             1,
             "#f0f921"
            ]
           ],
           "sequentialminus": [
            [
             0,
             "#0d0887"
            ],
            [
             0.1111111111111111,
             "#46039f"
            ],
            [
             0.2222222222222222,
             "#7201a8"
            ],
            [
             0.3333333333333333,
             "#9c179e"
            ],
            [
             0.4444444444444444,
             "#bd3786"
            ],
            [
             0.5555555555555556,
             "#d8576b"
            ],
            [
             0.6666666666666666,
             "#ed7953"
            ],
            [
             0.7777777777777778,
             "#fb9f3a"
            ],
            [
             0.8888888888888888,
             "#fdca26"
            ],
            [
             1,
             "#f0f921"
            ]
           ]
          },
          "colorway": [
           "#636efa",
           "#EF553B",
           "#00cc96",
           "#ab63fa",
           "#FFA15A",
           "#19d3f3",
           "#FF6692",
           "#B6E880",
           "#FF97FF",
           "#FECB52"
          ],
          "font": {
           "color": "#2a3f5f"
          },
          "geo": {
           "bgcolor": "white",
           "lakecolor": "white",
           "landcolor": "#E5ECF6",
           "showlakes": true,
           "showland": true,
           "subunitcolor": "white"
          },
          "hoverlabel": {
           "align": "left"
          },
          "hovermode": "closest",
          "mapbox": {
           "style": "light"
          },
          "paper_bgcolor": "white",
          "plot_bgcolor": "#E5ECF6",
          "polar": {
           "angularaxis": {
            "gridcolor": "white",
            "linecolor": "white",
            "ticks": ""
           },
           "bgcolor": "#E5ECF6",
           "radialaxis": {
            "gridcolor": "white",
            "linecolor": "white",
            "ticks": ""
           }
          },
          "scene": {
           "xaxis": {
            "backgroundcolor": "#E5ECF6",
            "gridcolor": "white",
            "gridwidth": 2,
            "linecolor": "white",
            "showbackground": true,
            "ticks": "",
            "zerolinecolor": "white"
           },
           "yaxis": {
            "backgroundcolor": "#E5ECF6",
            "gridcolor": "white",
            "gridwidth": 2,
            "linecolor": "white",
            "showbackground": true,
            "ticks": "",
            "zerolinecolor": "white"
           },
           "zaxis": {
            "backgroundcolor": "#E5ECF6",
            "gridcolor": "white",
            "gridwidth": 2,
            "linecolor": "white",
            "showbackground": true,
            "ticks": "",
            "zerolinecolor": "white"
           }
          },
          "shapedefaults": {
           "line": {
            "color": "#2a3f5f"
           }
          },
          "ternary": {
           "aaxis": {
            "gridcolor": "white",
            "linecolor": "white",
            "ticks": ""
           },
           "baxis": {
            "gridcolor": "white",
            "linecolor": "white",
            "ticks": ""
           },
           "bgcolor": "#E5ECF6",
           "caxis": {
            "gridcolor": "white",
            "linecolor": "white",
            "ticks": ""
           }
          },
          "title": {
           "x": 0.05
          },
          "xaxis": {
           "automargin": true,
           "gridcolor": "white",
           "linecolor": "white",
           "ticks": "",
           "title": {
            "standoff": 15
           },
           "zerolinecolor": "white",
           "zerolinewidth": 2
          },
          "yaxis": {
           "automargin": true,
           "gridcolor": "white",
           "linecolor": "white",
           "ticks": "",
           "title": {
            "standoff": 15
           },
           "zerolinecolor": "white",
           "zerolinewidth": 2
          }
         }
        },
        "title": {
         "font": {
          "color": "#4D5663"
         }
        },
        "xaxis": {
         "gridcolor": "#E1E5ED",
         "showgrid": true,
         "tickfont": {
          "color": "#4D5663"
         },
         "title": {
          "font": {
           "color": "#4D5663"
          },
          "text": ""
         },
         "zerolinecolor": "#E1E5ED"
        },
        "yaxis": {
         "gridcolor": "#E1E5ED",
         "showgrid": true,
         "tickfont": {
          "color": "#4D5663"
         },
         "title": {
          "font": {
           "color": "#4D5663"
          },
          "text": ""
         },
         "zerolinecolor": "#E1E5ED"
        }
       }
      },
      "text/html": "<div>                            <div id=\"5d31d947-293d-4871-9cee-c99f4a5f8a1a\" class=\"plotly-graph-div\" style=\"height:525px; width:100%;\"></div>            <script type=\"text/javascript\">                require([\"plotly\"], function(Plotly) {                    window.PLOTLYENV=window.PLOTLYENV || {};\n                    window.PLOTLYENV.BASE_URL='https://plot.ly';                                    if (document.getElementById(\"5d31d947-293d-4871-9cee-c99f4a5f8a1a\")) {                    Plotly.newPlot(                        \"5d31d947-293d-4871-9cee-c99f4a5f8a1a\",                        [{\"boxpoints\": false, \"line\": {\"width\": 1.3}, \"marker\": {\"color\": \"rgba(255, 153, 51, 1.0)\"}, \"name\": \"A\", \"orientation\": \"v\", \"type\": \"box\", \"y\": [-1.286783666232087, 0.7107277470430434, 1.2206576987234354, 2.670689230942479, -0.868396268279137, -0.7702505222952278, 0.836826113651275, -1.310807545006144, -1.1454772976981726, -1.205923510011141, 0.39104120063317915, 1.480064786672829, -0.4371817585516773, 0.31244387330147083, 0.9522665120953734, -0.9064855359217587, 0.15128185004249292, 0.15061151479926002, 0.2932767331797624, 0.07523964284633954, 0.29022474193827164, -0.15511464338925918, 0.6235611994075417, 0.385198796402805, -1.23041158492017, 0.4146485818376867, 1.3453276550476518, 2.2200082297196575, 0.4843022625460223, -0.9052875932660301, -1.2911658251962215, 1.2239386431635257, 0.5800060939722871, 0.29463938749835283, -0.5274632830251935, -0.7462578578754884, 1.692027647166309, -0.09695059770969566, 0.4881840463183823, -0.025688346575201363, -1.3490757613768838, -0.39677880092704315, 0.35675258383857994, -0.5443711678860995, -0.4195900621836775, 0.6447505960385553, -1.0972813689106393, -0.07544670673084743, -1.680269752499829, 0.5777182254380486, 0.8773588872922171, -1.2744428237723746, 0.4707650176747216, 0.184743927621629, 1.502286572568263, -0.047755807588705734, 0.12565047824483858, -2.8697574169274644, -1.7358225932178784, -0.6272506704206392, -1.4433597294484304, 2.4317752497855403, -1.4322358810549674, 0.5091222176333856, -2.303424236839607, 1.5614540931799474, 1.755253217137435, -0.8962401197499275, 0.6858890477096122, 0.45111826271025357, 0.3732627172869396, -0.11404699509388187, 0.505163811090925, 0.9893247964708458, 1.6802152688092455, 0.3775054456483596, 0.5960017865897772, 1.0021193126559254, -0.38771902641273304, 0.7260151830561632, -0.5736145908308646, 0.5696440774836763, -0.08440931256891603, 1.7580084477921427, -0.9032392980072976, -1.702458506342066, -0.3268225203948594, 0.24042744103696015, 0.3251828854999993, -0.03164848102043208, 1.1673040608017295, -0.5431973031609296, -1.9466362146927483, -0.0069860880888541945, 1.99068233702783, -0.048360909178754935, 0.4008717221536024, 0.26080632462817355, -0.31858331702889736, -0.071197295683597]}, {\"boxpoints\": false, \"line\": {\"width\": 1.3}, \"marker\": {\"color\": \"rgba(55, 128, 191, 1.0)\"}, \"name\": \"B\", \"orientation\": \"v\", \"type\": \"box\", \"y\": [-1.2436419169159714, 1.5692860019949753, -0.26671888492952217, 0.2815640316896209, 1.365892470714254, -1.0966017811139082, -1.7501437821712431, -1.819809038953777, 0.3286795501646575, 0.420218601730475, -0.4526951755973082, 0.6428374710337051, -0.32814944019105596, 1.9532810324072836, -0.8371761679909756, -1.50915051301245, -0.11553875435854695, -0.19808858021679637, 0.08189178164630723, -1.1690479593556529, 0.5426510623353725, -1.569302061901453, 2.2472868053504014, -0.13122045124668472, -0.03454840736457979, 0.004013916643951113, 0.9156650742937736, -1.5630225390944321, -0.8692580183140872, 0.7776652874301425, 0.37059975574200205, -0.9999879818086167, 0.6016464734009461, 0.05210885734734563, 0.10876319643384028, 0.07223691516760487, -0.488979327879292, -1.2474974282935567, 0.30088905771553354, 0.8931102695066149, 0.6345013410633477, -0.08705043588611751, -0.41296039681387836, 1.6468689809139507, -1.2191028264563968, 0.06846210845743836, 1.0803348505760164, 0.3663395830326163, -0.3837984909897694, -1.7462365995629416, 0.9324003722594186, -0.3038268359150439, -0.8786412238263824, -1.419891446791575, 2.163490032952582, -0.8058230604185269, 0.10256406153351981, 1.1139069699129942, 0.49417906199734707, 0.8760823766737829, -0.8948518726206427, -1.335563279231745, -0.27351425817938646, -1.6530349045940977, 0.7796901069802878, 0.3178371041948017, -0.5673257372555445, -0.36103792983823196, -0.17726997277506898, 0.24843619696647495, -0.05052867323180514, -0.4471599049358513, -0.21938709534885703, -0.39712704411222405, 1.6087610337457163, -0.43113504250683504, 0.0018928069012562722, -0.9713837764015597, -0.9711257871443403, -1.201135432974757, 0.6213409054564155, -0.3869811372641256, -0.2788357101710152, -0.20400907384209452, 1.011917828496073, -0.8505328360888009, 0.2379108955912931, 0.4591865745990066, 0.448859440096995, 0.16970947821971874, 3.070837746893535, 0.6488164419269693, 1.4007575897732754, 0.17720275317090023, -1.0289729246587451, 0.14937788270135635, -1.1679017277463055, 0.9170428574901506, 0.5245942932387379, -1.2885764393890806]}, {\"boxpoints\": false, \"line\": {\"width\": 1.3}, \"marker\": {\"color\": \"rgba(50, 171, 96, 1.0)\"}, \"name\": \"C\", \"orientation\": \"v\", \"type\": \"box\", \"y\": [0.37396880967063184, 0.485819109135621, -0.6351379982448391, 0.2741963480308266, 0.28441154644745953, -0.5689584930430098, -1.7764037059962785, 0.6939134036263318, -1.0914742699727626, 1.0095698440273608, 0.9038298373786826, 0.45684967147341277, -0.8962791345502362, 1.3612764577772003, 0.769046148307588, 0.6432139729219714, -0.1755969192591122, 2.0646430510096456, 0.32856162509179165, -0.45514672532900435, -2.0434119509245945, -0.22339369216589958, -0.4759677637897723, 0.6879343719088479, 2.0575370079714554, -0.2906158769931298, 1.6976548541724978, -0.8469992960252449, -0.13834361912647716, -0.0645035615577513, 0.38652777747444894, -1.193652114101707, 0.13798097726775968, 0.11739355751733577, -0.29005171504076405, 1.627157188783857, -0.2495570014946859, -0.9545308102971303, 0.13259597457059744, -0.6151063164608173, 1.5855852311862595, 0.3381393618125363, -1.6472132904138104, -0.2878903051600144, -0.5573359078645758, -0.2182996588047888, -0.4399013980494022, 0.018500459702916396, 0.09911511861381764, -1.310166314447082, -1.011624910552905, 0.3627672280932037, 2.1291298144680497, -1.1239492659211483, 1.132863981267986, 0.228193143647071, 1.5462397079810524, -0.37878613122449806, 0.694900629886083, -1.17025401083286, 0.9470238842420337, 0.235975316301273, 0.3485324740626605, -2.5406164262331252, -0.08002575297053341, -0.11300007122142385, -1.3401640072724892, 0.8417212679546352, 1.6329062905357954, -1.3454419101981803, 0.9372378100116274, 2.3832122889079166, 0.07327306689767413, 0.17373054974580543, -0.6647941881929376, -0.00037142532747681123, 0.7163662020598183, 0.32191937697929285, -0.4296635297447678, 0.8816471136098253, -0.14935605702660373, 0.151772180187301, 0.000528971197049543, -0.28363103855286514, 0.2737045895924919, 0.1699482265529984, -1.79500990750334, -1.1352030321961761, 0.3886533963873723, 1.1369473253097777, 0.651769135275047, -2.6241863552765903, 1.645556210994583, -1.9333901442105705, 0.20229028335327418, -0.3980462068338803, 1.7856968855129687, 1.0960542932501087, -0.3958576865717353, -0.3421841355431247]}, {\"boxpoints\": false, \"line\": {\"width\": 1.3}, \"marker\": {\"color\": \"rgba(128, 0, 128, 1.0)\"}, \"name\": \"D\", \"orientation\": \"v\", \"type\": \"box\", \"y\": [0.10019236738679081, -0.40841508789911957, 1.0880229661305265, 0.8652643944491681, 1.3813365573972627, -0.169563633595409, 0.038547582019666356, 0.9351786616657, -1.0904950978675008, 0.19268230113792, 0.1530437529903397, -0.9610632000620131, -0.5038638512539662, -0.02868819597412543, -1.2335143536151583, 1.1044638647618985, -0.6527092429430541, -0.8502834548902157, -0.40308864747020284, 1.4624063406367676, 1.3030882168079807, 0.5241584507546425, 0.6897611065671335, 0.23926206221512422, 0.24550106500734678, 0.6909064800055937, -0.1673623231286305, 0.7936079202105257, 1.8199648806134523, 0.301111283765011, 1.0641146030563275, 0.6448701953770855, 0.2251783887729817, -0.9507188720770672, -0.7093120654633488, 1.089640515089958, 1.2809723177519126, -0.29213577576302396, 0.8401524823296217, 1.3612755483625067, -0.7887741864274915, 0.07124897413292046, -1.3512883291770754, -0.10483471513171659, -1.5414038063267268, 0.7332792909199604, -0.4939546441889498, -0.8235826072554355, -2.3004448240965285, 0.2490397916340618, -0.5990708012169211, -1.2344307225948057, -0.8966920186126316, -0.47663875979347725, 1.1507271840045061, 0.7421092404767009, -0.5914113744398791, 0.6548386359286849, -0.33790160370389055, 0.03533295024022777, 0.8938341719693075, 1.3743900300018788, -1.3341019341955622, 1.875743005624606, -1.0055707978403516, -1.6601376077024619, -1.3046740142778521, -1.018030650858319, 0.17082439143206524, -1.8726614680965534, 0.3032064240152828, 1.3407798761113288, -0.8363083792726096, 0.23864738387964837, 0.47506377189916993, -1.1069809945297964, -0.08375769526089903, 0.32085502528923615, 0.24797469587709156, 0.13233284186777314, -0.5749664374502748, 0.18924251545318685, -1.85326268569658, -2.1190778632475866, -0.28196115986216985, 0.5524679622264345, 1.4420384970602615, -0.09627353663918234, -1.0522201787108096, 0.279740918763895, 0.09830663201071498, -0.2133013467076015, 1.3106378629150464, -1.2637309305944364, -0.16618105889914972, -0.9608995743323465, -0.698163313743797, 1.6340863943666697, -0.5120062660189111, -1.3500981293658665]}],                        {\"legend\": {\"bgcolor\": \"#F5F6F9\", \"font\": {\"color\": \"#4D5663\"}}, \"paper_bgcolor\": \"#F5F6F9\", \"plot_bgcolor\": \"#F5F6F9\", \"template\": {\"data\": {\"bar\": [{\"error_x\": {\"color\": \"#2a3f5f\"}, \"error_y\": {\"color\": \"#2a3f5f\"}, \"marker\": {\"line\": {\"color\": \"#E5ECF6\", \"width\": 0.5}}, \"type\": \"bar\"}], \"barpolar\": [{\"marker\": {\"line\": {\"color\": \"#E5ECF6\", \"width\": 0.5}}, \"type\": \"barpolar\"}], \"carpet\": [{\"aaxis\": {\"endlinecolor\": \"#2a3f5f\", \"gridcolor\": \"white\", \"linecolor\": \"white\", \"minorgridcolor\": \"white\", \"startlinecolor\": \"#2a3f5f\"}, \"baxis\": {\"endlinecolor\": \"#2a3f5f\", \"gridcolor\": \"white\", \"linecolor\": \"white\", \"minorgridcolor\": \"white\", \"startlinecolor\": \"#2a3f5f\"}, \"type\": \"carpet\"}], \"choropleth\": [{\"colorbar\": {\"outlinewidth\": 0, \"ticks\": \"\"}, \"type\": \"choropleth\"}], \"contour\": [{\"colorbar\": {\"outlinewidth\": 0, \"ticks\": \"\"}, \"colorscale\": [[0.0, \"#0d0887\"], [0.1111111111111111, \"#46039f\"], [0.2222222222222222, \"#7201a8\"], [0.3333333333333333, \"#9c179e\"], [0.4444444444444444, \"#bd3786\"], [0.5555555555555556, \"#d8576b\"], [0.6666666666666666, \"#ed7953\"], [0.7777777777777778, \"#fb9f3a\"], [0.8888888888888888, \"#fdca26\"], [1.0, \"#f0f921\"]], \"type\": \"contour\"}], \"contourcarpet\": [{\"colorbar\": {\"outlinewidth\": 0, \"ticks\": \"\"}, \"type\": \"contourcarpet\"}], \"heatmap\": [{\"colorbar\": {\"outlinewidth\": 0, \"ticks\": \"\"}, \"colorscale\": [[0.0, \"#0d0887\"], [0.1111111111111111, \"#46039f\"], [0.2222222222222222, \"#7201a8\"], [0.3333333333333333, \"#9c179e\"], [0.4444444444444444, \"#bd3786\"], [0.5555555555555556, \"#d8576b\"], [0.6666666666666666, \"#ed7953\"], [0.7777777777777778, \"#fb9f3a\"], [0.8888888888888888, \"#fdca26\"], [1.0, \"#f0f921\"]], \"type\": \"heatmap\"}], \"heatmapgl\": [{\"colorbar\": {\"outlinewidth\": 0, \"ticks\": \"\"}, \"colorscale\": [[0.0, \"#0d0887\"], [0.1111111111111111, \"#46039f\"], [0.2222222222222222, \"#7201a8\"], [0.3333333333333333, \"#9c179e\"], [0.4444444444444444, \"#bd3786\"], [0.5555555555555556, \"#d8576b\"], [0.6666666666666666, \"#ed7953\"], [0.7777777777777778, \"#fb9f3a\"], [0.8888888888888888, \"#fdca26\"], [1.0, \"#f0f921\"]], \"type\": \"heatmapgl\"}], \"histogram\": [{\"marker\": {\"colorbar\": {\"outlinewidth\": 0, \"ticks\": \"\"}}, \"type\": \"histogram\"}], \"histogram2d\": [{\"colorbar\": {\"outlinewidth\": 0, \"ticks\": \"\"}, \"colorscale\": [[0.0, \"#0d0887\"], [0.1111111111111111, \"#46039f\"], [0.2222222222222222, \"#7201a8\"], [0.3333333333333333, \"#9c179e\"], [0.4444444444444444, \"#bd3786\"], [0.5555555555555556, \"#d8576b\"], [0.6666666666666666, \"#ed7953\"], [0.7777777777777778, \"#fb9f3a\"], [0.8888888888888888, \"#fdca26\"], [1.0, \"#f0f921\"]], \"type\": \"histogram2d\"}], \"histogram2dcontour\": [{\"colorbar\": {\"outlinewidth\": 0, \"ticks\": \"\"}, \"colorscale\": [[0.0, \"#0d0887\"], [0.1111111111111111, \"#46039f\"], [0.2222222222222222, \"#7201a8\"], [0.3333333333333333, \"#9c179e\"], [0.4444444444444444, \"#bd3786\"], [0.5555555555555556, \"#d8576b\"], [0.6666666666666666, \"#ed7953\"], [0.7777777777777778, \"#fb9f3a\"], [0.8888888888888888, \"#fdca26\"], [1.0, \"#f0f921\"]], \"type\": \"histogram2dcontour\"}], \"mesh3d\": [{\"colorbar\": {\"outlinewidth\": 0, \"ticks\": \"\"}, \"type\": \"mesh3d\"}], \"parcoords\": [{\"line\": {\"colorbar\": {\"outlinewidth\": 0, \"ticks\": \"\"}}, \"type\": \"parcoords\"}], \"pie\": [{\"automargin\": true, \"type\": \"pie\"}], \"scatter\": [{\"marker\": {\"colorbar\": {\"outlinewidth\": 0, \"ticks\": \"\"}}, \"type\": \"scatter\"}], \"scatter3d\": [{\"line\": {\"colorbar\": {\"outlinewidth\": 0, \"ticks\": \"\"}}, \"marker\": {\"colorbar\": {\"outlinewidth\": 0, \"ticks\": \"\"}}, \"type\": \"scatter3d\"}], \"scattercarpet\": [{\"marker\": {\"colorbar\": {\"outlinewidth\": 0, \"ticks\": \"\"}}, \"type\": \"scattercarpet\"}], \"scattergeo\": [{\"marker\": {\"colorbar\": {\"outlinewidth\": 0, \"ticks\": \"\"}}, \"type\": \"scattergeo\"}], \"scattergl\": [{\"marker\": {\"colorbar\": {\"outlinewidth\": 0, \"ticks\": \"\"}}, \"type\": \"scattergl\"}], \"scattermapbox\": [{\"marker\": {\"colorbar\": {\"outlinewidth\": 0, \"ticks\": \"\"}}, \"type\": \"scattermapbox\"}], \"scatterpolar\": [{\"marker\": {\"colorbar\": {\"outlinewidth\": 0, \"ticks\": \"\"}}, \"type\": \"scatterpolar\"}], \"scatterpolargl\": [{\"marker\": {\"colorbar\": {\"outlinewidth\": 0, \"ticks\": \"\"}}, \"type\": \"scatterpolargl\"}], \"scatterternary\": [{\"marker\": {\"colorbar\": {\"outlinewidth\": 0, \"ticks\": \"\"}}, \"type\": \"scatterternary\"}], \"surface\": [{\"colorbar\": {\"outlinewidth\": 0, \"ticks\": \"\"}, \"colorscale\": [[0.0, \"#0d0887\"], [0.1111111111111111, \"#46039f\"], [0.2222222222222222, \"#7201a8\"], [0.3333333333333333, \"#9c179e\"], [0.4444444444444444, \"#bd3786\"], [0.5555555555555556, \"#d8576b\"], [0.6666666666666666, \"#ed7953\"], [0.7777777777777778, \"#fb9f3a\"], [0.8888888888888888, \"#fdca26\"], [1.0, \"#f0f921\"]], \"type\": \"surface\"}], \"table\": [{\"cells\": {\"fill\": {\"color\": \"#EBF0F8\"}, \"line\": {\"color\": \"white\"}}, \"header\": {\"fill\": {\"color\": \"#C8D4E3\"}, \"line\": {\"color\": \"white\"}}, \"type\": \"table\"}]}, \"layout\": {\"annotationdefaults\": {\"arrowcolor\": \"#2a3f5f\", \"arrowhead\": 0, \"arrowwidth\": 1}, \"autotypenumbers\": \"strict\", \"coloraxis\": {\"colorbar\": {\"outlinewidth\": 0, \"ticks\": \"\"}}, \"colorscale\": {\"diverging\": [[0, \"#8e0152\"], [0.1, \"#c51b7d\"], [0.2, \"#de77ae\"], [0.3, \"#f1b6da\"], [0.4, \"#fde0ef\"], [0.5, \"#f7f7f7\"], [0.6, \"#e6f5d0\"], [0.7, \"#b8e186\"], [0.8, \"#7fbc41\"], [0.9, \"#4d9221\"], [1, \"#276419\"]], \"sequential\": [[0.0, \"#0d0887\"], [0.1111111111111111, \"#46039f\"], [0.2222222222222222, \"#7201a8\"], [0.3333333333333333, \"#9c179e\"], [0.4444444444444444, \"#bd3786\"], [0.5555555555555556, \"#d8576b\"], [0.6666666666666666, \"#ed7953\"], [0.7777777777777778, \"#fb9f3a\"], [0.8888888888888888, \"#fdca26\"], [1.0, \"#f0f921\"]], \"sequentialminus\": [[0.0, \"#0d0887\"], [0.1111111111111111, \"#46039f\"], [0.2222222222222222, \"#7201a8\"], [0.3333333333333333, \"#9c179e\"], [0.4444444444444444, \"#bd3786\"], [0.5555555555555556, \"#d8576b\"], [0.6666666666666666, \"#ed7953\"], [0.7777777777777778, \"#fb9f3a\"], [0.8888888888888888, \"#fdca26\"], [1.0, \"#f0f921\"]]}, \"colorway\": [\"#636efa\", \"#EF553B\", \"#00cc96\", \"#ab63fa\", \"#FFA15A\", \"#19d3f3\", \"#FF6692\", \"#B6E880\", \"#FF97FF\", \"#FECB52\"], \"font\": {\"color\": \"#2a3f5f\"}, \"geo\": {\"bgcolor\": \"white\", \"lakecolor\": \"white\", \"landcolor\": \"#E5ECF6\", \"showlakes\": true, \"showland\": true, \"subunitcolor\": \"white\"}, \"hoverlabel\": {\"align\": \"left\"}, \"hovermode\": \"closest\", \"mapbox\": {\"style\": \"light\"}, \"paper_bgcolor\": \"white\", \"plot_bgcolor\": \"#E5ECF6\", \"polar\": {\"angularaxis\": {\"gridcolor\": \"white\", \"linecolor\": \"white\", \"ticks\": \"\"}, \"bgcolor\": \"#E5ECF6\", \"radialaxis\": {\"gridcolor\": \"white\", \"linecolor\": \"white\", \"ticks\": \"\"}}, \"scene\": {\"xaxis\": {\"backgroundcolor\": \"#E5ECF6\", \"gridcolor\": \"white\", \"gridwidth\": 2, \"linecolor\": \"white\", \"showbackground\": true, \"ticks\": \"\", \"zerolinecolor\": \"white\"}, \"yaxis\": {\"backgroundcolor\": \"#E5ECF6\", \"gridcolor\": \"white\", \"gridwidth\": 2, \"linecolor\": \"white\", \"showbackground\": true, \"ticks\": \"\", \"zerolinecolor\": \"white\"}, \"zaxis\": {\"backgroundcolor\": \"#E5ECF6\", \"gridcolor\": \"white\", \"gridwidth\": 2, \"linecolor\": \"white\", \"showbackground\": true, \"ticks\": \"\", \"zerolinecolor\": \"white\"}}, \"shapedefaults\": {\"line\": {\"color\": \"#2a3f5f\"}}, \"ternary\": {\"aaxis\": {\"gridcolor\": \"white\", \"linecolor\": \"white\", \"ticks\": \"\"}, \"baxis\": {\"gridcolor\": \"white\", \"linecolor\": \"white\", \"ticks\": \"\"}, \"bgcolor\": \"#E5ECF6\", \"caxis\": {\"gridcolor\": \"white\", \"linecolor\": \"white\", \"ticks\": \"\"}}, \"title\": {\"x\": 0.05}, \"xaxis\": {\"automargin\": true, \"gridcolor\": \"white\", \"linecolor\": \"white\", \"ticks\": \"\", \"title\": {\"standoff\": 15}, \"zerolinecolor\": \"white\", \"zerolinewidth\": 2}, \"yaxis\": {\"automargin\": true, \"gridcolor\": \"white\", \"linecolor\": \"white\", \"ticks\": \"\", \"title\": {\"standoff\": 15}, \"zerolinecolor\": \"white\", \"zerolinewidth\": 2}}}, \"title\": {\"font\": {\"color\": \"#4D5663\"}}, \"xaxis\": {\"gridcolor\": \"#E1E5ED\", \"showgrid\": true, \"tickfont\": {\"color\": \"#4D5663\"}, \"title\": {\"font\": {\"color\": \"#4D5663\"}, \"text\": \"\"}, \"zerolinecolor\": \"#E1E5ED\"}, \"yaxis\": {\"gridcolor\": \"#E1E5ED\", \"showgrid\": true, \"tickfont\": {\"color\": \"#4D5663\"}, \"title\": {\"font\": {\"color\": \"#4D5663\"}, \"text\": \"\"}, \"zerolinecolor\": \"#E1E5ED\"}},                        {\"showLink\": true, \"linkText\": \"Export to plot.ly\", \"plotlyServerURL\": \"https://plot.ly\", \"responsive\": true}                    ).then(function(){\n                            \nvar gd = document.getElementById('5d31d947-293d-4871-9cee-c99f4a5f8a1a');\nvar x = new MutationObserver(function (mutations, observer) {{\n        var display = window.getComputedStyle(gd).display;\n        if (!display || display === 'none') {{\n            console.log([gd, 'removed!']);\n            Plotly.purge(gd);\n            observer.disconnect();\n        }}\n}});\n\n// Listen for the removal of the full notebook cells\nvar notebookContainer = gd.closest('#notebook-container');\nif (notebookContainer) {{\n    x.observe(notebookContainer, {childList: true});\n}}\n\n// Listen for the clearing of the current output cell\nvar outputEl = gd.closest('.output');\nif (outputEl) {{\n    x.observe(outputEl, {childList: true});\n}}\n\n                        })                };                });            </script>        </div>"
     },
     "metadata": {}
    }
   ],
   "source": [
    "df.iplot(kind='box')"
   ]
  },
  {
   "cell_type": "code",
   "execution_count": 24,
   "metadata": {},
   "outputs": [],
   "source": [
    "df3 = pd.DataFrame({'x':[1,2,3,4,5],'y':[10,20,30,20,10],'z':[5,4,3,2,1]})"
   ]
  },
  {
   "cell_type": "code",
   "execution_count": 25,
   "metadata": {},
   "outputs": [
    {
     "output_type": "execute_result",
     "data": {
      "text/plain": [
       "   x   y  z\n",
       "0  1  10  5\n",
       "1  2  20  4\n",
       "2  3  30  3\n",
       "3  4  20  2\n",
       "4  5  10  1"
      ],
      "text/html": "<div>\n<style scoped>\n    .dataframe tbody tr th:only-of-type {\n        vertical-align: middle;\n    }\n\n    .dataframe tbody tr th {\n        vertical-align: top;\n    }\n\n    .dataframe thead th {\n        text-align: right;\n    }\n</style>\n<table border=\"1\" class=\"dataframe\">\n  <thead>\n    <tr style=\"text-align: right;\">\n      <th></th>\n      <th>x</th>\n      <th>y</th>\n      <th>z</th>\n    </tr>\n  </thead>\n  <tbody>\n    <tr>\n      <th>0</th>\n      <td>1</td>\n      <td>10</td>\n      <td>5</td>\n    </tr>\n    <tr>\n      <th>1</th>\n      <td>2</td>\n      <td>20</td>\n      <td>4</td>\n    </tr>\n    <tr>\n      <th>2</th>\n      <td>3</td>\n      <td>30</td>\n      <td>3</td>\n    </tr>\n    <tr>\n      <th>3</th>\n      <td>4</td>\n      <td>20</td>\n      <td>2</td>\n    </tr>\n    <tr>\n      <th>4</th>\n      <td>5</td>\n      <td>10</td>\n      <td>1</td>\n    </tr>\n  </tbody>\n</table>\n</div>"
     },
     "metadata": {},
     "execution_count": 25
    }
   ],
   "source": [
    "df3"
   ]
  },
  {
   "cell_type": "code",
   "execution_count": 27,
   "metadata": {},
   "outputs": [
    {
     "output_type": "display_data",
     "data": {
      "application/vnd.plotly.v1+json": {
       "config": {
        "linkText": "Export to plot.ly",
        "plotlyServerURL": "https://plot.ly",
        "showLink": true
       },
       "data": [
        {
         "colorscale": [
          [
           0,
           "rgb(165,0,38)"
          ],
          [
           0.1,
           "rgb(215,48,39)"
          ],
          [
           0.2,
           "rgb(244,109,67)"
          ],
          [
           0.3,
           "rgb(253,174,97)"
          ],
          [
           0.4,
           "rgb(254,224,144)"
          ],
          [
           0.5,
           "rgb(255,255,191)"
          ],
          [
           0.6,
           "rgb(224,243,248)"
          ],
          [
           0.7,
           "rgb(171,217,233)"
          ],
          [
           0.8,
           "rgb(116,173,209)"
          ],
          [
           0.9,
           "rgb(69,117,180)"
          ],
          [
           1,
           "rgb(49,54,149)"
          ]
         ],
         "type": "surface",
         "x": [
          0,
          1,
          2,
          3,
          4
         ],
         "y": [
          "x",
          "y",
          "z"
         ],
         "z": [
          [
           1,
           2,
           3,
           4,
           5
          ],
          [
           10,
           20,
           30,
           20,
           10
          ],
          [
           5,
           4,
           3,
           2,
           1
          ]
         ]
        }
       ],
       "layout": {
        "legend": {
         "bgcolor": "#F5F6F9",
         "font": {
          "color": "#4D5663"
         }
        },
        "paper_bgcolor": "#F5F6F9",
        "plot_bgcolor": "#F5F6F9",
        "template": {
         "data": {
          "bar": [
           {
            "error_x": {
             "color": "#2a3f5f"
            },
            "error_y": {
             "color": "#2a3f5f"
            },
            "marker": {
             "line": {
              "color": "#E5ECF6",
              "width": 0.5
             }
            },
            "type": "bar"
           }
          ],
          "barpolar": [
           {
            "marker": {
             "line": {
              "color": "#E5ECF6",
              "width": 0.5
             }
            },
            "type": "barpolar"
           }
          ],
          "carpet": [
           {
            "aaxis": {
             "endlinecolor": "#2a3f5f",
             "gridcolor": "white",
             "linecolor": "white",
             "minorgridcolor": "white",
             "startlinecolor": "#2a3f5f"
            },
            "baxis": {
             "endlinecolor": "#2a3f5f",
             "gridcolor": "white",
             "linecolor": "white",
             "minorgridcolor": "white",
             "startlinecolor": "#2a3f5f"
            },
            "type": "carpet"
           }
          ],
          "choropleth": [
           {
            "colorbar": {
             "outlinewidth": 0,
             "ticks": ""
            },
            "type": "choropleth"
           }
          ],
          "contour": [
           {
            "colorbar": {
             "outlinewidth": 0,
             "ticks": ""
            },
            "colorscale": [
             [
              0,
              "#0d0887"
             ],
             [
              0.1111111111111111,
              "#46039f"
             ],
             [
              0.2222222222222222,
              "#7201a8"
             ],
             [
              0.3333333333333333,
              "#9c179e"
             ],
             [
              0.4444444444444444,
              "#bd3786"
             ],
             [
              0.5555555555555556,
              "#d8576b"
             ],
             [
              0.6666666666666666,
              "#ed7953"
             ],
             [
              0.7777777777777778,
              "#fb9f3a"
             ],
             [
              0.8888888888888888,
              "#fdca26"
             ],
             [
              1,
              "#f0f921"
             ]
            ],
            "type": "contour"
           }
          ],
          "contourcarpet": [
           {
            "colorbar": {
             "outlinewidth": 0,
             "ticks": ""
            },
            "type": "contourcarpet"
           }
          ],
          "heatmap": [
           {
            "colorbar": {
             "outlinewidth": 0,
             "ticks": ""
            },
            "colorscale": [
             [
              0,
              "#0d0887"
             ],
             [
              0.1111111111111111,
              "#46039f"
             ],
             [
              0.2222222222222222,
              "#7201a8"
             ],
             [
              0.3333333333333333,
              "#9c179e"
             ],
             [
              0.4444444444444444,
              "#bd3786"
             ],
             [
              0.5555555555555556,
              "#d8576b"
             ],
             [
              0.6666666666666666,
              "#ed7953"
             ],
             [
              0.7777777777777778,
              "#fb9f3a"
             ],
             [
              0.8888888888888888,
              "#fdca26"
             ],
             [
              1,
              "#f0f921"
             ]
            ],
            "type": "heatmap"
           }
          ],
          "heatmapgl": [
           {
            "colorbar": {
             "outlinewidth": 0,
             "ticks": ""
            },
            "colorscale": [
             [
              0,
              "#0d0887"
             ],
             [
              0.1111111111111111,
              "#46039f"
             ],
             [
              0.2222222222222222,
              "#7201a8"
             ],
             [
              0.3333333333333333,
              "#9c179e"
             ],
             [
              0.4444444444444444,
              "#bd3786"
             ],
             [
              0.5555555555555556,
              "#d8576b"
             ],
             [
              0.6666666666666666,
              "#ed7953"
             ],
             [
              0.7777777777777778,
              "#fb9f3a"
             ],
             [
              0.8888888888888888,
              "#fdca26"
             ],
             [
              1,
              "#f0f921"
             ]
            ],
            "type": "heatmapgl"
           }
          ],
          "histogram": [
           {
            "marker": {
             "colorbar": {
              "outlinewidth": 0,
              "ticks": ""
             }
            },
            "type": "histogram"
           }
          ],
          "histogram2d": [
           {
            "colorbar": {
             "outlinewidth": 0,
             "ticks": ""
            },
            "colorscale": [
             [
              0,
              "#0d0887"
             ],
             [
              0.1111111111111111,
              "#46039f"
             ],
             [
              0.2222222222222222,
              "#7201a8"
             ],
             [
              0.3333333333333333,
              "#9c179e"
             ],
             [
              0.4444444444444444,
              "#bd3786"
             ],
             [
              0.5555555555555556,
              "#d8576b"
             ],
             [
              0.6666666666666666,
              "#ed7953"
             ],
             [
              0.7777777777777778,
              "#fb9f3a"
             ],
             [
              0.8888888888888888,
              "#fdca26"
             ],
             [
              1,
              "#f0f921"
             ]
            ],
            "type": "histogram2d"
           }
          ],
          "histogram2dcontour": [
           {
            "colorbar": {
             "outlinewidth": 0,
             "ticks": ""
            },
            "colorscale": [
             [
              0,
              "#0d0887"
             ],
             [
              0.1111111111111111,
              "#46039f"
             ],
             [
              0.2222222222222222,
              "#7201a8"
             ],
             [
              0.3333333333333333,
              "#9c179e"
             ],
             [
              0.4444444444444444,
              "#bd3786"
             ],
             [
              0.5555555555555556,
              "#d8576b"
             ],
             [
              0.6666666666666666,
              "#ed7953"
             ],
             [
              0.7777777777777778,
              "#fb9f3a"
             ],
             [
              0.8888888888888888,
              "#fdca26"
             ],
             [
              1,
              "#f0f921"
             ]
            ],
            "type": "histogram2dcontour"
           }
          ],
          "mesh3d": [
           {
            "colorbar": {
             "outlinewidth": 0,
             "ticks": ""
            },
            "type": "mesh3d"
           }
          ],
          "parcoords": [
           {
            "line": {
             "colorbar": {
              "outlinewidth": 0,
              "ticks": ""
             }
            },
            "type": "parcoords"
           }
          ],
          "pie": [
           {
            "automargin": true,
            "type": "pie"
           }
          ],
          "scatter": [
           {
            "marker": {
             "colorbar": {
              "outlinewidth": 0,
              "ticks": ""
             }
            },
            "type": "scatter"
           }
          ],
          "scatter3d": [
           {
            "line": {
             "colorbar": {
              "outlinewidth": 0,
              "ticks": ""
             }
            },
            "marker": {
             "colorbar": {
              "outlinewidth": 0,
              "ticks": ""
             }
            },
            "type": "scatter3d"
           }
          ],
          "scattercarpet": [
           {
            "marker": {
             "colorbar": {
              "outlinewidth": 0,
              "ticks": ""
             }
            },
            "type": "scattercarpet"
           }
          ],
          "scattergeo": [
           {
            "marker": {
             "colorbar": {
              "outlinewidth": 0,
              "ticks": ""
             }
            },
            "type": "scattergeo"
           }
          ],
          "scattergl": [
           {
            "marker": {
             "colorbar": {
              "outlinewidth": 0,
              "ticks": ""
             }
            },
            "type": "scattergl"
           }
          ],
          "scattermapbox": [
           {
            "marker": {
             "colorbar": {
              "outlinewidth": 0,
              "ticks": ""
             }
            },
            "type": "scattermapbox"
           }
          ],
          "scatterpolar": [
           {
            "marker": {
             "colorbar": {
              "outlinewidth": 0,
              "ticks": ""
             }
            },
            "type": "scatterpolar"
           }
          ],
          "scatterpolargl": [
           {
            "marker": {
             "colorbar": {
              "outlinewidth": 0,
              "ticks": ""
             }
            },
            "type": "scatterpolargl"
           }
          ],
          "scatterternary": [
           {
            "marker": {
             "colorbar": {
              "outlinewidth": 0,
              "ticks": ""
             }
            },
            "type": "scatterternary"
           }
          ],
          "surface": [
           {
            "colorbar": {
             "outlinewidth": 0,
             "ticks": ""
            },
            "colorscale": [
             [
              0,
              "#0d0887"
             ],
             [
              0.1111111111111111,
              "#46039f"
             ],
             [
              0.2222222222222222,
              "#7201a8"
             ],
             [
              0.3333333333333333,
              "#9c179e"
             ],
             [
              0.4444444444444444,
              "#bd3786"
             ],
             [
              0.5555555555555556,
              "#d8576b"
             ],
             [
              0.6666666666666666,
              "#ed7953"
             ],
             [
              0.7777777777777778,
              "#fb9f3a"
             ],
             [
              0.8888888888888888,
              "#fdca26"
             ],
             [
              1,
              "#f0f921"
             ]
            ],
            "type": "surface"
           }
          ],
          "table": [
           {
            "cells": {
             "fill": {
              "color": "#EBF0F8"
             },
             "line": {
              "color": "white"
             }
            },
            "header": {
             "fill": {
              "color": "#C8D4E3"
             },
             "line": {
              "color": "white"
             }
            },
            "type": "table"
           }
          ]
         },
         "layout": {
          "annotationdefaults": {
           "arrowcolor": "#2a3f5f",
           "arrowhead": 0,
           "arrowwidth": 1
          },
          "autotypenumbers": "strict",
          "coloraxis": {
           "colorbar": {
            "outlinewidth": 0,
            "ticks": ""
           }
          },
          "colorscale": {
           "diverging": [
            [
             0,
             "#8e0152"
            ],
            [
             0.1,
             "#c51b7d"
            ],
            [
             0.2,
             "#de77ae"
            ],
            [
             0.3,
             "#f1b6da"
            ],
            [
             0.4,
             "#fde0ef"
            ],
            [
             0.5,
             "#f7f7f7"
            ],
            [
             0.6,
             "#e6f5d0"
            ],
            [
             0.7,
             "#b8e186"
            ],
            [
             0.8,
             "#7fbc41"
            ],
            [
             0.9,
             "#4d9221"
            ],
            [
             1,
             "#276419"
            ]
           ],
           "sequential": [
            [
             0,
             "#0d0887"
            ],
            [
             0.1111111111111111,
             "#46039f"
            ],
            [
             0.2222222222222222,
             "#7201a8"
            ],
            [
             0.3333333333333333,
             "#9c179e"
            ],
            [
             0.4444444444444444,
             "#bd3786"
            ],
            [
             0.5555555555555556,
             "#d8576b"
            ],
            [
             0.6666666666666666,
             "#ed7953"
            ],
            [
             0.7777777777777778,
             "#fb9f3a"
            ],
            [
             0.8888888888888888,
             "#fdca26"
            ],
            [
             1,
             "#f0f921"
            ]
           ],
           "sequentialminus": [
            [
             0,
             "#0d0887"
            ],
            [
             0.1111111111111111,
             "#46039f"
            ],
            [
             0.2222222222222222,
             "#7201a8"
            ],
            [
             0.3333333333333333,
             "#9c179e"
            ],
            [
             0.4444444444444444,
             "#bd3786"
            ],
            [
             0.5555555555555556,
             "#d8576b"
            ],
            [
             0.6666666666666666,
             "#ed7953"
            ],
            [
             0.7777777777777778,
             "#fb9f3a"
            ],
            [
             0.8888888888888888,
             "#fdca26"
            ],
            [
             1,
             "#f0f921"
            ]
           ]
          },
          "colorway": [
           "#636efa",
           "#EF553B",
           "#00cc96",
           "#ab63fa",
           "#FFA15A",
           "#19d3f3",
           "#FF6692",
           "#B6E880",
           "#FF97FF",
           "#FECB52"
          ],
          "font": {
           "color": "#2a3f5f"
          },
          "geo": {
           "bgcolor": "white",
           "lakecolor": "white",
           "landcolor": "#E5ECF6",
           "showlakes": true,
           "showland": true,
           "subunitcolor": "white"
          },
          "hoverlabel": {
           "align": "left"
          },
          "hovermode": "closest",
          "mapbox": {
           "style": "light"
          },
          "paper_bgcolor": "white",
          "plot_bgcolor": "#E5ECF6",
          "polar": {
           "angularaxis": {
            "gridcolor": "white",
            "linecolor": "white",
            "ticks": ""
           },
           "bgcolor": "#E5ECF6",
           "radialaxis": {
            "gridcolor": "white",
            "linecolor": "white",
            "ticks": ""
           }
          },
          "scene": {
           "xaxis": {
            "backgroundcolor": "#E5ECF6",
            "gridcolor": "white",
            "gridwidth": 2,
            "linecolor": "white",
            "showbackground": true,
            "ticks": "",
            "zerolinecolor": "white"
           },
           "yaxis": {
            "backgroundcolor": "#E5ECF6",
            "gridcolor": "white",
            "gridwidth": 2,
            "linecolor": "white",
            "showbackground": true,
            "ticks": "",
            "zerolinecolor": "white"
           },
           "zaxis": {
            "backgroundcolor": "#E5ECF6",
            "gridcolor": "white",
            "gridwidth": 2,
            "linecolor": "white",
            "showbackground": true,
            "ticks": "",
            "zerolinecolor": "white"
           }
          },
          "shapedefaults": {
           "line": {
            "color": "#2a3f5f"
           }
          },
          "ternary": {
           "aaxis": {
            "gridcolor": "white",
            "linecolor": "white",
            "ticks": ""
           },
           "baxis": {
            "gridcolor": "white",
            "linecolor": "white",
            "ticks": ""
           },
           "bgcolor": "#E5ECF6",
           "caxis": {
            "gridcolor": "white",
            "linecolor": "white",
            "ticks": ""
           }
          },
          "title": {
           "x": 0.05
          },
          "xaxis": {
           "automargin": true,
           "gridcolor": "white",
           "linecolor": "white",
           "ticks": "",
           "title": {
            "standoff": 15
           },
           "zerolinecolor": "white",
           "zerolinewidth": 2
          },
          "yaxis": {
           "automargin": true,
           "gridcolor": "white",
           "linecolor": "white",
           "ticks": "",
           "title": {
            "standoff": 15
           },
           "zerolinecolor": "white",
           "zerolinewidth": 2
          }
         }
        },
        "title": {
         "font": {
          "color": "#4D5663"
         }
        },
        "xaxis": {
         "gridcolor": "#E1E5ED",
         "showgrid": true,
         "tickfont": {
          "color": "#4D5663"
         },
         "title": {
          "font": {
           "color": "#4D5663"
          },
          "text": ""
         },
         "zerolinecolor": "#E1E5ED"
        },
        "yaxis": {
         "gridcolor": "#E1E5ED",
         "showgrid": true,
         "tickfont": {
          "color": "#4D5663"
         },
         "title": {
          "font": {
           "color": "#4D5663"
          },
          "text": ""
         },
         "zerolinecolor": "#E1E5ED"
        }
       }
      },
      "text/html": "<div>                            <div id=\"caadf0d3-50c6-4ce5-b0ee-da64a48d9406\" class=\"plotly-graph-div\" style=\"height:525px; width:100%;\"></div>            <script type=\"text/javascript\">                require([\"plotly\"], function(Plotly) {                    window.PLOTLYENV=window.PLOTLYENV || {};\n                    window.PLOTLYENV.BASE_URL='https://plot.ly';                                    if (document.getElementById(\"caadf0d3-50c6-4ce5-b0ee-da64a48d9406\")) {                    Plotly.newPlot(                        \"caadf0d3-50c6-4ce5-b0ee-da64a48d9406\",                        [{\"colorscale\": [[0.0, \"rgb(165,0,38)\"], [0.1, \"rgb(215,48,39)\"], [0.2, \"rgb(244,109,67)\"], [0.3, \"rgb(253,174,97)\"], [0.4, \"rgb(254,224,144)\"], [0.5, \"rgb(255,255,191)\"], [0.6, \"rgb(224,243,248)\"], [0.7, \"rgb(171,217,233)\"], [0.8, \"rgb(116,173,209)\"], [0.9, \"rgb(69,117,180)\"], [1.0, \"rgb(49,54,149)\"]], \"type\": \"surface\", \"x\": [0, 1, 2, 3, 4], \"y\": [\"x\", \"y\", \"z\"], \"z\": [[1, 2, 3, 4, 5], [10, 20, 30, 20, 10], [5, 4, 3, 2, 1]]}],                        {\"legend\": {\"bgcolor\": \"#F5F6F9\", \"font\": {\"color\": \"#4D5663\"}}, \"paper_bgcolor\": \"#F5F6F9\", \"plot_bgcolor\": \"#F5F6F9\", \"template\": {\"data\": {\"bar\": [{\"error_x\": {\"color\": \"#2a3f5f\"}, \"error_y\": {\"color\": \"#2a3f5f\"}, \"marker\": {\"line\": {\"color\": \"#E5ECF6\", \"width\": 0.5}}, \"type\": \"bar\"}], \"barpolar\": [{\"marker\": {\"line\": {\"color\": \"#E5ECF6\", \"width\": 0.5}}, \"type\": \"barpolar\"}], \"carpet\": [{\"aaxis\": {\"endlinecolor\": \"#2a3f5f\", \"gridcolor\": \"white\", \"linecolor\": \"white\", \"minorgridcolor\": \"white\", \"startlinecolor\": \"#2a3f5f\"}, \"baxis\": {\"endlinecolor\": \"#2a3f5f\", \"gridcolor\": \"white\", \"linecolor\": \"white\", \"minorgridcolor\": \"white\", \"startlinecolor\": \"#2a3f5f\"}, \"type\": \"carpet\"}], \"choropleth\": [{\"colorbar\": {\"outlinewidth\": 0, \"ticks\": \"\"}, \"type\": \"choropleth\"}], \"contour\": [{\"colorbar\": {\"outlinewidth\": 0, \"ticks\": \"\"}, \"colorscale\": [[0.0, \"#0d0887\"], [0.1111111111111111, \"#46039f\"], [0.2222222222222222, \"#7201a8\"], [0.3333333333333333, \"#9c179e\"], [0.4444444444444444, \"#bd3786\"], [0.5555555555555556, \"#d8576b\"], [0.6666666666666666, \"#ed7953\"], [0.7777777777777778, \"#fb9f3a\"], [0.8888888888888888, \"#fdca26\"], [1.0, \"#f0f921\"]], \"type\": \"contour\"}], \"contourcarpet\": [{\"colorbar\": {\"outlinewidth\": 0, \"ticks\": \"\"}, \"type\": \"contourcarpet\"}], \"heatmap\": [{\"colorbar\": {\"outlinewidth\": 0, \"ticks\": \"\"}, \"colorscale\": [[0.0, \"#0d0887\"], [0.1111111111111111, \"#46039f\"], [0.2222222222222222, \"#7201a8\"], [0.3333333333333333, \"#9c179e\"], [0.4444444444444444, \"#bd3786\"], [0.5555555555555556, \"#d8576b\"], [0.6666666666666666, \"#ed7953\"], [0.7777777777777778, \"#fb9f3a\"], [0.8888888888888888, \"#fdca26\"], [1.0, \"#f0f921\"]], \"type\": \"heatmap\"}], \"heatmapgl\": [{\"colorbar\": {\"outlinewidth\": 0, \"ticks\": \"\"}, \"colorscale\": [[0.0, \"#0d0887\"], [0.1111111111111111, \"#46039f\"], [0.2222222222222222, \"#7201a8\"], [0.3333333333333333, \"#9c179e\"], [0.4444444444444444, \"#bd3786\"], [0.5555555555555556, \"#d8576b\"], [0.6666666666666666, \"#ed7953\"], [0.7777777777777778, \"#fb9f3a\"], [0.8888888888888888, \"#fdca26\"], [1.0, \"#f0f921\"]], \"type\": \"heatmapgl\"}], \"histogram\": [{\"marker\": {\"colorbar\": {\"outlinewidth\": 0, \"ticks\": \"\"}}, \"type\": \"histogram\"}], \"histogram2d\": [{\"colorbar\": {\"outlinewidth\": 0, \"ticks\": \"\"}, \"colorscale\": [[0.0, \"#0d0887\"], [0.1111111111111111, \"#46039f\"], [0.2222222222222222, \"#7201a8\"], [0.3333333333333333, \"#9c179e\"], [0.4444444444444444, \"#bd3786\"], [0.5555555555555556, \"#d8576b\"], [0.6666666666666666, \"#ed7953\"], [0.7777777777777778, \"#fb9f3a\"], [0.8888888888888888, \"#fdca26\"], [1.0, \"#f0f921\"]], \"type\": \"histogram2d\"}], \"histogram2dcontour\": [{\"colorbar\": {\"outlinewidth\": 0, \"ticks\": \"\"}, \"colorscale\": [[0.0, \"#0d0887\"], [0.1111111111111111, \"#46039f\"], [0.2222222222222222, \"#7201a8\"], [0.3333333333333333, \"#9c179e\"], [0.4444444444444444, \"#bd3786\"], [0.5555555555555556, \"#d8576b\"], [0.6666666666666666, \"#ed7953\"], [0.7777777777777778, \"#fb9f3a\"], [0.8888888888888888, \"#fdca26\"], [1.0, \"#f0f921\"]], \"type\": \"histogram2dcontour\"}], \"mesh3d\": [{\"colorbar\": {\"outlinewidth\": 0, \"ticks\": \"\"}, \"type\": \"mesh3d\"}], \"parcoords\": [{\"line\": {\"colorbar\": {\"outlinewidth\": 0, \"ticks\": \"\"}}, \"type\": \"parcoords\"}], \"pie\": [{\"automargin\": true, \"type\": \"pie\"}], \"scatter\": [{\"marker\": {\"colorbar\": {\"outlinewidth\": 0, \"ticks\": \"\"}}, \"type\": \"scatter\"}], \"scatter3d\": [{\"line\": {\"colorbar\": {\"outlinewidth\": 0, \"ticks\": \"\"}}, \"marker\": {\"colorbar\": {\"outlinewidth\": 0, \"ticks\": \"\"}}, \"type\": \"scatter3d\"}], \"scattercarpet\": [{\"marker\": {\"colorbar\": {\"outlinewidth\": 0, \"ticks\": \"\"}}, \"type\": \"scattercarpet\"}], \"scattergeo\": [{\"marker\": {\"colorbar\": {\"outlinewidth\": 0, \"ticks\": \"\"}}, \"type\": \"scattergeo\"}], \"scattergl\": [{\"marker\": {\"colorbar\": {\"outlinewidth\": 0, \"ticks\": \"\"}}, \"type\": \"scattergl\"}], \"scattermapbox\": [{\"marker\": {\"colorbar\": {\"outlinewidth\": 0, \"ticks\": \"\"}}, \"type\": \"scattermapbox\"}], \"scatterpolar\": [{\"marker\": {\"colorbar\": {\"outlinewidth\": 0, \"ticks\": \"\"}}, \"type\": \"scatterpolar\"}], \"scatterpolargl\": [{\"marker\": {\"colorbar\": {\"outlinewidth\": 0, \"ticks\": \"\"}}, \"type\": \"scatterpolargl\"}], \"scatterternary\": [{\"marker\": {\"colorbar\": {\"outlinewidth\": 0, \"ticks\": \"\"}}, \"type\": \"scatterternary\"}], \"surface\": [{\"colorbar\": {\"outlinewidth\": 0, \"ticks\": \"\"}, \"colorscale\": [[0.0, \"#0d0887\"], [0.1111111111111111, \"#46039f\"], [0.2222222222222222, \"#7201a8\"], [0.3333333333333333, \"#9c179e\"], [0.4444444444444444, \"#bd3786\"], [0.5555555555555556, \"#d8576b\"], [0.6666666666666666, \"#ed7953\"], [0.7777777777777778, \"#fb9f3a\"], [0.8888888888888888, \"#fdca26\"], [1.0, \"#f0f921\"]], \"type\": \"surface\"}], \"table\": [{\"cells\": {\"fill\": {\"color\": \"#EBF0F8\"}, \"line\": {\"color\": \"white\"}}, \"header\": {\"fill\": {\"color\": \"#C8D4E3\"}, \"line\": {\"color\": \"white\"}}, \"type\": \"table\"}]}, \"layout\": {\"annotationdefaults\": {\"arrowcolor\": \"#2a3f5f\", \"arrowhead\": 0, \"arrowwidth\": 1}, \"autotypenumbers\": \"strict\", \"coloraxis\": {\"colorbar\": {\"outlinewidth\": 0, \"ticks\": \"\"}}, \"colorscale\": {\"diverging\": [[0, \"#8e0152\"], [0.1, \"#c51b7d\"], [0.2, \"#de77ae\"], [0.3, \"#f1b6da\"], [0.4, \"#fde0ef\"], [0.5, \"#f7f7f7\"], [0.6, \"#e6f5d0\"], [0.7, \"#b8e186\"], [0.8, \"#7fbc41\"], [0.9, \"#4d9221\"], [1, \"#276419\"]], \"sequential\": [[0.0, \"#0d0887\"], [0.1111111111111111, \"#46039f\"], [0.2222222222222222, \"#7201a8\"], [0.3333333333333333, \"#9c179e\"], [0.4444444444444444, \"#bd3786\"], [0.5555555555555556, \"#d8576b\"], [0.6666666666666666, \"#ed7953\"], [0.7777777777777778, \"#fb9f3a\"], [0.8888888888888888, \"#fdca26\"], [1.0, \"#f0f921\"]], \"sequentialminus\": [[0.0, \"#0d0887\"], [0.1111111111111111, \"#46039f\"], [0.2222222222222222, \"#7201a8\"], [0.3333333333333333, \"#9c179e\"], [0.4444444444444444, \"#bd3786\"], [0.5555555555555556, \"#d8576b\"], [0.6666666666666666, \"#ed7953\"], [0.7777777777777778, \"#fb9f3a\"], [0.8888888888888888, \"#fdca26\"], [1.0, \"#f0f921\"]]}, \"colorway\": [\"#636efa\", \"#EF553B\", \"#00cc96\", \"#ab63fa\", \"#FFA15A\", \"#19d3f3\", \"#FF6692\", \"#B6E880\", \"#FF97FF\", \"#FECB52\"], \"font\": {\"color\": \"#2a3f5f\"}, \"geo\": {\"bgcolor\": \"white\", \"lakecolor\": \"white\", \"landcolor\": \"#E5ECF6\", \"showlakes\": true, \"showland\": true, \"subunitcolor\": \"white\"}, \"hoverlabel\": {\"align\": \"left\"}, \"hovermode\": \"closest\", \"mapbox\": {\"style\": \"light\"}, \"paper_bgcolor\": \"white\", \"plot_bgcolor\": \"#E5ECF6\", \"polar\": {\"angularaxis\": {\"gridcolor\": \"white\", \"linecolor\": \"white\", \"ticks\": \"\"}, \"bgcolor\": \"#E5ECF6\", \"radialaxis\": {\"gridcolor\": \"white\", \"linecolor\": \"white\", \"ticks\": \"\"}}, \"scene\": {\"xaxis\": {\"backgroundcolor\": \"#E5ECF6\", \"gridcolor\": \"white\", \"gridwidth\": 2, \"linecolor\": \"white\", \"showbackground\": true, \"ticks\": \"\", \"zerolinecolor\": \"white\"}, \"yaxis\": {\"backgroundcolor\": \"#E5ECF6\", \"gridcolor\": \"white\", \"gridwidth\": 2, \"linecolor\": \"white\", \"showbackground\": true, \"ticks\": \"\", \"zerolinecolor\": \"white\"}, \"zaxis\": {\"backgroundcolor\": \"#E5ECF6\", \"gridcolor\": \"white\", \"gridwidth\": 2, \"linecolor\": \"white\", \"showbackground\": true, \"ticks\": \"\", \"zerolinecolor\": \"white\"}}, \"shapedefaults\": {\"line\": {\"color\": \"#2a3f5f\"}}, \"ternary\": {\"aaxis\": {\"gridcolor\": \"white\", \"linecolor\": \"white\", \"ticks\": \"\"}, \"baxis\": {\"gridcolor\": \"white\", \"linecolor\": \"white\", \"ticks\": \"\"}, \"bgcolor\": \"#E5ECF6\", \"caxis\": {\"gridcolor\": \"white\", \"linecolor\": \"white\", \"ticks\": \"\"}}, \"title\": {\"x\": 0.05}, \"xaxis\": {\"automargin\": true, \"gridcolor\": \"white\", \"linecolor\": \"white\", \"ticks\": \"\", \"title\": {\"standoff\": 15}, \"zerolinecolor\": \"white\", \"zerolinewidth\": 2}, \"yaxis\": {\"automargin\": true, \"gridcolor\": \"white\", \"linecolor\": \"white\", \"ticks\": \"\", \"title\": {\"standoff\": 15}, \"zerolinecolor\": \"white\", \"zerolinewidth\": 2}}}, \"title\": {\"font\": {\"color\": \"#4D5663\"}}, \"xaxis\": {\"gridcolor\": \"#E1E5ED\", \"showgrid\": true, \"tickfont\": {\"color\": \"#4D5663\"}, \"title\": {\"font\": {\"color\": \"#4D5663\"}, \"text\": \"\"}, \"zerolinecolor\": \"#E1E5ED\"}, \"yaxis\": {\"gridcolor\": \"#E1E5ED\", \"showgrid\": true, \"tickfont\": {\"color\": \"#4D5663\"}, \"title\": {\"font\": {\"color\": \"#4D5663\"}, \"text\": \"\"}, \"zerolinecolor\": \"#E1E5ED\"}},                        {\"showLink\": true, \"linkText\": \"Export to plot.ly\", \"plotlyServerURL\": \"https://plot.ly\", \"responsive\": true}                    ).then(function(){\n                            \nvar gd = document.getElementById('caadf0d3-50c6-4ce5-b0ee-da64a48d9406');\nvar x = new MutationObserver(function (mutations, observer) {{\n        var display = window.getComputedStyle(gd).display;\n        if (!display || display === 'none') {{\n            console.log([gd, 'removed!']);\n            Plotly.purge(gd);\n            observer.disconnect();\n        }}\n}});\n\n// Listen for the removal of the full notebook cells\nvar notebookContainer = gd.closest('#notebook-container');\nif (notebookContainer) {{\n    x.observe(notebookContainer, {childList: true});\n}}\n\n// Listen for the clearing of the current output cell\nvar outputEl = gd.closest('.output');\nif (outputEl) {{\n    x.observe(outputEl, {childList: true});\n}}\n\n                        })                };                });            </script>        </div>"
     },
     "metadata": {}
    }
   ],
   "source": [
    "df3.iplot(kind='surface',colorscale='rdylbu')"
   ]
  },
  {
   "cell_type": "code",
   "execution_count": 30,
   "metadata": {},
   "outputs": [
    {
     "output_type": "display_data",
     "data": {
      "application/vnd.plotly.v1+json": {
       "config": {
        "linkText": "Export to plot.ly",
        "plotlyServerURL": "https://plot.ly",
        "showLink": true
       },
       "data": [
        {
         "histfunc": "count",
         "histnorm": "",
         "marker": {
          "color": "rgba(255, 153, 51, 1.0)",
          "line": {
           "color": "#4D5663",
           "width": 1.3
          }
         },
         "name": "A",
         "nbinsx": 50,
         "opacity": 0.8,
         "orientation": "v",
         "type": "histogram",
         "x": [
          -1.286783666232087,
          0.7107277470430434,
          1.2206576987234354,
          2.670689230942479,
          -0.868396268279137,
          -0.7702505222952278,
          0.836826113651275,
          -1.310807545006144,
          -1.1454772976981726,
          -1.205923510011141,
          0.39104120063317915,
          1.480064786672829,
          -0.4371817585516773,
          0.31244387330147083,
          0.9522665120953734,
          -0.9064855359217587,
          0.15128185004249292,
          0.15061151479926002,
          0.2932767331797624,
          0.07523964284633954,
          0.29022474193827164,
          -0.15511464338925918,
          0.6235611994075417,
          0.385198796402805,
          -1.23041158492017,
          0.4146485818376867,
          1.3453276550476518,
          2.2200082297196575,
          0.4843022625460223,
          -0.9052875932660301,
          -1.2911658251962215,
          1.2239386431635257,
          0.5800060939722871,
          0.29463938749835283,
          -0.5274632830251935,
          -0.7462578578754884,
          1.692027647166309,
          -0.09695059770969566,
          0.4881840463183823,
          -0.025688346575201363,
          -1.3490757613768838,
          -0.39677880092704315,
          0.35675258383857994,
          -0.5443711678860995,
          -0.4195900621836775,
          0.6447505960385553,
          -1.0972813689106393,
          -0.07544670673084743,
          -1.680269752499829,
          0.5777182254380486,
          0.8773588872922171,
          -1.2744428237723746,
          0.4707650176747216,
          0.184743927621629,
          1.502286572568263,
          -0.047755807588705734,
          0.12565047824483858,
          -2.8697574169274644,
          -1.7358225932178784,
          -0.6272506704206392,
          -1.4433597294484304,
          2.4317752497855403,
          -1.4322358810549674,
          0.5091222176333856,
          -2.303424236839607,
          1.5614540931799474,
          1.755253217137435,
          -0.8962401197499275,
          0.6858890477096122,
          0.45111826271025357,
          0.3732627172869396,
          -0.11404699509388187,
          0.505163811090925,
          0.9893247964708458,
          1.6802152688092455,
          0.3775054456483596,
          0.5960017865897772,
          1.0021193126559254,
          -0.38771902641273304,
          0.7260151830561632,
          -0.5736145908308646,
          0.5696440774836763,
          -0.08440931256891603,
          1.7580084477921427,
          -0.9032392980072976,
          -1.702458506342066,
          -0.3268225203948594,
          0.24042744103696015,
          0.3251828854999993,
          -0.03164848102043208,
          1.1673040608017295,
          -0.5431973031609296,
          -1.9466362146927483,
          -0.0069860880888541945,
          1.99068233702783,
          -0.048360909178754935,
          0.4008717221536024,
          0.26080632462817355,
          -0.31858331702889736,
          -0.071197295683597
         ]
        }
       ],
       "layout": {
        "barmode": "overlay",
        "legend": {
         "bgcolor": "#F5F6F9",
         "font": {
          "color": "#4D5663"
         }
        },
        "paper_bgcolor": "#F5F6F9",
        "plot_bgcolor": "#F5F6F9",
        "template": {
         "data": {
          "bar": [
           {
            "error_x": {
             "color": "#2a3f5f"
            },
            "error_y": {
             "color": "#2a3f5f"
            },
            "marker": {
             "line": {
              "color": "#E5ECF6",
              "width": 0.5
             }
            },
            "type": "bar"
           }
          ],
          "barpolar": [
           {
            "marker": {
             "line": {
              "color": "#E5ECF6",
              "width": 0.5
             }
            },
            "type": "barpolar"
           }
          ],
          "carpet": [
           {
            "aaxis": {
             "endlinecolor": "#2a3f5f",
             "gridcolor": "white",
             "linecolor": "white",
             "minorgridcolor": "white",
             "startlinecolor": "#2a3f5f"
            },
            "baxis": {
             "endlinecolor": "#2a3f5f",
             "gridcolor": "white",
             "linecolor": "white",
             "minorgridcolor": "white",
             "startlinecolor": "#2a3f5f"
            },
            "type": "carpet"
           }
          ],
          "choropleth": [
           {
            "colorbar": {
             "outlinewidth": 0,
             "ticks": ""
            },
            "type": "choropleth"
           }
          ],
          "contour": [
           {
            "colorbar": {
             "outlinewidth": 0,
             "ticks": ""
            },
            "colorscale": [
             [
              0,
              "#0d0887"
             ],
             [
              0.1111111111111111,
              "#46039f"
             ],
             [
              0.2222222222222222,
              "#7201a8"
             ],
             [
              0.3333333333333333,
              "#9c179e"
             ],
             [
              0.4444444444444444,
              "#bd3786"
             ],
             [
              0.5555555555555556,
              "#d8576b"
             ],
             [
              0.6666666666666666,
              "#ed7953"
             ],
             [
              0.7777777777777778,
              "#fb9f3a"
             ],
             [
              0.8888888888888888,
              "#fdca26"
             ],
             [
              1,
              "#f0f921"
             ]
            ],
            "type": "contour"
           }
          ],
          "contourcarpet": [
           {
            "colorbar": {
             "outlinewidth": 0,
             "ticks": ""
            },
            "type": "contourcarpet"
           }
          ],
          "heatmap": [
           {
            "colorbar": {
             "outlinewidth": 0,
             "ticks": ""
            },
            "colorscale": [
             [
              0,
              "#0d0887"
             ],
             [
              0.1111111111111111,
              "#46039f"
             ],
             [
              0.2222222222222222,
              "#7201a8"
             ],
             [
              0.3333333333333333,
              "#9c179e"
             ],
             [
              0.4444444444444444,
              "#bd3786"
             ],
             [
              0.5555555555555556,
              "#d8576b"
             ],
             [
              0.6666666666666666,
              "#ed7953"
             ],
             [
              0.7777777777777778,
              "#fb9f3a"
             ],
             [
              0.8888888888888888,
              "#fdca26"
             ],
             [
              1,
              "#f0f921"
             ]
            ],
            "type": "heatmap"
           }
          ],
          "heatmapgl": [
           {
            "colorbar": {
             "outlinewidth": 0,
             "ticks": ""
            },
            "colorscale": [
             [
              0,
              "#0d0887"
             ],
             [
              0.1111111111111111,
              "#46039f"
             ],
             [
              0.2222222222222222,
              "#7201a8"
             ],
             [
              0.3333333333333333,
              "#9c179e"
             ],
             [
              0.4444444444444444,
              "#bd3786"
             ],
             [
              0.5555555555555556,
              "#d8576b"
             ],
             [
              0.6666666666666666,
              "#ed7953"
             ],
             [
              0.7777777777777778,
              "#fb9f3a"
             ],
             [
              0.8888888888888888,
              "#fdca26"
             ],
             [
              1,
              "#f0f921"
             ]
            ],
            "type": "heatmapgl"
           }
          ],
          "histogram": [
           {
            "marker": {
             "colorbar": {
              "outlinewidth": 0,
              "ticks": ""
             }
            },
            "type": "histogram"
           }
          ],
          "histogram2d": [
           {
            "colorbar": {
             "outlinewidth": 0,
             "ticks": ""
            },
            "colorscale": [
             [
              0,
              "#0d0887"
             ],
             [
              0.1111111111111111,
              "#46039f"
             ],
             [
              0.2222222222222222,
              "#7201a8"
             ],
             [
              0.3333333333333333,
              "#9c179e"
             ],
             [
              0.4444444444444444,
              "#bd3786"
             ],
             [
              0.5555555555555556,
              "#d8576b"
             ],
             [
              0.6666666666666666,
              "#ed7953"
             ],
             [
              0.7777777777777778,
              "#fb9f3a"
             ],
             [
              0.8888888888888888,
              "#fdca26"
             ],
             [
              1,
              "#f0f921"
             ]
            ],
            "type": "histogram2d"
           }
          ],
          "histogram2dcontour": [
           {
            "colorbar": {
             "outlinewidth": 0,
             "ticks": ""
            },
            "colorscale": [
             [
              0,
              "#0d0887"
             ],
             [
              0.1111111111111111,
              "#46039f"
             ],
             [
              0.2222222222222222,
              "#7201a8"
             ],
             [
              0.3333333333333333,
              "#9c179e"
             ],
             [
              0.4444444444444444,
              "#bd3786"
             ],
             [
              0.5555555555555556,
              "#d8576b"
             ],
             [
              0.6666666666666666,
              "#ed7953"
             ],
             [
              0.7777777777777778,
              "#fb9f3a"
             ],
             [
              0.8888888888888888,
              "#fdca26"
             ],
             [
              1,
              "#f0f921"
             ]
            ],
            "type": "histogram2dcontour"
           }
          ],
          "mesh3d": [
           {
            "colorbar": {
             "outlinewidth": 0,
             "ticks": ""
            },
            "type": "mesh3d"
           }
          ],
          "parcoords": [
           {
            "line": {
             "colorbar": {
              "outlinewidth": 0,
              "ticks": ""
             }
            },
            "type": "parcoords"
           }
          ],
          "pie": [
           {
            "automargin": true,
            "type": "pie"
           }
          ],
          "scatter": [
           {
            "marker": {
             "colorbar": {
              "outlinewidth": 0,
              "ticks": ""
             }
            },
            "type": "scatter"
           }
          ],
          "scatter3d": [
           {
            "line": {
             "colorbar": {
              "outlinewidth": 0,
              "ticks": ""
             }
            },
            "marker": {
             "colorbar": {
              "outlinewidth": 0,
              "ticks": ""
             }
            },
            "type": "scatter3d"
           }
          ],
          "scattercarpet": [
           {
            "marker": {
             "colorbar": {
              "outlinewidth": 0,
              "ticks": ""
             }
            },
            "type": "scattercarpet"
           }
          ],
          "scattergeo": [
           {
            "marker": {
             "colorbar": {
              "outlinewidth": 0,
              "ticks": ""
             }
            },
            "type": "scattergeo"
           }
          ],
          "scattergl": [
           {
            "marker": {
             "colorbar": {
              "outlinewidth": 0,
              "ticks": ""
             }
            },
            "type": "scattergl"
           }
          ],
          "scattermapbox": [
           {
            "marker": {
             "colorbar": {
              "outlinewidth": 0,
              "ticks": ""
             }
            },
            "type": "scattermapbox"
           }
          ],
          "scatterpolar": [
           {
            "marker": {
             "colorbar": {
              "outlinewidth": 0,
              "ticks": ""
             }
            },
            "type": "scatterpolar"
           }
          ],
          "scatterpolargl": [
           {
            "marker": {
             "colorbar": {
              "outlinewidth": 0,
              "ticks": ""
             }
            },
            "type": "scatterpolargl"
           }
          ],
          "scatterternary": [
           {
            "marker": {
             "colorbar": {
              "outlinewidth": 0,
              "ticks": ""
             }
            },
            "type": "scatterternary"
           }
          ],
          "surface": [
           {
            "colorbar": {
             "outlinewidth": 0,
             "ticks": ""
            },
            "colorscale": [
             [
              0,
              "#0d0887"
             ],
             [
              0.1111111111111111,
              "#46039f"
             ],
             [
              0.2222222222222222,
              "#7201a8"
             ],
             [
              0.3333333333333333,
              "#9c179e"
             ],
             [
              0.4444444444444444,
              "#bd3786"
             ],
             [
              0.5555555555555556,
              "#d8576b"
             ],
             [
              0.6666666666666666,
              "#ed7953"
             ],
             [
              0.7777777777777778,
              "#fb9f3a"
             ],
             [
              0.8888888888888888,
              "#fdca26"
             ],
             [
              1,
              "#f0f921"
             ]
            ],
            "type": "surface"
           }
          ],
          "table": [
           {
            "cells": {
             "fill": {
              "color": "#EBF0F8"
             },
             "line": {
              "color": "white"
             }
            },
            "header": {
             "fill": {
              "color": "#C8D4E3"
             },
             "line": {
              "color": "white"
             }
            },
            "type": "table"
           }
          ]
         },
         "layout": {
          "annotationdefaults": {
           "arrowcolor": "#2a3f5f",
           "arrowhead": 0,
           "arrowwidth": 1
          },
          "autotypenumbers": "strict",
          "coloraxis": {
           "colorbar": {
            "outlinewidth": 0,
            "ticks": ""
           }
          },
          "colorscale": {
           "diverging": [
            [
             0,
             "#8e0152"
            ],
            [
             0.1,
             "#c51b7d"
            ],
            [
             0.2,
             "#de77ae"
            ],
            [
             0.3,
             "#f1b6da"
            ],
            [
             0.4,
             "#fde0ef"
            ],
            [
             0.5,
             "#f7f7f7"
            ],
            [
             0.6,
             "#e6f5d0"
            ],
            [
             0.7,
             "#b8e186"
            ],
            [
             0.8,
             "#7fbc41"
            ],
            [
             0.9,
             "#4d9221"
            ],
            [
             1,
             "#276419"
            ]
           ],
           "sequential": [
            [
             0,
             "#0d0887"
            ],
            [
             0.1111111111111111,
             "#46039f"
            ],
            [
             0.2222222222222222,
             "#7201a8"
            ],
            [
             0.3333333333333333,
             "#9c179e"
            ],
            [
             0.4444444444444444,
             "#bd3786"
            ],
            [
             0.5555555555555556,
             "#d8576b"
            ],
            [
             0.6666666666666666,
             "#ed7953"
            ],
            [
             0.7777777777777778,
             "#fb9f3a"
            ],
            [
             0.8888888888888888,
             "#fdca26"
            ],
            [
             1,
             "#f0f921"
            ]
           ],
           "sequentialminus": [
            [
             0,
             "#0d0887"
            ],
            [
             0.1111111111111111,
             "#46039f"
            ],
            [
             0.2222222222222222,
             "#7201a8"
            ],
            [
             0.3333333333333333,
             "#9c179e"
            ],
            [
             0.4444444444444444,
             "#bd3786"
            ],
            [
             0.5555555555555556,
             "#d8576b"
            ],
            [
             0.6666666666666666,
             "#ed7953"
            ],
            [
             0.7777777777777778,
             "#fb9f3a"
            ],
            [
             0.8888888888888888,
             "#fdca26"
            ],
            [
             1,
             "#f0f921"
            ]
           ]
          },
          "colorway": [
           "#636efa",
           "#EF553B",
           "#00cc96",
           "#ab63fa",
           "#FFA15A",
           "#19d3f3",
           "#FF6692",
           "#B6E880",
           "#FF97FF",
           "#FECB52"
          ],
          "font": {
           "color": "#2a3f5f"
          },
          "geo": {
           "bgcolor": "white",
           "lakecolor": "white",
           "landcolor": "#E5ECF6",
           "showlakes": true,
           "showland": true,
           "subunitcolor": "white"
          },
          "hoverlabel": {
           "align": "left"
          },
          "hovermode": "closest",
          "mapbox": {
           "style": "light"
          },
          "paper_bgcolor": "white",
          "plot_bgcolor": "#E5ECF6",
          "polar": {
           "angularaxis": {
            "gridcolor": "white",
            "linecolor": "white",
            "ticks": ""
           },
           "bgcolor": "#E5ECF6",
           "radialaxis": {
            "gridcolor": "white",
            "linecolor": "white",
            "ticks": ""
           }
          },
          "scene": {
           "xaxis": {
            "backgroundcolor": "#E5ECF6",
            "gridcolor": "white",
            "gridwidth": 2,
            "linecolor": "white",
            "showbackground": true,
            "ticks": "",
            "zerolinecolor": "white"
           },
           "yaxis": {
            "backgroundcolor": "#E5ECF6",
            "gridcolor": "white",
            "gridwidth": 2,
            "linecolor": "white",
            "showbackground": true,
            "ticks": "",
            "zerolinecolor": "white"
           },
           "zaxis": {
            "backgroundcolor": "#E5ECF6",
            "gridcolor": "white",
            "gridwidth": 2,
            "linecolor": "white",
            "showbackground": true,
            "ticks": "",
            "zerolinecolor": "white"
           }
          },
          "shapedefaults": {
           "line": {
            "color": "#2a3f5f"
           }
          },
          "ternary": {
           "aaxis": {
            "gridcolor": "white",
            "linecolor": "white",
            "ticks": ""
           },
           "baxis": {
            "gridcolor": "white",
            "linecolor": "white",
            "ticks": ""
           },
           "bgcolor": "#E5ECF6",
           "caxis": {
            "gridcolor": "white",
            "linecolor": "white",
            "ticks": ""
           }
          },
          "title": {
           "x": 0.05
          },
          "xaxis": {
           "automargin": true,
           "gridcolor": "white",
           "linecolor": "white",
           "ticks": "",
           "title": {
            "standoff": 15
           },
           "zerolinecolor": "white",
           "zerolinewidth": 2
          },
          "yaxis": {
           "automargin": true,
           "gridcolor": "white",
           "linecolor": "white",
           "ticks": "",
           "title": {
            "standoff": 15
           },
           "zerolinecolor": "white",
           "zerolinewidth": 2
          }
         }
        },
        "title": {
         "font": {
          "color": "#4D5663"
         }
        },
        "xaxis": {
         "gridcolor": "#E1E5ED",
         "showgrid": true,
         "tickfont": {
          "color": "#4D5663"
         },
         "title": {
          "font": {
           "color": "#4D5663"
          },
          "text": ""
         },
         "zerolinecolor": "#E1E5ED"
        },
        "yaxis": {
         "gridcolor": "#E1E5ED",
         "showgrid": true,
         "tickfont": {
          "color": "#4D5663"
         },
         "title": {
          "font": {
           "color": "#4D5663"
          },
          "text": ""
         },
         "zerolinecolor": "#E1E5ED"
        }
       }
      },
      "text/html": "<div>                            <div id=\"8bd46a1f-50a4-4904-914e-f40820e48eeb\" class=\"plotly-graph-div\" style=\"height:525px; width:100%;\"></div>            <script type=\"text/javascript\">                require([\"plotly\"], function(Plotly) {                    window.PLOTLYENV=window.PLOTLYENV || {};\n                    window.PLOTLYENV.BASE_URL='https://plot.ly';                                    if (document.getElementById(\"8bd46a1f-50a4-4904-914e-f40820e48eeb\")) {                    Plotly.newPlot(                        \"8bd46a1f-50a4-4904-914e-f40820e48eeb\",                        [{\"histfunc\": \"count\", \"histnorm\": \"\", \"marker\": {\"color\": \"rgba(255, 153, 51, 1.0)\", \"line\": {\"color\": \"#4D5663\", \"width\": 1.3}}, \"name\": \"A\", \"nbinsx\": 50, \"opacity\": 0.8, \"orientation\": \"v\", \"type\": \"histogram\", \"x\": [-1.286783666232087, 0.7107277470430434, 1.2206576987234354, 2.670689230942479, -0.868396268279137, -0.7702505222952278, 0.836826113651275, -1.310807545006144, -1.1454772976981726, -1.205923510011141, 0.39104120063317915, 1.480064786672829, -0.4371817585516773, 0.31244387330147083, 0.9522665120953734, -0.9064855359217587, 0.15128185004249292, 0.15061151479926002, 0.2932767331797624, 0.07523964284633954, 0.29022474193827164, -0.15511464338925918, 0.6235611994075417, 0.385198796402805, -1.23041158492017, 0.4146485818376867, 1.3453276550476518, 2.2200082297196575, 0.4843022625460223, -0.9052875932660301, -1.2911658251962215, 1.2239386431635257, 0.5800060939722871, 0.29463938749835283, -0.5274632830251935, -0.7462578578754884, 1.692027647166309, -0.09695059770969566, 0.4881840463183823, -0.025688346575201363, -1.3490757613768838, -0.39677880092704315, 0.35675258383857994, -0.5443711678860995, -0.4195900621836775, 0.6447505960385553, -1.0972813689106393, -0.07544670673084743, -1.680269752499829, 0.5777182254380486, 0.8773588872922171, -1.2744428237723746, 0.4707650176747216, 0.184743927621629, 1.502286572568263, -0.047755807588705734, 0.12565047824483858, -2.8697574169274644, -1.7358225932178784, -0.6272506704206392, -1.4433597294484304, 2.4317752497855403, -1.4322358810549674, 0.5091222176333856, -2.303424236839607, 1.5614540931799474, 1.755253217137435, -0.8962401197499275, 0.6858890477096122, 0.45111826271025357, 0.3732627172869396, -0.11404699509388187, 0.505163811090925, 0.9893247964708458, 1.6802152688092455, 0.3775054456483596, 0.5960017865897772, 1.0021193126559254, -0.38771902641273304, 0.7260151830561632, -0.5736145908308646, 0.5696440774836763, -0.08440931256891603, 1.7580084477921427, -0.9032392980072976, -1.702458506342066, -0.3268225203948594, 0.24042744103696015, 0.3251828854999993, -0.03164848102043208, 1.1673040608017295, -0.5431973031609296, -1.9466362146927483, -0.0069860880888541945, 1.99068233702783, -0.048360909178754935, 0.4008717221536024, 0.26080632462817355, -0.31858331702889736, -0.071197295683597]}],                        {\"barmode\": \"overlay\", \"legend\": {\"bgcolor\": \"#F5F6F9\", \"font\": {\"color\": \"#4D5663\"}}, \"paper_bgcolor\": \"#F5F6F9\", \"plot_bgcolor\": \"#F5F6F9\", \"template\": {\"data\": {\"bar\": [{\"error_x\": {\"color\": \"#2a3f5f\"}, \"error_y\": {\"color\": \"#2a3f5f\"}, \"marker\": {\"line\": {\"color\": \"#E5ECF6\", \"width\": 0.5}}, \"type\": \"bar\"}], \"barpolar\": [{\"marker\": {\"line\": {\"color\": \"#E5ECF6\", \"width\": 0.5}}, \"type\": \"barpolar\"}], \"carpet\": [{\"aaxis\": {\"endlinecolor\": \"#2a3f5f\", \"gridcolor\": \"white\", \"linecolor\": \"white\", \"minorgridcolor\": \"white\", \"startlinecolor\": \"#2a3f5f\"}, \"baxis\": {\"endlinecolor\": \"#2a3f5f\", \"gridcolor\": \"white\", \"linecolor\": \"white\", \"minorgridcolor\": \"white\", \"startlinecolor\": \"#2a3f5f\"}, \"type\": \"carpet\"}], \"choropleth\": [{\"colorbar\": {\"outlinewidth\": 0, \"ticks\": \"\"}, \"type\": \"choropleth\"}], \"contour\": [{\"colorbar\": {\"outlinewidth\": 0, \"ticks\": \"\"}, \"colorscale\": [[0.0, \"#0d0887\"], [0.1111111111111111, \"#46039f\"], [0.2222222222222222, \"#7201a8\"], [0.3333333333333333, \"#9c179e\"], [0.4444444444444444, \"#bd3786\"], [0.5555555555555556, \"#d8576b\"], [0.6666666666666666, \"#ed7953\"], [0.7777777777777778, \"#fb9f3a\"], [0.8888888888888888, \"#fdca26\"], [1.0, \"#f0f921\"]], \"type\": \"contour\"}], \"contourcarpet\": [{\"colorbar\": {\"outlinewidth\": 0, \"ticks\": \"\"}, \"type\": \"contourcarpet\"}], \"heatmap\": [{\"colorbar\": {\"outlinewidth\": 0, \"ticks\": \"\"}, \"colorscale\": [[0.0, \"#0d0887\"], [0.1111111111111111, \"#46039f\"], [0.2222222222222222, \"#7201a8\"], [0.3333333333333333, \"#9c179e\"], [0.4444444444444444, \"#bd3786\"], [0.5555555555555556, \"#d8576b\"], [0.6666666666666666, \"#ed7953\"], [0.7777777777777778, \"#fb9f3a\"], [0.8888888888888888, \"#fdca26\"], [1.0, \"#f0f921\"]], \"type\": \"heatmap\"}], \"heatmapgl\": [{\"colorbar\": {\"outlinewidth\": 0, \"ticks\": \"\"}, \"colorscale\": [[0.0, \"#0d0887\"], [0.1111111111111111, \"#46039f\"], [0.2222222222222222, \"#7201a8\"], [0.3333333333333333, \"#9c179e\"], [0.4444444444444444, \"#bd3786\"], [0.5555555555555556, \"#d8576b\"], [0.6666666666666666, \"#ed7953\"], [0.7777777777777778, \"#fb9f3a\"], [0.8888888888888888, \"#fdca26\"], [1.0, \"#f0f921\"]], \"type\": \"heatmapgl\"}], \"histogram\": [{\"marker\": {\"colorbar\": {\"outlinewidth\": 0, \"ticks\": \"\"}}, \"type\": \"histogram\"}], \"histogram2d\": [{\"colorbar\": {\"outlinewidth\": 0, \"ticks\": \"\"}, \"colorscale\": [[0.0, \"#0d0887\"], [0.1111111111111111, \"#46039f\"], [0.2222222222222222, \"#7201a8\"], [0.3333333333333333, \"#9c179e\"], [0.4444444444444444, \"#bd3786\"], [0.5555555555555556, \"#d8576b\"], [0.6666666666666666, \"#ed7953\"], [0.7777777777777778, \"#fb9f3a\"], [0.8888888888888888, \"#fdca26\"], [1.0, \"#f0f921\"]], \"type\": \"histogram2d\"}], \"histogram2dcontour\": [{\"colorbar\": {\"outlinewidth\": 0, \"ticks\": \"\"}, \"colorscale\": [[0.0, \"#0d0887\"], [0.1111111111111111, \"#46039f\"], [0.2222222222222222, \"#7201a8\"], [0.3333333333333333, \"#9c179e\"], [0.4444444444444444, \"#bd3786\"], [0.5555555555555556, \"#d8576b\"], [0.6666666666666666, \"#ed7953\"], [0.7777777777777778, \"#fb9f3a\"], [0.8888888888888888, \"#fdca26\"], [1.0, \"#f0f921\"]], \"type\": \"histogram2dcontour\"}], \"mesh3d\": [{\"colorbar\": {\"outlinewidth\": 0, \"ticks\": \"\"}, \"type\": \"mesh3d\"}], \"parcoords\": [{\"line\": {\"colorbar\": {\"outlinewidth\": 0, \"ticks\": \"\"}}, \"type\": \"parcoords\"}], \"pie\": [{\"automargin\": true, \"type\": \"pie\"}], \"scatter\": [{\"marker\": {\"colorbar\": {\"outlinewidth\": 0, \"ticks\": \"\"}}, \"type\": \"scatter\"}], \"scatter3d\": [{\"line\": {\"colorbar\": {\"outlinewidth\": 0, \"ticks\": \"\"}}, \"marker\": {\"colorbar\": {\"outlinewidth\": 0, \"ticks\": \"\"}}, \"type\": \"scatter3d\"}], \"scattercarpet\": [{\"marker\": {\"colorbar\": {\"outlinewidth\": 0, \"ticks\": \"\"}}, \"type\": \"scattercarpet\"}], \"scattergeo\": [{\"marker\": {\"colorbar\": {\"outlinewidth\": 0, \"ticks\": \"\"}}, \"type\": \"scattergeo\"}], \"scattergl\": [{\"marker\": {\"colorbar\": {\"outlinewidth\": 0, \"ticks\": \"\"}}, \"type\": \"scattergl\"}], \"scattermapbox\": [{\"marker\": {\"colorbar\": {\"outlinewidth\": 0, \"ticks\": \"\"}}, \"type\": \"scattermapbox\"}], \"scatterpolar\": [{\"marker\": {\"colorbar\": {\"outlinewidth\": 0, \"ticks\": \"\"}}, \"type\": \"scatterpolar\"}], \"scatterpolargl\": [{\"marker\": {\"colorbar\": {\"outlinewidth\": 0, \"ticks\": \"\"}}, \"type\": \"scatterpolargl\"}], \"scatterternary\": [{\"marker\": {\"colorbar\": {\"outlinewidth\": 0, \"ticks\": \"\"}}, \"type\": \"scatterternary\"}], \"surface\": [{\"colorbar\": {\"outlinewidth\": 0, \"ticks\": \"\"}, \"colorscale\": [[0.0, \"#0d0887\"], [0.1111111111111111, \"#46039f\"], [0.2222222222222222, \"#7201a8\"], [0.3333333333333333, \"#9c179e\"], [0.4444444444444444, \"#bd3786\"], [0.5555555555555556, \"#d8576b\"], [0.6666666666666666, \"#ed7953\"], [0.7777777777777778, \"#fb9f3a\"], [0.8888888888888888, \"#fdca26\"], [1.0, \"#f0f921\"]], \"type\": \"surface\"}], \"table\": [{\"cells\": {\"fill\": {\"color\": \"#EBF0F8\"}, \"line\": {\"color\": \"white\"}}, \"header\": {\"fill\": {\"color\": \"#C8D4E3\"}, \"line\": {\"color\": \"white\"}}, \"type\": \"table\"}]}, \"layout\": {\"annotationdefaults\": {\"arrowcolor\": \"#2a3f5f\", \"arrowhead\": 0, \"arrowwidth\": 1}, \"autotypenumbers\": \"strict\", \"coloraxis\": {\"colorbar\": {\"outlinewidth\": 0, \"ticks\": \"\"}}, \"colorscale\": {\"diverging\": [[0, \"#8e0152\"], [0.1, \"#c51b7d\"], [0.2, \"#de77ae\"], [0.3, \"#f1b6da\"], [0.4, \"#fde0ef\"], [0.5, \"#f7f7f7\"], [0.6, \"#e6f5d0\"], [0.7, \"#b8e186\"], [0.8, \"#7fbc41\"], [0.9, \"#4d9221\"], [1, \"#276419\"]], \"sequential\": [[0.0, \"#0d0887\"], [0.1111111111111111, \"#46039f\"], [0.2222222222222222, \"#7201a8\"], [0.3333333333333333, \"#9c179e\"], [0.4444444444444444, \"#bd3786\"], [0.5555555555555556, \"#d8576b\"], [0.6666666666666666, \"#ed7953\"], [0.7777777777777778, \"#fb9f3a\"], [0.8888888888888888, \"#fdca26\"], [1.0, \"#f0f921\"]], \"sequentialminus\": [[0.0, \"#0d0887\"], [0.1111111111111111, \"#46039f\"], [0.2222222222222222, \"#7201a8\"], [0.3333333333333333, \"#9c179e\"], [0.4444444444444444, \"#bd3786\"], [0.5555555555555556, \"#d8576b\"], [0.6666666666666666, \"#ed7953\"], [0.7777777777777778, \"#fb9f3a\"], [0.8888888888888888, \"#fdca26\"], [1.0, \"#f0f921\"]]}, \"colorway\": [\"#636efa\", \"#EF553B\", \"#00cc96\", \"#ab63fa\", \"#FFA15A\", \"#19d3f3\", \"#FF6692\", \"#B6E880\", \"#FF97FF\", \"#FECB52\"], \"font\": {\"color\": \"#2a3f5f\"}, \"geo\": {\"bgcolor\": \"white\", \"lakecolor\": \"white\", \"landcolor\": \"#E5ECF6\", \"showlakes\": true, \"showland\": true, \"subunitcolor\": \"white\"}, \"hoverlabel\": {\"align\": \"left\"}, \"hovermode\": \"closest\", \"mapbox\": {\"style\": \"light\"}, \"paper_bgcolor\": \"white\", \"plot_bgcolor\": \"#E5ECF6\", \"polar\": {\"angularaxis\": {\"gridcolor\": \"white\", \"linecolor\": \"white\", \"ticks\": \"\"}, \"bgcolor\": \"#E5ECF6\", \"radialaxis\": {\"gridcolor\": \"white\", \"linecolor\": \"white\", \"ticks\": \"\"}}, \"scene\": {\"xaxis\": {\"backgroundcolor\": \"#E5ECF6\", \"gridcolor\": \"white\", \"gridwidth\": 2, \"linecolor\": \"white\", \"showbackground\": true, \"ticks\": \"\", \"zerolinecolor\": \"white\"}, \"yaxis\": {\"backgroundcolor\": \"#E5ECF6\", \"gridcolor\": \"white\", \"gridwidth\": 2, \"linecolor\": \"white\", \"showbackground\": true, \"ticks\": \"\", \"zerolinecolor\": \"white\"}, \"zaxis\": {\"backgroundcolor\": \"#E5ECF6\", \"gridcolor\": \"white\", \"gridwidth\": 2, \"linecolor\": \"white\", \"showbackground\": true, \"ticks\": \"\", \"zerolinecolor\": \"white\"}}, \"shapedefaults\": {\"line\": {\"color\": \"#2a3f5f\"}}, \"ternary\": {\"aaxis\": {\"gridcolor\": \"white\", \"linecolor\": \"white\", \"ticks\": \"\"}, \"baxis\": {\"gridcolor\": \"white\", \"linecolor\": \"white\", \"ticks\": \"\"}, \"bgcolor\": \"#E5ECF6\", \"caxis\": {\"gridcolor\": \"white\", \"linecolor\": \"white\", \"ticks\": \"\"}}, \"title\": {\"x\": 0.05}, \"xaxis\": {\"automargin\": true, \"gridcolor\": \"white\", \"linecolor\": \"white\", \"ticks\": \"\", \"title\": {\"standoff\": 15}, \"zerolinecolor\": \"white\", \"zerolinewidth\": 2}, \"yaxis\": {\"automargin\": true, \"gridcolor\": \"white\", \"linecolor\": \"white\", \"ticks\": \"\", \"title\": {\"standoff\": 15}, \"zerolinecolor\": \"white\", \"zerolinewidth\": 2}}}, \"title\": {\"font\": {\"color\": \"#4D5663\"}}, \"xaxis\": {\"gridcolor\": \"#E1E5ED\", \"showgrid\": true, \"tickfont\": {\"color\": \"#4D5663\"}, \"title\": {\"font\": {\"color\": \"#4D5663\"}, \"text\": \"\"}, \"zerolinecolor\": \"#E1E5ED\"}, \"yaxis\": {\"gridcolor\": \"#E1E5ED\", \"showgrid\": true, \"tickfont\": {\"color\": \"#4D5663\"}, \"title\": {\"font\": {\"color\": \"#4D5663\"}, \"text\": \"\"}, \"zerolinecolor\": \"#E1E5ED\"}},                        {\"showLink\": true, \"linkText\": \"Export to plot.ly\", \"plotlyServerURL\": \"https://plot.ly\", \"responsive\": true}                    ).then(function(){\n                            \nvar gd = document.getElementById('8bd46a1f-50a4-4904-914e-f40820e48eeb');\nvar x = new MutationObserver(function (mutations, observer) {{\n        var display = window.getComputedStyle(gd).display;\n        if (!display || display === 'none') {{\n            console.log([gd, 'removed!']);\n            Plotly.purge(gd);\n            observer.disconnect();\n        }}\n}});\n\n// Listen for the removal of the full notebook cells\nvar notebookContainer = gd.closest('#notebook-container');\nif (notebookContainer) {{\n    x.observe(notebookContainer, {childList: true});\n}}\n\n// Listen for the clearing of the current output cell\nvar outputEl = gd.closest('.output');\nif (outputEl) {{\n    x.observe(outputEl, {childList: true});\n}}\n\n                        })                };                });            </script>        </div>"
     },
     "metadata": {}
    }
   ],
   "source": [
    "df['A'].iplot(kind='hist',bins=50)"
   ]
  },
  {
   "cell_type": "code",
   "execution_count": 32,
   "metadata": {},
   "outputs": [
    {
     "output_type": "display_data",
     "data": {
      "application/vnd.plotly.v1+json": {
       "config": {
        "linkText": "Export to plot.ly",
        "plotlyServerURL": "https://plot.ly",
        "showLink": true
       },
       "data": [
        {
         "line": {
          "color": "rgba(255, 153, 51, 1.0)",
          "dash": "solid",
          "shape": "linear",
          "width": 1.3
         },
         "mode": "lines",
         "name": "A",
         "text": "",
         "type": "scatter",
         "x": [
          0,
          1,
          2,
          3,
          4,
          5,
          6,
          7,
          8,
          9,
          10,
          11,
          12,
          13,
          14,
          15,
          16,
          17,
          18,
          19,
          20,
          21,
          22,
          23,
          24,
          25,
          26,
          27,
          28,
          29,
          30,
          31,
          32,
          33,
          34,
          35,
          36,
          37,
          38,
          39,
          40,
          41,
          42,
          43,
          44,
          45,
          46,
          47,
          48,
          49,
          50,
          51,
          52,
          53,
          54,
          55,
          56,
          57,
          58,
          59,
          60,
          61,
          62,
          63,
          64,
          65,
          66,
          67,
          68,
          69,
          70,
          71,
          72,
          73,
          74,
          75,
          76,
          77,
          78,
          79,
          80,
          81,
          82,
          83,
          84,
          85,
          86,
          87,
          88,
          89,
          90,
          91,
          92,
          93,
          94,
          95,
          96,
          97,
          98,
          99
         ],
         "y": [
          -1.286783666232087,
          0.7107277470430434,
          1.2206576987234354,
          2.670689230942479,
          -0.868396268279137,
          -0.7702505222952278,
          0.836826113651275,
          -1.310807545006144,
          -1.1454772976981726,
          -1.205923510011141,
          0.39104120063317915,
          1.480064786672829,
          -0.4371817585516773,
          0.31244387330147083,
          0.9522665120953734,
          -0.9064855359217587,
          0.15128185004249292,
          0.15061151479926002,
          0.2932767331797624,
          0.07523964284633954,
          0.29022474193827164,
          -0.15511464338925918,
          0.6235611994075417,
          0.385198796402805,
          -1.23041158492017,
          0.4146485818376867,
          1.3453276550476518,
          2.2200082297196575,
          0.4843022625460223,
          -0.9052875932660301,
          -1.2911658251962215,
          1.2239386431635257,
          0.5800060939722871,
          0.29463938749835283,
          -0.5274632830251935,
          -0.7462578578754884,
          1.692027647166309,
          -0.09695059770969566,
          0.4881840463183823,
          -0.025688346575201363,
          -1.3490757613768838,
          -0.39677880092704315,
          0.35675258383857994,
          -0.5443711678860995,
          -0.4195900621836775,
          0.6447505960385553,
          -1.0972813689106393,
          -0.07544670673084743,
          -1.680269752499829,
          0.5777182254380486,
          0.8773588872922171,
          -1.2744428237723746,
          0.4707650176747216,
          0.184743927621629,
          1.502286572568263,
          -0.047755807588705734,
          0.12565047824483858,
          -2.8697574169274644,
          -1.7358225932178784,
          -0.6272506704206392,
          -1.4433597294484304,
          2.4317752497855403,
          -1.4322358810549674,
          0.5091222176333856,
          -2.303424236839607,
          1.5614540931799474,
          1.755253217137435,
          -0.8962401197499275,
          0.6858890477096122,
          0.45111826271025357,
          0.3732627172869396,
          -0.11404699509388187,
          0.505163811090925,
          0.9893247964708458,
          1.6802152688092455,
          0.3775054456483596,
          0.5960017865897772,
          1.0021193126559254,
          -0.38771902641273304,
          0.7260151830561632,
          -0.5736145908308646,
          0.5696440774836763,
          -0.08440931256891603,
          1.7580084477921427,
          -0.9032392980072976,
          -1.702458506342066,
          -0.3268225203948594,
          0.24042744103696015,
          0.3251828854999993,
          -0.03164848102043208,
          1.1673040608017295,
          -0.5431973031609296,
          -1.9466362146927483,
          -0.0069860880888541945,
          1.99068233702783,
          -0.048360909178754935,
          0.4008717221536024,
          0.26080632462817355,
          -0.31858331702889736,
          -0.071197295683597
         ]
        },
        {
         "line": {
          "color": "rgba(55, 128, 191, 1.0)",
          "dash": "solid",
          "shape": "linear",
          "width": 1.3
         },
         "mode": "lines",
         "name": "B",
         "text": "",
         "type": "scatter",
         "x": [
          0,
          1,
          2,
          3,
          4,
          5,
          6,
          7,
          8,
          9,
          10,
          11,
          12,
          13,
          14,
          15,
          16,
          17,
          18,
          19,
          20,
          21,
          22,
          23,
          24,
          25,
          26,
          27,
          28,
          29,
          30,
          31,
          32,
          33,
          34,
          35,
          36,
          37,
          38,
          39,
          40,
          41,
          42,
          43,
          44,
          45,
          46,
          47,
          48,
          49,
          50,
          51,
          52,
          53,
          54,
          55,
          56,
          57,
          58,
          59,
          60,
          61,
          62,
          63,
          64,
          65,
          66,
          67,
          68,
          69,
          70,
          71,
          72,
          73,
          74,
          75,
          76,
          77,
          78,
          79,
          80,
          81,
          82,
          83,
          84,
          85,
          86,
          87,
          88,
          89,
          90,
          91,
          92,
          93,
          94,
          95,
          96,
          97,
          98,
          99
         ],
         "y": [
          -1.2436419169159714,
          1.5692860019949753,
          -0.26671888492952217,
          0.2815640316896209,
          1.365892470714254,
          -1.0966017811139082,
          -1.7501437821712431,
          -1.819809038953777,
          0.3286795501646575,
          0.420218601730475,
          -0.4526951755973082,
          0.6428374710337051,
          -0.32814944019105596,
          1.9532810324072836,
          -0.8371761679909756,
          -1.50915051301245,
          -0.11553875435854695,
          -0.19808858021679637,
          0.08189178164630723,
          -1.1690479593556529,
          0.5426510623353725,
          -1.569302061901453,
          2.2472868053504014,
          -0.13122045124668472,
          -0.03454840736457979,
          0.004013916643951113,
          0.9156650742937736,
          -1.5630225390944321,
          -0.8692580183140872,
          0.7776652874301425,
          0.37059975574200205,
          -0.9999879818086167,
          0.6016464734009461,
          0.05210885734734563,
          0.10876319643384028,
          0.07223691516760487,
          -0.488979327879292,
          -1.2474974282935567,
          0.30088905771553354,
          0.8931102695066149,
          0.6345013410633477,
          -0.08705043588611751,
          -0.41296039681387836,
          1.6468689809139507,
          -1.2191028264563968,
          0.06846210845743836,
          1.0803348505760164,
          0.3663395830326163,
          -0.3837984909897694,
          -1.7462365995629416,
          0.9324003722594186,
          -0.3038268359150439,
          -0.8786412238263824,
          -1.419891446791575,
          2.163490032952582,
          -0.8058230604185269,
          0.10256406153351981,
          1.1139069699129942,
          0.49417906199734707,
          0.8760823766737829,
          -0.8948518726206427,
          -1.335563279231745,
          -0.27351425817938646,
          -1.6530349045940977,
          0.7796901069802878,
          0.3178371041948017,
          -0.5673257372555445,
          -0.36103792983823196,
          -0.17726997277506898,
          0.24843619696647495,
          -0.05052867323180514,
          -0.4471599049358513,
          -0.21938709534885703,
          -0.39712704411222405,
          1.6087610337457163,
          -0.43113504250683504,
          0.0018928069012562722,
          -0.9713837764015597,
          -0.9711257871443403,
          -1.201135432974757,
          0.6213409054564155,
          -0.3869811372641256,
          -0.2788357101710152,
          -0.20400907384209452,
          1.011917828496073,
          -0.8505328360888009,
          0.2379108955912931,
          0.4591865745990066,
          0.448859440096995,
          0.16970947821971874,
          3.070837746893535,
          0.6488164419269693,
          1.4007575897732754,
          0.17720275317090023,
          -1.0289729246587451,
          0.14937788270135635,
          -1.1679017277463055,
          0.9170428574901506,
          0.5245942932387379,
          -1.2885764393890806
         ]
        },
        {
         "connectgaps": false,
         "fill": "tozeroy",
         "line": {
          "color": "green",
          "dash": "solid",
          "shape": "linear",
          "width": 0.5
         },
         "mode": "lines",
         "name": "Spread",
         "showlegend": false,
         "type": "scatter",
         "x": [
          0,
          1,
          2,
          3,
          4,
          5,
          6,
          7,
          8,
          9,
          10,
          11,
          12,
          13,
          14,
          15,
          16,
          17,
          18,
          19,
          20,
          21,
          22,
          23,
          24,
          25,
          26,
          27,
          28,
          29,
          30,
          31,
          32,
          33,
          34,
          35,
          36,
          37,
          38,
          39,
          40,
          41,
          42,
          43,
          44,
          45,
          46,
          47,
          48,
          49,
          50,
          51,
          52,
          53,
          54,
          55,
          56,
          57,
          58,
          59,
          60,
          61,
          62,
          63,
          64,
          65,
          66,
          67,
          68,
          69,
          70,
          71,
          72,
          73,
          74,
          75,
          76,
          77,
          78,
          79,
          80,
          81,
          82,
          83,
          84,
          85,
          86,
          87,
          88,
          89,
          90,
          91,
          92,
          93,
          94,
          95,
          96,
          97,
          98,
          99
         ],
         "xaxis": "x2",
         "y": [
          "",
          "",
          1.4873765836529576,
          2.3891251992528577,
          "",
          0.3263512588186803,
          2.5869698958225182,
          0.509001493947633,
          "",
          "",
          0.8437363762304874,
          0.8372273156391238,
          "",
          "",
          1.789442680086349,
          0.6026649770906913,
          0.2668206044010399,
          0.34870009501605637,
          0.21138495153345516,
          1.2442876022019924,
          "",
          1.4141874185121939,
          "",
          0.5164192476494898,
          "",
          0.4106346651937356,
          0.4296625807538782,
          3.78303076881409,
          1.3535602808601095,
          "",
          "",
          2.2239266249721426,
          "",
          0.2425305301510072,
          "",
          "",
          2.1810069750456007,
          1.150546830583861,
          0.18729498860284877,
          "",
          "",
          "",
          0.7697129806524583,
          "",
          0.7995127642727193,
          0.576288487581117,
          "",
          "",
          "",
          2.3239548250009903,
          "",
          "",
          1.349406241501104,
          1.604635374413204,
          "",
          0.7580672528298211,
          0.023086416711318766,
          "",
          "",
          "",
          "",
          3.767338529017285,
          "",
          2.1621571222274834,
          "",
          1.2436169889851456,
          2.32257895439298,
          "",
          0.8631590204846812,
          0.20268206574377862,
          0.42379139051874476,
          0.3331129098419694,
          0.724550906439782,
          1.38645184058307,
          0.07145423506352921,
          0.8086404881551946,
          0.5941089796885209,
          1.973503089057485,
          0.5834067607316072,
          1.9271506160309202,
          "",
          0.9566252147478018,
          0.19442639760209918,
          1.9620175216342373,
          "",
          "",
          "",
          "",
          "",
          "",
          "",
          "",
          "",
          "",
          3.019655261686575,
          "",
          1.568773449899908,
          "",
          "",
          1.2173791437054837
         ],
         "yaxis": "y2"
        },
        {
         "connectgaps": false,
         "fill": "tozeroy",
         "line": {
          "color": "red",
          "dash": "solid",
          "shape": "linear",
          "width": 0.5
         },
         "mode": "lines",
         "name": "Spread",
         "showlegend": false,
         "type": "scatter",
         "x": [
          0,
          1,
          2,
          3,
          4,
          5,
          6,
          7,
          8,
          9,
          10,
          11,
          12,
          13,
          14,
          15,
          16,
          17,
          18,
          19,
          20,
          21,
          22,
          23,
          24,
          25,
          26,
          27,
          28,
          29,
          30,
          31,
          32,
          33,
          34,
          35,
          36,
          37,
          38,
          39,
          40,
          41,
          42,
          43,
          44,
          45,
          46,
          47,
          48,
          49,
          50,
          51,
          52,
          53,
          54,
          55,
          56,
          57,
          58,
          59,
          60,
          61,
          62,
          63,
          64,
          65,
          66,
          67,
          68,
          69,
          70,
          71,
          72,
          73,
          74,
          75,
          76,
          77,
          78,
          79,
          80,
          81,
          82,
          83,
          84,
          85,
          86,
          87,
          88,
          89,
          90,
          91,
          92,
          93,
          94,
          95,
          96,
          97,
          98,
          99
         ],
         "xaxis": "x2",
         "y": [
          -0.043141749316115696,
          -0.8585582549519318,
          "",
          "",
          -2.2342887389933908,
          "",
          "",
          "",
          -1.4741568478628302,
          -1.626142111741616,
          "",
          "",
          -0.10903231836062133,
          -1.6408371591058128,
          "",
          "",
          "",
          "",
          "",
          "",
          -0.2524263203971009,
          "",
          -1.6237256059428598,
          "",
          -1.1958631775555901,
          "",
          "",
          "",
          "",
          -1.6829528806961727,
          -1.6617655809382235,
          "",
          -0.02164037942865904,
          "",
          -0.6362264794590338,
          -0.8184947730430933,
          "",
          "",
          "",
          -0.9187986160818162,
          -1.9835771024402313,
          -0.30972836504092566,
          "",
          -2.19124014880005,
          "",
          "",
          -2.177616219486656,
          -0.44178628976346374,
          -1.2964712615100595,
          "",
          -0.055041484967201515,
          -0.9706159878573307,
          "",
          "",
          -0.6612034603843189,
          "",
          "",
          -3.9836643868404584,
          -2.2300016552152253,
          -1.5033330470944222,
          -0.5485078568277877,
          "",
          -1.1587216228755808,
          "",
          -3.083114343819895,
          "",
          "",
          -0.5352021899116954,
          "",
          "",
          "",
          "",
          "",
          "",
          "",
          "",
          "",
          "",
          "",
          "",
          -1.1949554962872802,
          "",
          "",
          "",
          -1.9151571265033707,
          -0.8519256702532652,
          -0.5647334159861525,
          -0.21875913356204643,
          -0.12367655459699572,
          -0.20135795924015082,
          -1.9035336860918055,
          -1.192013745087899,
          -3.347393804466024,
          -0.18418884125975443,
          "",
          -0.1977387918801113,
          "",
          -0.656236532861977,
          -0.8431776102676352,
          ""
         ],
         "yaxis": "y2"
        }
       ],
       "layout": {
        "hovermode": "x",
        "legend": {
         "bgcolor": "#F5F6F9",
         "font": {
          "color": "#4D5663"
         }
        },
        "paper_bgcolor": "#F5F6F9",
        "plot_bgcolor": "#F5F6F9",
        "template": {
         "data": {
          "bar": [
           {
            "error_x": {
             "color": "#2a3f5f"
            },
            "error_y": {
             "color": "#2a3f5f"
            },
            "marker": {
             "line": {
              "color": "#E5ECF6",
              "width": 0.5
             }
            },
            "type": "bar"
           }
          ],
          "barpolar": [
           {
            "marker": {
             "line": {
              "color": "#E5ECF6",
              "width": 0.5
             }
            },
            "type": "barpolar"
           }
          ],
          "carpet": [
           {
            "aaxis": {
             "endlinecolor": "#2a3f5f",
             "gridcolor": "white",
             "linecolor": "white",
             "minorgridcolor": "white",
             "startlinecolor": "#2a3f5f"
            },
            "baxis": {
             "endlinecolor": "#2a3f5f",
             "gridcolor": "white",
             "linecolor": "white",
             "minorgridcolor": "white",
             "startlinecolor": "#2a3f5f"
            },
            "type": "carpet"
           }
          ],
          "choropleth": [
           {
            "colorbar": {
             "outlinewidth": 0,
             "ticks": ""
            },
            "type": "choropleth"
           }
          ],
          "contour": [
           {
            "colorbar": {
             "outlinewidth": 0,
             "ticks": ""
            },
            "colorscale": [
             [
              0,
              "#0d0887"
             ],
             [
              0.1111111111111111,
              "#46039f"
             ],
             [
              0.2222222222222222,
              "#7201a8"
             ],
             [
              0.3333333333333333,
              "#9c179e"
             ],
             [
              0.4444444444444444,
              "#bd3786"
             ],
             [
              0.5555555555555556,
              "#d8576b"
             ],
             [
              0.6666666666666666,
              "#ed7953"
             ],
             [
              0.7777777777777778,
              "#fb9f3a"
             ],
             [
              0.8888888888888888,
              "#fdca26"
             ],
             [
              1,
              "#f0f921"
             ]
            ],
            "type": "contour"
           }
          ],
          "contourcarpet": [
           {
            "colorbar": {
             "outlinewidth": 0,
             "ticks": ""
            },
            "type": "contourcarpet"
           }
          ],
          "heatmap": [
           {
            "colorbar": {
             "outlinewidth": 0,
             "ticks": ""
            },
            "colorscale": [
             [
              0,
              "#0d0887"
             ],
             [
              0.1111111111111111,
              "#46039f"
             ],
             [
              0.2222222222222222,
              "#7201a8"
             ],
             [
              0.3333333333333333,
              "#9c179e"
             ],
             [
              0.4444444444444444,
              "#bd3786"
             ],
             [
              0.5555555555555556,
              "#d8576b"
             ],
             [
              0.6666666666666666,
              "#ed7953"
             ],
             [
              0.7777777777777778,
              "#fb9f3a"
             ],
             [
              0.8888888888888888,
              "#fdca26"
             ],
             [
              1,
              "#f0f921"
             ]
            ],
            "type": "heatmap"
           }
          ],
          "heatmapgl": [
           {
            "colorbar": {
             "outlinewidth": 0,
             "ticks": ""
            },
            "colorscale": [
             [
              0,
              "#0d0887"
             ],
             [
              0.1111111111111111,
              "#46039f"
             ],
             [
              0.2222222222222222,
              "#7201a8"
             ],
             [
              0.3333333333333333,
              "#9c179e"
             ],
             [
              0.4444444444444444,
              "#bd3786"
             ],
             [
              0.5555555555555556,
              "#d8576b"
             ],
             [
              0.6666666666666666,
              "#ed7953"
             ],
             [
              0.7777777777777778,
              "#fb9f3a"
             ],
             [
              0.8888888888888888,
              "#fdca26"
             ],
             [
              1,
              "#f0f921"
             ]
            ],
            "type": "heatmapgl"
           }
          ],
          "histogram": [
           {
            "marker": {
             "colorbar": {
              "outlinewidth": 0,
              "ticks": ""
             }
            },
            "type": "histogram"
           }
          ],
          "histogram2d": [
           {
            "colorbar": {
             "outlinewidth": 0,
             "ticks": ""
            },
            "colorscale": [
             [
              0,
              "#0d0887"
             ],
             [
              0.1111111111111111,
              "#46039f"
             ],
             [
              0.2222222222222222,
              "#7201a8"
             ],
             [
              0.3333333333333333,
              "#9c179e"
             ],
             [
              0.4444444444444444,
              "#bd3786"
             ],
             [
              0.5555555555555556,
              "#d8576b"
             ],
             [
              0.6666666666666666,
              "#ed7953"
             ],
             [
              0.7777777777777778,
              "#fb9f3a"
             ],
             [
              0.8888888888888888,
              "#fdca26"
             ],
             [
              1,
              "#f0f921"
             ]
            ],
            "type": "histogram2d"
           }
          ],
          "histogram2dcontour": [
           {
            "colorbar": {
             "outlinewidth": 0,
             "ticks": ""
            },
            "colorscale": [
             [
              0,
              "#0d0887"
             ],
             [
              0.1111111111111111,
              "#46039f"
             ],
             [
              0.2222222222222222,
              "#7201a8"
             ],
             [
              0.3333333333333333,
              "#9c179e"
             ],
             [
              0.4444444444444444,
              "#bd3786"
             ],
             [
              0.5555555555555556,
              "#d8576b"
             ],
             [
              0.6666666666666666,
              "#ed7953"
             ],
             [
              0.7777777777777778,
              "#fb9f3a"
             ],
             [
              0.8888888888888888,
              "#fdca26"
             ],
             [
              1,
              "#f0f921"
             ]
            ],
            "type": "histogram2dcontour"
           }
          ],
          "mesh3d": [
           {
            "colorbar": {
             "outlinewidth": 0,
             "ticks": ""
            },
            "type": "mesh3d"
           }
          ],
          "parcoords": [
           {
            "line": {
             "colorbar": {
              "outlinewidth": 0,
              "ticks": ""
             }
            },
            "type": "parcoords"
           }
          ],
          "pie": [
           {
            "automargin": true,
            "type": "pie"
           }
          ],
          "scatter": [
           {
            "marker": {
             "colorbar": {
              "outlinewidth": 0,
              "ticks": ""
             }
            },
            "type": "scatter"
           }
          ],
          "scatter3d": [
           {
            "line": {
             "colorbar": {
              "outlinewidth": 0,
              "ticks": ""
             }
            },
            "marker": {
             "colorbar": {
              "outlinewidth": 0,
              "ticks": ""
             }
            },
            "type": "scatter3d"
           }
          ],
          "scattercarpet": [
           {
            "marker": {
             "colorbar": {
              "outlinewidth": 0,
              "ticks": ""
             }
            },
            "type": "scattercarpet"
           }
          ],
          "scattergeo": [
           {
            "marker": {
             "colorbar": {
              "outlinewidth": 0,
              "ticks": ""
             }
            },
            "type": "scattergeo"
           }
          ],
          "scattergl": [
           {
            "marker": {
             "colorbar": {
              "outlinewidth": 0,
              "ticks": ""
             }
            },
            "type": "scattergl"
           }
          ],
          "scattermapbox": [
           {
            "marker": {
             "colorbar": {
              "outlinewidth": 0,
              "ticks": ""
             }
            },
            "type": "scattermapbox"
           }
          ],
          "scatterpolar": [
           {
            "marker": {
             "colorbar": {
              "outlinewidth": 0,
              "ticks": ""
             }
            },
            "type": "scatterpolar"
           }
          ],
          "scatterpolargl": [
           {
            "marker": {
             "colorbar": {
              "outlinewidth": 0,
              "ticks": ""
             }
            },
            "type": "scatterpolargl"
           }
          ],
          "scatterternary": [
           {
            "marker": {
             "colorbar": {
              "outlinewidth": 0,
              "ticks": ""
             }
            },
            "type": "scatterternary"
           }
          ],
          "surface": [
           {
            "colorbar": {
             "outlinewidth": 0,
             "ticks": ""
            },
            "colorscale": [
             [
              0,
              "#0d0887"
             ],
             [
              0.1111111111111111,
              "#46039f"
             ],
             [
              0.2222222222222222,
              "#7201a8"
             ],
             [
              0.3333333333333333,
              "#9c179e"
             ],
             [
              0.4444444444444444,
              "#bd3786"
             ],
             [
              0.5555555555555556,
              "#d8576b"
             ],
             [
              0.6666666666666666,
              "#ed7953"
             ],
             [
              0.7777777777777778,
              "#fb9f3a"
             ],
             [
              0.8888888888888888,
              "#fdca26"
             ],
             [
              1,
              "#f0f921"
             ]
            ],
            "type": "surface"
           }
          ],
          "table": [
           {
            "cells": {
             "fill": {
              "color": "#EBF0F8"
             },
             "line": {
              "color": "white"
             }
            },
            "header": {
             "fill": {
              "color": "#C8D4E3"
             },
             "line": {
              "color": "white"
             }
            },
            "type": "table"
           }
          ]
         },
         "layout": {
          "annotationdefaults": {
           "arrowcolor": "#2a3f5f",
           "arrowhead": 0,
           "arrowwidth": 1
          },
          "autotypenumbers": "strict",
          "coloraxis": {
           "colorbar": {
            "outlinewidth": 0,
            "ticks": ""
           }
          },
          "colorscale": {
           "diverging": [
            [
             0,
             "#8e0152"
            ],
            [
             0.1,
             "#c51b7d"
            ],
            [
             0.2,
             "#de77ae"
            ],
            [
             0.3,
             "#f1b6da"
            ],
            [
             0.4,
             "#fde0ef"
            ],
            [
             0.5,
             "#f7f7f7"
            ],
            [
             0.6,
             "#e6f5d0"
            ],
            [
             0.7,
             "#b8e186"
            ],
            [
             0.8,
             "#7fbc41"
            ],
            [
             0.9,
             "#4d9221"
            ],
            [
             1,
             "#276419"
            ]
           ],
           "sequential": [
            [
             0,
             "#0d0887"
            ],
            [
             0.1111111111111111,
             "#46039f"
            ],
            [
             0.2222222222222222,
             "#7201a8"
            ],
            [
             0.3333333333333333,
             "#9c179e"
            ],
            [
             0.4444444444444444,
             "#bd3786"
            ],
            [
             0.5555555555555556,
             "#d8576b"
            ],
            [
             0.6666666666666666,
             "#ed7953"
            ],
            [
             0.7777777777777778,
             "#fb9f3a"
            ],
            [
             0.8888888888888888,
             "#fdca26"
            ],
            [
             1,
             "#f0f921"
            ]
           ],
           "sequentialminus": [
            [
             0,
             "#0d0887"
            ],
            [
             0.1111111111111111,
             "#46039f"
            ],
            [
             0.2222222222222222,
             "#7201a8"
            ],
            [
             0.3333333333333333,
             "#9c179e"
            ],
            [
             0.4444444444444444,
             "#bd3786"
            ],
            [
             0.5555555555555556,
             "#d8576b"
            ],
            [
             0.6666666666666666,
             "#ed7953"
            ],
            [
             0.7777777777777778,
             "#fb9f3a"
            ],
            [
             0.8888888888888888,
             "#fdca26"
            ],
            [
             1,
             "#f0f921"
            ]
           ]
          },
          "colorway": [
           "#636efa",
           "#EF553B",
           "#00cc96",
           "#ab63fa",
           "#FFA15A",
           "#19d3f3",
           "#FF6692",
           "#B6E880",
           "#FF97FF",
           "#FECB52"
          ],
          "font": {
           "color": "#2a3f5f"
          },
          "geo": {
           "bgcolor": "white",
           "lakecolor": "white",
           "landcolor": "#E5ECF6",
           "showlakes": true,
           "showland": true,
           "subunitcolor": "white"
          },
          "hoverlabel": {
           "align": "left"
          },
          "hovermode": "closest",
          "mapbox": {
           "style": "light"
          },
          "paper_bgcolor": "white",
          "plot_bgcolor": "#E5ECF6",
          "polar": {
           "angularaxis": {
            "gridcolor": "white",
            "linecolor": "white",
            "ticks": ""
           },
           "bgcolor": "#E5ECF6",
           "radialaxis": {
            "gridcolor": "white",
            "linecolor": "white",
            "ticks": ""
           }
          },
          "scene": {
           "xaxis": {
            "backgroundcolor": "#E5ECF6",
            "gridcolor": "white",
            "gridwidth": 2,
            "linecolor": "white",
            "showbackground": true,
            "ticks": "",
            "zerolinecolor": "white"
           },
           "yaxis": {
            "backgroundcolor": "#E5ECF6",
            "gridcolor": "white",
            "gridwidth": 2,
            "linecolor": "white",
            "showbackground": true,
            "ticks": "",
            "zerolinecolor": "white"
           },
           "zaxis": {
            "backgroundcolor": "#E5ECF6",
            "gridcolor": "white",
            "gridwidth": 2,
            "linecolor": "white",
            "showbackground": true,
            "ticks": "",
            "zerolinecolor": "white"
           }
          },
          "shapedefaults": {
           "line": {
            "color": "#2a3f5f"
           }
          },
          "ternary": {
           "aaxis": {
            "gridcolor": "white",
            "linecolor": "white",
            "ticks": ""
           },
           "baxis": {
            "gridcolor": "white",
            "linecolor": "white",
            "ticks": ""
           },
           "bgcolor": "#E5ECF6",
           "caxis": {
            "gridcolor": "white",
            "linecolor": "white",
            "ticks": ""
           }
          },
          "title": {
           "x": 0.05
          },
          "xaxis": {
           "automargin": true,
           "gridcolor": "white",
           "linecolor": "white",
           "ticks": "",
           "title": {
            "standoff": 15
           },
           "zerolinecolor": "white",
           "zerolinewidth": 2
          },
          "yaxis": {
           "automargin": true,
           "gridcolor": "white",
           "linecolor": "white",
           "ticks": "",
           "title": {
            "standoff": 15
           },
           "zerolinecolor": "white",
           "zerolinewidth": 2
          }
         }
        },
        "title": {
         "font": {
          "color": "#4D5663"
         }
        },
        "xaxis": {
         "gridcolor": "#E1E5ED",
         "showgrid": true,
         "tickfont": {
          "color": "#4D5663"
         },
         "title": {
          "font": {
           "color": "#4D5663"
          },
          "text": ""
         },
         "zerolinecolor": "#E1E5ED"
        },
        "xaxis2": {
         "anchor": "y2",
         "gridcolor": "#E1E5ED",
         "showgrid": true,
         "showticklabels": false,
         "tickfont": {
          "color": "#4D5663"
         },
         "title": {
          "font": {
           "color": "#4D5663"
          },
          "text": ""
         },
         "zerolinecolor": "#E1E5ED"
        },
        "yaxis": {
         "domain": [
          0.3,
          1
         ],
         "gridcolor": "#E1E5ED",
         "showgrid": true,
         "tickfont": {
          "color": "#4D5663"
         },
         "title": {
          "font": {
           "color": "#4D5663"
          },
          "text": ""
         },
         "zerolinecolor": "#E1E5ED"
        },
        "yaxis2": {
         "domain": [
          0,
          0.25
         ],
         "gridcolor": "#E1E5ED",
         "showgrid": true,
         "tickfont": {
          "color": "#4D5663"
         },
         "title": {
          "font": {
           "color": "#4D5663"
          },
          "text": "Spread"
         },
         "zerolinecolor": "#E1E5ED"
        }
       }
      },
      "text/html": "<div>                            <div id=\"58175713-4532-4036-90c3-0d9e1734aa28\" class=\"plotly-graph-div\" style=\"height:525px; width:100%;\"></div>            <script type=\"text/javascript\">                require([\"plotly\"], function(Plotly) {                    window.PLOTLYENV=window.PLOTLYENV || {};\n                    window.PLOTLYENV.BASE_URL='https://plot.ly';                                    if (document.getElementById(\"58175713-4532-4036-90c3-0d9e1734aa28\")) {                    Plotly.newPlot(                        \"58175713-4532-4036-90c3-0d9e1734aa28\",                        [{\"line\": {\"color\": \"rgba(255, 153, 51, 1.0)\", \"dash\": \"solid\", \"shape\": \"linear\", \"width\": 1.3}, \"mode\": \"lines\", \"name\": \"A\", \"text\": \"\", \"type\": \"scatter\", \"x\": [0, 1, 2, 3, 4, 5, 6, 7, 8, 9, 10, 11, 12, 13, 14, 15, 16, 17, 18, 19, 20, 21, 22, 23, 24, 25, 26, 27, 28, 29, 30, 31, 32, 33, 34, 35, 36, 37, 38, 39, 40, 41, 42, 43, 44, 45, 46, 47, 48, 49, 50, 51, 52, 53, 54, 55, 56, 57, 58, 59, 60, 61, 62, 63, 64, 65, 66, 67, 68, 69, 70, 71, 72, 73, 74, 75, 76, 77, 78, 79, 80, 81, 82, 83, 84, 85, 86, 87, 88, 89, 90, 91, 92, 93, 94, 95, 96, 97, 98, 99], \"y\": [-1.286783666232087, 0.7107277470430434, 1.2206576987234354, 2.670689230942479, -0.868396268279137, -0.7702505222952278, 0.836826113651275, -1.310807545006144, -1.1454772976981726, -1.205923510011141, 0.39104120063317915, 1.480064786672829, -0.4371817585516773, 0.31244387330147083, 0.9522665120953734, -0.9064855359217587, 0.15128185004249292, 0.15061151479926002, 0.2932767331797624, 0.07523964284633954, 0.29022474193827164, -0.15511464338925918, 0.6235611994075417, 0.385198796402805, -1.23041158492017, 0.4146485818376867, 1.3453276550476518, 2.2200082297196575, 0.4843022625460223, -0.9052875932660301, -1.2911658251962215, 1.2239386431635257, 0.5800060939722871, 0.29463938749835283, -0.5274632830251935, -0.7462578578754884, 1.692027647166309, -0.09695059770969566, 0.4881840463183823, -0.025688346575201363, -1.3490757613768838, -0.39677880092704315, 0.35675258383857994, -0.5443711678860995, -0.4195900621836775, 0.6447505960385553, -1.0972813689106393, -0.07544670673084743, -1.680269752499829, 0.5777182254380486, 0.8773588872922171, -1.2744428237723746, 0.4707650176747216, 0.184743927621629, 1.502286572568263, -0.047755807588705734, 0.12565047824483858, -2.8697574169274644, -1.7358225932178784, -0.6272506704206392, -1.4433597294484304, 2.4317752497855403, -1.4322358810549674, 0.5091222176333856, -2.303424236839607, 1.5614540931799474, 1.755253217137435, -0.8962401197499275, 0.6858890477096122, 0.45111826271025357, 0.3732627172869396, -0.11404699509388187, 0.505163811090925, 0.9893247964708458, 1.6802152688092455, 0.3775054456483596, 0.5960017865897772, 1.0021193126559254, -0.38771902641273304, 0.7260151830561632, -0.5736145908308646, 0.5696440774836763, -0.08440931256891603, 1.7580084477921427, -0.9032392980072976, -1.702458506342066, -0.3268225203948594, 0.24042744103696015, 0.3251828854999993, -0.03164848102043208, 1.1673040608017295, -0.5431973031609296, -1.9466362146927483, -0.0069860880888541945, 1.99068233702783, -0.048360909178754935, 0.4008717221536024, 0.26080632462817355, -0.31858331702889736, -0.071197295683597]}, {\"line\": {\"color\": \"rgba(55, 128, 191, 1.0)\", \"dash\": \"solid\", \"shape\": \"linear\", \"width\": 1.3}, \"mode\": \"lines\", \"name\": \"B\", \"text\": \"\", \"type\": \"scatter\", \"x\": [0, 1, 2, 3, 4, 5, 6, 7, 8, 9, 10, 11, 12, 13, 14, 15, 16, 17, 18, 19, 20, 21, 22, 23, 24, 25, 26, 27, 28, 29, 30, 31, 32, 33, 34, 35, 36, 37, 38, 39, 40, 41, 42, 43, 44, 45, 46, 47, 48, 49, 50, 51, 52, 53, 54, 55, 56, 57, 58, 59, 60, 61, 62, 63, 64, 65, 66, 67, 68, 69, 70, 71, 72, 73, 74, 75, 76, 77, 78, 79, 80, 81, 82, 83, 84, 85, 86, 87, 88, 89, 90, 91, 92, 93, 94, 95, 96, 97, 98, 99], \"y\": [-1.2436419169159714, 1.5692860019949753, -0.26671888492952217, 0.2815640316896209, 1.365892470714254, -1.0966017811139082, -1.7501437821712431, -1.819809038953777, 0.3286795501646575, 0.420218601730475, -0.4526951755973082, 0.6428374710337051, -0.32814944019105596, 1.9532810324072836, -0.8371761679909756, -1.50915051301245, -0.11553875435854695, -0.19808858021679637, 0.08189178164630723, -1.1690479593556529, 0.5426510623353725, -1.569302061901453, 2.2472868053504014, -0.13122045124668472, -0.03454840736457979, 0.004013916643951113, 0.9156650742937736, -1.5630225390944321, -0.8692580183140872, 0.7776652874301425, 0.37059975574200205, -0.9999879818086167, 0.6016464734009461, 0.05210885734734563, 0.10876319643384028, 0.07223691516760487, -0.488979327879292, -1.2474974282935567, 0.30088905771553354, 0.8931102695066149, 0.6345013410633477, -0.08705043588611751, -0.41296039681387836, 1.6468689809139507, -1.2191028264563968, 0.06846210845743836, 1.0803348505760164, 0.3663395830326163, -0.3837984909897694, -1.7462365995629416, 0.9324003722594186, -0.3038268359150439, -0.8786412238263824, -1.419891446791575, 2.163490032952582, -0.8058230604185269, 0.10256406153351981, 1.1139069699129942, 0.49417906199734707, 0.8760823766737829, -0.8948518726206427, -1.335563279231745, -0.27351425817938646, -1.6530349045940977, 0.7796901069802878, 0.3178371041948017, -0.5673257372555445, -0.36103792983823196, -0.17726997277506898, 0.24843619696647495, -0.05052867323180514, -0.4471599049358513, -0.21938709534885703, -0.39712704411222405, 1.6087610337457163, -0.43113504250683504, 0.0018928069012562722, -0.9713837764015597, -0.9711257871443403, -1.201135432974757, 0.6213409054564155, -0.3869811372641256, -0.2788357101710152, -0.20400907384209452, 1.011917828496073, -0.8505328360888009, 0.2379108955912931, 0.4591865745990066, 0.448859440096995, 0.16970947821971874, 3.070837746893535, 0.6488164419269693, 1.4007575897732754, 0.17720275317090023, -1.0289729246587451, 0.14937788270135635, -1.1679017277463055, 0.9170428574901506, 0.5245942932387379, -1.2885764393890806]}, {\"connectgaps\": false, \"fill\": \"tozeroy\", \"line\": {\"color\": \"green\", \"dash\": \"solid\", \"shape\": \"linear\", \"width\": 0.5}, \"mode\": \"lines\", \"name\": \"Spread\", \"showlegend\": false, \"type\": \"scatter\", \"x\": [0, 1, 2, 3, 4, 5, 6, 7, 8, 9, 10, 11, 12, 13, 14, 15, 16, 17, 18, 19, 20, 21, 22, 23, 24, 25, 26, 27, 28, 29, 30, 31, 32, 33, 34, 35, 36, 37, 38, 39, 40, 41, 42, 43, 44, 45, 46, 47, 48, 49, 50, 51, 52, 53, 54, 55, 56, 57, 58, 59, 60, 61, 62, 63, 64, 65, 66, 67, 68, 69, 70, 71, 72, 73, 74, 75, 76, 77, 78, 79, 80, 81, 82, 83, 84, 85, 86, 87, 88, 89, 90, 91, 92, 93, 94, 95, 96, 97, 98, 99], \"xaxis\": \"x2\", \"y\": [\"\", \"\", 1.4873765836529576, 2.3891251992528577, \"\", 0.3263512588186803, 2.5869698958225182, 0.509001493947633, \"\", \"\", 0.8437363762304874, 0.8372273156391238, \"\", \"\", 1.789442680086349, 0.6026649770906913, 0.2668206044010399, 0.34870009501605637, 0.21138495153345516, 1.2442876022019924, \"\", 1.4141874185121939, \"\", 0.5164192476494898, \"\", 0.4106346651937356, 0.4296625807538782, 3.78303076881409, 1.3535602808601095, \"\", \"\", 2.2239266249721426, \"\", 0.2425305301510072, \"\", \"\", 2.1810069750456007, 1.150546830583861, 0.18729498860284877, \"\", \"\", \"\", 0.7697129806524583, \"\", 0.7995127642727193, 0.576288487581117, \"\", \"\", \"\", 2.3239548250009903, \"\", \"\", 1.349406241501104, 1.604635374413204, \"\", 0.7580672528298211, 0.023086416711318766, \"\", \"\", \"\", \"\", 3.767338529017285, \"\", 2.1621571222274834, \"\", 1.2436169889851456, 2.32257895439298, \"\", 0.8631590204846812, 0.20268206574377862, 0.42379139051874476, 0.3331129098419694, 0.724550906439782, 1.38645184058307, 0.07145423506352921, 0.8086404881551946, 0.5941089796885209, 1.973503089057485, 0.5834067607316072, 1.9271506160309202, \"\", 0.9566252147478018, 0.19442639760209918, 1.9620175216342373, \"\", \"\", \"\", \"\", \"\", \"\", \"\", \"\", \"\", \"\", 3.019655261686575, \"\", 1.568773449899908, \"\", \"\", 1.2173791437054837], \"yaxis\": \"y2\"}, {\"connectgaps\": false, \"fill\": \"tozeroy\", \"line\": {\"color\": \"red\", \"dash\": \"solid\", \"shape\": \"linear\", \"width\": 0.5}, \"mode\": \"lines\", \"name\": \"Spread\", \"showlegend\": false, \"type\": \"scatter\", \"x\": [0, 1, 2, 3, 4, 5, 6, 7, 8, 9, 10, 11, 12, 13, 14, 15, 16, 17, 18, 19, 20, 21, 22, 23, 24, 25, 26, 27, 28, 29, 30, 31, 32, 33, 34, 35, 36, 37, 38, 39, 40, 41, 42, 43, 44, 45, 46, 47, 48, 49, 50, 51, 52, 53, 54, 55, 56, 57, 58, 59, 60, 61, 62, 63, 64, 65, 66, 67, 68, 69, 70, 71, 72, 73, 74, 75, 76, 77, 78, 79, 80, 81, 82, 83, 84, 85, 86, 87, 88, 89, 90, 91, 92, 93, 94, 95, 96, 97, 98, 99], \"xaxis\": \"x2\", \"y\": [-0.043141749316115696, -0.8585582549519318, \"\", \"\", -2.2342887389933908, \"\", \"\", \"\", -1.4741568478628302, -1.626142111741616, \"\", \"\", -0.10903231836062133, -1.6408371591058128, \"\", \"\", \"\", \"\", \"\", \"\", -0.2524263203971009, \"\", -1.6237256059428598, \"\", -1.1958631775555901, \"\", \"\", \"\", \"\", -1.6829528806961727, -1.6617655809382235, \"\", -0.02164037942865904, \"\", -0.6362264794590338, -0.8184947730430933, \"\", \"\", \"\", -0.9187986160818162, -1.9835771024402313, -0.30972836504092566, \"\", -2.19124014880005, \"\", \"\", -2.177616219486656, -0.44178628976346374, -1.2964712615100595, \"\", -0.055041484967201515, -0.9706159878573307, \"\", \"\", -0.6612034603843189, \"\", \"\", -3.9836643868404584, -2.2300016552152253, -1.5033330470944222, -0.5485078568277877, \"\", -1.1587216228755808, \"\", -3.083114343819895, \"\", \"\", -0.5352021899116954, \"\", \"\", \"\", \"\", \"\", \"\", \"\", \"\", \"\", \"\", \"\", \"\", -1.1949554962872802, \"\", \"\", \"\", -1.9151571265033707, -0.8519256702532652, -0.5647334159861525, -0.21875913356204643, -0.12367655459699572, -0.20135795924015082, -1.9035336860918055, -1.192013745087899, -3.347393804466024, -0.18418884125975443, \"\", -0.1977387918801113, \"\", -0.656236532861977, -0.8431776102676352, \"\"], \"yaxis\": \"y2\"}],                        {\"hovermode\": \"x\", \"legend\": {\"bgcolor\": \"#F5F6F9\", \"font\": {\"color\": \"#4D5663\"}}, \"paper_bgcolor\": \"#F5F6F9\", \"plot_bgcolor\": \"#F5F6F9\", \"template\": {\"data\": {\"bar\": [{\"error_x\": {\"color\": \"#2a3f5f\"}, \"error_y\": {\"color\": \"#2a3f5f\"}, \"marker\": {\"line\": {\"color\": \"#E5ECF6\", \"width\": 0.5}}, \"type\": \"bar\"}], \"barpolar\": [{\"marker\": {\"line\": {\"color\": \"#E5ECF6\", \"width\": 0.5}}, \"type\": \"barpolar\"}], \"carpet\": [{\"aaxis\": {\"endlinecolor\": \"#2a3f5f\", \"gridcolor\": \"white\", \"linecolor\": \"white\", \"minorgridcolor\": \"white\", \"startlinecolor\": \"#2a3f5f\"}, \"baxis\": {\"endlinecolor\": \"#2a3f5f\", \"gridcolor\": \"white\", \"linecolor\": \"white\", \"minorgridcolor\": \"white\", \"startlinecolor\": \"#2a3f5f\"}, \"type\": \"carpet\"}], \"choropleth\": [{\"colorbar\": {\"outlinewidth\": 0, \"ticks\": \"\"}, \"type\": \"choropleth\"}], \"contour\": [{\"colorbar\": {\"outlinewidth\": 0, \"ticks\": \"\"}, \"colorscale\": [[0.0, \"#0d0887\"], [0.1111111111111111, \"#46039f\"], [0.2222222222222222, \"#7201a8\"], [0.3333333333333333, \"#9c179e\"], [0.4444444444444444, \"#bd3786\"], [0.5555555555555556, \"#d8576b\"], [0.6666666666666666, \"#ed7953\"], [0.7777777777777778, \"#fb9f3a\"], [0.8888888888888888, \"#fdca26\"], [1.0, \"#f0f921\"]], \"type\": \"contour\"}], \"contourcarpet\": [{\"colorbar\": {\"outlinewidth\": 0, \"ticks\": \"\"}, \"type\": \"contourcarpet\"}], \"heatmap\": [{\"colorbar\": {\"outlinewidth\": 0, \"ticks\": \"\"}, \"colorscale\": [[0.0, \"#0d0887\"], [0.1111111111111111, \"#46039f\"], [0.2222222222222222, \"#7201a8\"], [0.3333333333333333, \"#9c179e\"], [0.4444444444444444, \"#bd3786\"], [0.5555555555555556, \"#d8576b\"], [0.6666666666666666, \"#ed7953\"], [0.7777777777777778, \"#fb9f3a\"], [0.8888888888888888, \"#fdca26\"], [1.0, \"#f0f921\"]], \"type\": \"heatmap\"}], \"heatmapgl\": [{\"colorbar\": {\"outlinewidth\": 0, \"ticks\": \"\"}, \"colorscale\": [[0.0, \"#0d0887\"], [0.1111111111111111, \"#46039f\"], [0.2222222222222222, \"#7201a8\"], [0.3333333333333333, \"#9c179e\"], [0.4444444444444444, \"#bd3786\"], [0.5555555555555556, \"#d8576b\"], [0.6666666666666666, \"#ed7953\"], [0.7777777777777778, \"#fb9f3a\"], [0.8888888888888888, \"#fdca26\"], [1.0, \"#f0f921\"]], \"type\": \"heatmapgl\"}], \"histogram\": [{\"marker\": {\"colorbar\": {\"outlinewidth\": 0, \"ticks\": \"\"}}, \"type\": \"histogram\"}], \"histogram2d\": [{\"colorbar\": {\"outlinewidth\": 0, \"ticks\": \"\"}, \"colorscale\": [[0.0, \"#0d0887\"], [0.1111111111111111, \"#46039f\"], [0.2222222222222222, \"#7201a8\"], [0.3333333333333333, \"#9c179e\"], [0.4444444444444444, \"#bd3786\"], [0.5555555555555556, \"#d8576b\"], [0.6666666666666666, \"#ed7953\"], [0.7777777777777778, \"#fb9f3a\"], [0.8888888888888888, \"#fdca26\"], [1.0, \"#f0f921\"]], \"type\": \"histogram2d\"}], \"histogram2dcontour\": [{\"colorbar\": {\"outlinewidth\": 0, \"ticks\": \"\"}, \"colorscale\": [[0.0, \"#0d0887\"], [0.1111111111111111, \"#46039f\"], [0.2222222222222222, \"#7201a8\"], [0.3333333333333333, \"#9c179e\"], [0.4444444444444444, \"#bd3786\"], [0.5555555555555556, \"#d8576b\"], [0.6666666666666666, \"#ed7953\"], [0.7777777777777778, \"#fb9f3a\"], [0.8888888888888888, \"#fdca26\"], [1.0, \"#f0f921\"]], \"type\": \"histogram2dcontour\"}], \"mesh3d\": [{\"colorbar\": {\"outlinewidth\": 0, \"ticks\": \"\"}, \"type\": \"mesh3d\"}], \"parcoords\": [{\"line\": {\"colorbar\": {\"outlinewidth\": 0, \"ticks\": \"\"}}, \"type\": \"parcoords\"}], \"pie\": [{\"automargin\": true, \"type\": \"pie\"}], \"scatter\": [{\"marker\": {\"colorbar\": {\"outlinewidth\": 0, \"ticks\": \"\"}}, \"type\": \"scatter\"}], \"scatter3d\": [{\"line\": {\"colorbar\": {\"outlinewidth\": 0, \"ticks\": \"\"}}, \"marker\": {\"colorbar\": {\"outlinewidth\": 0, \"ticks\": \"\"}}, \"type\": \"scatter3d\"}], \"scattercarpet\": [{\"marker\": {\"colorbar\": {\"outlinewidth\": 0, \"ticks\": \"\"}}, \"type\": \"scattercarpet\"}], \"scattergeo\": [{\"marker\": {\"colorbar\": {\"outlinewidth\": 0, \"ticks\": \"\"}}, \"type\": \"scattergeo\"}], \"scattergl\": [{\"marker\": {\"colorbar\": {\"outlinewidth\": 0, \"ticks\": \"\"}}, \"type\": \"scattergl\"}], \"scattermapbox\": [{\"marker\": {\"colorbar\": {\"outlinewidth\": 0, \"ticks\": \"\"}}, \"type\": \"scattermapbox\"}], \"scatterpolar\": [{\"marker\": {\"colorbar\": {\"outlinewidth\": 0, \"ticks\": \"\"}}, \"type\": \"scatterpolar\"}], \"scatterpolargl\": [{\"marker\": {\"colorbar\": {\"outlinewidth\": 0, \"ticks\": \"\"}}, \"type\": \"scatterpolargl\"}], \"scatterternary\": [{\"marker\": {\"colorbar\": {\"outlinewidth\": 0, \"ticks\": \"\"}}, \"type\": \"scatterternary\"}], \"surface\": [{\"colorbar\": {\"outlinewidth\": 0, \"ticks\": \"\"}, \"colorscale\": [[0.0, \"#0d0887\"], [0.1111111111111111, \"#46039f\"], [0.2222222222222222, \"#7201a8\"], [0.3333333333333333, \"#9c179e\"], [0.4444444444444444, \"#bd3786\"], [0.5555555555555556, \"#d8576b\"], [0.6666666666666666, \"#ed7953\"], [0.7777777777777778, \"#fb9f3a\"], [0.8888888888888888, \"#fdca26\"], [1.0, \"#f0f921\"]], \"type\": \"surface\"}], \"table\": [{\"cells\": {\"fill\": {\"color\": \"#EBF0F8\"}, \"line\": {\"color\": \"white\"}}, \"header\": {\"fill\": {\"color\": \"#C8D4E3\"}, \"line\": {\"color\": \"white\"}}, \"type\": \"table\"}]}, \"layout\": {\"annotationdefaults\": {\"arrowcolor\": \"#2a3f5f\", \"arrowhead\": 0, \"arrowwidth\": 1}, \"autotypenumbers\": \"strict\", \"coloraxis\": {\"colorbar\": {\"outlinewidth\": 0, \"ticks\": \"\"}}, \"colorscale\": {\"diverging\": [[0, \"#8e0152\"], [0.1, \"#c51b7d\"], [0.2, \"#de77ae\"], [0.3, \"#f1b6da\"], [0.4, \"#fde0ef\"], [0.5, \"#f7f7f7\"], [0.6, \"#e6f5d0\"], [0.7, \"#b8e186\"], [0.8, \"#7fbc41\"], [0.9, \"#4d9221\"], [1, \"#276419\"]], \"sequential\": [[0.0, \"#0d0887\"], [0.1111111111111111, \"#46039f\"], [0.2222222222222222, \"#7201a8\"], [0.3333333333333333, \"#9c179e\"], [0.4444444444444444, \"#bd3786\"], [0.5555555555555556, \"#d8576b\"], [0.6666666666666666, \"#ed7953\"], [0.7777777777777778, \"#fb9f3a\"], [0.8888888888888888, \"#fdca26\"], [1.0, \"#f0f921\"]], \"sequentialminus\": [[0.0, \"#0d0887\"], [0.1111111111111111, \"#46039f\"], [0.2222222222222222, \"#7201a8\"], [0.3333333333333333, \"#9c179e\"], [0.4444444444444444, \"#bd3786\"], [0.5555555555555556, \"#d8576b\"], [0.6666666666666666, \"#ed7953\"], [0.7777777777777778, \"#fb9f3a\"], [0.8888888888888888, \"#fdca26\"], [1.0, \"#f0f921\"]]}, \"colorway\": [\"#636efa\", \"#EF553B\", \"#00cc96\", \"#ab63fa\", \"#FFA15A\", \"#19d3f3\", \"#FF6692\", \"#B6E880\", \"#FF97FF\", \"#FECB52\"], \"font\": {\"color\": \"#2a3f5f\"}, \"geo\": {\"bgcolor\": \"white\", \"lakecolor\": \"white\", \"landcolor\": \"#E5ECF6\", \"showlakes\": true, \"showland\": true, \"subunitcolor\": \"white\"}, \"hoverlabel\": {\"align\": \"left\"}, \"hovermode\": \"closest\", \"mapbox\": {\"style\": \"light\"}, \"paper_bgcolor\": \"white\", \"plot_bgcolor\": \"#E5ECF6\", \"polar\": {\"angularaxis\": {\"gridcolor\": \"white\", \"linecolor\": \"white\", \"ticks\": \"\"}, \"bgcolor\": \"#E5ECF6\", \"radialaxis\": {\"gridcolor\": \"white\", \"linecolor\": \"white\", \"ticks\": \"\"}}, \"scene\": {\"xaxis\": {\"backgroundcolor\": \"#E5ECF6\", \"gridcolor\": \"white\", \"gridwidth\": 2, \"linecolor\": \"white\", \"showbackground\": true, \"ticks\": \"\", \"zerolinecolor\": \"white\"}, \"yaxis\": {\"backgroundcolor\": \"#E5ECF6\", \"gridcolor\": \"white\", \"gridwidth\": 2, \"linecolor\": \"white\", \"showbackground\": true, \"ticks\": \"\", \"zerolinecolor\": \"white\"}, \"zaxis\": {\"backgroundcolor\": \"#E5ECF6\", \"gridcolor\": \"white\", \"gridwidth\": 2, \"linecolor\": \"white\", \"showbackground\": true, \"ticks\": \"\", \"zerolinecolor\": \"white\"}}, \"shapedefaults\": {\"line\": {\"color\": \"#2a3f5f\"}}, \"ternary\": {\"aaxis\": {\"gridcolor\": \"white\", \"linecolor\": \"white\", \"ticks\": \"\"}, \"baxis\": {\"gridcolor\": \"white\", \"linecolor\": \"white\", \"ticks\": \"\"}, \"bgcolor\": \"#E5ECF6\", \"caxis\": {\"gridcolor\": \"white\", \"linecolor\": \"white\", \"ticks\": \"\"}}, \"title\": {\"x\": 0.05}, \"xaxis\": {\"automargin\": true, \"gridcolor\": \"white\", \"linecolor\": \"white\", \"ticks\": \"\", \"title\": {\"standoff\": 15}, \"zerolinecolor\": \"white\", \"zerolinewidth\": 2}, \"yaxis\": {\"automargin\": true, \"gridcolor\": \"white\", \"linecolor\": \"white\", \"ticks\": \"\", \"title\": {\"standoff\": 15}, \"zerolinecolor\": \"white\", \"zerolinewidth\": 2}}}, \"title\": {\"font\": {\"color\": \"#4D5663\"}}, \"xaxis\": {\"gridcolor\": \"#E1E5ED\", \"showgrid\": true, \"tickfont\": {\"color\": \"#4D5663\"}, \"title\": {\"font\": {\"color\": \"#4D5663\"}, \"text\": \"\"}, \"zerolinecolor\": \"#E1E5ED\"}, \"xaxis2\": {\"anchor\": \"y2\", \"gridcolor\": \"#E1E5ED\", \"showgrid\": true, \"showticklabels\": false, \"tickfont\": {\"color\": \"#4D5663\"}, \"title\": {\"font\": {\"color\": \"#4D5663\"}, \"text\": \"\"}, \"zerolinecolor\": \"#E1E5ED\"}, \"yaxis\": {\"domain\": [0.3, 1], \"gridcolor\": \"#E1E5ED\", \"showgrid\": true, \"tickfont\": {\"color\": \"#4D5663\"}, \"title\": {\"font\": {\"color\": \"#4D5663\"}, \"text\": \"\"}, \"zerolinecolor\": \"#E1E5ED\"}, \"yaxis2\": {\"domain\": [0, 0.25], \"gridcolor\": \"#E1E5ED\", \"showgrid\": true, \"tickfont\": {\"color\": \"#4D5663\"}, \"title\": {\"font\": {\"color\": \"#4D5663\"}, \"text\": \"Spread\"}, \"zerolinecolor\": \"#E1E5ED\"}},                        {\"showLink\": true, \"linkText\": \"Export to plot.ly\", \"plotlyServerURL\": \"https://plot.ly\", \"responsive\": true}                    ).then(function(){\n                            \nvar gd = document.getElementById('58175713-4532-4036-90c3-0d9e1734aa28');\nvar x = new MutationObserver(function (mutations, observer) {{\n        var display = window.getComputedStyle(gd).display;\n        if (!display || display === 'none') {{\n            console.log([gd, 'removed!']);\n            Plotly.purge(gd);\n            observer.disconnect();\n        }}\n}});\n\n// Listen for the removal of the full notebook cells\nvar notebookContainer = gd.closest('#notebook-container');\nif (notebookContainer) {{\n    x.observe(notebookContainer, {childList: true});\n}}\n\n// Listen for the clearing of the current output cell\nvar outputEl = gd.closest('.output');\nif (outputEl) {{\n    x.observe(outputEl, {childList: true});\n}}\n\n                        })                };                });            </script>        </div>"
     },
     "metadata": {}
    }
   ],
   "source": [
    "df[['A','B']].iplot(kind='spread')"
   ]
  },
  {
   "cell_type": "code",
   "execution_count": 33,
   "metadata": {},
   "outputs": [
    {
     "output_type": "display_data",
     "data": {
      "application/vnd.plotly.v1+json": {
       "config": {
        "linkText": "Export to plot.ly",
        "plotlyServerURL": "https://plot.ly",
        "showLink": true
       },
       "data": [
        {
         "marker": {
          "color": [
           "rgb(255, 153, 51)",
           "rgb(55, 128, 191)",
           "rgb(50, 171, 96)",
           "rgb(128, 0, 128)",
           "rgb(219, 64, 82)",
           "rgb(0, 128, 128)",
           "rgb(255, 255, 51)",
           "rgb(128, 128, 0)",
           "rgb(251, 128, 114)",
           "rgb(128, 177, 211)"
          ],
          "line": {
           "width": 1.3
          },
          "size": [
           71,
           74,
           51,
           69,
           70,
           53,
           28,
           78,
           42,
           84,
           82,
           73,
           46,
           91,
           79,
           77,
           60,
           105,
           70,
           55,
           23,
           59,
           54,
           78,
           105,
           58,
           98,
           47,
           61,
           63,
           72,
           40,
           67,
           66,
           58,
           96,
           59,
           45,
           67,
           52,
           96,
           71,
           31,
           58,
           53,
           60,
           55,
           64,
           66,
           38,
           44,
           71,
           106,
           41,
           87,
           68,
           95,
           56,
           78,
           41,
           83,
           69,
           71,
           13,
           62,
           62,
           37,
           81,
           97,
           37,
           83,
           112,
           65,
           67,
           51,
           64,
           78,
           70,
           55,
           82,
           61,
           67,
           64,
           58,
           69,
           67,
           28,
           41,
           72,
           87,
           77,
           12,
           97,
           25,
           68,
           56,
           100,
           86,
           56,
           57
          ],
          "symbol": "circle"
         },
         "mode": "markers",
         "text": "",
         "type": "scatter",
         "x": [
          -1.286783666232087,
          0.7107277470430434,
          1.2206576987234354,
          2.670689230942479,
          -0.868396268279137,
          -0.7702505222952278,
          0.836826113651275,
          -1.310807545006144,
          -1.1454772976981726,
          -1.205923510011141,
          0.39104120063317915,
          1.480064786672829,
          -0.4371817585516773,
          0.31244387330147083,
          0.9522665120953734,
          -0.9064855359217587,
          0.15128185004249292,
          0.15061151479926002,
          0.2932767331797624,
          0.07523964284633954,
          0.29022474193827164,
          -0.15511464338925918,
          0.6235611994075417,
          0.385198796402805,
          -1.23041158492017,
          0.4146485818376867,
          1.3453276550476518,
          2.2200082297196575,
          0.4843022625460223,
          -0.9052875932660301,
          -1.2911658251962215,
          1.2239386431635257,
          0.5800060939722871,
          0.29463938749835283,
          -0.5274632830251935,
          -0.7462578578754884,
          1.692027647166309,
          -0.09695059770969566,
          0.4881840463183823,
          -0.025688346575201363,
          -1.3490757613768838,
          -0.39677880092704315,
          0.35675258383857994,
          -0.5443711678860995,
          -0.4195900621836775,
          0.6447505960385553,
          -1.0972813689106393,
          -0.07544670673084743,
          -1.680269752499829,
          0.5777182254380486,
          0.8773588872922171,
          -1.2744428237723746,
          0.4707650176747216,
          0.184743927621629,
          1.502286572568263,
          -0.047755807588705734,
          0.12565047824483858,
          -2.8697574169274644,
          -1.7358225932178784,
          -0.6272506704206392,
          -1.4433597294484304,
          2.4317752497855403,
          -1.4322358810549674,
          0.5091222176333856,
          -2.303424236839607,
          1.5614540931799474,
          1.755253217137435,
          -0.8962401197499275,
          0.6858890477096122,
          0.45111826271025357,
          0.3732627172869396,
          -0.11404699509388187,
          0.505163811090925,
          0.9893247964708458,
          1.6802152688092455,
          0.3775054456483596,
          0.5960017865897772,
          1.0021193126559254,
          -0.38771902641273304,
          0.7260151830561632,
          -0.5736145908308646,
          0.5696440774836763,
          -0.08440931256891603,
          1.7580084477921427,
          -0.9032392980072976,
          -1.702458506342066,
          -0.3268225203948594,
          0.24042744103696015,
          0.3251828854999993,
          -0.03164848102043208,
          1.1673040608017295,
          -0.5431973031609296,
          -1.9466362146927483,
          -0.0069860880888541945,
          1.99068233702783,
          -0.048360909178754935,
          0.4008717221536024,
          0.26080632462817355,
          -0.31858331702889736,
          -0.071197295683597
         ],
         "y": [
          -1.2436419169159714,
          1.5692860019949753,
          -0.26671888492952217,
          0.2815640316896209,
          1.365892470714254,
          -1.0966017811139082,
          -1.7501437821712431,
          -1.819809038953777,
          0.3286795501646575,
          0.420218601730475,
          -0.4526951755973082,
          0.6428374710337051,
          -0.32814944019105596,
          1.9532810324072836,
          -0.8371761679909756,
          -1.50915051301245,
          -0.11553875435854695,
          -0.19808858021679637,
          0.08189178164630723,
          -1.1690479593556529,
          0.5426510623353725,
          -1.569302061901453,
          2.2472868053504014,
          -0.13122045124668472,
          -0.03454840736457979,
          0.004013916643951113,
          0.9156650742937736,
          -1.5630225390944321,
          -0.8692580183140872,
          0.7776652874301425,
          0.37059975574200205,
          -0.9999879818086167,
          0.6016464734009461,
          0.05210885734734563,
          0.10876319643384028,
          0.07223691516760487,
          -0.488979327879292,
          -1.2474974282935567,
          0.30088905771553354,
          0.8931102695066149,
          0.6345013410633477,
          -0.08705043588611751,
          -0.41296039681387836,
          1.6468689809139507,
          -1.2191028264563968,
          0.06846210845743836,
          1.0803348505760164,
          0.3663395830326163,
          -0.3837984909897694,
          -1.7462365995629416,
          0.9324003722594186,
          -0.3038268359150439,
          -0.8786412238263824,
          -1.419891446791575,
          2.163490032952582,
          -0.8058230604185269,
          0.10256406153351981,
          1.1139069699129942,
          0.49417906199734707,
          0.8760823766737829,
          -0.8948518726206427,
          -1.335563279231745,
          -0.27351425817938646,
          -1.6530349045940977,
          0.7796901069802878,
          0.3178371041948017,
          -0.5673257372555445,
          -0.36103792983823196,
          -0.17726997277506898,
          0.24843619696647495,
          -0.05052867323180514,
          -0.4471599049358513,
          -0.21938709534885703,
          -0.39712704411222405,
          1.6087610337457163,
          -0.43113504250683504,
          0.0018928069012562722,
          -0.9713837764015597,
          -0.9711257871443403,
          -1.201135432974757,
          0.6213409054564155,
          -0.3869811372641256,
          -0.2788357101710152,
          -0.20400907384209452,
          1.011917828496073,
          -0.8505328360888009,
          0.2379108955912931,
          0.4591865745990066,
          0.448859440096995,
          0.16970947821971874,
          3.070837746893535,
          0.6488164419269693,
          1.4007575897732754,
          0.17720275317090023,
          -1.0289729246587451,
          0.14937788270135635,
          -1.1679017277463055,
          0.9170428574901506,
          0.5245942932387379,
          -1.2885764393890806
         ]
        }
       ],
       "layout": {
        "legend": {
         "bgcolor": "#F5F6F9",
         "font": {
          "color": "#4D5663"
         }
        },
        "paper_bgcolor": "#F5F6F9",
        "plot_bgcolor": "#F5F6F9",
        "template": {
         "data": {
          "bar": [
           {
            "error_x": {
             "color": "#2a3f5f"
            },
            "error_y": {
             "color": "#2a3f5f"
            },
            "marker": {
             "line": {
              "color": "#E5ECF6",
              "width": 0.5
             }
            },
            "type": "bar"
           }
          ],
          "barpolar": [
           {
            "marker": {
             "line": {
              "color": "#E5ECF6",
              "width": 0.5
             }
            },
            "type": "barpolar"
           }
          ],
          "carpet": [
           {
            "aaxis": {
             "endlinecolor": "#2a3f5f",
             "gridcolor": "white",
             "linecolor": "white",
             "minorgridcolor": "white",
             "startlinecolor": "#2a3f5f"
            },
            "baxis": {
             "endlinecolor": "#2a3f5f",
             "gridcolor": "white",
             "linecolor": "white",
             "minorgridcolor": "white",
             "startlinecolor": "#2a3f5f"
            },
            "type": "carpet"
           }
          ],
          "choropleth": [
           {
            "colorbar": {
             "outlinewidth": 0,
             "ticks": ""
            },
            "type": "choropleth"
           }
          ],
          "contour": [
           {
            "colorbar": {
             "outlinewidth": 0,
             "ticks": ""
            },
            "colorscale": [
             [
              0,
              "#0d0887"
             ],
             [
              0.1111111111111111,
              "#46039f"
             ],
             [
              0.2222222222222222,
              "#7201a8"
             ],
             [
              0.3333333333333333,
              "#9c179e"
             ],
             [
              0.4444444444444444,
              "#bd3786"
             ],
             [
              0.5555555555555556,
              "#d8576b"
             ],
             [
              0.6666666666666666,
              "#ed7953"
             ],
             [
              0.7777777777777778,
              "#fb9f3a"
             ],
             [
              0.8888888888888888,
              "#fdca26"
             ],
             [
              1,
              "#f0f921"
             ]
            ],
            "type": "contour"
           }
          ],
          "contourcarpet": [
           {
            "colorbar": {
             "outlinewidth": 0,
             "ticks": ""
            },
            "type": "contourcarpet"
           }
          ],
          "heatmap": [
           {
            "colorbar": {
             "outlinewidth": 0,
             "ticks": ""
            },
            "colorscale": [
             [
              0,
              "#0d0887"
             ],
             [
              0.1111111111111111,
              "#46039f"
             ],
             [
              0.2222222222222222,
              "#7201a8"
             ],
             [
              0.3333333333333333,
              "#9c179e"
             ],
             [
              0.4444444444444444,
              "#bd3786"
             ],
             [
              0.5555555555555556,
              "#d8576b"
             ],
             [
              0.6666666666666666,
              "#ed7953"
             ],
             [
              0.7777777777777778,
              "#fb9f3a"
             ],
             [
              0.8888888888888888,
              "#fdca26"
             ],
             [
              1,
              "#f0f921"
             ]
            ],
            "type": "heatmap"
           }
          ],
          "heatmapgl": [
           {
            "colorbar": {
             "outlinewidth": 0,
             "ticks": ""
            },
            "colorscale": [
             [
              0,
              "#0d0887"
             ],
             [
              0.1111111111111111,
              "#46039f"
             ],
             [
              0.2222222222222222,
              "#7201a8"
             ],
             [
              0.3333333333333333,
              "#9c179e"
             ],
             [
              0.4444444444444444,
              "#bd3786"
             ],
             [
              0.5555555555555556,
              "#d8576b"
             ],
             [
              0.6666666666666666,
              "#ed7953"
             ],
             [
              0.7777777777777778,
              "#fb9f3a"
             ],
             [
              0.8888888888888888,
              "#fdca26"
             ],
             [
              1,
              "#f0f921"
             ]
            ],
            "type": "heatmapgl"
           }
          ],
          "histogram": [
           {
            "marker": {
             "colorbar": {
              "outlinewidth": 0,
              "ticks": ""
             }
            },
            "type": "histogram"
           }
          ],
          "histogram2d": [
           {
            "colorbar": {
             "outlinewidth": 0,
             "ticks": ""
            },
            "colorscale": [
             [
              0,
              "#0d0887"
             ],
             [
              0.1111111111111111,
              "#46039f"
             ],
             [
              0.2222222222222222,
              "#7201a8"
             ],
             [
              0.3333333333333333,
              "#9c179e"
             ],
             [
              0.4444444444444444,
              "#bd3786"
             ],
             [
              0.5555555555555556,
              "#d8576b"
             ],
             [
              0.6666666666666666,
              "#ed7953"
             ],
             [
              0.7777777777777778,
              "#fb9f3a"
             ],
             [
              0.8888888888888888,
              "#fdca26"
             ],
             [
              1,
              "#f0f921"
             ]
            ],
            "type": "histogram2d"
           }
          ],
          "histogram2dcontour": [
           {
            "colorbar": {
             "outlinewidth": 0,
             "ticks": ""
            },
            "colorscale": [
             [
              0,
              "#0d0887"
             ],
             [
              0.1111111111111111,
              "#46039f"
             ],
             [
              0.2222222222222222,
              "#7201a8"
             ],
             [
              0.3333333333333333,
              "#9c179e"
             ],
             [
              0.4444444444444444,
              "#bd3786"
             ],
             [
              0.5555555555555556,
              "#d8576b"
             ],
             [
              0.6666666666666666,
              "#ed7953"
             ],
             [
              0.7777777777777778,
              "#fb9f3a"
             ],
             [
              0.8888888888888888,
              "#fdca26"
             ],
             [
              1,
              "#f0f921"
             ]
            ],
            "type": "histogram2dcontour"
           }
          ],
          "mesh3d": [
           {
            "colorbar": {
             "outlinewidth": 0,
             "ticks": ""
            },
            "type": "mesh3d"
           }
          ],
          "parcoords": [
           {
            "line": {
             "colorbar": {
              "outlinewidth": 0,
              "ticks": ""
             }
            },
            "type": "parcoords"
           }
          ],
          "pie": [
           {
            "automargin": true,
            "type": "pie"
           }
          ],
          "scatter": [
           {
            "marker": {
             "colorbar": {
              "outlinewidth": 0,
              "ticks": ""
             }
            },
            "type": "scatter"
           }
          ],
          "scatter3d": [
           {
            "line": {
             "colorbar": {
              "outlinewidth": 0,
              "ticks": ""
             }
            },
            "marker": {
             "colorbar": {
              "outlinewidth": 0,
              "ticks": ""
             }
            },
            "type": "scatter3d"
           }
          ],
          "scattercarpet": [
           {
            "marker": {
             "colorbar": {
              "outlinewidth": 0,
              "ticks": ""
             }
            },
            "type": "scattercarpet"
           }
          ],
          "scattergeo": [
           {
            "marker": {
             "colorbar": {
              "outlinewidth": 0,
              "ticks": ""
             }
            },
            "type": "scattergeo"
           }
          ],
          "scattergl": [
           {
            "marker": {
             "colorbar": {
              "outlinewidth": 0,
              "ticks": ""
             }
            },
            "type": "scattergl"
           }
          ],
          "scattermapbox": [
           {
            "marker": {
             "colorbar": {
              "outlinewidth": 0,
              "ticks": ""
             }
            },
            "type": "scattermapbox"
           }
          ],
          "scatterpolar": [
           {
            "marker": {
             "colorbar": {
              "outlinewidth": 0,
              "ticks": ""
             }
            },
            "type": "scatterpolar"
           }
          ],
          "scatterpolargl": [
           {
            "marker": {
             "colorbar": {
              "outlinewidth": 0,
              "ticks": ""
             }
            },
            "type": "scatterpolargl"
           }
          ],
          "scatterternary": [
           {
            "marker": {
             "colorbar": {
              "outlinewidth": 0,
              "ticks": ""
             }
            },
            "type": "scatterternary"
           }
          ],
          "surface": [
           {
            "colorbar": {
             "outlinewidth": 0,
             "ticks": ""
            },
            "colorscale": [
             [
              0,
              "#0d0887"
             ],
             [
              0.1111111111111111,
              "#46039f"
             ],
             [
              0.2222222222222222,
              "#7201a8"
             ],
             [
              0.3333333333333333,
              "#9c179e"
             ],
             [
              0.4444444444444444,
              "#bd3786"
             ],
             [
              0.5555555555555556,
              "#d8576b"
             ],
             [
              0.6666666666666666,
              "#ed7953"
             ],
             [
              0.7777777777777778,
              "#fb9f3a"
             ],
             [
              0.8888888888888888,
              "#fdca26"
             ],
             [
              1,
              "#f0f921"
             ]
            ],
            "type": "surface"
           }
          ],
          "table": [
           {
            "cells": {
             "fill": {
              "color": "#EBF0F8"
             },
             "line": {
              "color": "white"
             }
            },
            "header": {
             "fill": {
              "color": "#C8D4E3"
             },
             "line": {
              "color": "white"
             }
            },
            "type": "table"
           }
          ]
         },
         "layout": {
          "annotationdefaults": {
           "arrowcolor": "#2a3f5f",
           "arrowhead": 0,
           "arrowwidth": 1
          },
          "autotypenumbers": "strict",
          "coloraxis": {
           "colorbar": {
            "outlinewidth": 0,
            "ticks": ""
           }
          },
          "colorscale": {
           "diverging": [
            [
             0,
             "#8e0152"
            ],
            [
             0.1,
             "#c51b7d"
            ],
            [
             0.2,
             "#de77ae"
            ],
            [
             0.3,
             "#f1b6da"
            ],
            [
             0.4,
             "#fde0ef"
            ],
            [
             0.5,
             "#f7f7f7"
            ],
            [
             0.6,
             "#e6f5d0"
            ],
            [
             0.7,
             "#b8e186"
            ],
            [
             0.8,
             "#7fbc41"
            ],
            [
             0.9,
             "#4d9221"
            ],
            [
             1,
             "#276419"
            ]
           ],
           "sequential": [
            [
             0,
             "#0d0887"
            ],
            [
             0.1111111111111111,
             "#46039f"
            ],
            [
             0.2222222222222222,
             "#7201a8"
            ],
            [
             0.3333333333333333,
             "#9c179e"
            ],
            [
             0.4444444444444444,
             "#bd3786"
            ],
            [
             0.5555555555555556,
             "#d8576b"
            ],
            [
             0.6666666666666666,
             "#ed7953"
            ],
            [
             0.7777777777777778,
             "#fb9f3a"
            ],
            [
             0.8888888888888888,
             "#fdca26"
            ],
            [
             1,
             "#f0f921"
            ]
           ],
           "sequentialminus": [
            [
             0,
             "#0d0887"
            ],
            [
             0.1111111111111111,
             "#46039f"
            ],
            [
             0.2222222222222222,
             "#7201a8"
            ],
            [
             0.3333333333333333,
             "#9c179e"
            ],
            [
             0.4444444444444444,
             "#bd3786"
            ],
            [
             0.5555555555555556,
             "#d8576b"
            ],
            [
             0.6666666666666666,
             "#ed7953"
            ],
            [
             0.7777777777777778,
             "#fb9f3a"
            ],
            [
             0.8888888888888888,
             "#fdca26"
            ],
            [
             1,
             "#f0f921"
            ]
           ]
          },
          "colorway": [
           "#636efa",
           "#EF553B",
           "#00cc96",
           "#ab63fa",
           "#FFA15A",
           "#19d3f3",
           "#FF6692",
           "#B6E880",
           "#FF97FF",
           "#FECB52"
          ],
          "font": {
           "color": "#2a3f5f"
          },
          "geo": {
           "bgcolor": "white",
           "lakecolor": "white",
           "landcolor": "#E5ECF6",
           "showlakes": true,
           "showland": true,
           "subunitcolor": "white"
          },
          "hoverlabel": {
           "align": "left"
          },
          "hovermode": "closest",
          "mapbox": {
           "style": "light"
          },
          "paper_bgcolor": "white",
          "plot_bgcolor": "#E5ECF6",
          "polar": {
           "angularaxis": {
            "gridcolor": "white",
            "linecolor": "white",
            "ticks": ""
           },
           "bgcolor": "#E5ECF6",
           "radialaxis": {
            "gridcolor": "white",
            "linecolor": "white",
            "ticks": ""
           }
          },
          "scene": {
           "xaxis": {
            "backgroundcolor": "#E5ECF6",
            "gridcolor": "white",
            "gridwidth": 2,
            "linecolor": "white",
            "showbackground": true,
            "ticks": "",
            "zerolinecolor": "white"
           },
           "yaxis": {
            "backgroundcolor": "#E5ECF6",
            "gridcolor": "white",
            "gridwidth": 2,
            "linecolor": "white",
            "showbackground": true,
            "ticks": "",
            "zerolinecolor": "white"
           },
           "zaxis": {
            "backgroundcolor": "#E5ECF6",
            "gridcolor": "white",
            "gridwidth": 2,
            "linecolor": "white",
            "showbackground": true,
            "ticks": "",
            "zerolinecolor": "white"
           }
          },
          "shapedefaults": {
           "line": {
            "color": "#2a3f5f"
           }
          },
          "ternary": {
           "aaxis": {
            "gridcolor": "white",
            "linecolor": "white",
            "ticks": ""
           },
           "baxis": {
            "gridcolor": "white",
            "linecolor": "white",
            "ticks": ""
           },
           "bgcolor": "#E5ECF6",
           "caxis": {
            "gridcolor": "white",
            "linecolor": "white",
            "ticks": ""
           }
          },
          "title": {
           "x": 0.05
          },
          "xaxis": {
           "automargin": true,
           "gridcolor": "white",
           "linecolor": "white",
           "ticks": "",
           "title": {
            "standoff": 15
           },
           "zerolinecolor": "white",
           "zerolinewidth": 2
          },
          "yaxis": {
           "automargin": true,
           "gridcolor": "white",
           "linecolor": "white",
           "ticks": "",
           "title": {
            "standoff": 15
           },
           "zerolinecolor": "white",
           "zerolinewidth": 2
          }
         }
        },
        "title": {
         "font": {
          "color": "#4D5663"
         }
        },
        "xaxis": {
         "gridcolor": "#E1E5ED",
         "showgrid": true,
         "tickfont": {
          "color": "#4D5663"
         },
         "title": {
          "font": {
           "color": "#4D5663"
          },
          "text": ""
         },
         "zerolinecolor": "#E1E5ED"
        },
        "yaxis": {
         "gridcolor": "#E1E5ED",
         "showgrid": true,
         "tickfont": {
          "color": "#4D5663"
         },
         "title": {
          "font": {
           "color": "#4D5663"
          },
          "text": ""
         },
         "zerolinecolor": "#E1E5ED"
        }
       }
      },
      "text/html": "<div>                            <div id=\"ca248253-879e-49a6-8e40-c359524c4d1b\" class=\"plotly-graph-div\" style=\"height:525px; width:100%;\"></div>            <script type=\"text/javascript\">                require([\"plotly\"], function(Plotly) {                    window.PLOTLYENV=window.PLOTLYENV || {};\n                    window.PLOTLYENV.BASE_URL='https://plot.ly';                                    if (document.getElementById(\"ca248253-879e-49a6-8e40-c359524c4d1b\")) {                    Plotly.newPlot(                        \"ca248253-879e-49a6-8e40-c359524c4d1b\",                        [{\"marker\": {\"color\": [\"rgb(255, 153, 51)\", \"rgb(55, 128, 191)\", \"rgb(50, 171, 96)\", \"rgb(128, 0, 128)\", \"rgb(219, 64, 82)\", \"rgb(0, 128, 128)\", \"rgb(255, 255, 51)\", \"rgb(128, 128, 0)\", \"rgb(251, 128, 114)\", \"rgb(128, 177, 211)\"], \"line\": {\"width\": 1.3}, \"size\": [71, 74, 51, 69, 70, 53, 28, 78, 42, 84, 82, 73, 46, 91, 79, 77, 60, 105, 70, 55, 23, 59, 54, 78, 105, 58, 98, 47, 61, 63, 72, 40, 67, 66, 58, 96, 59, 45, 67, 52, 96, 71, 31, 58, 53, 60, 55, 64, 66, 38, 44, 71, 106, 41, 87, 68, 95, 56, 78, 41, 83, 69, 71, 13, 62, 62, 37, 81, 97, 37, 83, 112, 65, 67, 51, 64, 78, 70, 55, 82, 61, 67, 64, 58, 69, 67, 28, 41, 72, 87, 77, 12, 97, 25, 68, 56, 100, 86, 56, 57], \"symbol\": \"circle\"}, \"mode\": \"markers\", \"text\": \"\", \"type\": \"scatter\", \"x\": [-1.286783666232087, 0.7107277470430434, 1.2206576987234354, 2.670689230942479, -0.868396268279137, -0.7702505222952278, 0.836826113651275, -1.310807545006144, -1.1454772976981726, -1.205923510011141, 0.39104120063317915, 1.480064786672829, -0.4371817585516773, 0.31244387330147083, 0.9522665120953734, -0.9064855359217587, 0.15128185004249292, 0.15061151479926002, 0.2932767331797624, 0.07523964284633954, 0.29022474193827164, -0.15511464338925918, 0.6235611994075417, 0.385198796402805, -1.23041158492017, 0.4146485818376867, 1.3453276550476518, 2.2200082297196575, 0.4843022625460223, -0.9052875932660301, -1.2911658251962215, 1.2239386431635257, 0.5800060939722871, 0.29463938749835283, -0.5274632830251935, -0.7462578578754884, 1.692027647166309, -0.09695059770969566, 0.4881840463183823, -0.025688346575201363, -1.3490757613768838, -0.39677880092704315, 0.35675258383857994, -0.5443711678860995, -0.4195900621836775, 0.6447505960385553, -1.0972813689106393, -0.07544670673084743, -1.680269752499829, 0.5777182254380486, 0.8773588872922171, -1.2744428237723746, 0.4707650176747216, 0.184743927621629, 1.502286572568263, -0.047755807588705734, 0.12565047824483858, -2.8697574169274644, -1.7358225932178784, -0.6272506704206392, -1.4433597294484304, 2.4317752497855403, -1.4322358810549674, 0.5091222176333856, -2.303424236839607, 1.5614540931799474, 1.755253217137435, -0.8962401197499275, 0.6858890477096122, 0.45111826271025357, 0.3732627172869396, -0.11404699509388187, 0.505163811090925, 0.9893247964708458, 1.6802152688092455, 0.3775054456483596, 0.5960017865897772, 1.0021193126559254, -0.38771902641273304, 0.7260151830561632, -0.5736145908308646, 0.5696440774836763, -0.08440931256891603, 1.7580084477921427, -0.9032392980072976, -1.702458506342066, -0.3268225203948594, 0.24042744103696015, 0.3251828854999993, -0.03164848102043208, 1.1673040608017295, -0.5431973031609296, -1.9466362146927483, -0.0069860880888541945, 1.99068233702783, -0.048360909178754935, 0.4008717221536024, 0.26080632462817355, -0.31858331702889736, -0.071197295683597], \"y\": [-1.2436419169159714, 1.5692860019949753, -0.26671888492952217, 0.2815640316896209, 1.365892470714254, -1.0966017811139082, -1.7501437821712431, -1.819809038953777, 0.3286795501646575, 0.420218601730475, -0.4526951755973082, 0.6428374710337051, -0.32814944019105596, 1.9532810324072836, -0.8371761679909756, -1.50915051301245, -0.11553875435854695, -0.19808858021679637, 0.08189178164630723, -1.1690479593556529, 0.5426510623353725, -1.569302061901453, 2.2472868053504014, -0.13122045124668472, -0.03454840736457979, 0.004013916643951113, 0.9156650742937736, -1.5630225390944321, -0.8692580183140872, 0.7776652874301425, 0.37059975574200205, -0.9999879818086167, 0.6016464734009461, 0.05210885734734563, 0.10876319643384028, 0.07223691516760487, -0.488979327879292, -1.2474974282935567, 0.30088905771553354, 0.8931102695066149, 0.6345013410633477, -0.08705043588611751, -0.41296039681387836, 1.6468689809139507, -1.2191028264563968, 0.06846210845743836, 1.0803348505760164, 0.3663395830326163, -0.3837984909897694, -1.7462365995629416, 0.9324003722594186, -0.3038268359150439, -0.8786412238263824, -1.419891446791575, 2.163490032952582, -0.8058230604185269, 0.10256406153351981, 1.1139069699129942, 0.49417906199734707, 0.8760823766737829, -0.8948518726206427, -1.335563279231745, -0.27351425817938646, -1.6530349045940977, 0.7796901069802878, 0.3178371041948017, -0.5673257372555445, -0.36103792983823196, -0.17726997277506898, 0.24843619696647495, -0.05052867323180514, -0.4471599049358513, -0.21938709534885703, -0.39712704411222405, 1.6087610337457163, -0.43113504250683504, 0.0018928069012562722, -0.9713837764015597, -0.9711257871443403, -1.201135432974757, 0.6213409054564155, -0.3869811372641256, -0.2788357101710152, -0.20400907384209452, 1.011917828496073, -0.8505328360888009, 0.2379108955912931, 0.4591865745990066, 0.448859440096995, 0.16970947821971874, 3.070837746893535, 0.6488164419269693, 1.4007575897732754, 0.17720275317090023, -1.0289729246587451, 0.14937788270135635, -1.1679017277463055, 0.9170428574901506, 0.5245942932387379, -1.2885764393890806]}],                        {\"legend\": {\"bgcolor\": \"#F5F6F9\", \"font\": {\"color\": \"#4D5663\"}}, \"paper_bgcolor\": \"#F5F6F9\", \"plot_bgcolor\": \"#F5F6F9\", \"template\": {\"data\": {\"bar\": [{\"error_x\": {\"color\": \"#2a3f5f\"}, \"error_y\": {\"color\": \"#2a3f5f\"}, \"marker\": {\"line\": {\"color\": \"#E5ECF6\", \"width\": 0.5}}, \"type\": \"bar\"}], \"barpolar\": [{\"marker\": {\"line\": {\"color\": \"#E5ECF6\", \"width\": 0.5}}, \"type\": \"barpolar\"}], \"carpet\": [{\"aaxis\": {\"endlinecolor\": \"#2a3f5f\", \"gridcolor\": \"white\", \"linecolor\": \"white\", \"minorgridcolor\": \"white\", \"startlinecolor\": \"#2a3f5f\"}, \"baxis\": {\"endlinecolor\": \"#2a3f5f\", \"gridcolor\": \"white\", \"linecolor\": \"white\", \"minorgridcolor\": \"white\", \"startlinecolor\": \"#2a3f5f\"}, \"type\": \"carpet\"}], \"choropleth\": [{\"colorbar\": {\"outlinewidth\": 0, \"ticks\": \"\"}, \"type\": \"choropleth\"}], \"contour\": [{\"colorbar\": {\"outlinewidth\": 0, \"ticks\": \"\"}, \"colorscale\": [[0.0, \"#0d0887\"], [0.1111111111111111, \"#46039f\"], [0.2222222222222222, \"#7201a8\"], [0.3333333333333333, \"#9c179e\"], [0.4444444444444444, \"#bd3786\"], [0.5555555555555556, \"#d8576b\"], [0.6666666666666666, \"#ed7953\"], [0.7777777777777778, \"#fb9f3a\"], [0.8888888888888888, \"#fdca26\"], [1.0, \"#f0f921\"]], \"type\": \"contour\"}], \"contourcarpet\": [{\"colorbar\": {\"outlinewidth\": 0, \"ticks\": \"\"}, \"type\": \"contourcarpet\"}], \"heatmap\": [{\"colorbar\": {\"outlinewidth\": 0, \"ticks\": \"\"}, \"colorscale\": [[0.0, \"#0d0887\"], [0.1111111111111111, \"#46039f\"], [0.2222222222222222, \"#7201a8\"], [0.3333333333333333, \"#9c179e\"], [0.4444444444444444, \"#bd3786\"], [0.5555555555555556, \"#d8576b\"], [0.6666666666666666, \"#ed7953\"], [0.7777777777777778, \"#fb9f3a\"], [0.8888888888888888, \"#fdca26\"], [1.0, \"#f0f921\"]], \"type\": \"heatmap\"}], \"heatmapgl\": [{\"colorbar\": {\"outlinewidth\": 0, \"ticks\": \"\"}, \"colorscale\": [[0.0, \"#0d0887\"], [0.1111111111111111, \"#46039f\"], [0.2222222222222222, \"#7201a8\"], [0.3333333333333333, \"#9c179e\"], [0.4444444444444444, \"#bd3786\"], [0.5555555555555556, \"#d8576b\"], [0.6666666666666666, \"#ed7953\"], [0.7777777777777778, \"#fb9f3a\"], [0.8888888888888888, \"#fdca26\"], [1.0, \"#f0f921\"]], \"type\": \"heatmapgl\"}], \"histogram\": [{\"marker\": {\"colorbar\": {\"outlinewidth\": 0, \"ticks\": \"\"}}, \"type\": \"histogram\"}], \"histogram2d\": [{\"colorbar\": {\"outlinewidth\": 0, \"ticks\": \"\"}, \"colorscale\": [[0.0, \"#0d0887\"], [0.1111111111111111, \"#46039f\"], [0.2222222222222222, \"#7201a8\"], [0.3333333333333333, \"#9c179e\"], [0.4444444444444444, \"#bd3786\"], [0.5555555555555556, \"#d8576b\"], [0.6666666666666666, \"#ed7953\"], [0.7777777777777778, \"#fb9f3a\"], [0.8888888888888888, \"#fdca26\"], [1.0, \"#f0f921\"]], \"type\": \"histogram2d\"}], \"histogram2dcontour\": [{\"colorbar\": {\"outlinewidth\": 0, \"ticks\": \"\"}, \"colorscale\": [[0.0, \"#0d0887\"], [0.1111111111111111, \"#46039f\"], [0.2222222222222222, \"#7201a8\"], [0.3333333333333333, \"#9c179e\"], [0.4444444444444444, \"#bd3786\"], [0.5555555555555556, \"#d8576b\"], [0.6666666666666666, \"#ed7953\"], [0.7777777777777778, \"#fb9f3a\"], [0.8888888888888888, \"#fdca26\"], [1.0, \"#f0f921\"]], \"type\": \"histogram2dcontour\"}], \"mesh3d\": [{\"colorbar\": {\"outlinewidth\": 0, \"ticks\": \"\"}, \"type\": \"mesh3d\"}], \"parcoords\": [{\"line\": {\"colorbar\": {\"outlinewidth\": 0, \"ticks\": \"\"}}, \"type\": \"parcoords\"}], \"pie\": [{\"automargin\": true, \"type\": \"pie\"}], \"scatter\": [{\"marker\": {\"colorbar\": {\"outlinewidth\": 0, \"ticks\": \"\"}}, \"type\": \"scatter\"}], \"scatter3d\": [{\"line\": {\"colorbar\": {\"outlinewidth\": 0, \"ticks\": \"\"}}, \"marker\": {\"colorbar\": {\"outlinewidth\": 0, \"ticks\": \"\"}}, \"type\": \"scatter3d\"}], \"scattercarpet\": [{\"marker\": {\"colorbar\": {\"outlinewidth\": 0, \"ticks\": \"\"}}, \"type\": \"scattercarpet\"}], \"scattergeo\": [{\"marker\": {\"colorbar\": {\"outlinewidth\": 0, \"ticks\": \"\"}}, \"type\": \"scattergeo\"}], \"scattergl\": [{\"marker\": {\"colorbar\": {\"outlinewidth\": 0, \"ticks\": \"\"}}, \"type\": \"scattergl\"}], \"scattermapbox\": [{\"marker\": {\"colorbar\": {\"outlinewidth\": 0, \"ticks\": \"\"}}, \"type\": \"scattermapbox\"}], \"scatterpolar\": [{\"marker\": {\"colorbar\": {\"outlinewidth\": 0, \"ticks\": \"\"}}, \"type\": \"scatterpolar\"}], \"scatterpolargl\": [{\"marker\": {\"colorbar\": {\"outlinewidth\": 0, \"ticks\": \"\"}}, \"type\": \"scatterpolargl\"}], \"scatterternary\": [{\"marker\": {\"colorbar\": {\"outlinewidth\": 0, \"ticks\": \"\"}}, \"type\": \"scatterternary\"}], \"surface\": [{\"colorbar\": {\"outlinewidth\": 0, \"ticks\": \"\"}, \"colorscale\": [[0.0, \"#0d0887\"], [0.1111111111111111, \"#46039f\"], [0.2222222222222222, \"#7201a8\"], [0.3333333333333333, \"#9c179e\"], [0.4444444444444444, \"#bd3786\"], [0.5555555555555556, \"#d8576b\"], [0.6666666666666666, \"#ed7953\"], [0.7777777777777778, \"#fb9f3a\"], [0.8888888888888888, \"#fdca26\"], [1.0, \"#f0f921\"]], \"type\": \"surface\"}], \"table\": [{\"cells\": {\"fill\": {\"color\": \"#EBF0F8\"}, \"line\": {\"color\": \"white\"}}, \"header\": {\"fill\": {\"color\": \"#C8D4E3\"}, \"line\": {\"color\": \"white\"}}, \"type\": \"table\"}]}, \"layout\": {\"annotationdefaults\": {\"arrowcolor\": \"#2a3f5f\", \"arrowhead\": 0, \"arrowwidth\": 1}, \"autotypenumbers\": \"strict\", \"coloraxis\": {\"colorbar\": {\"outlinewidth\": 0, \"ticks\": \"\"}}, \"colorscale\": {\"diverging\": [[0, \"#8e0152\"], [0.1, \"#c51b7d\"], [0.2, \"#de77ae\"], [0.3, \"#f1b6da\"], [0.4, \"#fde0ef\"], [0.5, \"#f7f7f7\"], [0.6, \"#e6f5d0\"], [0.7, \"#b8e186\"], [0.8, \"#7fbc41\"], [0.9, \"#4d9221\"], [1, \"#276419\"]], \"sequential\": [[0.0, \"#0d0887\"], [0.1111111111111111, \"#46039f\"], [0.2222222222222222, \"#7201a8\"], [0.3333333333333333, \"#9c179e\"], [0.4444444444444444, \"#bd3786\"], [0.5555555555555556, \"#d8576b\"], [0.6666666666666666, \"#ed7953\"], [0.7777777777777778, \"#fb9f3a\"], [0.8888888888888888, \"#fdca26\"], [1.0, \"#f0f921\"]], \"sequentialminus\": [[0.0, \"#0d0887\"], [0.1111111111111111, \"#46039f\"], [0.2222222222222222, \"#7201a8\"], [0.3333333333333333, \"#9c179e\"], [0.4444444444444444, \"#bd3786\"], [0.5555555555555556, \"#d8576b\"], [0.6666666666666666, \"#ed7953\"], [0.7777777777777778, \"#fb9f3a\"], [0.8888888888888888, \"#fdca26\"], [1.0, \"#f0f921\"]]}, \"colorway\": [\"#636efa\", \"#EF553B\", \"#00cc96\", \"#ab63fa\", \"#FFA15A\", \"#19d3f3\", \"#FF6692\", \"#B6E880\", \"#FF97FF\", \"#FECB52\"], \"font\": {\"color\": \"#2a3f5f\"}, \"geo\": {\"bgcolor\": \"white\", \"lakecolor\": \"white\", \"landcolor\": \"#E5ECF6\", \"showlakes\": true, \"showland\": true, \"subunitcolor\": \"white\"}, \"hoverlabel\": {\"align\": \"left\"}, \"hovermode\": \"closest\", \"mapbox\": {\"style\": \"light\"}, \"paper_bgcolor\": \"white\", \"plot_bgcolor\": \"#E5ECF6\", \"polar\": {\"angularaxis\": {\"gridcolor\": \"white\", \"linecolor\": \"white\", \"ticks\": \"\"}, \"bgcolor\": \"#E5ECF6\", \"radialaxis\": {\"gridcolor\": \"white\", \"linecolor\": \"white\", \"ticks\": \"\"}}, \"scene\": {\"xaxis\": {\"backgroundcolor\": \"#E5ECF6\", \"gridcolor\": \"white\", \"gridwidth\": 2, \"linecolor\": \"white\", \"showbackground\": true, \"ticks\": \"\", \"zerolinecolor\": \"white\"}, \"yaxis\": {\"backgroundcolor\": \"#E5ECF6\", \"gridcolor\": \"white\", \"gridwidth\": 2, \"linecolor\": \"white\", \"showbackground\": true, \"ticks\": \"\", \"zerolinecolor\": \"white\"}, \"zaxis\": {\"backgroundcolor\": \"#E5ECF6\", \"gridcolor\": \"white\", \"gridwidth\": 2, \"linecolor\": \"white\", \"showbackground\": true, \"ticks\": \"\", \"zerolinecolor\": \"white\"}}, \"shapedefaults\": {\"line\": {\"color\": \"#2a3f5f\"}}, \"ternary\": {\"aaxis\": {\"gridcolor\": \"white\", \"linecolor\": \"white\", \"ticks\": \"\"}, \"baxis\": {\"gridcolor\": \"white\", \"linecolor\": \"white\", \"ticks\": \"\"}, \"bgcolor\": \"#E5ECF6\", \"caxis\": {\"gridcolor\": \"white\", \"linecolor\": \"white\", \"ticks\": \"\"}}, \"title\": {\"x\": 0.05}, \"xaxis\": {\"automargin\": true, \"gridcolor\": \"white\", \"linecolor\": \"white\", \"ticks\": \"\", \"title\": {\"standoff\": 15}, \"zerolinecolor\": \"white\", \"zerolinewidth\": 2}, \"yaxis\": {\"automargin\": true, \"gridcolor\": \"white\", \"linecolor\": \"white\", \"ticks\": \"\", \"title\": {\"standoff\": 15}, \"zerolinecolor\": \"white\", \"zerolinewidth\": 2}}}, \"title\": {\"font\": {\"color\": \"#4D5663\"}}, \"xaxis\": {\"gridcolor\": \"#E1E5ED\", \"showgrid\": true, \"tickfont\": {\"color\": \"#4D5663\"}, \"title\": {\"font\": {\"color\": \"#4D5663\"}, \"text\": \"\"}, \"zerolinecolor\": \"#E1E5ED\"}, \"yaxis\": {\"gridcolor\": \"#E1E5ED\", \"showgrid\": true, \"tickfont\": {\"color\": \"#4D5663\"}, \"title\": {\"font\": {\"color\": \"#4D5663\"}, \"text\": \"\"}, \"zerolinecolor\": \"#E1E5ED\"}},                        {\"showLink\": true, \"linkText\": \"Export to plot.ly\", \"plotlyServerURL\": \"https://plot.ly\", \"responsive\": true}                    ).then(function(){\n                            \nvar gd = document.getElementById('ca248253-879e-49a6-8e40-c359524c4d1b');\nvar x = new MutationObserver(function (mutations, observer) {{\n        var display = window.getComputedStyle(gd).display;\n        if (!display || display === 'none') {{\n            console.log([gd, 'removed!']);\n            Plotly.purge(gd);\n            observer.disconnect();\n        }}\n}});\n\n// Listen for the removal of the full notebook cells\nvar notebookContainer = gd.closest('#notebook-container');\nif (notebookContainer) {{\n    x.observe(notebookContainer, {childList: true});\n}}\n\n// Listen for the clearing of the current output cell\nvar outputEl = gd.closest('.output');\nif (outputEl) {{\n    x.observe(outputEl, {childList: true});\n}}\n\n                        })                };                });            </script>        </div>"
     },
     "metadata": {}
    }
   ],
   "source": [
    "df.iplot(kind='bubble',x='A',y='B',size='C')"
   ]
  },
  {
   "cell_type": "code",
   "execution_count": 34,
   "metadata": {},
   "outputs": [
    {
     "output_type": "display_data",
     "data": {
      "application/vnd.plotly.v1+json": {
       "config": {
        "linkText": "Export to plot.ly",
        "plotlyServerURL": "https://plot.ly",
        "showLink": true
       },
       "data": [
        {
         "histfunc": "count",
         "histnorm": "",
         "marker": {
          "color": "rgba(255, 153, 51, 1.0)",
          "line": {
           "color": "#4D5663",
           "width": 1.3
          }
         },
         "name": "A",
         "nbinsx": 10,
         "opacity": 0.8,
         "orientation": "v",
         "type": "histogram",
         "x": [
          -1.286783666232087,
          0.7107277470430434,
          1.2206576987234354,
          2.670689230942479,
          -0.868396268279137,
          -0.7702505222952278,
          0.836826113651275,
          -1.310807545006144,
          -1.1454772976981726,
          -1.205923510011141,
          0.39104120063317915,
          1.480064786672829,
          -0.4371817585516773,
          0.31244387330147083,
          0.9522665120953734,
          -0.9064855359217587,
          0.15128185004249292,
          0.15061151479926002,
          0.2932767331797624,
          0.07523964284633954,
          0.29022474193827164,
          -0.15511464338925918,
          0.6235611994075417,
          0.385198796402805,
          -1.23041158492017,
          0.4146485818376867,
          1.3453276550476518,
          2.2200082297196575,
          0.4843022625460223,
          -0.9052875932660301,
          -1.2911658251962215,
          1.2239386431635257,
          0.5800060939722871,
          0.29463938749835283,
          -0.5274632830251935,
          -0.7462578578754884,
          1.692027647166309,
          -0.09695059770969566,
          0.4881840463183823,
          -0.025688346575201363,
          -1.3490757613768838,
          -0.39677880092704315,
          0.35675258383857994,
          -0.5443711678860995,
          -0.4195900621836775,
          0.6447505960385553,
          -1.0972813689106393,
          -0.07544670673084743,
          -1.680269752499829,
          0.5777182254380486,
          0.8773588872922171,
          -1.2744428237723746,
          0.4707650176747216,
          0.184743927621629,
          1.502286572568263,
          -0.047755807588705734,
          0.12565047824483858,
          -2.8697574169274644,
          -1.7358225932178784,
          -0.6272506704206392,
          -1.4433597294484304,
          2.4317752497855403,
          -1.4322358810549674,
          0.5091222176333856,
          -2.303424236839607,
          1.5614540931799474,
          1.755253217137435,
          -0.8962401197499275,
          0.6858890477096122,
          0.45111826271025357,
          0.3732627172869396,
          -0.11404699509388187,
          0.505163811090925,
          0.9893247964708458,
          1.6802152688092455,
          0.3775054456483596,
          0.5960017865897772,
          1.0021193126559254,
          -0.38771902641273304,
          0.7260151830561632,
          -0.5736145908308646,
          0.5696440774836763,
          -0.08440931256891603,
          1.7580084477921427,
          -0.9032392980072976,
          -1.702458506342066,
          -0.3268225203948594,
          0.24042744103696015,
          0.3251828854999993,
          -0.03164848102043208,
          1.1673040608017295,
          -0.5431973031609296,
          -1.9466362146927483,
          -0.0069860880888541945,
          1.99068233702783,
          -0.048360909178754935,
          0.4008717221536024,
          0.26080632462817355,
          -0.31858331702889736,
          -0.071197295683597
         ],
         "xaxis": "x",
         "yaxis": "y"
        },
        {
         "line": {
          "color": "rgba(128, 128, 128, 1.0)",
          "dash": "solid",
          "shape": "linear",
          "width": 1.3
         },
         "marker": {
          "size": 2,
          "symbol": "circle"
         },
         "mode": "markers",
         "name": "A",
         "text": "",
         "type": "scatter",
         "x": [
          -1.2436419169159714,
          1.5692860019949753,
          -0.26671888492952217,
          0.2815640316896209,
          1.365892470714254,
          -1.0966017811139082,
          -1.7501437821712431,
          -1.819809038953777,
          0.3286795501646575,
          0.420218601730475,
          -0.4526951755973082,
          0.6428374710337051,
          -0.32814944019105596,
          1.9532810324072836,
          -0.8371761679909756,
          -1.50915051301245,
          -0.11553875435854695,
          -0.19808858021679637,
          0.08189178164630723,
          -1.1690479593556529,
          0.5426510623353725,
          -1.569302061901453,
          2.2472868053504014,
          -0.13122045124668472,
          -0.03454840736457979,
          0.004013916643951113,
          0.9156650742937736,
          -1.5630225390944321,
          -0.8692580183140872,
          0.7776652874301425,
          0.37059975574200205,
          -0.9999879818086167,
          0.6016464734009461,
          0.05210885734734563,
          0.10876319643384028,
          0.07223691516760487,
          -0.488979327879292,
          -1.2474974282935567,
          0.30088905771553354,
          0.8931102695066149,
          0.6345013410633477,
          -0.08705043588611751,
          -0.41296039681387836,
          1.6468689809139507,
          -1.2191028264563968,
          0.06846210845743836,
          1.0803348505760164,
          0.3663395830326163,
          -0.3837984909897694,
          -1.7462365995629416,
          0.9324003722594186,
          -0.3038268359150439,
          -0.8786412238263824,
          -1.419891446791575,
          2.163490032952582,
          -0.8058230604185269,
          0.10256406153351981,
          1.1139069699129942,
          0.49417906199734707,
          0.8760823766737829,
          -0.8948518726206427,
          -1.335563279231745,
          -0.27351425817938646,
          -1.6530349045940977,
          0.7796901069802878,
          0.3178371041948017,
          -0.5673257372555445,
          -0.36103792983823196,
          -0.17726997277506898,
          0.24843619696647495,
          -0.05052867323180514,
          -0.4471599049358513,
          -0.21938709534885703,
          -0.39712704411222405,
          1.6087610337457163,
          -0.43113504250683504,
          0.0018928069012562722,
          -0.9713837764015597,
          -0.9711257871443403,
          -1.201135432974757,
          0.6213409054564155,
          -0.3869811372641256,
          -0.2788357101710152,
          -0.20400907384209452,
          1.011917828496073,
          -0.8505328360888009,
          0.2379108955912931,
          0.4591865745990066,
          0.448859440096995,
          0.16970947821971874,
          3.070837746893535,
          0.6488164419269693,
          1.4007575897732754,
          0.17720275317090023,
          -1.0289729246587451,
          0.14937788270135635,
          -1.1679017277463055,
          0.9170428574901506,
          0.5245942932387379,
          -1.2885764393890806
         ],
         "xaxis": "x2",
         "y": [
          -1.286783666232087,
          0.7107277470430434,
          1.2206576987234354,
          2.670689230942479,
          -0.868396268279137,
          -0.7702505222952278,
          0.836826113651275,
          -1.310807545006144,
          -1.1454772976981726,
          -1.205923510011141,
          0.39104120063317915,
          1.480064786672829,
          -0.4371817585516773,
          0.31244387330147083,
          0.9522665120953734,
          -0.9064855359217587,
          0.15128185004249292,
          0.15061151479926002,
          0.2932767331797624,
          0.07523964284633954,
          0.29022474193827164,
          -0.15511464338925918,
          0.6235611994075417,
          0.385198796402805,
          -1.23041158492017,
          0.4146485818376867,
          1.3453276550476518,
          2.2200082297196575,
          0.4843022625460223,
          -0.9052875932660301,
          -1.2911658251962215,
          1.2239386431635257,
          0.5800060939722871,
          0.29463938749835283,
          -0.5274632830251935,
          -0.7462578578754884,
          1.692027647166309,
          -0.09695059770969566,
          0.4881840463183823,
          -0.025688346575201363,
          -1.3490757613768838,
          -0.39677880092704315,
          0.35675258383857994,
          -0.5443711678860995,
          -0.4195900621836775,
          0.6447505960385553,
          -1.0972813689106393,
          -0.07544670673084743,
          -1.680269752499829,
          0.5777182254380486,
          0.8773588872922171,
          -1.2744428237723746,
          0.4707650176747216,
          0.184743927621629,
          1.502286572568263,
          -0.047755807588705734,
          0.12565047824483858,
          -2.8697574169274644,
          -1.7358225932178784,
          -0.6272506704206392,
          -1.4433597294484304,
          2.4317752497855403,
          -1.4322358810549674,
          0.5091222176333856,
          -2.303424236839607,
          1.5614540931799474,
          1.755253217137435,
          -0.8962401197499275,
          0.6858890477096122,
          0.45111826271025357,
          0.3732627172869396,
          -0.11404699509388187,
          0.505163811090925,
          0.9893247964708458,
          1.6802152688092455,
          0.3775054456483596,
          0.5960017865897772,
          1.0021193126559254,
          -0.38771902641273304,
          0.7260151830561632,
          -0.5736145908308646,
          0.5696440774836763,
          -0.08440931256891603,
          1.7580084477921427,
          -0.9032392980072976,
          -1.702458506342066,
          -0.3268225203948594,
          0.24042744103696015,
          0.3251828854999993,
          -0.03164848102043208,
          1.1673040608017295,
          -0.5431973031609296,
          -1.9466362146927483,
          -0.0069860880888541945,
          1.99068233702783,
          -0.048360909178754935,
          0.4008717221536024,
          0.26080632462817355,
          -0.31858331702889736,
          -0.071197295683597
         ],
         "yaxis": "y2"
        },
        {
         "line": {
          "color": "rgba(128, 128, 128, 1.0)",
          "dash": "solid",
          "shape": "linear",
          "width": 1.3
         },
         "marker": {
          "size": 2,
          "symbol": "circle"
         },
         "mode": "markers",
         "name": "A",
         "text": "",
         "type": "scatter",
         "x": [
          0.37396880967063184,
          0.485819109135621,
          -0.6351379982448391,
          0.2741963480308266,
          0.28441154644745953,
          -0.5689584930430098,
          -1.7764037059962785,
          0.6939134036263318,
          -1.0914742699727626,
          1.0095698440273608,
          0.9038298373786826,
          0.45684967147341277,
          -0.8962791345502362,
          1.3612764577772003,
          0.769046148307588,
          0.6432139729219714,
          -0.1755969192591122,
          2.0646430510096456,
          0.32856162509179165,
          -0.45514672532900435,
          -2.0434119509245945,
          -0.22339369216589958,
          -0.4759677637897723,
          0.6879343719088479,
          2.0575370079714554,
          -0.2906158769931298,
          1.6976548541724978,
          -0.8469992960252449,
          -0.13834361912647716,
          -0.0645035615577513,
          0.38652777747444894,
          -1.193652114101707,
          0.13798097726775968,
          0.11739355751733577,
          -0.29005171504076405,
          1.627157188783857,
          -0.2495570014946859,
          -0.9545308102971303,
          0.13259597457059744,
          -0.6151063164608173,
          1.5855852311862595,
          0.3381393618125363,
          -1.6472132904138104,
          -0.2878903051600144,
          -0.5573359078645758,
          -0.2182996588047888,
          -0.4399013980494022,
          0.018500459702916396,
          0.09911511861381764,
          -1.310166314447082,
          -1.011624910552905,
          0.3627672280932037,
          2.1291298144680497,
          -1.1239492659211483,
          1.132863981267986,
          0.228193143647071,
          1.5462397079810524,
          -0.37878613122449806,
          0.694900629886083,
          -1.17025401083286,
          0.9470238842420337,
          0.235975316301273,
          0.3485324740626605,
          -2.5406164262331252,
          -0.08002575297053341,
          -0.11300007122142385,
          -1.3401640072724892,
          0.8417212679546352,
          1.6329062905357954,
          -1.3454419101981803,
          0.9372378100116274,
          2.3832122889079166,
          0.07327306689767413,
          0.17373054974580543,
          -0.6647941881929376,
          -0.00037142532747681123,
          0.7163662020598183,
          0.32191937697929285,
          -0.4296635297447678,
          0.8816471136098253,
          -0.14935605702660373,
          0.151772180187301,
          0.000528971197049543,
          -0.28363103855286514,
          0.2737045895924919,
          0.1699482265529984,
          -1.79500990750334,
          -1.1352030321961761,
          0.3886533963873723,
          1.1369473253097777,
          0.651769135275047,
          -2.6241863552765903,
          1.645556210994583,
          -1.9333901442105705,
          0.20229028335327418,
          -0.3980462068338803,
          1.7856968855129687,
          1.0960542932501087,
          -0.3958576865717353,
          -0.3421841355431247
         ],
         "xaxis": "x3",
         "y": [
          -1.286783666232087,
          0.7107277470430434,
          1.2206576987234354,
          2.670689230942479,
          -0.868396268279137,
          -0.7702505222952278,
          0.836826113651275,
          -1.310807545006144,
          -1.1454772976981726,
          -1.205923510011141,
          0.39104120063317915,
          1.480064786672829,
          -0.4371817585516773,
          0.31244387330147083,
          0.9522665120953734,
          -0.9064855359217587,
          0.15128185004249292,
          0.15061151479926002,
          0.2932767331797624,
          0.07523964284633954,
          0.29022474193827164,
          -0.15511464338925918,
          0.6235611994075417,
          0.385198796402805,
          -1.23041158492017,
          0.4146485818376867,
          1.3453276550476518,
          2.2200082297196575,
          0.4843022625460223,
          -0.9052875932660301,
          -1.2911658251962215,
          1.2239386431635257,
          0.5800060939722871,
          0.29463938749835283,
          -0.5274632830251935,
          -0.7462578578754884,
          1.692027647166309,
          -0.09695059770969566,
          0.4881840463183823,
          -0.025688346575201363,
          -1.3490757613768838,
          -0.39677880092704315,
          0.35675258383857994,
          -0.5443711678860995,
          -0.4195900621836775,
          0.6447505960385553,
          -1.0972813689106393,
          -0.07544670673084743,
          -1.680269752499829,
          0.5777182254380486,
          0.8773588872922171,
          -1.2744428237723746,
          0.4707650176747216,
          0.184743927621629,
          1.502286572568263,
          -0.047755807588705734,
          0.12565047824483858,
          -2.8697574169274644,
          -1.7358225932178784,
          -0.6272506704206392,
          -1.4433597294484304,
          2.4317752497855403,
          -1.4322358810549674,
          0.5091222176333856,
          -2.303424236839607,
          1.5614540931799474,
          1.755253217137435,
          -0.8962401197499275,
          0.6858890477096122,
          0.45111826271025357,
          0.3732627172869396,
          -0.11404699509388187,
          0.505163811090925,
          0.9893247964708458,
          1.6802152688092455,
          0.3775054456483596,
          0.5960017865897772,
          1.0021193126559254,
          -0.38771902641273304,
          0.7260151830561632,
          -0.5736145908308646,
          0.5696440774836763,
          -0.08440931256891603,
          1.7580084477921427,
          -0.9032392980072976,
          -1.702458506342066,
          -0.3268225203948594,
          0.24042744103696015,
          0.3251828854999993,
          -0.03164848102043208,
          1.1673040608017295,
          -0.5431973031609296,
          -1.9466362146927483,
          -0.0069860880888541945,
          1.99068233702783,
          -0.048360909178754935,
          0.4008717221536024,
          0.26080632462817355,
          -0.31858331702889736,
          -0.071197295683597
         ],
         "yaxis": "y3"
        },
        {
         "line": {
          "color": "rgba(128, 128, 128, 1.0)",
          "dash": "solid",
          "shape": "linear",
          "width": 1.3
         },
         "marker": {
          "size": 2,
          "symbol": "circle"
         },
         "mode": "markers",
         "name": "A",
         "text": "",
         "type": "scatter",
         "x": [
          0.10019236738679081,
          -0.40841508789911957,
          1.0880229661305265,
          0.8652643944491681,
          1.3813365573972627,
          -0.169563633595409,
          0.038547582019666356,
          0.9351786616657,
          -1.0904950978675008,
          0.19268230113792,
          0.1530437529903397,
          -0.9610632000620131,
          -0.5038638512539662,
          -0.02868819597412543,
          -1.2335143536151583,
          1.1044638647618985,
          -0.6527092429430541,
          -0.8502834548902157,
          -0.40308864747020284,
          1.4624063406367676,
          1.3030882168079807,
          0.5241584507546425,
          0.6897611065671335,
          0.23926206221512422,
          0.24550106500734678,
          0.6909064800055937,
          -0.1673623231286305,
          0.7936079202105257,
          1.8199648806134523,
          0.301111283765011,
          1.0641146030563275,
          0.6448701953770855,
          0.2251783887729817,
          -0.9507188720770672,
          -0.7093120654633488,
          1.089640515089958,
          1.2809723177519126,
          -0.29213577576302396,
          0.8401524823296217,
          1.3612755483625067,
          -0.7887741864274915,
          0.07124897413292046,
          -1.3512883291770754,
          -0.10483471513171659,
          -1.5414038063267268,
          0.7332792909199604,
          -0.4939546441889498,
          -0.8235826072554355,
          -2.3004448240965285,
          0.2490397916340618,
          -0.5990708012169211,
          -1.2344307225948057,
          -0.8966920186126316,
          -0.47663875979347725,
          1.1507271840045061,
          0.7421092404767009,
          -0.5914113744398791,
          0.6548386359286849,
          -0.33790160370389055,
          0.03533295024022777,
          0.8938341719693075,
          1.3743900300018788,
          -1.3341019341955622,
          1.875743005624606,
          -1.0055707978403516,
          -1.6601376077024619,
          -1.3046740142778521,
          -1.018030650858319,
          0.17082439143206524,
          -1.8726614680965534,
          0.3032064240152828,
          1.3407798761113288,
          -0.8363083792726096,
          0.23864738387964837,
          0.47506377189916993,
          -1.1069809945297964,
          -0.08375769526089903,
          0.32085502528923615,
          0.24797469587709156,
          0.13233284186777314,
          -0.5749664374502748,
          0.18924251545318685,
          -1.85326268569658,
          -2.1190778632475866,
          -0.28196115986216985,
          0.5524679622264345,
          1.4420384970602615,
          -0.09627353663918234,
          -1.0522201787108096,
          0.279740918763895,
          0.09830663201071498,
          -0.2133013467076015,
          1.3106378629150464,
          -1.2637309305944364,
          -0.16618105889914972,
          -0.9608995743323465,
          -0.698163313743797,
          1.6340863943666697,
          -0.5120062660189111,
          -1.3500981293658665
         ],
         "xaxis": "x4",
         "y": [
          -1.286783666232087,
          0.7107277470430434,
          1.2206576987234354,
          2.670689230942479,
          -0.868396268279137,
          -0.7702505222952278,
          0.836826113651275,
          -1.310807545006144,
          -1.1454772976981726,
          -1.205923510011141,
          0.39104120063317915,
          1.480064786672829,
          -0.4371817585516773,
          0.31244387330147083,
          0.9522665120953734,
          -0.9064855359217587,
          0.15128185004249292,
          0.15061151479926002,
          0.2932767331797624,
          0.07523964284633954,
          0.29022474193827164,
          -0.15511464338925918,
          0.6235611994075417,
          0.385198796402805,
          -1.23041158492017,
          0.4146485818376867,
          1.3453276550476518,
          2.2200082297196575,
          0.4843022625460223,
          -0.9052875932660301,
          -1.2911658251962215,
          1.2239386431635257,
          0.5800060939722871,
          0.29463938749835283,
          -0.5274632830251935,
          -0.7462578578754884,
          1.692027647166309,
          -0.09695059770969566,
          0.4881840463183823,
          -0.025688346575201363,
          -1.3490757613768838,
          -0.39677880092704315,
          0.35675258383857994,
          -0.5443711678860995,
          -0.4195900621836775,
          0.6447505960385553,
          -1.0972813689106393,
          -0.07544670673084743,
          -1.680269752499829,
          0.5777182254380486,
          0.8773588872922171,
          -1.2744428237723746,
          0.4707650176747216,
          0.184743927621629,
          1.502286572568263,
          -0.047755807588705734,
          0.12565047824483858,
          -2.8697574169274644,
          -1.7358225932178784,
          -0.6272506704206392,
          -1.4433597294484304,
          2.4317752497855403,
          -1.4322358810549674,
          0.5091222176333856,
          -2.303424236839607,
          1.5614540931799474,
          1.755253217137435,
          -0.8962401197499275,
          0.6858890477096122,
          0.45111826271025357,
          0.3732627172869396,
          -0.11404699509388187,
          0.505163811090925,
          0.9893247964708458,
          1.6802152688092455,
          0.3775054456483596,
          0.5960017865897772,
          1.0021193126559254,
          -0.38771902641273304,
          0.7260151830561632,
          -0.5736145908308646,
          0.5696440774836763,
          -0.08440931256891603,
          1.7580084477921427,
          -0.9032392980072976,
          -1.702458506342066,
          -0.3268225203948594,
          0.24042744103696015,
          0.3251828854999993,
          -0.03164848102043208,
          1.1673040608017295,
          -0.5431973031609296,
          -1.9466362146927483,
          -0.0069860880888541945,
          1.99068233702783,
          -0.048360909178754935,
          0.4008717221536024,
          0.26080632462817355,
          -0.31858331702889736,
          -0.071197295683597
         ],
         "yaxis": "y4"
        },
        {
         "line": {
          "color": "rgba(128, 128, 128, 1.0)",
          "dash": "solid",
          "shape": "linear",
          "width": 1.3
         },
         "marker": {
          "size": 2,
          "symbol": "circle"
         },
         "mode": "markers",
         "name": "B",
         "text": "",
         "type": "scatter",
         "x": [
          -1.286783666232087,
          0.7107277470430434,
          1.2206576987234354,
          2.670689230942479,
          -0.868396268279137,
          -0.7702505222952278,
          0.836826113651275,
          -1.310807545006144,
          -1.1454772976981726,
          -1.205923510011141,
          0.39104120063317915,
          1.480064786672829,
          -0.4371817585516773,
          0.31244387330147083,
          0.9522665120953734,
          -0.9064855359217587,
          0.15128185004249292,
          0.15061151479926002,
          0.2932767331797624,
          0.07523964284633954,
          0.29022474193827164,
          -0.15511464338925918,
          0.6235611994075417,
          0.385198796402805,
          -1.23041158492017,
          0.4146485818376867,
          1.3453276550476518,
          2.2200082297196575,
          0.4843022625460223,
          -0.9052875932660301,
          -1.2911658251962215,
          1.2239386431635257,
          0.5800060939722871,
          0.29463938749835283,
          -0.5274632830251935,
          -0.7462578578754884,
          1.692027647166309,
          -0.09695059770969566,
          0.4881840463183823,
          -0.025688346575201363,
          -1.3490757613768838,
          -0.39677880092704315,
          0.35675258383857994,
          -0.5443711678860995,
          -0.4195900621836775,
          0.6447505960385553,
          -1.0972813689106393,
          -0.07544670673084743,
          -1.680269752499829,
          0.5777182254380486,
          0.8773588872922171,
          -1.2744428237723746,
          0.4707650176747216,
          0.184743927621629,
          1.502286572568263,
          -0.047755807588705734,
          0.12565047824483858,
          -2.8697574169274644,
          -1.7358225932178784,
          -0.6272506704206392,
          -1.4433597294484304,
          2.4317752497855403,
          -1.4322358810549674,
          0.5091222176333856,
          -2.303424236839607,
          1.5614540931799474,
          1.755253217137435,
          -0.8962401197499275,
          0.6858890477096122,
          0.45111826271025357,
          0.3732627172869396,
          -0.11404699509388187,
          0.505163811090925,
          0.9893247964708458,
          1.6802152688092455,
          0.3775054456483596,
          0.5960017865897772,
          1.0021193126559254,
          -0.38771902641273304,
          0.7260151830561632,
          -0.5736145908308646,
          0.5696440774836763,
          -0.08440931256891603,
          1.7580084477921427,
          -0.9032392980072976,
          -1.702458506342066,
          -0.3268225203948594,
          0.24042744103696015,
          0.3251828854999993,
          -0.03164848102043208,
          1.1673040608017295,
          -0.5431973031609296,
          -1.9466362146927483,
          -0.0069860880888541945,
          1.99068233702783,
          -0.048360909178754935,
          0.4008717221536024,
          0.26080632462817355,
          -0.31858331702889736,
          -0.071197295683597
         ],
         "xaxis": "x5",
         "y": [
          -1.2436419169159714,
          1.5692860019949753,
          -0.26671888492952217,
          0.2815640316896209,
          1.365892470714254,
          -1.0966017811139082,
          -1.7501437821712431,
          -1.819809038953777,
          0.3286795501646575,
          0.420218601730475,
          -0.4526951755973082,
          0.6428374710337051,
          -0.32814944019105596,
          1.9532810324072836,
          -0.8371761679909756,
          -1.50915051301245,
          -0.11553875435854695,
          -0.19808858021679637,
          0.08189178164630723,
          -1.1690479593556529,
          0.5426510623353725,
          -1.569302061901453,
          2.2472868053504014,
          -0.13122045124668472,
          -0.03454840736457979,
          0.004013916643951113,
          0.9156650742937736,
          -1.5630225390944321,
          -0.8692580183140872,
          0.7776652874301425,
          0.37059975574200205,
          -0.9999879818086167,
          0.6016464734009461,
          0.05210885734734563,
          0.10876319643384028,
          0.07223691516760487,
          -0.488979327879292,
          -1.2474974282935567,
          0.30088905771553354,
          0.8931102695066149,
          0.6345013410633477,
          -0.08705043588611751,
          -0.41296039681387836,
          1.6468689809139507,
          -1.2191028264563968,
          0.06846210845743836,
          1.0803348505760164,
          0.3663395830326163,
          -0.3837984909897694,
          -1.7462365995629416,
          0.9324003722594186,
          -0.3038268359150439,
          -0.8786412238263824,
          -1.419891446791575,
          2.163490032952582,
          -0.8058230604185269,
          0.10256406153351981,
          1.1139069699129942,
          0.49417906199734707,
          0.8760823766737829,
          -0.8948518726206427,
          -1.335563279231745,
          -0.27351425817938646,
          -1.6530349045940977,
          0.7796901069802878,
          0.3178371041948017,
          -0.5673257372555445,
          -0.36103792983823196,
          -0.17726997277506898,
          0.24843619696647495,
          -0.05052867323180514,
          -0.4471599049358513,
          -0.21938709534885703,
          -0.39712704411222405,
          1.6087610337457163,
          -0.43113504250683504,
          0.0018928069012562722,
          -0.9713837764015597,
          -0.9711257871443403,
          -1.201135432974757,
          0.6213409054564155,
          -0.3869811372641256,
          -0.2788357101710152,
          -0.20400907384209452,
          1.011917828496073,
          -0.8505328360888009,
          0.2379108955912931,
          0.4591865745990066,
          0.448859440096995,
          0.16970947821971874,
          3.070837746893535,
          0.6488164419269693,
          1.4007575897732754,
          0.17720275317090023,
          -1.0289729246587451,
          0.14937788270135635,
          -1.1679017277463055,
          0.9170428574901506,
          0.5245942932387379,
          -1.2885764393890806
         ],
         "yaxis": "y5"
        },
        {
         "histfunc": "count",
         "histnorm": "",
         "marker": {
          "color": "rgba(55, 128, 191, 1.0)",
          "line": {
           "color": "#4D5663",
           "width": 1.3
          }
         },
         "name": "B",
         "nbinsx": 10,
         "opacity": 0.8,
         "orientation": "v",
         "type": "histogram",
         "x": [
          -1.2436419169159714,
          1.5692860019949753,
          -0.26671888492952217,
          0.2815640316896209,
          1.365892470714254,
          -1.0966017811139082,
          -1.7501437821712431,
          -1.819809038953777,
          0.3286795501646575,
          0.420218601730475,
          -0.4526951755973082,
          0.6428374710337051,
          -0.32814944019105596,
          1.9532810324072836,
          -0.8371761679909756,
          -1.50915051301245,
          -0.11553875435854695,
          -0.19808858021679637,
          0.08189178164630723,
          -1.1690479593556529,
          0.5426510623353725,
          -1.569302061901453,
          2.2472868053504014,
          -0.13122045124668472,
          -0.03454840736457979,
          0.004013916643951113,
          0.9156650742937736,
          -1.5630225390944321,
          -0.8692580183140872,
          0.7776652874301425,
          0.37059975574200205,
          -0.9999879818086167,
          0.6016464734009461,
          0.05210885734734563,
          0.10876319643384028,
          0.07223691516760487,
          -0.488979327879292,
          -1.2474974282935567,
          0.30088905771553354,
          0.8931102695066149,
          0.6345013410633477,
          -0.08705043588611751,
          -0.41296039681387836,
          1.6468689809139507,
          -1.2191028264563968,
          0.06846210845743836,
          1.0803348505760164,
          0.3663395830326163,
          -0.3837984909897694,
          -1.7462365995629416,
          0.9324003722594186,
          -0.3038268359150439,
          -0.8786412238263824,
          -1.419891446791575,
          2.163490032952582,
          -0.8058230604185269,
          0.10256406153351981,
          1.1139069699129942,
          0.49417906199734707,
          0.8760823766737829,
          -0.8948518726206427,
          -1.335563279231745,
          -0.27351425817938646,
          -1.6530349045940977,
          0.7796901069802878,
          0.3178371041948017,
          -0.5673257372555445,
          -0.36103792983823196,
          -0.17726997277506898,
          0.24843619696647495,
          -0.05052867323180514,
          -0.4471599049358513,
          -0.21938709534885703,
          -0.39712704411222405,
          1.6087610337457163,
          -0.43113504250683504,
          0.0018928069012562722,
          -0.9713837764015597,
          -0.9711257871443403,
          -1.201135432974757,
          0.6213409054564155,
          -0.3869811372641256,
          -0.2788357101710152,
          -0.20400907384209452,
          1.011917828496073,
          -0.8505328360888009,
          0.2379108955912931,
          0.4591865745990066,
          0.448859440096995,
          0.16970947821971874,
          3.070837746893535,
          0.6488164419269693,
          1.4007575897732754,
          0.17720275317090023,
          -1.0289729246587451,
          0.14937788270135635,
          -1.1679017277463055,
          0.9170428574901506,
          0.5245942932387379,
          -1.2885764393890806
         ],
         "xaxis": "x6",
         "yaxis": "y6"
        },
        {
         "line": {
          "color": "rgba(128, 128, 128, 1.0)",
          "dash": "solid",
          "shape": "linear",
          "width": 1.3
         },
         "marker": {
          "size": 2,
          "symbol": "circle"
         },
         "mode": "markers",
         "name": "B",
         "text": "",
         "type": "scatter",
         "x": [
          0.37396880967063184,
          0.485819109135621,
          -0.6351379982448391,
          0.2741963480308266,
          0.28441154644745953,
          -0.5689584930430098,
          -1.7764037059962785,
          0.6939134036263318,
          -1.0914742699727626,
          1.0095698440273608,
          0.9038298373786826,
          0.45684967147341277,
          -0.8962791345502362,
          1.3612764577772003,
          0.769046148307588,
          0.6432139729219714,
          -0.1755969192591122,
          2.0646430510096456,
          0.32856162509179165,
          -0.45514672532900435,
          -2.0434119509245945,
          -0.22339369216589958,
          -0.4759677637897723,
          0.6879343719088479,
          2.0575370079714554,
          -0.2906158769931298,
          1.6976548541724978,
          -0.8469992960252449,
          -0.13834361912647716,
          -0.0645035615577513,
          0.38652777747444894,
          -1.193652114101707,
          0.13798097726775968,
          0.11739355751733577,
          -0.29005171504076405,
          1.627157188783857,
          -0.2495570014946859,
          -0.9545308102971303,
          0.13259597457059744,
          -0.6151063164608173,
          1.5855852311862595,
          0.3381393618125363,
          -1.6472132904138104,
          -0.2878903051600144,
          -0.5573359078645758,
          -0.2182996588047888,
          -0.4399013980494022,
          0.018500459702916396,
          0.09911511861381764,
          -1.310166314447082,
          -1.011624910552905,
          0.3627672280932037,
          2.1291298144680497,
          -1.1239492659211483,
          1.132863981267986,
          0.228193143647071,
          1.5462397079810524,
          -0.37878613122449806,
          0.694900629886083,
          -1.17025401083286,
          0.9470238842420337,
          0.235975316301273,
          0.3485324740626605,
          -2.5406164262331252,
          -0.08002575297053341,
          -0.11300007122142385,
          -1.3401640072724892,
          0.8417212679546352,
          1.6329062905357954,
          -1.3454419101981803,
          0.9372378100116274,
          2.3832122889079166,
          0.07327306689767413,
          0.17373054974580543,
          -0.6647941881929376,
          -0.00037142532747681123,
          0.7163662020598183,
          0.32191937697929285,
          -0.4296635297447678,
          0.8816471136098253,
          -0.14935605702660373,
          0.151772180187301,
          0.000528971197049543,
          -0.28363103855286514,
          0.2737045895924919,
          0.1699482265529984,
          -1.79500990750334,
          -1.1352030321961761,
          0.3886533963873723,
          1.1369473253097777,
          0.651769135275047,
          -2.6241863552765903,
          1.645556210994583,
          -1.9333901442105705,
          0.20229028335327418,
          -0.3980462068338803,
          1.7856968855129687,
          1.0960542932501087,
          -0.3958576865717353,
          -0.3421841355431247
         ],
         "xaxis": "x7",
         "y": [
          -1.2436419169159714,
          1.5692860019949753,
          -0.26671888492952217,
          0.2815640316896209,
          1.365892470714254,
          -1.0966017811139082,
          -1.7501437821712431,
          -1.819809038953777,
          0.3286795501646575,
          0.420218601730475,
          -0.4526951755973082,
          0.6428374710337051,
          -0.32814944019105596,
          1.9532810324072836,
          -0.8371761679909756,
          -1.50915051301245,
          -0.11553875435854695,
          -0.19808858021679637,
          0.08189178164630723,
          -1.1690479593556529,
          0.5426510623353725,
          -1.569302061901453,
          2.2472868053504014,
          -0.13122045124668472,
          -0.03454840736457979,
          0.004013916643951113,
          0.9156650742937736,
          -1.5630225390944321,
          -0.8692580183140872,
          0.7776652874301425,
          0.37059975574200205,
          -0.9999879818086167,
          0.6016464734009461,
          0.05210885734734563,
          0.10876319643384028,
          0.07223691516760487,
          -0.488979327879292,
          -1.2474974282935567,
          0.30088905771553354,
          0.8931102695066149,
          0.6345013410633477,
          -0.08705043588611751,
          -0.41296039681387836,
          1.6468689809139507,
          -1.2191028264563968,
          0.06846210845743836,
          1.0803348505760164,
          0.3663395830326163,
          -0.3837984909897694,
          -1.7462365995629416,
          0.9324003722594186,
          -0.3038268359150439,
          -0.8786412238263824,
          -1.419891446791575,
          2.163490032952582,
          -0.8058230604185269,
          0.10256406153351981,
          1.1139069699129942,
          0.49417906199734707,
          0.8760823766737829,
          -0.8948518726206427,
          -1.335563279231745,
          -0.27351425817938646,
          -1.6530349045940977,
          0.7796901069802878,
          0.3178371041948017,
          -0.5673257372555445,
          -0.36103792983823196,
          -0.17726997277506898,
          0.24843619696647495,
          -0.05052867323180514,
          -0.4471599049358513,
          -0.21938709534885703,
          -0.39712704411222405,
          1.6087610337457163,
          -0.43113504250683504,
          0.0018928069012562722,
          -0.9713837764015597,
          -0.9711257871443403,
          -1.201135432974757,
          0.6213409054564155,
          -0.3869811372641256,
          -0.2788357101710152,
          -0.20400907384209452,
          1.011917828496073,
          -0.8505328360888009,
          0.2379108955912931,
          0.4591865745990066,
          0.448859440096995,
          0.16970947821971874,
          3.070837746893535,
          0.6488164419269693,
          1.4007575897732754,
          0.17720275317090023,
          -1.0289729246587451,
          0.14937788270135635,
          -1.1679017277463055,
          0.9170428574901506,
          0.5245942932387379,
          -1.2885764393890806
         ],
         "yaxis": "y7"
        },
        {
         "line": {
          "color": "rgba(128, 128, 128, 1.0)",
          "dash": "solid",
          "shape": "linear",
          "width": 1.3
         },
         "marker": {
          "size": 2,
          "symbol": "circle"
         },
         "mode": "markers",
         "name": "B",
         "text": "",
         "type": "scatter",
         "x": [
          0.10019236738679081,
          -0.40841508789911957,
          1.0880229661305265,
          0.8652643944491681,
          1.3813365573972627,
          -0.169563633595409,
          0.038547582019666356,
          0.9351786616657,
          -1.0904950978675008,
          0.19268230113792,
          0.1530437529903397,
          -0.9610632000620131,
          -0.5038638512539662,
          -0.02868819597412543,
          -1.2335143536151583,
          1.1044638647618985,
          -0.6527092429430541,
          -0.8502834548902157,
          -0.40308864747020284,
          1.4624063406367676,
          1.3030882168079807,
          0.5241584507546425,
          0.6897611065671335,
          0.23926206221512422,
          0.24550106500734678,
          0.6909064800055937,
          -0.1673623231286305,
          0.7936079202105257,
          1.8199648806134523,
          0.301111283765011,
          1.0641146030563275,
          0.6448701953770855,
          0.2251783887729817,
          -0.9507188720770672,
          -0.7093120654633488,
          1.089640515089958,
          1.2809723177519126,
          -0.29213577576302396,
          0.8401524823296217,
          1.3612755483625067,
          -0.7887741864274915,
          0.07124897413292046,
          -1.3512883291770754,
          -0.10483471513171659,
          -1.5414038063267268,
          0.7332792909199604,
          -0.4939546441889498,
          -0.8235826072554355,
          -2.3004448240965285,
          0.2490397916340618,
          -0.5990708012169211,
          -1.2344307225948057,
          -0.8966920186126316,
          -0.47663875979347725,
          1.1507271840045061,
          0.7421092404767009,
          -0.5914113744398791,
          0.6548386359286849,
          -0.33790160370389055,
          0.03533295024022777,
          0.8938341719693075,
          1.3743900300018788,
          -1.3341019341955622,
          1.875743005624606,
          -1.0055707978403516,
          -1.6601376077024619,
          -1.3046740142778521,
          -1.018030650858319,
          0.17082439143206524,
          -1.8726614680965534,
          0.3032064240152828,
          1.3407798761113288,
          -0.8363083792726096,
          0.23864738387964837,
          0.47506377189916993,
          -1.1069809945297964,
          -0.08375769526089903,
          0.32085502528923615,
          0.24797469587709156,
          0.13233284186777314,
          -0.5749664374502748,
          0.18924251545318685,
          -1.85326268569658,
          -2.1190778632475866,
          -0.28196115986216985,
          0.5524679622264345,
          1.4420384970602615,
          -0.09627353663918234,
          -1.0522201787108096,
          0.279740918763895,
          0.09830663201071498,
          -0.2133013467076015,
          1.3106378629150464,
          -1.2637309305944364,
          -0.16618105889914972,
          -0.9608995743323465,
          -0.698163313743797,
          1.6340863943666697,
          -0.5120062660189111,
          -1.3500981293658665
         ],
         "xaxis": "x8",
         "y": [
          -1.2436419169159714,
          1.5692860019949753,
          -0.26671888492952217,
          0.2815640316896209,
          1.365892470714254,
          -1.0966017811139082,
          -1.7501437821712431,
          -1.819809038953777,
          0.3286795501646575,
          0.420218601730475,
          -0.4526951755973082,
          0.6428374710337051,
          -0.32814944019105596,
          1.9532810324072836,
          -0.8371761679909756,
          -1.50915051301245,
          -0.11553875435854695,
          -0.19808858021679637,
          0.08189178164630723,
          -1.1690479593556529,
          0.5426510623353725,
          -1.569302061901453,
          2.2472868053504014,
          -0.13122045124668472,
          -0.03454840736457979,
          0.004013916643951113,
          0.9156650742937736,
          -1.5630225390944321,
          -0.8692580183140872,
          0.7776652874301425,
          0.37059975574200205,
          -0.9999879818086167,
          0.6016464734009461,
          0.05210885734734563,
          0.10876319643384028,
          0.07223691516760487,
          -0.488979327879292,
          -1.2474974282935567,
          0.30088905771553354,
          0.8931102695066149,
          0.6345013410633477,
          -0.08705043588611751,
          -0.41296039681387836,
          1.6468689809139507,
          -1.2191028264563968,
          0.06846210845743836,
          1.0803348505760164,
          0.3663395830326163,
          -0.3837984909897694,
          -1.7462365995629416,
          0.9324003722594186,
          -0.3038268359150439,
          -0.8786412238263824,
          -1.419891446791575,
          2.163490032952582,
          -0.8058230604185269,
          0.10256406153351981,
          1.1139069699129942,
          0.49417906199734707,
          0.8760823766737829,
          -0.8948518726206427,
          -1.335563279231745,
          -0.27351425817938646,
          -1.6530349045940977,
          0.7796901069802878,
          0.3178371041948017,
          -0.5673257372555445,
          -0.36103792983823196,
          -0.17726997277506898,
          0.24843619696647495,
          -0.05052867323180514,
          -0.4471599049358513,
          -0.21938709534885703,
          -0.39712704411222405,
          1.6087610337457163,
          -0.43113504250683504,
          0.0018928069012562722,
          -0.9713837764015597,
          -0.9711257871443403,
          -1.201135432974757,
          0.6213409054564155,
          -0.3869811372641256,
          -0.2788357101710152,
          -0.20400907384209452,
          1.011917828496073,
          -0.8505328360888009,
          0.2379108955912931,
          0.4591865745990066,
          0.448859440096995,
          0.16970947821971874,
          3.070837746893535,
          0.6488164419269693,
          1.4007575897732754,
          0.17720275317090023,
          -1.0289729246587451,
          0.14937788270135635,
          -1.1679017277463055,
          0.9170428574901506,
          0.5245942932387379,
          -1.2885764393890806
         ],
         "yaxis": "y8"
        },
        {
         "line": {
          "color": "rgba(128, 128, 128, 1.0)",
          "dash": "solid",
          "shape": "linear",
          "width": 1.3
         },
         "marker": {
          "size": 2,
          "symbol": "circle"
         },
         "mode": "markers",
         "name": "C",
         "text": "",
         "type": "scatter",
         "x": [
          -1.286783666232087,
          0.7107277470430434,
          1.2206576987234354,
          2.670689230942479,
          -0.868396268279137,
          -0.7702505222952278,
          0.836826113651275,
          -1.310807545006144,
          -1.1454772976981726,
          -1.205923510011141,
          0.39104120063317915,
          1.480064786672829,
          -0.4371817585516773,
          0.31244387330147083,
          0.9522665120953734,
          -0.9064855359217587,
          0.15128185004249292,
          0.15061151479926002,
          0.2932767331797624,
          0.07523964284633954,
          0.29022474193827164,
          -0.15511464338925918,
          0.6235611994075417,
          0.385198796402805,
          -1.23041158492017,
          0.4146485818376867,
          1.3453276550476518,
          2.2200082297196575,
          0.4843022625460223,
          -0.9052875932660301,
          -1.2911658251962215,
          1.2239386431635257,
          0.5800060939722871,
          0.29463938749835283,
          -0.5274632830251935,
          -0.7462578578754884,
          1.692027647166309,
          -0.09695059770969566,
          0.4881840463183823,
          -0.025688346575201363,
          -1.3490757613768838,
          -0.39677880092704315,
          0.35675258383857994,
          -0.5443711678860995,
          -0.4195900621836775,
          0.6447505960385553,
          -1.0972813689106393,
          -0.07544670673084743,
          -1.680269752499829,
          0.5777182254380486,
          0.8773588872922171,
          -1.2744428237723746,
          0.4707650176747216,
          0.184743927621629,
          1.502286572568263,
          -0.047755807588705734,
          0.12565047824483858,
          -2.8697574169274644,
          -1.7358225932178784,
          -0.6272506704206392,
          -1.4433597294484304,
          2.4317752497855403,
          -1.4322358810549674,
          0.5091222176333856,
          -2.303424236839607,
          1.5614540931799474,
          1.755253217137435,
          -0.8962401197499275,
          0.6858890477096122,
          0.45111826271025357,
          0.3732627172869396,
          -0.11404699509388187,
          0.505163811090925,
          0.9893247964708458,
          1.6802152688092455,
          0.3775054456483596,
          0.5960017865897772,
          1.0021193126559254,
          -0.38771902641273304,
          0.7260151830561632,
          -0.5736145908308646,
          0.5696440774836763,
          -0.08440931256891603,
          1.7580084477921427,
          -0.9032392980072976,
          -1.702458506342066,
          -0.3268225203948594,
          0.24042744103696015,
          0.3251828854999993,
          -0.03164848102043208,
          1.1673040608017295,
          -0.5431973031609296,
          -1.9466362146927483,
          -0.0069860880888541945,
          1.99068233702783,
          -0.048360909178754935,
          0.4008717221536024,
          0.26080632462817355,
          -0.31858331702889736,
          -0.071197295683597
         ],
         "xaxis": "x9",
         "y": [
          0.37396880967063184,
          0.485819109135621,
          -0.6351379982448391,
          0.2741963480308266,
          0.28441154644745953,
          -0.5689584930430098,
          -1.7764037059962785,
          0.6939134036263318,
          -1.0914742699727626,
          1.0095698440273608,
          0.9038298373786826,
          0.45684967147341277,
          -0.8962791345502362,
          1.3612764577772003,
          0.769046148307588,
          0.6432139729219714,
          -0.1755969192591122,
          2.0646430510096456,
          0.32856162509179165,
          -0.45514672532900435,
          -2.0434119509245945,
          -0.22339369216589958,
          -0.4759677637897723,
          0.6879343719088479,
          2.0575370079714554,
          -0.2906158769931298,
          1.6976548541724978,
          -0.8469992960252449,
          -0.13834361912647716,
          -0.0645035615577513,
          0.38652777747444894,
          -1.193652114101707,
          0.13798097726775968,
          0.11739355751733577,
          -0.29005171504076405,
          1.627157188783857,
          -0.2495570014946859,
          -0.9545308102971303,
          0.13259597457059744,
          -0.6151063164608173,
          1.5855852311862595,
          0.3381393618125363,
          -1.6472132904138104,
          -0.2878903051600144,
          -0.5573359078645758,
          -0.2182996588047888,
          -0.4399013980494022,
          0.018500459702916396,
          0.09911511861381764,
          -1.310166314447082,
          -1.011624910552905,
          0.3627672280932037,
          2.1291298144680497,
          -1.1239492659211483,
          1.132863981267986,
          0.228193143647071,
          1.5462397079810524,
          -0.37878613122449806,
          0.694900629886083,
          -1.17025401083286,
          0.9470238842420337,
          0.235975316301273,
          0.3485324740626605,
          -2.5406164262331252,
          -0.08002575297053341,
          -0.11300007122142385,
          -1.3401640072724892,
          0.8417212679546352,
          1.6329062905357954,
          -1.3454419101981803,
          0.9372378100116274,
          2.3832122889079166,
          0.07327306689767413,
          0.17373054974580543,
          -0.6647941881929376,
          -0.00037142532747681123,
          0.7163662020598183,
          0.32191937697929285,
          -0.4296635297447678,
          0.8816471136098253,
          -0.14935605702660373,
          0.151772180187301,
          0.000528971197049543,
          -0.28363103855286514,
          0.2737045895924919,
          0.1699482265529984,
          -1.79500990750334,
          -1.1352030321961761,
          0.3886533963873723,
          1.1369473253097777,
          0.651769135275047,
          -2.6241863552765903,
          1.645556210994583,
          -1.9333901442105705,
          0.20229028335327418,
          -0.3980462068338803,
          1.7856968855129687,
          1.0960542932501087,
          -0.3958576865717353,
          -0.3421841355431247
         ],
         "yaxis": "y9"
        },
        {
         "line": {
          "color": "rgba(128, 128, 128, 1.0)",
          "dash": "solid",
          "shape": "linear",
          "width": 1.3
         },
         "marker": {
          "size": 2,
          "symbol": "circle"
         },
         "mode": "markers",
         "name": "C",
         "text": "",
         "type": "scatter",
         "x": [
          -1.2436419169159714,
          1.5692860019949753,
          -0.26671888492952217,
          0.2815640316896209,
          1.365892470714254,
          -1.0966017811139082,
          -1.7501437821712431,
          -1.819809038953777,
          0.3286795501646575,
          0.420218601730475,
          -0.4526951755973082,
          0.6428374710337051,
          -0.32814944019105596,
          1.9532810324072836,
          -0.8371761679909756,
          -1.50915051301245,
          -0.11553875435854695,
          -0.19808858021679637,
          0.08189178164630723,
          -1.1690479593556529,
          0.5426510623353725,
          -1.569302061901453,
          2.2472868053504014,
          -0.13122045124668472,
          -0.03454840736457979,
          0.004013916643951113,
          0.9156650742937736,
          -1.5630225390944321,
          -0.8692580183140872,
          0.7776652874301425,
          0.37059975574200205,
          -0.9999879818086167,
          0.6016464734009461,
          0.05210885734734563,
          0.10876319643384028,
          0.07223691516760487,
          -0.488979327879292,
          -1.2474974282935567,
          0.30088905771553354,
          0.8931102695066149,
          0.6345013410633477,
          -0.08705043588611751,
          -0.41296039681387836,
          1.6468689809139507,
          -1.2191028264563968,
          0.06846210845743836,
          1.0803348505760164,
          0.3663395830326163,
          -0.3837984909897694,
          -1.7462365995629416,
          0.9324003722594186,
          -0.3038268359150439,
          -0.8786412238263824,
          -1.419891446791575,
          2.163490032952582,
          -0.8058230604185269,
          0.10256406153351981,
          1.1139069699129942,
          0.49417906199734707,
          0.8760823766737829,
          -0.8948518726206427,
          -1.335563279231745,
          -0.27351425817938646,
          -1.6530349045940977,
          0.7796901069802878,
          0.3178371041948017,
          -0.5673257372555445,
          -0.36103792983823196,
          -0.17726997277506898,
          0.24843619696647495,
          -0.05052867323180514,
          -0.4471599049358513,
          -0.21938709534885703,
          -0.39712704411222405,
          1.6087610337457163,
          -0.43113504250683504,
          0.0018928069012562722,
          -0.9713837764015597,
          -0.9711257871443403,
          -1.201135432974757,
          0.6213409054564155,
          -0.3869811372641256,
          -0.2788357101710152,
          -0.20400907384209452,
          1.011917828496073,
          -0.8505328360888009,
          0.2379108955912931,
          0.4591865745990066,
          0.448859440096995,
          0.16970947821971874,
          3.070837746893535,
          0.6488164419269693,
          1.4007575897732754,
          0.17720275317090023,
          -1.0289729246587451,
          0.14937788270135635,
          -1.1679017277463055,
          0.9170428574901506,
          0.5245942932387379,
          -1.2885764393890806
         ],
         "xaxis": "x10",
         "y": [
          0.37396880967063184,
          0.485819109135621,
          -0.6351379982448391,
          0.2741963480308266,
          0.28441154644745953,
          -0.5689584930430098,
          -1.7764037059962785,
          0.6939134036263318,
          -1.0914742699727626,
          1.0095698440273608,
          0.9038298373786826,
          0.45684967147341277,
          -0.8962791345502362,
          1.3612764577772003,
          0.769046148307588,
          0.6432139729219714,
          -0.1755969192591122,
          2.0646430510096456,
          0.32856162509179165,
          -0.45514672532900435,
          -2.0434119509245945,
          -0.22339369216589958,
          -0.4759677637897723,
          0.6879343719088479,
          2.0575370079714554,
          -0.2906158769931298,
          1.6976548541724978,
          -0.8469992960252449,
          -0.13834361912647716,
          -0.0645035615577513,
          0.38652777747444894,
          -1.193652114101707,
          0.13798097726775968,
          0.11739355751733577,
          -0.29005171504076405,
          1.627157188783857,
          -0.2495570014946859,
          -0.9545308102971303,
          0.13259597457059744,
          -0.6151063164608173,
          1.5855852311862595,
          0.3381393618125363,
          -1.6472132904138104,
          -0.2878903051600144,
          -0.5573359078645758,
          -0.2182996588047888,
          -0.4399013980494022,
          0.018500459702916396,
          0.09911511861381764,
          -1.310166314447082,
          -1.011624910552905,
          0.3627672280932037,
          2.1291298144680497,
          -1.1239492659211483,
          1.132863981267986,
          0.228193143647071,
          1.5462397079810524,
          -0.37878613122449806,
          0.694900629886083,
          -1.17025401083286,
          0.9470238842420337,
          0.235975316301273,
          0.3485324740626605,
          -2.5406164262331252,
          -0.08002575297053341,
          -0.11300007122142385,
          -1.3401640072724892,
          0.8417212679546352,
          1.6329062905357954,
          -1.3454419101981803,
          0.9372378100116274,
          2.3832122889079166,
          0.07327306689767413,
          0.17373054974580543,
          -0.6647941881929376,
          -0.00037142532747681123,
          0.7163662020598183,
          0.32191937697929285,
          -0.4296635297447678,
          0.8816471136098253,
          -0.14935605702660373,
          0.151772180187301,
          0.000528971197049543,
          -0.28363103855286514,
          0.2737045895924919,
          0.1699482265529984,
          -1.79500990750334,
          -1.1352030321961761,
          0.3886533963873723,
          1.1369473253097777,
          0.651769135275047,
          -2.6241863552765903,
          1.645556210994583,
          -1.9333901442105705,
          0.20229028335327418,
          -0.3980462068338803,
          1.7856968855129687,
          1.0960542932501087,
          -0.3958576865717353,
          -0.3421841355431247
         ],
         "yaxis": "y10"
        },
        {
         "histfunc": "count",
         "histnorm": "",
         "marker": {
          "color": "rgba(50, 171, 96, 1.0)",
          "line": {
           "color": "#4D5663",
           "width": 1.3
          }
         },
         "name": "C",
         "nbinsx": 10,
         "opacity": 0.8,
         "orientation": "v",
         "type": "histogram",
         "x": [
          0.37396880967063184,
          0.485819109135621,
          -0.6351379982448391,
          0.2741963480308266,
          0.28441154644745953,
          -0.5689584930430098,
          -1.7764037059962785,
          0.6939134036263318,
          -1.0914742699727626,
          1.0095698440273608,
          0.9038298373786826,
          0.45684967147341277,
          -0.8962791345502362,
          1.3612764577772003,
          0.769046148307588,
          0.6432139729219714,
          -0.1755969192591122,
          2.0646430510096456,
          0.32856162509179165,
          -0.45514672532900435,
          -2.0434119509245945,
          -0.22339369216589958,
          -0.4759677637897723,
          0.6879343719088479,
          2.0575370079714554,
          -0.2906158769931298,
          1.6976548541724978,
          -0.8469992960252449,
          -0.13834361912647716,
          -0.0645035615577513,
          0.38652777747444894,
          -1.193652114101707,
          0.13798097726775968,
          0.11739355751733577,
          -0.29005171504076405,
          1.627157188783857,
          -0.2495570014946859,
          -0.9545308102971303,
          0.13259597457059744,
          -0.6151063164608173,
          1.5855852311862595,
          0.3381393618125363,
          -1.6472132904138104,
          -0.2878903051600144,
          -0.5573359078645758,
          -0.2182996588047888,
          -0.4399013980494022,
          0.018500459702916396,
          0.09911511861381764,
          -1.310166314447082,
          -1.011624910552905,
          0.3627672280932037,
          2.1291298144680497,
          -1.1239492659211483,
          1.132863981267986,
          0.228193143647071,
          1.5462397079810524,
          -0.37878613122449806,
          0.694900629886083,
          -1.17025401083286,
          0.9470238842420337,
          0.235975316301273,
          0.3485324740626605,
          -2.5406164262331252,
          -0.08002575297053341,
          -0.11300007122142385,
          -1.3401640072724892,
          0.8417212679546352,
          1.6329062905357954,
          -1.3454419101981803,
          0.9372378100116274,
          2.3832122889079166,
          0.07327306689767413,
          0.17373054974580543,
          -0.6647941881929376,
          -0.00037142532747681123,
          0.7163662020598183,
          0.32191937697929285,
          -0.4296635297447678,
          0.8816471136098253,
          -0.14935605702660373,
          0.151772180187301,
          0.000528971197049543,
          -0.28363103855286514,
          0.2737045895924919,
          0.1699482265529984,
          -1.79500990750334,
          -1.1352030321961761,
          0.3886533963873723,
          1.1369473253097777,
          0.651769135275047,
          -2.6241863552765903,
          1.645556210994583,
          -1.9333901442105705,
          0.20229028335327418,
          -0.3980462068338803,
          1.7856968855129687,
          1.0960542932501087,
          -0.3958576865717353,
          -0.3421841355431247
         ],
         "xaxis": "x11",
         "yaxis": "y11"
        },
        {
         "line": {
          "color": "rgba(128, 128, 128, 1.0)",
          "dash": "solid",
          "shape": "linear",
          "width": 1.3
         },
         "marker": {
          "size": 2,
          "symbol": "circle"
         },
         "mode": "markers",
         "name": "C",
         "text": "",
         "type": "scatter",
         "x": [
          0.10019236738679081,
          -0.40841508789911957,
          1.0880229661305265,
          0.8652643944491681,
          1.3813365573972627,
          -0.169563633595409,
          0.038547582019666356,
          0.9351786616657,
          -1.0904950978675008,
          0.19268230113792,
          0.1530437529903397,
          -0.9610632000620131,
          -0.5038638512539662,
          -0.02868819597412543,
          -1.2335143536151583,
          1.1044638647618985,
          -0.6527092429430541,
          -0.8502834548902157,
          -0.40308864747020284,
          1.4624063406367676,
          1.3030882168079807,
          0.5241584507546425,
          0.6897611065671335,
          0.23926206221512422,
          0.24550106500734678,
          0.6909064800055937,
          -0.1673623231286305,
          0.7936079202105257,
          1.8199648806134523,
          0.301111283765011,
          1.0641146030563275,
          0.6448701953770855,
          0.2251783887729817,
          -0.9507188720770672,
          -0.7093120654633488,
          1.089640515089958,
          1.2809723177519126,
          -0.29213577576302396,
          0.8401524823296217,
          1.3612755483625067,
          -0.7887741864274915,
          0.07124897413292046,
          -1.3512883291770754,
          -0.10483471513171659,
          -1.5414038063267268,
          0.7332792909199604,
          -0.4939546441889498,
          -0.8235826072554355,
          -2.3004448240965285,
          0.2490397916340618,
          -0.5990708012169211,
          -1.2344307225948057,
          -0.8966920186126316,
          -0.47663875979347725,
          1.1507271840045061,
          0.7421092404767009,
          -0.5914113744398791,
          0.6548386359286849,
          -0.33790160370389055,
          0.03533295024022777,
          0.8938341719693075,
          1.3743900300018788,
          -1.3341019341955622,
          1.875743005624606,
          -1.0055707978403516,
          -1.6601376077024619,
          -1.3046740142778521,
          -1.018030650858319,
          0.17082439143206524,
          -1.8726614680965534,
          0.3032064240152828,
          1.3407798761113288,
          -0.8363083792726096,
          0.23864738387964837,
          0.47506377189916993,
          -1.1069809945297964,
          -0.08375769526089903,
          0.32085502528923615,
          0.24797469587709156,
          0.13233284186777314,
          -0.5749664374502748,
          0.18924251545318685,
          -1.85326268569658,
          -2.1190778632475866,
          -0.28196115986216985,
          0.5524679622264345,
          1.4420384970602615,
          -0.09627353663918234,
          -1.0522201787108096,
          0.279740918763895,
          0.09830663201071498,
          -0.2133013467076015,
          1.3106378629150464,
          -1.2637309305944364,
          -0.16618105889914972,
          -0.9608995743323465,
          -0.698163313743797,
          1.6340863943666697,
          -0.5120062660189111,
          -1.3500981293658665
         ],
         "xaxis": "x12",
         "y": [
          0.37396880967063184,
          0.485819109135621,
          -0.6351379982448391,
          0.2741963480308266,
          0.28441154644745953,
          -0.5689584930430098,
          -1.7764037059962785,
          0.6939134036263318,
          -1.0914742699727626,
          1.0095698440273608,
          0.9038298373786826,
          0.45684967147341277,
          -0.8962791345502362,
          1.3612764577772003,
          0.769046148307588,
          0.6432139729219714,
          -0.1755969192591122,
          2.0646430510096456,
          0.32856162509179165,
          -0.45514672532900435,
          -2.0434119509245945,
          -0.22339369216589958,
          -0.4759677637897723,
          0.6879343719088479,
          2.0575370079714554,
          -0.2906158769931298,
          1.6976548541724978,
          -0.8469992960252449,
          -0.13834361912647716,
          -0.0645035615577513,
          0.38652777747444894,
          -1.193652114101707,
          0.13798097726775968,
          0.11739355751733577,
          -0.29005171504076405,
          1.627157188783857,
          -0.2495570014946859,
          -0.9545308102971303,
          0.13259597457059744,
          -0.6151063164608173,
          1.5855852311862595,
          0.3381393618125363,
          -1.6472132904138104,
          -0.2878903051600144,
          -0.5573359078645758,
          -0.2182996588047888,
          -0.4399013980494022,
          0.018500459702916396,
          0.09911511861381764,
          -1.310166314447082,
          -1.011624910552905,
          0.3627672280932037,
          2.1291298144680497,
          -1.1239492659211483,
          1.132863981267986,
          0.228193143647071,
          1.5462397079810524,
          -0.37878613122449806,
          0.694900629886083,
          -1.17025401083286,
          0.9470238842420337,
          0.235975316301273,
          0.3485324740626605,
          -2.5406164262331252,
          -0.08002575297053341,
          -0.11300007122142385,
          -1.3401640072724892,
          0.8417212679546352,
          1.6329062905357954,
          -1.3454419101981803,
          0.9372378100116274,
          2.3832122889079166,
          0.07327306689767413,
          0.17373054974580543,
          -0.6647941881929376,
          -0.00037142532747681123,
          0.7163662020598183,
          0.32191937697929285,
          -0.4296635297447678,
          0.8816471136098253,
          -0.14935605702660373,
          0.151772180187301,
          0.000528971197049543,
          -0.28363103855286514,
          0.2737045895924919,
          0.1699482265529984,
          -1.79500990750334,
          -1.1352030321961761,
          0.3886533963873723,
          1.1369473253097777,
          0.651769135275047,
          -2.6241863552765903,
          1.645556210994583,
          -1.9333901442105705,
          0.20229028335327418,
          -0.3980462068338803,
          1.7856968855129687,
          1.0960542932501087,
          -0.3958576865717353,
          -0.3421841355431247
         ],
         "yaxis": "y12"
        },
        {
         "line": {
          "color": "rgba(128, 128, 128, 1.0)",
          "dash": "solid",
          "shape": "linear",
          "width": 1.3
         },
         "marker": {
          "size": 2,
          "symbol": "circle"
         },
         "mode": "markers",
         "name": "D",
         "text": "",
         "type": "scatter",
         "x": [
          -1.286783666232087,
          0.7107277470430434,
          1.2206576987234354,
          2.670689230942479,
          -0.868396268279137,
          -0.7702505222952278,
          0.836826113651275,
          -1.310807545006144,
          -1.1454772976981726,
          -1.205923510011141,
          0.39104120063317915,
          1.480064786672829,
          -0.4371817585516773,
          0.31244387330147083,
          0.9522665120953734,
          -0.9064855359217587,
          0.15128185004249292,
          0.15061151479926002,
          0.2932767331797624,
          0.07523964284633954,
          0.29022474193827164,
          -0.15511464338925918,
          0.6235611994075417,
          0.385198796402805,
          -1.23041158492017,
          0.4146485818376867,
          1.3453276550476518,
          2.2200082297196575,
          0.4843022625460223,
          -0.9052875932660301,
          -1.2911658251962215,
          1.2239386431635257,
          0.5800060939722871,
          0.29463938749835283,
          -0.5274632830251935,
          -0.7462578578754884,
          1.692027647166309,
          -0.09695059770969566,
          0.4881840463183823,
          -0.025688346575201363,
          -1.3490757613768838,
          -0.39677880092704315,
          0.35675258383857994,
          -0.5443711678860995,
          -0.4195900621836775,
          0.6447505960385553,
          -1.0972813689106393,
          -0.07544670673084743,
          -1.680269752499829,
          0.5777182254380486,
          0.8773588872922171,
          -1.2744428237723746,
          0.4707650176747216,
          0.184743927621629,
          1.502286572568263,
          -0.047755807588705734,
          0.12565047824483858,
          -2.8697574169274644,
          -1.7358225932178784,
          -0.6272506704206392,
          -1.4433597294484304,
          2.4317752497855403,
          -1.4322358810549674,
          0.5091222176333856,
          -2.303424236839607,
          1.5614540931799474,
          1.755253217137435,
          -0.8962401197499275,
          0.6858890477096122,
          0.45111826271025357,
          0.3732627172869396,
          -0.11404699509388187,
          0.505163811090925,
          0.9893247964708458,
          1.6802152688092455,
          0.3775054456483596,
          0.5960017865897772,
          1.0021193126559254,
          -0.38771902641273304,
          0.7260151830561632,
          -0.5736145908308646,
          0.5696440774836763,
          -0.08440931256891603,
          1.7580084477921427,
          -0.9032392980072976,
          -1.702458506342066,
          -0.3268225203948594,
          0.24042744103696015,
          0.3251828854999993,
          -0.03164848102043208,
          1.1673040608017295,
          -0.5431973031609296,
          -1.9466362146927483,
          -0.0069860880888541945,
          1.99068233702783,
          -0.048360909178754935,
          0.4008717221536024,
          0.26080632462817355,
          -0.31858331702889736,
          -0.071197295683597
         ],
         "xaxis": "x13",
         "y": [
          0.10019236738679081,
          -0.40841508789911957,
          1.0880229661305265,
          0.8652643944491681,
          1.3813365573972627,
          -0.169563633595409,
          0.038547582019666356,
          0.9351786616657,
          -1.0904950978675008,
          0.19268230113792,
          0.1530437529903397,
          -0.9610632000620131,
          -0.5038638512539662,
          -0.02868819597412543,
          -1.2335143536151583,
          1.1044638647618985,
          -0.6527092429430541,
          -0.8502834548902157,
          -0.40308864747020284,
          1.4624063406367676,
          1.3030882168079807,
          0.5241584507546425,
          0.6897611065671335,
          0.23926206221512422,
          0.24550106500734678,
          0.6909064800055937,
          -0.1673623231286305,
          0.7936079202105257,
          1.8199648806134523,
          0.301111283765011,
          1.0641146030563275,
          0.6448701953770855,
          0.2251783887729817,
          -0.9507188720770672,
          -0.7093120654633488,
          1.089640515089958,
          1.2809723177519126,
          -0.29213577576302396,
          0.8401524823296217,
          1.3612755483625067,
          -0.7887741864274915,
          0.07124897413292046,
          -1.3512883291770754,
          -0.10483471513171659,
          -1.5414038063267268,
          0.7332792909199604,
          -0.4939546441889498,
          -0.8235826072554355,
          -2.3004448240965285,
          0.2490397916340618,
          -0.5990708012169211,
          -1.2344307225948057,
          -0.8966920186126316,
          -0.47663875979347725,
          1.1507271840045061,
          0.7421092404767009,
          -0.5914113744398791,
          0.6548386359286849,
          -0.33790160370389055,
          0.03533295024022777,
          0.8938341719693075,
          1.3743900300018788,
          -1.3341019341955622,
          1.875743005624606,
          -1.0055707978403516,
          -1.6601376077024619,
          -1.3046740142778521,
          -1.018030650858319,
          0.17082439143206524,
          -1.8726614680965534,
          0.3032064240152828,
          1.3407798761113288,
          -0.8363083792726096,
          0.23864738387964837,
          0.47506377189916993,
          -1.1069809945297964,
          -0.08375769526089903,
          0.32085502528923615,
          0.24797469587709156,
          0.13233284186777314,
          -0.5749664374502748,
          0.18924251545318685,
          -1.85326268569658,
          -2.1190778632475866,
          -0.28196115986216985,
          0.5524679622264345,
          1.4420384970602615,
          -0.09627353663918234,
          -1.0522201787108096,
          0.279740918763895,
          0.09830663201071498,
          -0.2133013467076015,
          1.3106378629150464,
          -1.2637309305944364,
          -0.16618105889914972,
          -0.9608995743323465,
          -0.698163313743797,
          1.6340863943666697,
          -0.5120062660189111,
          -1.3500981293658665
         ],
         "yaxis": "y13"
        },
        {
         "line": {
          "color": "rgba(128, 128, 128, 1.0)",
          "dash": "solid",
          "shape": "linear",
          "width": 1.3
         },
         "marker": {
          "size": 2,
          "symbol": "circle"
         },
         "mode": "markers",
         "name": "D",
         "text": "",
         "type": "scatter",
         "x": [
          -1.2436419169159714,
          1.5692860019949753,
          -0.26671888492952217,
          0.2815640316896209,
          1.365892470714254,
          -1.0966017811139082,
          -1.7501437821712431,
          -1.819809038953777,
          0.3286795501646575,
          0.420218601730475,
          -0.4526951755973082,
          0.6428374710337051,
          -0.32814944019105596,
          1.9532810324072836,
          -0.8371761679909756,
          -1.50915051301245,
          -0.11553875435854695,
          -0.19808858021679637,
          0.08189178164630723,
          -1.1690479593556529,
          0.5426510623353725,
          -1.569302061901453,
          2.2472868053504014,
          -0.13122045124668472,
          -0.03454840736457979,
          0.004013916643951113,
          0.9156650742937736,
          -1.5630225390944321,
          -0.8692580183140872,
          0.7776652874301425,
          0.37059975574200205,
          -0.9999879818086167,
          0.6016464734009461,
          0.05210885734734563,
          0.10876319643384028,
          0.07223691516760487,
          -0.488979327879292,
          -1.2474974282935567,
          0.30088905771553354,
          0.8931102695066149,
          0.6345013410633477,
          -0.08705043588611751,
          -0.41296039681387836,
          1.6468689809139507,
          -1.2191028264563968,
          0.06846210845743836,
          1.0803348505760164,
          0.3663395830326163,
          -0.3837984909897694,
          -1.7462365995629416,
          0.9324003722594186,
          -0.3038268359150439,
          -0.8786412238263824,
          -1.419891446791575,
          2.163490032952582,
          -0.8058230604185269,
          0.10256406153351981,
          1.1139069699129942,
          0.49417906199734707,
          0.8760823766737829,
          -0.8948518726206427,
          -1.335563279231745,
          -0.27351425817938646,
          -1.6530349045940977,
          0.7796901069802878,
          0.3178371041948017,
          -0.5673257372555445,
          -0.36103792983823196,
          -0.17726997277506898,
          0.24843619696647495,
          -0.05052867323180514,
          -0.4471599049358513,
          -0.21938709534885703,
          -0.39712704411222405,
          1.6087610337457163,
          -0.43113504250683504,
          0.0018928069012562722,
          -0.9713837764015597,
          -0.9711257871443403,
          -1.201135432974757,
          0.6213409054564155,
          -0.3869811372641256,
          -0.2788357101710152,
          -0.20400907384209452,
          1.011917828496073,
          -0.8505328360888009,
          0.2379108955912931,
          0.4591865745990066,
          0.448859440096995,
          0.16970947821971874,
          3.070837746893535,
          0.6488164419269693,
          1.4007575897732754,
          0.17720275317090023,
          -1.0289729246587451,
          0.14937788270135635,
          -1.1679017277463055,
          0.9170428574901506,
          0.5245942932387379,
          -1.2885764393890806
         ],
         "xaxis": "x14",
         "y": [
          0.10019236738679081,
          -0.40841508789911957,
          1.0880229661305265,
          0.8652643944491681,
          1.3813365573972627,
          -0.169563633595409,
          0.038547582019666356,
          0.9351786616657,
          -1.0904950978675008,
          0.19268230113792,
          0.1530437529903397,
          -0.9610632000620131,
          -0.5038638512539662,
          -0.02868819597412543,
          -1.2335143536151583,
          1.1044638647618985,
          -0.6527092429430541,
          -0.8502834548902157,
          -0.40308864747020284,
          1.4624063406367676,
          1.3030882168079807,
          0.5241584507546425,
          0.6897611065671335,
          0.23926206221512422,
          0.24550106500734678,
          0.6909064800055937,
          -0.1673623231286305,
          0.7936079202105257,
          1.8199648806134523,
          0.301111283765011,
          1.0641146030563275,
          0.6448701953770855,
          0.2251783887729817,
          -0.9507188720770672,
          -0.7093120654633488,
          1.089640515089958,
          1.2809723177519126,
          -0.29213577576302396,
          0.8401524823296217,
          1.3612755483625067,
          -0.7887741864274915,
          0.07124897413292046,
          -1.3512883291770754,
          -0.10483471513171659,
          -1.5414038063267268,
          0.7332792909199604,
          -0.4939546441889498,
          -0.8235826072554355,
          -2.3004448240965285,
          0.2490397916340618,
          -0.5990708012169211,
          -1.2344307225948057,
          -0.8966920186126316,
          -0.47663875979347725,
          1.1507271840045061,
          0.7421092404767009,
          -0.5914113744398791,
          0.6548386359286849,
          -0.33790160370389055,
          0.03533295024022777,
          0.8938341719693075,
          1.3743900300018788,
          -1.3341019341955622,
          1.875743005624606,
          -1.0055707978403516,
          -1.6601376077024619,
          -1.3046740142778521,
          -1.018030650858319,
          0.17082439143206524,
          -1.8726614680965534,
          0.3032064240152828,
          1.3407798761113288,
          -0.8363083792726096,
          0.23864738387964837,
          0.47506377189916993,
          -1.1069809945297964,
          -0.08375769526089903,
          0.32085502528923615,
          0.24797469587709156,
          0.13233284186777314,
          -0.5749664374502748,
          0.18924251545318685,
          -1.85326268569658,
          -2.1190778632475866,
          -0.28196115986216985,
          0.5524679622264345,
          1.4420384970602615,
          -0.09627353663918234,
          -1.0522201787108096,
          0.279740918763895,
          0.09830663201071498,
          -0.2133013467076015,
          1.3106378629150464,
          -1.2637309305944364,
          -0.16618105889914972,
          -0.9608995743323465,
          -0.698163313743797,
          1.6340863943666697,
          -0.5120062660189111,
          -1.3500981293658665
         ],
         "yaxis": "y14"
        },
        {
         "line": {
          "color": "rgba(128, 128, 128, 1.0)",
          "dash": "solid",
          "shape": "linear",
          "width": 1.3
         },
         "marker": {
          "size": 2,
          "symbol": "circle"
         },
         "mode": "markers",
         "name": "D",
         "text": "",
         "type": "scatter",
         "x": [
          0.37396880967063184,
          0.485819109135621,
          -0.6351379982448391,
          0.2741963480308266,
          0.28441154644745953,
          -0.5689584930430098,
          -1.7764037059962785,
          0.6939134036263318,
          -1.0914742699727626,
          1.0095698440273608,
          0.9038298373786826,
          0.45684967147341277,
          -0.8962791345502362,
          1.3612764577772003,
          0.769046148307588,
          0.6432139729219714,
          -0.1755969192591122,
          2.0646430510096456,
          0.32856162509179165,
          -0.45514672532900435,
          -2.0434119509245945,
          -0.22339369216589958,
          -0.4759677637897723,
          0.6879343719088479,
          2.0575370079714554,
          -0.2906158769931298,
          1.6976548541724978,
          -0.8469992960252449,
          -0.13834361912647716,
          -0.0645035615577513,
          0.38652777747444894,
          -1.193652114101707,
          0.13798097726775968,
          0.11739355751733577,
          -0.29005171504076405,
          1.627157188783857,
          -0.2495570014946859,
          -0.9545308102971303,
          0.13259597457059744,
          -0.6151063164608173,
          1.5855852311862595,
          0.3381393618125363,
          -1.6472132904138104,
          -0.2878903051600144,
          -0.5573359078645758,
          -0.2182996588047888,
          -0.4399013980494022,
          0.018500459702916396,
          0.09911511861381764,
          -1.310166314447082,
          -1.011624910552905,
          0.3627672280932037,
          2.1291298144680497,
          -1.1239492659211483,
          1.132863981267986,
          0.228193143647071,
          1.5462397079810524,
          -0.37878613122449806,
          0.694900629886083,
          -1.17025401083286,
          0.9470238842420337,
          0.235975316301273,
          0.3485324740626605,
          -2.5406164262331252,
          -0.08002575297053341,
          -0.11300007122142385,
          -1.3401640072724892,
          0.8417212679546352,
          1.6329062905357954,
          -1.3454419101981803,
          0.9372378100116274,
          2.3832122889079166,
          0.07327306689767413,
          0.17373054974580543,
          -0.6647941881929376,
          -0.00037142532747681123,
          0.7163662020598183,
          0.32191937697929285,
          -0.4296635297447678,
          0.8816471136098253,
          -0.14935605702660373,
          0.151772180187301,
          0.000528971197049543,
          -0.28363103855286514,
          0.2737045895924919,
          0.1699482265529984,
          -1.79500990750334,
          -1.1352030321961761,
          0.3886533963873723,
          1.1369473253097777,
          0.651769135275047,
          -2.6241863552765903,
          1.645556210994583,
          -1.9333901442105705,
          0.20229028335327418,
          -0.3980462068338803,
          1.7856968855129687,
          1.0960542932501087,
          -0.3958576865717353,
          -0.3421841355431247
         ],
         "xaxis": "x15",
         "y": [
          0.10019236738679081,
          -0.40841508789911957,
          1.0880229661305265,
          0.8652643944491681,
          1.3813365573972627,
          -0.169563633595409,
          0.038547582019666356,
          0.9351786616657,
          -1.0904950978675008,
          0.19268230113792,
          0.1530437529903397,
          -0.9610632000620131,
          -0.5038638512539662,
          -0.02868819597412543,
          -1.2335143536151583,
          1.1044638647618985,
          -0.6527092429430541,
          -0.8502834548902157,
          -0.40308864747020284,
          1.4624063406367676,
          1.3030882168079807,
          0.5241584507546425,
          0.6897611065671335,
          0.23926206221512422,
          0.24550106500734678,
          0.6909064800055937,
          -0.1673623231286305,
          0.7936079202105257,
          1.8199648806134523,
          0.301111283765011,
          1.0641146030563275,
          0.6448701953770855,
          0.2251783887729817,
          -0.9507188720770672,
          -0.7093120654633488,
          1.089640515089958,
          1.2809723177519126,
          -0.29213577576302396,
          0.8401524823296217,
          1.3612755483625067,
          -0.7887741864274915,
          0.07124897413292046,
          -1.3512883291770754,
          -0.10483471513171659,
          -1.5414038063267268,
          0.7332792909199604,
          -0.4939546441889498,
          -0.8235826072554355,
          -2.3004448240965285,
          0.2490397916340618,
          -0.5990708012169211,
          -1.2344307225948057,
          -0.8966920186126316,
          -0.47663875979347725,
          1.1507271840045061,
          0.7421092404767009,
          -0.5914113744398791,
          0.6548386359286849,
          -0.33790160370389055,
          0.03533295024022777,
          0.8938341719693075,
          1.3743900300018788,
          -1.3341019341955622,
          1.875743005624606,
          -1.0055707978403516,
          -1.6601376077024619,
          -1.3046740142778521,
          -1.018030650858319,
          0.17082439143206524,
          -1.8726614680965534,
          0.3032064240152828,
          1.3407798761113288,
          -0.8363083792726096,
          0.23864738387964837,
          0.47506377189916993,
          -1.1069809945297964,
          -0.08375769526089903,
          0.32085502528923615,
          0.24797469587709156,
          0.13233284186777314,
          -0.5749664374502748,
          0.18924251545318685,
          -1.85326268569658,
          -2.1190778632475866,
          -0.28196115986216985,
          0.5524679622264345,
          1.4420384970602615,
          -0.09627353663918234,
          -1.0522201787108096,
          0.279740918763895,
          0.09830663201071498,
          -0.2133013467076015,
          1.3106378629150464,
          -1.2637309305944364,
          -0.16618105889914972,
          -0.9608995743323465,
          -0.698163313743797,
          1.6340863943666697,
          -0.5120062660189111,
          -1.3500981293658665
         ],
         "yaxis": "y15"
        },
        {
         "histfunc": "count",
         "histnorm": "",
         "marker": {
          "color": "rgba(128, 0, 128, 1.0)",
          "line": {
           "color": "#4D5663",
           "width": 1.3
          }
         },
         "name": "D",
         "nbinsx": 10,
         "opacity": 0.8,
         "orientation": "v",
         "type": "histogram",
         "x": [
          0.10019236738679081,
          -0.40841508789911957,
          1.0880229661305265,
          0.8652643944491681,
          1.3813365573972627,
          -0.169563633595409,
          0.038547582019666356,
          0.9351786616657,
          -1.0904950978675008,
          0.19268230113792,
          0.1530437529903397,
          -0.9610632000620131,
          -0.5038638512539662,
          -0.02868819597412543,
          -1.2335143536151583,
          1.1044638647618985,
          -0.6527092429430541,
          -0.8502834548902157,
          -0.40308864747020284,
          1.4624063406367676,
          1.3030882168079807,
          0.5241584507546425,
          0.6897611065671335,
          0.23926206221512422,
          0.24550106500734678,
          0.6909064800055937,
          -0.1673623231286305,
          0.7936079202105257,
          1.8199648806134523,
          0.301111283765011,
          1.0641146030563275,
          0.6448701953770855,
          0.2251783887729817,
          -0.9507188720770672,
          -0.7093120654633488,
          1.089640515089958,
          1.2809723177519126,
          -0.29213577576302396,
          0.8401524823296217,
          1.3612755483625067,
          -0.7887741864274915,
          0.07124897413292046,
          -1.3512883291770754,
          -0.10483471513171659,
          -1.5414038063267268,
          0.7332792909199604,
          -0.4939546441889498,
          -0.8235826072554355,
          -2.3004448240965285,
          0.2490397916340618,
          -0.5990708012169211,
          -1.2344307225948057,
          -0.8966920186126316,
          -0.47663875979347725,
          1.1507271840045061,
          0.7421092404767009,
          -0.5914113744398791,
          0.6548386359286849,
          -0.33790160370389055,
          0.03533295024022777,
          0.8938341719693075,
          1.3743900300018788,
          -1.3341019341955622,
          1.875743005624606,
          -1.0055707978403516,
          -1.6601376077024619,
          -1.3046740142778521,
          -1.018030650858319,
          0.17082439143206524,
          -1.8726614680965534,
          0.3032064240152828,
          1.3407798761113288,
          -0.8363083792726096,
          0.23864738387964837,
          0.47506377189916993,
          -1.1069809945297964,
          -0.08375769526089903,
          0.32085502528923615,
          0.24797469587709156,
          0.13233284186777314,
          -0.5749664374502748,
          0.18924251545318685,
          -1.85326268569658,
          -2.1190778632475866,
          -0.28196115986216985,
          0.5524679622264345,
          1.4420384970602615,
          -0.09627353663918234,
          -1.0522201787108096,
          0.279740918763895,
          0.09830663201071498,
          -0.2133013467076015,
          1.3106378629150464,
          -1.2637309305944364,
          -0.16618105889914972,
          -0.9608995743323465,
          -0.698163313743797,
          1.6340863943666697,
          -0.5120062660189111,
          -1.3500981293658665
         ],
         "xaxis": "x16",
         "yaxis": "y16"
        }
       ],
       "layout": {
        "bargap": 0.02,
        "legend": {
         "bgcolor": "#F5F6F9",
         "font": {
          "color": "#4D5663"
         }
        },
        "paper_bgcolor": "#F5F6F9",
        "plot_bgcolor": "#F5F6F9",
        "showlegend": false,
        "template": {
         "data": {
          "bar": [
           {
            "error_x": {
             "color": "#2a3f5f"
            },
            "error_y": {
             "color": "#2a3f5f"
            },
            "marker": {
             "line": {
              "color": "#E5ECF6",
              "width": 0.5
             }
            },
            "type": "bar"
           }
          ],
          "barpolar": [
           {
            "marker": {
             "line": {
              "color": "#E5ECF6",
              "width": 0.5
             }
            },
            "type": "barpolar"
           }
          ],
          "carpet": [
           {
            "aaxis": {
             "endlinecolor": "#2a3f5f",
             "gridcolor": "white",
             "linecolor": "white",
             "minorgridcolor": "white",
             "startlinecolor": "#2a3f5f"
            },
            "baxis": {
             "endlinecolor": "#2a3f5f",
             "gridcolor": "white",
             "linecolor": "white",
             "minorgridcolor": "white",
             "startlinecolor": "#2a3f5f"
            },
            "type": "carpet"
           }
          ],
          "choropleth": [
           {
            "colorbar": {
             "outlinewidth": 0,
             "ticks": ""
            },
            "type": "choropleth"
           }
          ],
          "contour": [
           {
            "colorbar": {
             "outlinewidth": 0,
             "ticks": ""
            },
            "colorscale": [
             [
              0,
              "#0d0887"
             ],
             [
              0.1111111111111111,
              "#46039f"
             ],
             [
              0.2222222222222222,
              "#7201a8"
             ],
             [
              0.3333333333333333,
              "#9c179e"
             ],
             [
              0.4444444444444444,
              "#bd3786"
             ],
             [
              0.5555555555555556,
              "#d8576b"
             ],
             [
              0.6666666666666666,
              "#ed7953"
             ],
             [
              0.7777777777777778,
              "#fb9f3a"
             ],
             [
              0.8888888888888888,
              "#fdca26"
             ],
             [
              1,
              "#f0f921"
             ]
            ],
            "type": "contour"
           }
          ],
          "contourcarpet": [
           {
            "colorbar": {
             "outlinewidth": 0,
             "ticks": ""
            },
            "type": "contourcarpet"
           }
          ],
          "heatmap": [
           {
            "colorbar": {
             "outlinewidth": 0,
             "ticks": ""
            },
            "colorscale": [
             [
              0,
              "#0d0887"
             ],
             [
              0.1111111111111111,
              "#46039f"
             ],
             [
              0.2222222222222222,
              "#7201a8"
             ],
             [
              0.3333333333333333,
              "#9c179e"
             ],
             [
              0.4444444444444444,
              "#bd3786"
             ],
             [
              0.5555555555555556,
              "#d8576b"
             ],
             [
              0.6666666666666666,
              "#ed7953"
             ],
             [
              0.7777777777777778,
              "#fb9f3a"
             ],
             [
              0.8888888888888888,
              "#fdca26"
             ],
             [
              1,
              "#f0f921"
             ]
            ],
            "type": "heatmap"
           }
          ],
          "heatmapgl": [
           {
            "colorbar": {
             "outlinewidth": 0,
             "ticks": ""
            },
            "colorscale": [
             [
              0,
              "#0d0887"
             ],
             [
              0.1111111111111111,
              "#46039f"
             ],
             [
              0.2222222222222222,
              "#7201a8"
             ],
             [
              0.3333333333333333,
              "#9c179e"
             ],
             [
              0.4444444444444444,
              "#bd3786"
             ],
             [
              0.5555555555555556,
              "#d8576b"
             ],
             [
              0.6666666666666666,
              "#ed7953"
             ],
             [
              0.7777777777777778,
              "#fb9f3a"
             ],
             [
              0.8888888888888888,
              "#fdca26"
             ],
             [
              1,
              "#f0f921"
             ]
            ],
            "type": "heatmapgl"
           }
          ],
          "histogram": [
           {
            "marker": {
             "colorbar": {
              "outlinewidth": 0,
              "ticks": ""
             }
            },
            "type": "histogram"
           }
          ],
          "histogram2d": [
           {
            "colorbar": {
             "outlinewidth": 0,
             "ticks": ""
            },
            "colorscale": [
             [
              0,
              "#0d0887"
             ],
             [
              0.1111111111111111,
              "#46039f"
             ],
             [
              0.2222222222222222,
              "#7201a8"
             ],
             [
              0.3333333333333333,
              "#9c179e"
             ],
             [
              0.4444444444444444,
              "#bd3786"
             ],
             [
              0.5555555555555556,
              "#d8576b"
             ],
             [
              0.6666666666666666,
              "#ed7953"
             ],
             [
              0.7777777777777778,
              "#fb9f3a"
             ],
             [
              0.8888888888888888,
              "#fdca26"
             ],
             [
              1,
              "#f0f921"
             ]
            ],
            "type": "histogram2d"
           }
          ],
          "histogram2dcontour": [
           {
            "colorbar": {
             "outlinewidth": 0,
             "ticks": ""
            },
            "colorscale": [
             [
              0,
              "#0d0887"
             ],
             [
              0.1111111111111111,
              "#46039f"
             ],
             [
              0.2222222222222222,
              "#7201a8"
             ],
             [
              0.3333333333333333,
              "#9c179e"
             ],
             [
              0.4444444444444444,
              "#bd3786"
             ],
             [
              0.5555555555555556,
              "#d8576b"
             ],
             [
              0.6666666666666666,
              "#ed7953"
             ],
             [
              0.7777777777777778,
              "#fb9f3a"
             ],
             [
              0.8888888888888888,
              "#fdca26"
             ],
             [
              1,
              "#f0f921"
             ]
            ],
            "type": "histogram2dcontour"
           }
          ],
          "mesh3d": [
           {
            "colorbar": {
             "outlinewidth": 0,
             "ticks": ""
            },
            "type": "mesh3d"
           }
          ],
          "parcoords": [
           {
            "line": {
             "colorbar": {
              "outlinewidth": 0,
              "ticks": ""
             }
            },
            "type": "parcoords"
           }
          ],
          "pie": [
           {
            "automargin": true,
            "type": "pie"
           }
          ],
          "scatter": [
           {
            "marker": {
             "colorbar": {
              "outlinewidth": 0,
              "ticks": ""
             }
            },
            "type": "scatter"
           }
          ],
          "scatter3d": [
           {
            "line": {
             "colorbar": {
              "outlinewidth": 0,
              "ticks": ""
             }
            },
            "marker": {
             "colorbar": {
              "outlinewidth": 0,
              "ticks": ""
             }
            },
            "type": "scatter3d"
           }
          ],
          "scattercarpet": [
           {
            "marker": {
             "colorbar": {
              "outlinewidth": 0,
              "ticks": ""
             }
            },
            "type": "scattercarpet"
           }
          ],
          "scattergeo": [
           {
            "marker": {
             "colorbar": {
              "outlinewidth": 0,
              "ticks": ""
             }
            },
            "type": "scattergeo"
           }
          ],
          "scattergl": [
           {
            "marker": {
             "colorbar": {
              "outlinewidth": 0,
              "ticks": ""
             }
            },
            "type": "scattergl"
           }
          ],
          "scattermapbox": [
           {
            "marker": {
             "colorbar": {
              "outlinewidth": 0,
              "ticks": ""
             }
            },
            "type": "scattermapbox"
           }
          ],
          "scatterpolar": [
           {
            "marker": {
             "colorbar": {
              "outlinewidth": 0,
              "ticks": ""
             }
            },
            "type": "scatterpolar"
           }
          ],
          "scatterpolargl": [
           {
            "marker": {
             "colorbar": {
              "outlinewidth": 0,
              "ticks": ""
             }
            },
            "type": "scatterpolargl"
           }
          ],
          "scatterternary": [
           {
            "marker": {
             "colorbar": {
              "outlinewidth": 0,
              "ticks": ""
             }
            },
            "type": "scatterternary"
           }
          ],
          "surface": [
           {
            "colorbar": {
             "outlinewidth": 0,
             "ticks": ""
            },
            "colorscale": [
             [
              0,
              "#0d0887"
             ],
             [
              0.1111111111111111,
              "#46039f"
             ],
             [
              0.2222222222222222,
              "#7201a8"
             ],
             [
              0.3333333333333333,
              "#9c179e"
             ],
             [
              0.4444444444444444,
              "#bd3786"
             ],
             [
              0.5555555555555556,
              "#d8576b"
             ],
             [
              0.6666666666666666,
              "#ed7953"
             ],
             [
              0.7777777777777778,
              "#fb9f3a"
             ],
             [
              0.8888888888888888,
              "#fdca26"
             ],
             [
              1,
              "#f0f921"
             ]
            ],
            "type": "surface"
           }
          ],
          "table": [
           {
            "cells": {
             "fill": {
              "color": "#EBF0F8"
             },
             "line": {
              "color": "white"
             }
            },
            "header": {
             "fill": {
              "color": "#C8D4E3"
             },
             "line": {
              "color": "white"
             }
            },
            "type": "table"
           }
          ]
         },
         "layout": {
          "annotationdefaults": {
           "arrowcolor": "#2a3f5f",
           "arrowhead": 0,
           "arrowwidth": 1
          },
          "autotypenumbers": "strict",
          "coloraxis": {
           "colorbar": {
            "outlinewidth": 0,
            "ticks": ""
           }
          },
          "colorscale": {
           "diverging": [
            [
             0,
             "#8e0152"
            ],
            [
             0.1,
             "#c51b7d"
            ],
            [
             0.2,
             "#de77ae"
            ],
            [
             0.3,
             "#f1b6da"
            ],
            [
             0.4,
             "#fde0ef"
            ],
            [
             0.5,
             "#f7f7f7"
            ],
            [
             0.6,
             "#e6f5d0"
            ],
            [
             0.7,
             "#b8e186"
            ],
            [
             0.8,
             "#7fbc41"
            ],
            [
             0.9,
             "#4d9221"
            ],
            [
             1,
             "#276419"
            ]
           ],
           "sequential": [
            [
             0,
             "#0d0887"
            ],
            [
             0.1111111111111111,
             "#46039f"
            ],
            [
             0.2222222222222222,
             "#7201a8"
            ],
            [
             0.3333333333333333,
             "#9c179e"
            ],
            [
             0.4444444444444444,
             "#bd3786"
            ],
            [
             0.5555555555555556,
             "#d8576b"
            ],
            [
             0.6666666666666666,
             "#ed7953"
            ],
            [
             0.7777777777777778,
             "#fb9f3a"
            ],
            [
             0.8888888888888888,
             "#fdca26"
            ],
            [
             1,
             "#f0f921"
            ]
           ],
           "sequentialminus": [
            [
             0,
             "#0d0887"
            ],
            [
             0.1111111111111111,
             "#46039f"
            ],
            [
             0.2222222222222222,
             "#7201a8"
            ],
            [
             0.3333333333333333,
             "#9c179e"
            ],
            [
             0.4444444444444444,
             "#bd3786"
            ],
            [
             0.5555555555555556,
             "#d8576b"
            ],
            [
             0.6666666666666666,
             "#ed7953"
            ],
            [
             0.7777777777777778,
             "#fb9f3a"
            ],
            [
             0.8888888888888888,
             "#fdca26"
            ],
            [
             1,
             "#f0f921"
            ]
           ]
          },
          "colorway": [
           "#636efa",
           "#EF553B",
           "#00cc96",
           "#ab63fa",
           "#FFA15A",
           "#19d3f3",
           "#FF6692",
           "#B6E880",
           "#FF97FF",
           "#FECB52"
          ],
          "font": {
           "color": "#2a3f5f"
          },
          "geo": {
           "bgcolor": "white",
           "lakecolor": "white",
           "landcolor": "#E5ECF6",
           "showlakes": true,
           "showland": true,
           "subunitcolor": "white"
          },
          "hoverlabel": {
           "align": "left"
          },
          "hovermode": "closest",
          "mapbox": {
           "style": "light"
          },
          "paper_bgcolor": "white",
          "plot_bgcolor": "#E5ECF6",
          "polar": {
           "angularaxis": {
            "gridcolor": "white",
            "linecolor": "white",
            "ticks": ""
           },
           "bgcolor": "#E5ECF6",
           "radialaxis": {
            "gridcolor": "white",
            "linecolor": "white",
            "ticks": ""
           }
          },
          "scene": {
           "xaxis": {
            "backgroundcolor": "#E5ECF6",
            "gridcolor": "white",
            "gridwidth": 2,
            "linecolor": "white",
            "showbackground": true,
            "ticks": "",
            "zerolinecolor": "white"
           },
           "yaxis": {
            "backgroundcolor": "#E5ECF6",
            "gridcolor": "white",
            "gridwidth": 2,
            "linecolor": "white",
            "showbackground": true,
            "ticks": "",
            "zerolinecolor": "white"
           },
           "zaxis": {
            "backgroundcolor": "#E5ECF6",
            "gridcolor": "white",
            "gridwidth": 2,
            "linecolor": "white",
            "showbackground": true,
            "ticks": "",
            "zerolinecolor": "white"
           }
          },
          "shapedefaults": {
           "line": {
            "color": "#2a3f5f"
           }
          },
          "ternary": {
           "aaxis": {
            "gridcolor": "white",
            "linecolor": "white",
            "ticks": ""
           },
           "baxis": {
            "gridcolor": "white",
            "linecolor": "white",
            "ticks": ""
           },
           "bgcolor": "#E5ECF6",
           "caxis": {
            "gridcolor": "white",
            "linecolor": "white",
            "ticks": ""
           }
          },
          "title": {
           "x": 0.05
          },
          "xaxis": {
           "automargin": true,
           "gridcolor": "white",
           "linecolor": "white",
           "ticks": "",
           "title": {
            "standoff": 15
           },
           "zerolinecolor": "white",
           "zerolinewidth": 2
          },
          "yaxis": {
           "automargin": true,
           "gridcolor": "white",
           "linecolor": "white",
           "ticks": "",
           "title": {
            "standoff": 15
           },
           "zerolinecolor": "white",
           "zerolinewidth": 2
          }
         }
        },
        "title": {
         "font": {
          "color": "#4D5663"
         }
        },
        "xaxis": {
         "anchor": "y",
         "domain": [
          0,
          0.2125
         ],
         "gridcolor": "#E1E5ED",
         "showgrid": false,
         "tickfont": {
          "color": "#4D5663"
         },
         "title": {
          "font": {
           "color": "#4D5663"
          },
          "text": ""
         },
         "zerolinecolor": "#E1E5ED"
        },
        "xaxis10": {
         "anchor": "y10",
         "domain": [
          0.2625,
          0.475
         ],
         "gridcolor": "#E1E5ED",
         "showgrid": false,
         "tickfont": {
          "color": "#4D5663"
         },
         "title": {
          "font": {
           "color": "#4D5663"
          },
          "text": ""
         },
         "zerolinecolor": "#E1E5ED"
        },
        "xaxis11": {
         "anchor": "y11",
         "domain": [
          0.525,
          0.7375
         ],
         "gridcolor": "#E1E5ED",
         "showgrid": false,
         "tickfont": {
          "color": "#4D5663"
         },
         "title": {
          "font": {
           "color": "#4D5663"
          },
          "text": ""
         },
         "zerolinecolor": "#E1E5ED"
        },
        "xaxis12": {
         "anchor": "y12",
         "domain": [
          0.7875,
          1
         ],
         "gridcolor": "#E1E5ED",
         "showgrid": false,
         "tickfont": {
          "color": "#4D5663"
         },
         "title": {
          "font": {
           "color": "#4D5663"
          },
          "text": ""
         },
         "zerolinecolor": "#E1E5ED"
        },
        "xaxis13": {
         "anchor": "y13",
         "domain": [
          0,
          0.2125
         ],
         "gridcolor": "#E1E5ED",
         "showgrid": false,
         "tickfont": {
          "color": "#4D5663"
         },
         "title": {
          "font": {
           "color": "#4D5663"
          },
          "text": ""
         },
         "zerolinecolor": "#E1E5ED"
        },
        "xaxis14": {
         "anchor": "y14",
         "domain": [
          0.2625,
          0.475
         ],
         "gridcolor": "#E1E5ED",
         "showgrid": false,
         "tickfont": {
          "color": "#4D5663"
         },
         "title": {
          "font": {
           "color": "#4D5663"
          },
          "text": ""
         },
         "zerolinecolor": "#E1E5ED"
        },
        "xaxis15": {
         "anchor": "y15",
         "domain": [
          0.525,
          0.7375
         ],
         "gridcolor": "#E1E5ED",
         "showgrid": false,
         "tickfont": {
          "color": "#4D5663"
         },
         "title": {
          "font": {
           "color": "#4D5663"
          },
          "text": ""
         },
         "zerolinecolor": "#E1E5ED"
        },
        "xaxis16": {
         "anchor": "y16",
         "domain": [
          0.7875,
          1
         ],
         "gridcolor": "#E1E5ED",
         "showgrid": false,
         "tickfont": {
          "color": "#4D5663"
         },
         "title": {
          "font": {
           "color": "#4D5663"
          },
          "text": ""
         },
         "zerolinecolor": "#E1E5ED"
        },
        "xaxis2": {
         "anchor": "y2",
         "domain": [
          0.2625,
          0.475
         ],
         "gridcolor": "#E1E5ED",
         "showgrid": false,
         "tickfont": {
          "color": "#4D5663"
         },
         "title": {
          "font": {
           "color": "#4D5663"
          },
          "text": ""
         },
         "zerolinecolor": "#E1E5ED"
        },
        "xaxis3": {
         "anchor": "y3",
         "domain": [
          0.525,
          0.7375
         ],
         "gridcolor": "#E1E5ED",
         "showgrid": false,
         "tickfont": {
          "color": "#4D5663"
         },
         "title": {
          "font": {
           "color": "#4D5663"
          },
          "text": ""
         },
         "zerolinecolor": "#E1E5ED"
        },
        "xaxis4": {
         "anchor": "y4",
         "domain": [
          0.7875,
          1
         ],
         "gridcolor": "#E1E5ED",
         "showgrid": false,
         "tickfont": {
          "color": "#4D5663"
         },
         "title": {
          "font": {
           "color": "#4D5663"
          },
          "text": ""
         },
         "zerolinecolor": "#E1E5ED"
        },
        "xaxis5": {
         "anchor": "y5",
         "domain": [
          0,
          0.2125
         ],
         "gridcolor": "#E1E5ED",
         "showgrid": false,
         "tickfont": {
          "color": "#4D5663"
         },
         "title": {
          "font": {
           "color": "#4D5663"
          },
          "text": ""
         },
         "zerolinecolor": "#E1E5ED"
        },
        "xaxis6": {
         "anchor": "y6",
         "domain": [
          0.2625,
          0.475
         ],
         "gridcolor": "#E1E5ED",
         "showgrid": false,
         "tickfont": {
          "color": "#4D5663"
         },
         "title": {
          "font": {
           "color": "#4D5663"
          },
          "text": ""
         },
         "zerolinecolor": "#E1E5ED"
        },
        "xaxis7": {
         "anchor": "y7",
         "domain": [
          0.525,
          0.7375
         ],
         "gridcolor": "#E1E5ED",
         "showgrid": false,
         "tickfont": {
          "color": "#4D5663"
         },
         "title": {
          "font": {
           "color": "#4D5663"
          },
          "text": ""
         },
         "zerolinecolor": "#E1E5ED"
        },
        "xaxis8": {
         "anchor": "y8",
         "domain": [
          0.7875,
          1
         ],
         "gridcolor": "#E1E5ED",
         "showgrid": false,
         "tickfont": {
          "color": "#4D5663"
         },
         "title": {
          "font": {
           "color": "#4D5663"
          },
          "text": ""
         },
         "zerolinecolor": "#E1E5ED"
        },
        "xaxis9": {
         "anchor": "y9",
         "domain": [
          0,
          0.2125
         ],
         "gridcolor": "#E1E5ED",
         "showgrid": false,
         "tickfont": {
          "color": "#4D5663"
         },
         "title": {
          "font": {
           "color": "#4D5663"
          },
          "text": ""
         },
         "zerolinecolor": "#E1E5ED"
        },
        "yaxis": {
         "anchor": "x",
         "domain": [
          0.8025,
          1
         ],
         "gridcolor": "#E1E5ED",
         "showgrid": false,
         "tickfont": {
          "color": "#4D5663"
         },
         "title": {
          "font": {
           "color": "#4D5663"
          },
          "text": ""
         },
         "zerolinecolor": "#E1E5ED"
        },
        "yaxis10": {
         "anchor": "x10",
         "domain": [
          0.2675,
          0.465
         ],
         "gridcolor": "#E1E5ED",
         "showgrid": false,
         "tickfont": {
          "color": "#4D5663"
         },
         "title": {
          "font": {
           "color": "#4D5663"
          },
          "text": ""
         },
         "zerolinecolor": "#E1E5ED"
        },
        "yaxis11": {
         "anchor": "x11",
         "domain": [
          0.2675,
          0.465
         ],
         "gridcolor": "#E1E5ED",
         "showgrid": false,
         "tickfont": {
          "color": "#4D5663"
         },
         "title": {
          "font": {
           "color": "#4D5663"
          },
          "text": ""
         },
         "zerolinecolor": "#E1E5ED"
        },
        "yaxis12": {
         "anchor": "x12",
         "domain": [
          0.2675,
          0.465
         ],
         "gridcolor": "#E1E5ED",
         "showgrid": false,
         "tickfont": {
          "color": "#4D5663"
         },
         "title": {
          "font": {
           "color": "#4D5663"
          },
          "text": ""
         },
         "zerolinecolor": "#E1E5ED"
        },
        "yaxis13": {
         "anchor": "x13",
         "domain": [
          0,
          0.1975
         ],
         "gridcolor": "#E1E5ED",
         "showgrid": false,
         "tickfont": {
          "color": "#4D5663"
         },
         "title": {
          "font": {
           "color": "#4D5663"
          },
          "text": ""
         },
         "zerolinecolor": "#E1E5ED"
        },
        "yaxis14": {
         "anchor": "x14",
         "domain": [
          0,
          0.1975
         ],
         "gridcolor": "#E1E5ED",
         "showgrid": false,
         "tickfont": {
          "color": "#4D5663"
         },
         "title": {
          "font": {
           "color": "#4D5663"
          },
          "text": ""
         },
         "zerolinecolor": "#E1E5ED"
        },
        "yaxis15": {
         "anchor": "x15",
         "domain": [
          0,
          0.1975
         ],
         "gridcolor": "#E1E5ED",
         "showgrid": false,
         "tickfont": {
          "color": "#4D5663"
         },
         "title": {
          "font": {
           "color": "#4D5663"
          },
          "text": ""
         },
         "zerolinecolor": "#E1E5ED"
        },
        "yaxis16": {
         "anchor": "x16",
         "domain": [
          0,
          0.1975
         ],
         "gridcolor": "#E1E5ED",
         "showgrid": false,
         "tickfont": {
          "color": "#4D5663"
         },
         "title": {
          "font": {
           "color": "#4D5663"
          },
          "text": ""
         },
         "zerolinecolor": "#E1E5ED"
        },
        "yaxis2": {
         "anchor": "x2",
         "domain": [
          0.8025,
          1
         ],
         "gridcolor": "#E1E5ED",
         "showgrid": false,
         "tickfont": {
          "color": "#4D5663"
         },
         "title": {
          "font": {
           "color": "#4D5663"
          },
          "text": ""
         },
         "zerolinecolor": "#E1E5ED"
        },
        "yaxis3": {
         "anchor": "x3",
         "domain": [
          0.8025,
          1
         ],
         "gridcolor": "#E1E5ED",
         "showgrid": false,
         "tickfont": {
          "color": "#4D5663"
         },
         "title": {
          "font": {
           "color": "#4D5663"
          },
          "text": ""
         },
         "zerolinecolor": "#E1E5ED"
        },
        "yaxis4": {
         "anchor": "x4",
         "domain": [
          0.8025,
          1
         ],
         "gridcolor": "#E1E5ED",
         "showgrid": false,
         "tickfont": {
          "color": "#4D5663"
         },
         "title": {
          "font": {
           "color": "#4D5663"
          },
          "text": ""
         },
         "zerolinecolor": "#E1E5ED"
        },
        "yaxis5": {
         "anchor": "x5",
         "domain": [
          0.535,
          0.7325
         ],
         "gridcolor": "#E1E5ED",
         "showgrid": false,
         "tickfont": {
          "color": "#4D5663"
         },
         "title": {
          "font": {
           "color": "#4D5663"
          },
          "text": ""
         },
         "zerolinecolor": "#E1E5ED"
        },
        "yaxis6": {
         "anchor": "x6",
         "domain": [
          0.535,
          0.7325
         ],
         "gridcolor": "#E1E5ED",
         "showgrid": false,
         "tickfont": {
          "color": "#4D5663"
         },
         "title": {
          "font": {
           "color": "#4D5663"
          },
          "text": ""
         },
         "zerolinecolor": "#E1E5ED"
        },
        "yaxis7": {
         "anchor": "x7",
         "domain": [
          0.535,
          0.7325
         ],
         "gridcolor": "#E1E5ED",
         "showgrid": false,
         "tickfont": {
          "color": "#4D5663"
         },
         "title": {
          "font": {
           "color": "#4D5663"
          },
          "text": ""
         },
         "zerolinecolor": "#E1E5ED"
        },
        "yaxis8": {
         "anchor": "x8",
         "domain": [
          0.535,
          0.7325
         ],
         "gridcolor": "#E1E5ED",
         "showgrid": false,
         "tickfont": {
          "color": "#4D5663"
         },
         "title": {
          "font": {
           "color": "#4D5663"
          },
          "text": ""
         },
         "zerolinecolor": "#E1E5ED"
        },
        "yaxis9": {
         "anchor": "x9",
         "domain": [
          0.2675,
          0.465
         ],
         "gridcolor": "#E1E5ED",
         "showgrid": false,
         "tickfont": {
          "color": "#4D5663"
         },
         "title": {
          "font": {
           "color": "#4D5663"
          },
          "text": ""
         },
         "zerolinecolor": "#E1E5ED"
        }
       }
      },
      "text/html": "<div>                            <div id=\"915f2c92-b141-45e4-8b07-27e57006cf19\" class=\"plotly-graph-div\" style=\"height:525px; width:100%;\"></div>            <script type=\"text/javascript\">                require([\"plotly\"], function(Plotly) {                    window.PLOTLYENV=window.PLOTLYENV || {};\n                    window.PLOTLYENV.BASE_URL='https://plot.ly';                                    if (document.getElementById(\"915f2c92-b141-45e4-8b07-27e57006cf19\")) {                    Plotly.newPlot(                        \"915f2c92-b141-45e4-8b07-27e57006cf19\",                        [{\"histfunc\": \"count\", \"histnorm\": \"\", \"marker\": {\"color\": \"rgba(255, 153, 51, 1.0)\", \"line\": {\"color\": \"#4D5663\", \"width\": 1.3}}, \"name\": \"A\", \"nbinsx\": 10, \"opacity\": 0.8, \"orientation\": \"v\", \"type\": \"histogram\", \"x\": [-1.286783666232087, 0.7107277470430434, 1.2206576987234354, 2.670689230942479, -0.868396268279137, -0.7702505222952278, 0.836826113651275, -1.310807545006144, -1.1454772976981726, -1.205923510011141, 0.39104120063317915, 1.480064786672829, -0.4371817585516773, 0.31244387330147083, 0.9522665120953734, -0.9064855359217587, 0.15128185004249292, 0.15061151479926002, 0.2932767331797624, 0.07523964284633954, 0.29022474193827164, -0.15511464338925918, 0.6235611994075417, 0.385198796402805, -1.23041158492017, 0.4146485818376867, 1.3453276550476518, 2.2200082297196575, 0.4843022625460223, -0.9052875932660301, -1.2911658251962215, 1.2239386431635257, 0.5800060939722871, 0.29463938749835283, -0.5274632830251935, -0.7462578578754884, 1.692027647166309, -0.09695059770969566, 0.4881840463183823, -0.025688346575201363, -1.3490757613768838, -0.39677880092704315, 0.35675258383857994, -0.5443711678860995, -0.4195900621836775, 0.6447505960385553, -1.0972813689106393, -0.07544670673084743, -1.680269752499829, 0.5777182254380486, 0.8773588872922171, -1.2744428237723746, 0.4707650176747216, 0.184743927621629, 1.502286572568263, -0.047755807588705734, 0.12565047824483858, -2.8697574169274644, -1.7358225932178784, -0.6272506704206392, -1.4433597294484304, 2.4317752497855403, -1.4322358810549674, 0.5091222176333856, -2.303424236839607, 1.5614540931799474, 1.755253217137435, -0.8962401197499275, 0.6858890477096122, 0.45111826271025357, 0.3732627172869396, -0.11404699509388187, 0.505163811090925, 0.9893247964708458, 1.6802152688092455, 0.3775054456483596, 0.5960017865897772, 1.0021193126559254, -0.38771902641273304, 0.7260151830561632, -0.5736145908308646, 0.5696440774836763, -0.08440931256891603, 1.7580084477921427, -0.9032392980072976, -1.702458506342066, -0.3268225203948594, 0.24042744103696015, 0.3251828854999993, -0.03164848102043208, 1.1673040608017295, -0.5431973031609296, -1.9466362146927483, -0.0069860880888541945, 1.99068233702783, -0.048360909178754935, 0.4008717221536024, 0.26080632462817355, -0.31858331702889736, -0.071197295683597], \"xaxis\": \"x\", \"yaxis\": \"y\"}, {\"line\": {\"color\": \"rgba(128, 128, 128, 1.0)\", \"dash\": \"solid\", \"shape\": \"linear\", \"width\": 1.3}, \"marker\": {\"size\": 2, \"symbol\": \"circle\"}, \"mode\": \"markers\", \"name\": \"A\", \"text\": \"\", \"type\": \"scatter\", \"x\": [-1.2436419169159714, 1.5692860019949753, -0.26671888492952217, 0.2815640316896209, 1.365892470714254, -1.0966017811139082, -1.7501437821712431, -1.819809038953777, 0.3286795501646575, 0.420218601730475, -0.4526951755973082, 0.6428374710337051, -0.32814944019105596, 1.9532810324072836, -0.8371761679909756, -1.50915051301245, -0.11553875435854695, -0.19808858021679637, 0.08189178164630723, -1.1690479593556529, 0.5426510623353725, -1.569302061901453, 2.2472868053504014, -0.13122045124668472, -0.03454840736457979, 0.004013916643951113, 0.9156650742937736, -1.5630225390944321, -0.8692580183140872, 0.7776652874301425, 0.37059975574200205, -0.9999879818086167, 0.6016464734009461, 0.05210885734734563, 0.10876319643384028, 0.07223691516760487, -0.488979327879292, -1.2474974282935567, 0.30088905771553354, 0.8931102695066149, 0.6345013410633477, -0.08705043588611751, -0.41296039681387836, 1.6468689809139507, -1.2191028264563968, 0.06846210845743836, 1.0803348505760164, 0.3663395830326163, -0.3837984909897694, -1.7462365995629416, 0.9324003722594186, -0.3038268359150439, -0.8786412238263824, -1.419891446791575, 2.163490032952582, -0.8058230604185269, 0.10256406153351981, 1.1139069699129942, 0.49417906199734707, 0.8760823766737829, -0.8948518726206427, -1.335563279231745, -0.27351425817938646, -1.6530349045940977, 0.7796901069802878, 0.3178371041948017, -0.5673257372555445, -0.36103792983823196, -0.17726997277506898, 0.24843619696647495, -0.05052867323180514, -0.4471599049358513, -0.21938709534885703, -0.39712704411222405, 1.6087610337457163, -0.43113504250683504, 0.0018928069012562722, -0.9713837764015597, -0.9711257871443403, -1.201135432974757, 0.6213409054564155, -0.3869811372641256, -0.2788357101710152, -0.20400907384209452, 1.011917828496073, -0.8505328360888009, 0.2379108955912931, 0.4591865745990066, 0.448859440096995, 0.16970947821971874, 3.070837746893535, 0.6488164419269693, 1.4007575897732754, 0.17720275317090023, -1.0289729246587451, 0.14937788270135635, -1.1679017277463055, 0.9170428574901506, 0.5245942932387379, -1.2885764393890806], \"xaxis\": \"x2\", \"y\": [-1.286783666232087, 0.7107277470430434, 1.2206576987234354, 2.670689230942479, -0.868396268279137, -0.7702505222952278, 0.836826113651275, -1.310807545006144, -1.1454772976981726, -1.205923510011141, 0.39104120063317915, 1.480064786672829, -0.4371817585516773, 0.31244387330147083, 0.9522665120953734, -0.9064855359217587, 0.15128185004249292, 0.15061151479926002, 0.2932767331797624, 0.07523964284633954, 0.29022474193827164, -0.15511464338925918, 0.6235611994075417, 0.385198796402805, -1.23041158492017, 0.4146485818376867, 1.3453276550476518, 2.2200082297196575, 0.4843022625460223, -0.9052875932660301, -1.2911658251962215, 1.2239386431635257, 0.5800060939722871, 0.29463938749835283, -0.5274632830251935, -0.7462578578754884, 1.692027647166309, -0.09695059770969566, 0.4881840463183823, -0.025688346575201363, -1.3490757613768838, -0.39677880092704315, 0.35675258383857994, -0.5443711678860995, -0.4195900621836775, 0.6447505960385553, -1.0972813689106393, -0.07544670673084743, -1.680269752499829, 0.5777182254380486, 0.8773588872922171, -1.2744428237723746, 0.4707650176747216, 0.184743927621629, 1.502286572568263, -0.047755807588705734, 0.12565047824483858, -2.8697574169274644, -1.7358225932178784, -0.6272506704206392, -1.4433597294484304, 2.4317752497855403, -1.4322358810549674, 0.5091222176333856, -2.303424236839607, 1.5614540931799474, 1.755253217137435, -0.8962401197499275, 0.6858890477096122, 0.45111826271025357, 0.3732627172869396, -0.11404699509388187, 0.505163811090925, 0.9893247964708458, 1.6802152688092455, 0.3775054456483596, 0.5960017865897772, 1.0021193126559254, -0.38771902641273304, 0.7260151830561632, -0.5736145908308646, 0.5696440774836763, -0.08440931256891603, 1.7580084477921427, -0.9032392980072976, -1.702458506342066, -0.3268225203948594, 0.24042744103696015, 0.3251828854999993, -0.03164848102043208, 1.1673040608017295, -0.5431973031609296, -1.9466362146927483, -0.0069860880888541945, 1.99068233702783, -0.048360909178754935, 0.4008717221536024, 0.26080632462817355, -0.31858331702889736, -0.071197295683597], \"yaxis\": \"y2\"}, {\"line\": {\"color\": \"rgba(128, 128, 128, 1.0)\", \"dash\": \"solid\", \"shape\": \"linear\", \"width\": 1.3}, \"marker\": {\"size\": 2, \"symbol\": \"circle\"}, \"mode\": \"markers\", \"name\": \"A\", \"text\": \"\", \"type\": \"scatter\", \"x\": [0.37396880967063184, 0.485819109135621, -0.6351379982448391, 0.2741963480308266, 0.28441154644745953, -0.5689584930430098, -1.7764037059962785, 0.6939134036263318, -1.0914742699727626, 1.0095698440273608, 0.9038298373786826, 0.45684967147341277, -0.8962791345502362, 1.3612764577772003, 0.769046148307588, 0.6432139729219714, -0.1755969192591122, 2.0646430510096456, 0.32856162509179165, -0.45514672532900435, -2.0434119509245945, -0.22339369216589958, -0.4759677637897723, 0.6879343719088479, 2.0575370079714554, -0.2906158769931298, 1.6976548541724978, -0.8469992960252449, -0.13834361912647716, -0.0645035615577513, 0.38652777747444894, -1.193652114101707, 0.13798097726775968, 0.11739355751733577, -0.29005171504076405, 1.627157188783857, -0.2495570014946859, -0.9545308102971303, 0.13259597457059744, -0.6151063164608173, 1.5855852311862595, 0.3381393618125363, -1.6472132904138104, -0.2878903051600144, -0.5573359078645758, -0.2182996588047888, -0.4399013980494022, 0.018500459702916396, 0.09911511861381764, -1.310166314447082, -1.011624910552905, 0.3627672280932037, 2.1291298144680497, -1.1239492659211483, 1.132863981267986, 0.228193143647071, 1.5462397079810524, -0.37878613122449806, 0.694900629886083, -1.17025401083286, 0.9470238842420337, 0.235975316301273, 0.3485324740626605, -2.5406164262331252, -0.08002575297053341, -0.11300007122142385, -1.3401640072724892, 0.8417212679546352, 1.6329062905357954, -1.3454419101981803, 0.9372378100116274, 2.3832122889079166, 0.07327306689767413, 0.17373054974580543, -0.6647941881929376, -0.00037142532747681123, 0.7163662020598183, 0.32191937697929285, -0.4296635297447678, 0.8816471136098253, -0.14935605702660373, 0.151772180187301, 0.000528971197049543, -0.28363103855286514, 0.2737045895924919, 0.1699482265529984, -1.79500990750334, -1.1352030321961761, 0.3886533963873723, 1.1369473253097777, 0.651769135275047, -2.6241863552765903, 1.645556210994583, -1.9333901442105705, 0.20229028335327418, -0.3980462068338803, 1.7856968855129687, 1.0960542932501087, -0.3958576865717353, -0.3421841355431247], \"xaxis\": \"x3\", \"y\": [-1.286783666232087, 0.7107277470430434, 1.2206576987234354, 2.670689230942479, -0.868396268279137, -0.7702505222952278, 0.836826113651275, -1.310807545006144, -1.1454772976981726, -1.205923510011141, 0.39104120063317915, 1.480064786672829, -0.4371817585516773, 0.31244387330147083, 0.9522665120953734, -0.9064855359217587, 0.15128185004249292, 0.15061151479926002, 0.2932767331797624, 0.07523964284633954, 0.29022474193827164, -0.15511464338925918, 0.6235611994075417, 0.385198796402805, -1.23041158492017, 0.4146485818376867, 1.3453276550476518, 2.2200082297196575, 0.4843022625460223, -0.9052875932660301, -1.2911658251962215, 1.2239386431635257, 0.5800060939722871, 0.29463938749835283, -0.5274632830251935, -0.7462578578754884, 1.692027647166309, -0.09695059770969566, 0.4881840463183823, -0.025688346575201363, -1.3490757613768838, -0.39677880092704315, 0.35675258383857994, -0.5443711678860995, -0.4195900621836775, 0.6447505960385553, -1.0972813689106393, -0.07544670673084743, -1.680269752499829, 0.5777182254380486, 0.8773588872922171, -1.2744428237723746, 0.4707650176747216, 0.184743927621629, 1.502286572568263, -0.047755807588705734, 0.12565047824483858, -2.8697574169274644, -1.7358225932178784, -0.6272506704206392, -1.4433597294484304, 2.4317752497855403, -1.4322358810549674, 0.5091222176333856, -2.303424236839607, 1.5614540931799474, 1.755253217137435, -0.8962401197499275, 0.6858890477096122, 0.45111826271025357, 0.3732627172869396, -0.11404699509388187, 0.505163811090925, 0.9893247964708458, 1.6802152688092455, 0.3775054456483596, 0.5960017865897772, 1.0021193126559254, -0.38771902641273304, 0.7260151830561632, -0.5736145908308646, 0.5696440774836763, -0.08440931256891603, 1.7580084477921427, -0.9032392980072976, -1.702458506342066, -0.3268225203948594, 0.24042744103696015, 0.3251828854999993, -0.03164848102043208, 1.1673040608017295, -0.5431973031609296, -1.9466362146927483, -0.0069860880888541945, 1.99068233702783, -0.048360909178754935, 0.4008717221536024, 0.26080632462817355, -0.31858331702889736, -0.071197295683597], \"yaxis\": \"y3\"}, {\"line\": {\"color\": \"rgba(128, 128, 128, 1.0)\", \"dash\": \"solid\", \"shape\": \"linear\", \"width\": 1.3}, \"marker\": {\"size\": 2, \"symbol\": \"circle\"}, \"mode\": \"markers\", \"name\": \"A\", \"text\": \"\", \"type\": \"scatter\", \"x\": [0.10019236738679081, -0.40841508789911957, 1.0880229661305265, 0.8652643944491681, 1.3813365573972627, -0.169563633595409, 0.038547582019666356, 0.9351786616657, -1.0904950978675008, 0.19268230113792, 0.1530437529903397, -0.9610632000620131, -0.5038638512539662, -0.02868819597412543, -1.2335143536151583, 1.1044638647618985, -0.6527092429430541, -0.8502834548902157, -0.40308864747020284, 1.4624063406367676, 1.3030882168079807, 0.5241584507546425, 0.6897611065671335, 0.23926206221512422, 0.24550106500734678, 0.6909064800055937, -0.1673623231286305, 0.7936079202105257, 1.8199648806134523, 0.301111283765011, 1.0641146030563275, 0.6448701953770855, 0.2251783887729817, -0.9507188720770672, -0.7093120654633488, 1.089640515089958, 1.2809723177519126, -0.29213577576302396, 0.8401524823296217, 1.3612755483625067, -0.7887741864274915, 0.07124897413292046, -1.3512883291770754, -0.10483471513171659, -1.5414038063267268, 0.7332792909199604, -0.4939546441889498, -0.8235826072554355, -2.3004448240965285, 0.2490397916340618, -0.5990708012169211, -1.2344307225948057, -0.8966920186126316, -0.47663875979347725, 1.1507271840045061, 0.7421092404767009, -0.5914113744398791, 0.6548386359286849, -0.33790160370389055, 0.03533295024022777, 0.8938341719693075, 1.3743900300018788, -1.3341019341955622, 1.875743005624606, -1.0055707978403516, -1.6601376077024619, -1.3046740142778521, -1.018030650858319, 0.17082439143206524, -1.8726614680965534, 0.3032064240152828, 1.3407798761113288, -0.8363083792726096, 0.23864738387964837, 0.47506377189916993, -1.1069809945297964, -0.08375769526089903, 0.32085502528923615, 0.24797469587709156, 0.13233284186777314, -0.5749664374502748, 0.18924251545318685, -1.85326268569658, -2.1190778632475866, -0.28196115986216985, 0.5524679622264345, 1.4420384970602615, -0.09627353663918234, -1.0522201787108096, 0.279740918763895, 0.09830663201071498, -0.2133013467076015, 1.3106378629150464, -1.2637309305944364, -0.16618105889914972, -0.9608995743323465, -0.698163313743797, 1.6340863943666697, -0.5120062660189111, -1.3500981293658665], \"xaxis\": \"x4\", \"y\": [-1.286783666232087, 0.7107277470430434, 1.2206576987234354, 2.670689230942479, -0.868396268279137, -0.7702505222952278, 0.836826113651275, -1.310807545006144, -1.1454772976981726, -1.205923510011141, 0.39104120063317915, 1.480064786672829, -0.4371817585516773, 0.31244387330147083, 0.9522665120953734, -0.9064855359217587, 0.15128185004249292, 0.15061151479926002, 0.2932767331797624, 0.07523964284633954, 0.29022474193827164, -0.15511464338925918, 0.6235611994075417, 0.385198796402805, -1.23041158492017, 0.4146485818376867, 1.3453276550476518, 2.2200082297196575, 0.4843022625460223, -0.9052875932660301, -1.2911658251962215, 1.2239386431635257, 0.5800060939722871, 0.29463938749835283, -0.5274632830251935, -0.7462578578754884, 1.692027647166309, -0.09695059770969566, 0.4881840463183823, -0.025688346575201363, -1.3490757613768838, -0.39677880092704315, 0.35675258383857994, -0.5443711678860995, -0.4195900621836775, 0.6447505960385553, -1.0972813689106393, -0.07544670673084743, -1.680269752499829, 0.5777182254380486, 0.8773588872922171, -1.2744428237723746, 0.4707650176747216, 0.184743927621629, 1.502286572568263, -0.047755807588705734, 0.12565047824483858, -2.8697574169274644, -1.7358225932178784, -0.6272506704206392, -1.4433597294484304, 2.4317752497855403, -1.4322358810549674, 0.5091222176333856, -2.303424236839607, 1.5614540931799474, 1.755253217137435, -0.8962401197499275, 0.6858890477096122, 0.45111826271025357, 0.3732627172869396, -0.11404699509388187, 0.505163811090925, 0.9893247964708458, 1.6802152688092455, 0.3775054456483596, 0.5960017865897772, 1.0021193126559254, -0.38771902641273304, 0.7260151830561632, -0.5736145908308646, 0.5696440774836763, -0.08440931256891603, 1.7580084477921427, -0.9032392980072976, -1.702458506342066, -0.3268225203948594, 0.24042744103696015, 0.3251828854999993, -0.03164848102043208, 1.1673040608017295, -0.5431973031609296, -1.9466362146927483, -0.0069860880888541945, 1.99068233702783, -0.048360909178754935, 0.4008717221536024, 0.26080632462817355, -0.31858331702889736, -0.071197295683597], \"yaxis\": \"y4\"}, {\"line\": {\"color\": \"rgba(128, 128, 128, 1.0)\", \"dash\": \"solid\", \"shape\": \"linear\", \"width\": 1.3}, \"marker\": {\"size\": 2, \"symbol\": \"circle\"}, \"mode\": \"markers\", \"name\": \"B\", \"text\": \"\", \"type\": \"scatter\", \"x\": [-1.286783666232087, 0.7107277470430434, 1.2206576987234354, 2.670689230942479, -0.868396268279137, -0.7702505222952278, 0.836826113651275, -1.310807545006144, -1.1454772976981726, -1.205923510011141, 0.39104120063317915, 1.480064786672829, -0.4371817585516773, 0.31244387330147083, 0.9522665120953734, -0.9064855359217587, 0.15128185004249292, 0.15061151479926002, 0.2932767331797624, 0.07523964284633954, 0.29022474193827164, -0.15511464338925918, 0.6235611994075417, 0.385198796402805, -1.23041158492017, 0.4146485818376867, 1.3453276550476518, 2.2200082297196575, 0.4843022625460223, -0.9052875932660301, -1.2911658251962215, 1.2239386431635257, 0.5800060939722871, 0.29463938749835283, -0.5274632830251935, -0.7462578578754884, 1.692027647166309, -0.09695059770969566, 0.4881840463183823, -0.025688346575201363, -1.3490757613768838, -0.39677880092704315, 0.35675258383857994, -0.5443711678860995, -0.4195900621836775, 0.6447505960385553, -1.0972813689106393, -0.07544670673084743, -1.680269752499829, 0.5777182254380486, 0.8773588872922171, -1.2744428237723746, 0.4707650176747216, 0.184743927621629, 1.502286572568263, -0.047755807588705734, 0.12565047824483858, -2.8697574169274644, -1.7358225932178784, -0.6272506704206392, -1.4433597294484304, 2.4317752497855403, -1.4322358810549674, 0.5091222176333856, -2.303424236839607, 1.5614540931799474, 1.755253217137435, -0.8962401197499275, 0.6858890477096122, 0.45111826271025357, 0.3732627172869396, -0.11404699509388187, 0.505163811090925, 0.9893247964708458, 1.6802152688092455, 0.3775054456483596, 0.5960017865897772, 1.0021193126559254, -0.38771902641273304, 0.7260151830561632, -0.5736145908308646, 0.5696440774836763, -0.08440931256891603, 1.7580084477921427, -0.9032392980072976, -1.702458506342066, -0.3268225203948594, 0.24042744103696015, 0.3251828854999993, -0.03164848102043208, 1.1673040608017295, -0.5431973031609296, -1.9466362146927483, -0.0069860880888541945, 1.99068233702783, -0.048360909178754935, 0.4008717221536024, 0.26080632462817355, -0.31858331702889736, -0.071197295683597], \"xaxis\": \"x5\", \"y\": [-1.2436419169159714, 1.5692860019949753, -0.26671888492952217, 0.2815640316896209, 1.365892470714254, -1.0966017811139082, -1.7501437821712431, -1.819809038953777, 0.3286795501646575, 0.420218601730475, -0.4526951755973082, 0.6428374710337051, -0.32814944019105596, 1.9532810324072836, -0.8371761679909756, -1.50915051301245, -0.11553875435854695, -0.19808858021679637, 0.08189178164630723, -1.1690479593556529, 0.5426510623353725, -1.569302061901453, 2.2472868053504014, -0.13122045124668472, -0.03454840736457979, 0.004013916643951113, 0.9156650742937736, -1.5630225390944321, -0.8692580183140872, 0.7776652874301425, 0.37059975574200205, -0.9999879818086167, 0.6016464734009461, 0.05210885734734563, 0.10876319643384028, 0.07223691516760487, -0.488979327879292, -1.2474974282935567, 0.30088905771553354, 0.8931102695066149, 0.6345013410633477, -0.08705043588611751, -0.41296039681387836, 1.6468689809139507, -1.2191028264563968, 0.06846210845743836, 1.0803348505760164, 0.3663395830326163, -0.3837984909897694, -1.7462365995629416, 0.9324003722594186, -0.3038268359150439, -0.8786412238263824, -1.419891446791575, 2.163490032952582, -0.8058230604185269, 0.10256406153351981, 1.1139069699129942, 0.49417906199734707, 0.8760823766737829, -0.8948518726206427, -1.335563279231745, -0.27351425817938646, -1.6530349045940977, 0.7796901069802878, 0.3178371041948017, -0.5673257372555445, -0.36103792983823196, -0.17726997277506898, 0.24843619696647495, -0.05052867323180514, -0.4471599049358513, -0.21938709534885703, -0.39712704411222405, 1.6087610337457163, -0.43113504250683504, 0.0018928069012562722, -0.9713837764015597, -0.9711257871443403, -1.201135432974757, 0.6213409054564155, -0.3869811372641256, -0.2788357101710152, -0.20400907384209452, 1.011917828496073, -0.8505328360888009, 0.2379108955912931, 0.4591865745990066, 0.448859440096995, 0.16970947821971874, 3.070837746893535, 0.6488164419269693, 1.4007575897732754, 0.17720275317090023, -1.0289729246587451, 0.14937788270135635, -1.1679017277463055, 0.9170428574901506, 0.5245942932387379, -1.2885764393890806], \"yaxis\": \"y5\"}, {\"histfunc\": \"count\", \"histnorm\": \"\", \"marker\": {\"color\": \"rgba(55, 128, 191, 1.0)\", \"line\": {\"color\": \"#4D5663\", \"width\": 1.3}}, \"name\": \"B\", \"nbinsx\": 10, \"opacity\": 0.8, \"orientation\": \"v\", \"type\": \"histogram\", \"x\": [-1.2436419169159714, 1.5692860019949753, -0.26671888492952217, 0.2815640316896209, 1.365892470714254, -1.0966017811139082, -1.7501437821712431, -1.819809038953777, 0.3286795501646575, 0.420218601730475, -0.4526951755973082, 0.6428374710337051, -0.32814944019105596, 1.9532810324072836, -0.8371761679909756, -1.50915051301245, -0.11553875435854695, -0.19808858021679637, 0.08189178164630723, -1.1690479593556529, 0.5426510623353725, -1.569302061901453, 2.2472868053504014, -0.13122045124668472, -0.03454840736457979, 0.004013916643951113, 0.9156650742937736, -1.5630225390944321, -0.8692580183140872, 0.7776652874301425, 0.37059975574200205, -0.9999879818086167, 0.6016464734009461, 0.05210885734734563, 0.10876319643384028, 0.07223691516760487, -0.488979327879292, -1.2474974282935567, 0.30088905771553354, 0.8931102695066149, 0.6345013410633477, -0.08705043588611751, -0.41296039681387836, 1.6468689809139507, -1.2191028264563968, 0.06846210845743836, 1.0803348505760164, 0.3663395830326163, -0.3837984909897694, -1.7462365995629416, 0.9324003722594186, -0.3038268359150439, -0.8786412238263824, -1.419891446791575, 2.163490032952582, -0.8058230604185269, 0.10256406153351981, 1.1139069699129942, 0.49417906199734707, 0.8760823766737829, -0.8948518726206427, -1.335563279231745, -0.27351425817938646, -1.6530349045940977, 0.7796901069802878, 0.3178371041948017, -0.5673257372555445, -0.36103792983823196, -0.17726997277506898, 0.24843619696647495, -0.05052867323180514, -0.4471599049358513, -0.21938709534885703, -0.39712704411222405, 1.6087610337457163, -0.43113504250683504, 0.0018928069012562722, -0.9713837764015597, -0.9711257871443403, -1.201135432974757, 0.6213409054564155, -0.3869811372641256, -0.2788357101710152, -0.20400907384209452, 1.011917828496073, -0.8505328360888009, 0.2379108955912931, 0.4591865745990066, 0.448859440096995, 0.16970947821971874, 3.070837746893535, 0.6488164419269693, 1.4007575897732754, 0.17720275317090023, -1.0289729246587451, 0.14937788270135635, -1.1679017277463055, 0.9170428574901506, 0.5245942932387379, -1.2885764393890806], \"xaxis\": \"x6\", \"yaxis\": \"y6\"}, {\"line\": {\"color\": \"rgba(128, 128, 128, 1.0)\", \"dash\": \"solid\", \"shape\": \"linear\", \"width\": 1.3}, \"marker\": {\"size\": 2, \"symbol\": \"circle\"}, \"mode\": \"markers\", \"name\": \"B\", \"text\": \"\", \"type\": \"scatter\", \"x\": [0.37396880967063184, 0.485819109135621, -0.6351379982448391, 0.2741963480308266, 0.28441154644745953, -0.5689584930430098, -1.7764037059962785, 0.6939134036263318, -1.0914742699727626, 1.0095698440273608, 0.9038298373786826, 0.45684967147341277, -0.8962791345502362, 1.3612764577772003, 0.769046148307588, 0.6432139729219714, -0.1755969192591122, 2.0646430510096456, 0.32856162509179165, -0.45514672532900435, -2.0434119509245945, -0.22339369216589958, -0.4759677637897723, 0.6879343719088479, 2.0575370079714554, -0.2906158769931298, 1.6976548541724978, -0.8469992960252449, -0.13834361912647716, -0.0645035615577513, 0.38652777747444894, -1.193652114101707, 0.13798097726775968, 0.11739355751733577, -0.29005171504076405, 1.627157188783857, -0.2495570014946859, -0.9545308102971303, 0.13259597457059744, -0.6151063164608173, 1.5855852311862595, 0.3381393618125363, -1.6472132904138104, -0.2878903051600144, -0.5573359078645758, -0.2182996588047888, -0.4399013980494022, 0.018500459702916396, 0.09911511861381764, -1.310166314447082, -1.011624910552905, 0.3627672280932037, 2.1291298144680497, -1.1239492659211483, 1.132863981267986, 0.228193143647071, 1.5462397079810524, -0.37878613122449806, 0.694900629886083, -1.17025401083286, 0.9470238842420337, 0.235975316301273, 0.3485324740626605, -2.5406164262331252, -0.08002575297053341, -0.11300007122142385, -1.3401640072724892, 0.8417212679546352, 1.6329062905357954, -1.3454419101981803, 0.9372378100116274, 2.3832122889079166, 0.07327306689767413, 0.17373054974580543, -0.6647941881929376, -0.00037142532747681123, 0.7163662020598183, 0.32191937697929285, -0.4296635297447678, 0.8816471136098253, -0.14935605702660373, 0.151772180187301, 0.000528971197049543, -0.28363103855286514, 0.2737045895924919, 0.1699482265529984, -1.79500990750334, -1.1352030321961761, 0.3886533963873723, 1.1369473253097777, 0.651769135275047, -2.6241863552765903, 1.645556210994583, -1.9333901442105705, 0.20229028335327418, -0.3980462068338803, 1.7856968855129687, 1.0960542932501087, -0.3958576865717353, -0.3421841355431247], \"xaxis\": \"x7\", \"y\": [-1.2436419169159714, 1.5692860019949753, -0.26671888492952217, 0.2815640316896209, 1.365892470714254, -1.0966017811139082, -1.7501437821712431, -1.819809038953777, 0.3286795501646575, 0.420218601730475, -0.4526951755973082, 0.6428374710337051, -0.32814944019105596, 1.9532810324072836, -0.8371761679909756, -1.50915051301245, -0.11553875435854695, -0.19808858021679637, 0.08189178164630723, -1.1690479593556529, 0.5426510623353725, -1.569302061901453, 2.2472868053504014, -0.13122045124668472, -0.03454840736457979, 0.004013916643951113, 0.9156650742937736, -1.5630225390944321, -0.8692580183140872, 0.7776652874301425, 0.37059975574200205, -0.9999879818086167, 0.6016464734009461, 0.05210885734734563, 0.10876319643384028, 0.07223691516760487, -0.488979327879292, -1.2474974282935567, 0.30088905771553354, 0.8931102695066149, 0.6345013410633477, -0.08705043588611751, -0.41296039681387836, 1.6468689809139507, -1.2191028264563968, 0.06846210845743836, 1.0803348505760164, 0.3663395830326163, -0.3837984909897694, -1.7462365995629416, 0.9324003722594186, -0.3038268359150439, -0.8786412238263824, -1.419891446791575, 2.163490032952582, -0.8058230604185269, 0.10256406153351981, 1.1139069699129942, 0.49417906199734707, 0.8760823766737829, -0.8948518726206427, -1.335563279231745, -0.27351425817938646, -1.6530349045940977, 0.7796901069802878, 0.3178371041948017, -0.5673257372555445, -0.36103792983823196, -0.17726997277506898, 0.24843619696647495, -0.05052867323180514, -0.4471599049358513, -0.21938709534885703, -0.39712704411222405, 1.6087610337457163, -0.43113504250683504, 0.0018928069012562722, -0.9713837764015597, -0.9711257871443403, -1.201135432974757, 0.6213409054564155, -0.3869811372641256, -0.2788357101710152, -0.20400907384209452, 1.011917828496073, -0.8505328360888009, 0.2379108955912931, 0.4591865745990066, 0.448859440096995, 0.16970947821971874, 3.070837746893535, 0.6488164419269693, 1.4007575897732754, 0.17720275317090023, -1.0289729246587451, 0.14937788270135635, -1.1679017277463055, 0.9170428574901506, 0.5245942932387379, -1.2885764393890806], \"yaxis\": \"y7\"}, {\"line\": {\"color\": \"rgba(128, 128, 128, 1.0)\", \"dash\": \"solid\", \"shape\": \"linear\", \"width\": 1.3}, \"marker\": {\"size\": 2, \"symbol\": \"circle\"}, \"mode\": \"markers\", \"name\": \"B\", \"text\": \"\", \"type\": \"scatter\", \"x\": [0.10019236738679081, -0.40841508789911957, 1.0880229661305265, 0.8652643944491681, 1.3813365573972627, -0.169563633595409, 0.038547582019666356, 0.9351786616657, -1.0904950978675008, 0.19268230113792, 0.1530437529903397, -0.9610632000620131, -0.5038638512539662, -0.02868819597412543, -1.2335143536151583, 1.1044638647618985, -0.6527092429430541, -0.8502834548902157, -0.40308864747020284, 1.4624063406367676, 1.3030882168079807, 0.5241584507546425, 0.6897611065671335, 0.23926206221512422, 0.24550106500734678, 0.6909064800055937, -0.1673623231286305, 0.7936079202105257, 1.8199648806134523, 0.301111283765011, 1.0641146030563275, 0.6448701953770855, 0.2251783887729817, -0.9507188720770672, -0.7093120654633488, 1.089640515089958, 1.2809723177519126, -0.29213577576302396, 0.8401524823296217, 1.3612755483625067, -0.7887741864274915, 0.07124897413292046, -1.3512883291770754, -0.10483471513171659, -1.5414038063267268, 0.7332792909199604, -0.4939546441889498, -0.8235826072554355, -2.3004448240965285, 0.2490397916340618, -0.5990708012169211, -1.2344307225948057, -0.8966920186126316, -0.47663875979347725, 1.1507271840045061, 0.7421092404767009, -0.5914113744398791, 0.6548386359286849, -0.33790160370389055, 0.03533295024022777, 0.8938341719693075, 1.3743900300018788, -1.3341019341955622, 1.875743005624606, -1.0055707978403516, -1.6601376077024619, -1.3046740142778521, -1.018030650858319, 0.17082439143206524, -1.8726614680965534, 0.3032064240152828, 1.3407798761113288, -0.8363083792726096, 0.23864738387964837, 0.47506377189916993, -1.1069809945297964, -0.08375769526089903, 0.32085502528923615, 0.24797469587709156, 0.13233284186777314, -0.5749664374502748, 0.18924251545318685, -1.85326268569658, -2.1190778632475866, -0.28196115986216985, 0.5524679622264345, 1.4420384970602615, -0.09627353663918234, -1.0522201787108096, 0.279740918763895, 0.09830663201071498, -0.2133013467076015, 1.3106378629150464, -1.2637309305944364, -0.16618105889914972, -0.9608995743323465, -0.698163313743797, 1.6340863943666697, -0.5120062660189111, -1.3500981293658665], \"xaxis\": \"x8\", \"y\": [-1.2436419169159714, 1.5692860019949753, -0.26671888492952217, 0.2815640316896209, 1.365892470714254, -1.0966017811139082, -1.7501437821712431, -1.819809038953777, 0.3286795501646575, 0.420218601730475, -0.4526951755973082, 0.6428374710337051, -0.32814944019105596, 1.9532810324072836, -0.8371761679909756, -1.50915051301245, -0.11553875435854695, -0.19808858021679637, 0.08189178164630723, -1.1690479593556529, 0.5426510623353725, -1.569302061901453, 2.2472868053504014, -0.13122045124668472, -0.03454840736457979, 0.004013916643951113, 0.9156650742937736, -1.5630225390944321, -0.8692580183140872, 0.7776652874301425, 0.37059975574200205, -0.9999879818086167, 0.6016464734009461, 0.05210885734734563, 0.10876319643384028, 0.07223691516760487, -0.488979327879292, -1.2474974282935567, 0.30088905771553354, 0.8931102695066149, 0.6345013410633477, -0.08705043588611751, -0.41296039681387836, 1.6468689809139507, -1.2191028264563968, 0.06846210845743836, 1.0803348505760164, 0.3663395830326163, -0.3837984909897694, -1.7462365995629416, 0.9324003722594186, -0.3038268359150439, -0.8786412238263824, -1.419891446791575, 2.163490032952582, -0.8058230604185269, 0.10256406153351981, 1.1139069699129942, 0.49417906199734707, 0.8760823766737829, -0.8948518726206427, -1.335563279231745, -0.27351425817938646, -1.6530349045940977, 0.7796901069802878, 0.3178371041948017, -0.5673257372555445, -0.36103792983823196, -0.17726997277506898, 0.24843619696647495, -0.05052867323180514, -0.4471599049358513, -0.21938709534885703, -0.39712704411222405, 1.6087610337457163, -0.43113504250683504, 0.0018928069012562722, -0.9713837764015597, -0.9711257871443403, -1.201135432974757, 0.6213409054564155, -0.3869811372641256, -0.2788357101710152, -0.20400907384209452, 1.011917828496073, -0.8505328360888009, 0.2379108955912931, 0.4591865745990066, 0.448859440096995, 0.16970947821971874, 3.070837746893535, 0.6488164419269693, 1.4007575897732754, 0.17720275317090023, -1.0289729246587451, 0.14937788270135635, -1.1679017277463055, 0.9170428574901506, 0.5245942932387379, -1.2885764393890806], \"yaxis\": \"y8\"}, {\"line\": {\"color\": \"rgba(128, 128, 128, 1.0)\", \"dash\": \"solid\", \"shape\": \"linear\", \"width\": 1.3}, \"marker\": {\"size\": 2, \"symbol\": \"circle\"}, \"mode\": \"markers\", \"name\": \"C\", \"text\": \"\", \"type\": \"scatter\", \"x\": [-1.286783666232087, 0.7107277470430434, 1.2206576987234354, 2.670689230942479, -0.868396268279137, -0.7702505222952278, 0.836826113651275, -1.310807545006144, -1.1454772976981726, -1.205923510011141, 0.39104120063317915, 1.480064786672829, -0.4371817585516773, 0.31244387330147083, 0.9522665120953734, -0.9064855359217587, 0.15128185004249292, 0.15061151479926002, 0.2932767331797624, 0.07523964284633954, 0.29022474193827164, -0.15511464338925918, 0.6235611994075417, 0.385198796402805, -1.23041158492017, 0.4146485818376867, 1.3453276550476518, 2.2200082297196575, 0.4843022625460223, -0.9052875932660301, -1.2911658251962215, 1.2239386431635257, 0.5800060939722871, 0.29463938749835283, -0.5274632830251935, -0.7462578578754884, 1.692027647166309, -0.09695059770969566, 0.4881840463183823, -0.025688346575201363, -1.3490757613768838, -0.39677880092704315, 0.35675258383857994, -0.5443711678860995, -0.4195900621836775, 0.6447505960385553, -1.0972813689106393, -0.07544670673084743, -1.680269752499829, 0.5777182254380486, 0.8773588872922171, -1.2744428237723746, 0.4707650176747216, 0.184743927621629, 1.502286572568263, -0.047755807588705734, 0.12565047824483858, -2.8697574169274644, -1.7358225932178784, -0.6272506704206392, -1.4433597294484304, 2.4317752497855403, -1.4322358810549674, 0.5091222176333856, -2.303424236839607, 1.5614540931799474, 1.755253217137435, -0.8962401197499275, 0.6858890477096122, 0.45111826271025357, 0.3732627172869396, -0.11404699509388187, 0.505163811090925, 0.9893247964708458, 1.6802152688092455, 0.3775054456483596, 0.5960017865897772, 1.0021193126559254, -0.38771902641273304, 0.7260151830561632, -0.5736145908308646, 0.5696440774836763, -0.08440931256891603, 1.7580084477921427, -0.9032392980072976, -1.702458506342066, -0.3268225203948594, 0.24042744103696015, 0.3251828854999993, -0.03164848102043208, 1.1673040608017295, -0.5431973031609296, -1.9466362146927483, -0.0069860880888541945, 1.99068233702783, -0.048360909178754935, 0.4008717221536024, 0.26080632462817355, -0.31858331702889736, -0.071197295683597], \"xaxis\": \"x9\", \"y\": [0.37396880967063184, 0.485819109135621, -0.6351379982448391, 0.2741963480308266, 0.28441154644745953, -0.5689584930430098, -1.7764037059962785, 0.6939134036263318, -1.0914742699727626, 1.0095698440273608, 0.9038298373786826, 0.45684967147341277, -0.8962791345502362, 1.3612764577772003, 0.769046148307588, 0.6432139729219714, -0.1755969192591122, 2.0646430510096456, 0.32856162509179165, -0.45514672532900435, -2.0434119509245945, -0.22339369216589958, -0.4759677637897723, 0.6879343719088479, 2.0575370079714554, -0.2906158769931298, 1.6976548541724978, -0.8469992960252449, -0.13834361912647716, -0.0645035615577513, 0.38652777747444894, -1.193652114101707, 0.13798097726775968, 0.11739355751733577, -0.29005171504076405, 1.627157188783857, -0.2495570014946859, -0.9545308102971303, 0.13259597457059744, -0.6151063164608173, 1.5855852311862595, 0.3381393618125363, -1.6472132904138104, -0.2878903051600144, -0.5573359078645758, -0.2182996588047888, -0.4399013980494022, 0.018500459702916396, 0.09911511861381764, -1.310166314447082, -1.011624910552905, 0.3627672280932037, 2.1291298144680497, -1.1239492659211483, 1.132863981267986, 0.228193143647071, 1.5462397079810524, -0.37878613122449806, 0.694900629886083, -1.17025401083286, 0.9470238842420337, 0.235975316301273, 0.3485324740626605, -2.5406164262331252, -0.08002575297053341, -0.11300007122142385, -1.3401640072724892, 0.8417212679546352, 1.6329062905357954, -1.3454419101981803, 0.9372378100116274, 2.3832122889079166, 0.07327306689767413, 0.17373054974580543, -0.6647941881929376, -0.00037142532747681123, 0.7163662020598183, 0.32191937697929285, -0.4296635297447678, 0.8816471136098253, -0.14935605702660373, 0.151772180187301, 0.000528971197049543, -0.28363103855286514, 0.2737045895924919, 0.1699482265529984, -1.79500990750334, -1.1352030321961761, 0.3886533963873723, 1.1369473253097777, 0.651769135275047, -2.6241863552765903, 1.645556210994583, -1.9333901442105705, 0.20229028335327418, -0.3980462068338803, 1.7856968855129687, 1.0960542932501087, -0.3958576865717353, -0.3421841355431247], \"yaxis\": \"y9\"}, {\"line\": {\"color\": \"rgba(128, 128, 128, 1.0)\", \"dash\": \"solid\", \"shape\": \"linear\", \"width\": 1.3}, \"marker\": {\"size\": 2, \"symbol\": \"circle\"}, \"mode\": \"markers\", \"name\": \"C\", \"text\": \"\", \"type\": \"scatter\", \"x\": [-1.2436419169159714, 1.5692860019949753, -0.26671888492952217, 0.2815640316896209, 1.365892470714254, -1.0966017811139082, -1.7501437821712431, -1.819809038953777, 0.3286795501646575, 0.420218601730475, -0.4526951755973082, 0.6428374710337051, -0.32814944019105596, 1.9532810324072836, -0.8371761679909756, -1.50915051301245, -0.11553875435854695, -0.19808858021679637, 0.08189178164630723, -1.1690479593556529, 0.5426510623353725, -1.569302061901453, 2.2472868053504014, -0.13122045124668472, -0.03454840736457979, 0.004013916643951113, 0.9156650742937736, -1.5630225390944321, -0.8692580183140872, 0.7776652874301425, 0.37059975574200205, -0.9999879818086167, 0.6016464734009461, 0.05210885734734563, 0.10876319643384028, 0.07223691516760487, -0.488979327879292, -1.2474974282935567, 0.30088905771553354, 0.8931102695066149, 0.6345013410633477, -0.08705043588611751, -0.41296039681387836, 1.6468689809139507, -1.2191028264563968, 0.06846210845743836, 1.0803348505760164, 0.3663395830326163, -0.3837984909897694, -1.7462365995629416, 0.9324003722594186, -0.3038268359150439, -0.8786412238263824, -1.419891446791575, 2.163490032952582, -0.8058230604185269, 0.10256406153351981, 1.1139069699129942, 0.49417906199734707, 0.8760823766737829, -0.8948518726206427, -1.335563279231745, -0.27351425817938646, -1.6530349045940977, 0.7796901069802878, 0.3178371041948017, -0.5673257372555445, -0.36103792983823196, -0.17726997277506898, 0.24843619696647495, -0.05052867323180514, -0.4471599049358513, -0.21938709534885703, -0.39712704411222405, 1.6087610337457163, -0.43113504250683504, 0.0018928069012562722, -0.9713837764015597, -0.9711257871443403, -1.201135432974757, 0.6213409054564155, -0.3869811372641256, -0.2788357101710152, -0.20400907384209452, 1.011917828496073, -0.8505328360888009, 0.2379108955912931, 0.4591865745990066, 0.448859440096995, 0.16970947821971874, 3.070837746893535, 0.6488164419269693, 1.4007575897732754, 0.17720275317090023, -1.0289729246587451, 0.14937788270135635, -1.1679017277463055, 0.9170428574901506, 0.5245942932387379, -1.2885764393890806], \"xaxis\": \"x10\", \"y\": [0.37396880967063184, 0.485819109135621, -0.6351379982448391, 0.2741963480308266, 0.28441154644745953, -0.5689584930430098, -1.7764037059962785, 0.6939134036263318, -1.0914742699727626, 1.0095698440273608, 0.9038298373786826, 0.45684967147341277, -0.8962791345502362, 1.3612764577772003, 0.769046148307588, 0.6432139729219714, -0.1755969192591122, 2.0646430510096456, 0.32856162509179165, -0.45514672532900435, -2.0434119509245945, -0.22339369216589958, -0.4759677637897723, 0.6879343719088479, 2.0575370079714554, -0.2906158769931298, 1.6976548541724978, -0.8469992960252449, -0.13834361912647716, -0.0645035615577513, 0.38652777747444894, -1.193652114101707, 0.13798097726775968, 0.11739355751733577, -0.29005171504076405, 1.627157188783857, -0.2495570014946859, -0.9545308102971303, 0.13259597457059744, -0.6151063164608173, 1.5855852311862595, 0.3381393618125363, -1.6472132904138104, -0.2878903051600144, -0.5573359078645758, -0.2182996588047888, -0.4399013980494022, 0.018500459702916396, 0.09911511861381764, -1.310166314447082, -1.011624910552905, 0.3627672280932037, 2.1291298144680497, -1.1239492659211483, 1.132863981267986, 0.228193143647071, 1.5462397079810524, -0.37878613122449806, 0.694900629886083, -1.17025401083286, 0.9470238842420337, 0.235975316301273, 0.3485324740626605, -2.5406164262331252, -0.08002575297053341, -0.11300007122142385, -1.3401640072724892, 0.8417212679546352, 1.6329062905357954, -1.3454419101981803, 0.9372378100116274, 2.3832122889079166, 0.07327306689767413, 0.17373054974580543, -0.6647941881929376, -0.00037142532747681123, 0.7163662020598183, 0.32191937697929285, -0.4296635297447678, 0.8816471136098253, -0.14935605702660373, 0.151772180187301, 0.000528971197049543, -0.28363103855286514, 0.2737045895924919, 0.1699482265529984, -1.79500990750334, -1.1352030321961761, 0.3886533963873723, 1.1369473253097777, 0.651769135275047, -2.6241863552765903, 1.645556210994583, -1.9333901442105705, 0.20229028335327418, -0.3980462068338803, 1.7856968855129687, 1.0960542932501087, -0.3958576865717353, -0.3421841355431247], \"yaxis\": \"y10\"}, {\"histfunc\": \"count\", \"histnorm\": \"\", \"marker\": {\"color\": \"rgba(50, 171, 96, 1.0)\", \"line\": {\"color\": \"#4D5663\", \"width\": 1.3}}, \"name\": \"C\", \"nbinsx\": 10, \"opacity\": 0.8, \"orientation\": \"v\", \"type\": \"histogram\", \"x\": [0.37396880967063184, 0.485819109135621, -0.6351379982448391, 0.2741963480308266, 0.28441154644745953, -0.5689584930430098, -1.7764037059962785, 0.6939134036263318, -1.0914742699727626, 1.0095698440273608, 0.9038298373786826, 0.45684967147341277, -0.8962791345502362, 1.3612764577772003, 0.769046148307588, 0.6432139729219714, -0.1755969192591122, 2.0646430510096456, 0.32856162509179165, -0.45514672532900435, -2.0434119509245945, -0.22339369216589958, -0.4759677637897723, 0.6879343719088479, 2.0575370079714554, -0.2906158769931298, 1.6976548541724978, -0.8469992960252449, -0.13834361912647716, -0.0645035615577513, 0.38652777747444894, -1.193652114101707, 0.13798097726775968, 0.11739355751733577, -0.29005171504076405, 1.627157188783857, -0.2495570014946859, -0.9545308102971303, 0.13259597457059744, -0.6151063164608173, 1.5855852311862595, 0.3381393618125363, -1.6472132904138104, -0.2878903051600144, -0.5573359078645758, -0.2182996588047888, -0.4399013980494022, 0.018500459702916396, 0.09911511861381764, -1.310166314447082, -1.011624910552905, 0.3627672280932037, 2.1291298144680497, -1.1239492659211483, 1.132863981267986, 0.228193143647071, 1.5462397079810524, -0.37878613122449806, 0.694900629886083, -1.17025401083286, 0.9470238842420337, 0.235975316301273, 0.3485324740626605, -2.5406164262331252, -0.08002575297053341, -0.11300007122142385, -1.3401640072724892, 0.8417212679546352, 1.6329062905357954, -1.3454419101981803, 0.9372378100116274, 2.3832122889079166, 0.07327306689767413, 0.17373054974580543, -0.6647941881929376, -0.00037142532747681123, 0.7163662020598183, 0.32191937697929285, -0.4296635297447678, 0.8816471136098253, -0.14935605702660373, 0.151772180187301, 0.000528971197049543, -0.28363103855286514, 0.2737045895924919, 0.1699482265529984, -1.79500990750334, -1.1352030321961761, 0.3886533963873723, 1.1369473253097777, 0.651769135275047, -2.6241863552765903, 1.645556210994583, -1.9333901442105705, 0.20229028335327418, -0.3980462068338803, 1.7856968855129687, 1.0960542932501087, -0.3958576865717353, -0.3421841355431247], \"xaxis\": \"x11\", \"yaxis\": \"y11\"}, {\"line\": {\"color\": \"rgba(128, 128, 128, 1.0)\", \"dash\": \"solid\", \"shape\": \"linear\", \"width\": 1.3}, \"marker\": {\"size\": 2, \"symbol\": \"circle\"}, \"mode\": \"markers\", \"name\": \"C\", \"text\": \"\", \"type\": \"scatter\", \"x\": [0.10019236738679081, -0.40841508789911957, 1.0880229661305265, 0.8652643944491681, 1.3813365573972627, -0.169563633595409, 0.038547582019666356, 0.9351786616657, -1.0904950978675008, 0.19268230113792, 0.1530437529903397, -0.9610632000620131, -0.5038638512539662, -0.02868819597412543, -1.2335143536151583, 1.1044638647618985, -0.6527092429430541, -0.8502834548902157, -0.40308864747020284, 1.4624063406367676, 1.3030882168079807, 0.5241584507546425, 0.6897611065671335, 0.23926206221512422, 0.24550106500734678, 0.6909064800055937, -0.1673623231286305, 0.7936079202105257, 1.8199648806134523, 0.301111283765011, 1.0641146030563275, 0.6448701953770855, 0.2251783887729817, -0.9507188720770672, -0.7093120654633488, 1.089640515089958, 1.2809723177519126, -0.29213577576302396, 0.8401524823296217, 1.3612755483625067, -0.7887741864274915, 0.07124897413292046, -1.3512883291770754, -0.10483471513171659, -1.5414038063267268, 0.7332792909199604, -0.4939546441889498, -0.8235826072554355, -2.3004448240965285, 0.2490397916340618, -0.5990708012169211, -1.2344307225948057, -0.8966920186126316, -0.47663875979347725, 1.1507271840045061, 0.7421092404767009, -0.5914113744398791, 0.6548386359286849, -0.33790160370389055, 0.03533295024022777, 0.8938341719693075, 1.3743900300018788, -1.3341019341955622, 1.875743005624606, -1.0055707978403516, -1.6601376077024619, -1.3046740142778521, -1.018030650858319, 0.17082439143206524, -1.8726614680965534, 0.3032064240152828, 1.3407798761113288, -0.8363083792726096, 0.23864738387964837, 0.47506377189916993, -1.1069809945297964, -0.08375769526089903, 0.32085502528923615, 0.24797469587709156, 0.13233284186777314, -0.5749664374502748, 0.18924251545318685, -1.85326268569658, -2.1190778632475866, -0.28196115986216985, 0.5524679622264345, 1.4420384970602615, -0.09627353663918234, -1.0522201787108096, 0.279740918763895, 0.09830663201071498, -0.2133013467076015, 1.3106378629150464, -1.2637309305944364, -0.16618105889914972, -0.9608995743323465, -0.698163313743797, 1.6340863943666697, -0.5120062660189111, -1.3500981293658665], \"xaxis\": \"x12\", \"y\": [0.37396880967063184, 0.485819109135621, -0.6351379982448391, 0.2741963480308266, 0.28441154644745953, -0.5689584930430098, -1.7764037059962785, 0.6939134036263318, -1.0914742699727626, 1.0095698440273608, 0.9038298373786826, 0.45684967147341277, -0.8962791345502362, 1.3612764577772003, 0.769046148307588, 0.6432139729219714, -0.1755969192591122, 2.0646430510096456, 0.32856162509179165, -0.45514672532900435, -2.0434119509245945, -0.22339369216589958, -0.4759677637897723, 0.6879343719088479, 2.0575370079714554, -0.2906158769931298, 1.6976548541724978, -0.8469992960252449, -0.13834361912647716, -0.0645035615577513, 0.38652777747444894, -1.193652114101707, 0.13798097726775968, 0.11739355751733577, -0.29005171504076405, 1.627157188783857, -0.2495570014946859, -0.9545308102971303, 0.13259597457059744, -0.6151063164608173, 1.5855852311862595, 0.3381393618125363, -1.6472132904138104, -0.2878903051600144, -0.5573359078645758, -0.2182996588047888, -0.4399013980494022, 0.018500459702916396, 0.09911511861381764, -1.310166314447082, -1.011624910552905, 0.3627672280932037, 2.1291298144680497, -1.1239492659211483, 1.132863981267986, 0.228193143647071, 1.5462397079810524, -0.37878613122449806, 0.694900629886083, -1.17025401083286, 0.9470238842420337, 0.235975316301273, 0.3485324740626605, -2.5406164262331252, -0.08002575297053341, -0.11300007122142385, -1.3401640072724892, 0.8417212679546352, 1.6329062905357954, -1.3454419101981803, 0.9372378100116274, 2.3832122889079166, 0.07327306689767413, 0.17373054974580543, -0.6647941881929376, -0.00037142532747681123, 0.7163662020598183, 0.32191937697929285, -0.4296635297447678, 0.8816471136098253, -0.14935605702660373, 0.151772180187301, 0.000528971197049543, -0.28363103855286514, 0.2737045895924919, 0.1699482265529984, -1.79500990750334, -1.1352030321961761, 0.3886533963873723, 1.1369473253097777, 0.651769135275047, -2.6241863552765903, 1.645556210994583, -1.9333901442105705, 0.20229028335327418, -0.3980462068338803, 1.7856968855129687, 1.0960542932501087, -0.3958576865717353, -0.3421841355431247], \"yaxis\": \"y12\"}, {\"line\": {\"color\": \"rgba(128, 128, 128, 1.0)\", \"dash\": \"solid\", \"shape\": \"linear\", \"width\": 1.3}, \"marker\": {\"size\": 2, \"symbol\": \"circle\"}, \"mode\": \"markers\", \"name\": \"D\", \"text\": \"\", \"type\": \"scatter\", \"x\": [-1.286783666232087, 0.7107277470430434, 1.2206576987234354, 2.670689230942479, -0.868396268279137, -0.7702505222952278, 0.836826113651275, -1.310807545006144, -1.1454772976981726, -1.205923510011141, 0.39104120063317915, 1.480064786672829, -0.4371817585516773, 0.31244387330147083, 0.9522665120953734, -0.9064855359217587, 0.15128185004249292, 0.15061151479926002, 0.2932767331797624, 0.07523964284633954, 0.29022474193827164, -0.15511464338925918, 0.6235611994075417, 0.385198796402805, -1.23041158492017, 0.4146485818376867, 1.3453276550476518, 2.2200082297196575, 0.4843022625460223, -0.9052875932660301, -1.2911658251962215, 1.2239386431635257, 0.5800060939722871, 0.29463938749835283, -0.5274632830251935, -0.7462578578754884, 1.692027647166309, -0.09695059770969566, 0.4881840463183823, -0.025688346575201363, -1.3490757613768838, -0.39677880092704315, 0.35675258383857994, -0.5443711678860995, -0.4195900621836775, 0.6447505960385553, -1.0972813689106393, -0.07544670673084743, -1.680269752499829, 0.5777182254380486, 0.8773588872922171, -1.2744428237723746, 0.4707650176747216, 0.184743927621629, 1.502286572568263, -0.047755807588705734, 0.12565047824483858, -2.8697574169274644, -1.7358225932178784, -0.6272506704206392, -1.4433597294484304, 2.4317752497855403, -1.4322358810549674, 0.5091222176333856, -2.303424236839607, 1.5614540931799474, 1.755253217137435, -0.8962401197499275, 0.6858890477096122, 0.45111826271025357, 0.3732627172869396, -0.11404699509388187, 0.505163811090925, 0.9893247964708458, 1.6802152688092455, 0.3775054456483596, 0.5960017865897772, 1.0021193126559254, -0.38771902641273304, 0.7260151830561632, -0.5736145908308646, 0.5696440774836763, -0.08440931256891603, 1.7580084477921427, -0.9032392980072976, -1.702458506342066, -0.3268225203948594, 0.24042744103696015, 0.3251828854999993, -0.03164848102043208, 1.1673040608017295, -0.5431973031609296, -1.9466362146927483, -0.0069860880888541945, 1.99068233702783, -0.048360909178754935, 0.4008717221536024, 0.26080632462817355, -0.31858331702889736, -0.071197295683597], \"xaxis\": \"x13\", \"y\": [0.10019236738679081, -0.40841508789911957, 1.0880229661305265, 0.8652643944491681, 1.3813365573972627, -0.169563633595409, 0.038547582019666356, 0.9351786616657, -1.0904950978675008, 0.19268230113792, 0.1530437529903397, -0.9610632000620131, -0.5038638512539662, -0.02868819597412543, -1.2335143536151583, 1.1044638647618985, -0.6527092429430541, -0.8502834548902157, -0.40308864747020284, 1.4624063406367676, 1.3030882168079807, 0.5241584507546425, 0.6897611065671335, 0.23926206221512422, 0.24550106500734678, 0.6909064800055937, -0.1673623231286305, 0.7936079202105257, 1.8199648806134523, 0.301111283765011, 1.0641146030563275, 0.6448701953770855, 0.2251783887729817, -0.9507188720770672, -0.7093120654633488, 1.089640515089958, 1.2809723177519126, -0.29213577576302396, 0.8401524823296217, 1.3612755483625067, -0.7887741864274915, 0.07124897413292046, -1.3512883291770754, -0.10483471513171659, -1.5414038063267268, 0.7332792909199604, -0.4939546441889498, -0.8235826072554355, -2.3004448240965285, 0.2490397916340618, -0.5990708012169211, -1.2344307225948057, -0.8966920186126316, -0.47663875979347725, 1.1507271840045061, 0.7421092404767009, -0.5914113744398791, 0.6548386359286849, -0.33790160370389055, 0.03533295024022777, 0.8938341719693075, 1.3743900300018788, -1.3341019341955622, 1.875743005624606, -1.0055707978403516, -1.6601376077024619, -1.3046740142778521, -1.018030650858319, 0.17082439143206524, -1.8726614680965534, 0.3032064240152828, 1.3407798761113288, -0.8363083792726096, 0.23864738387964837, 0.47506377189916993, -1.1069809945297964, -0.08375769526089903, 0.32085502528923615, 0.24797469587709156, 0.13233284186777314, -0.5749664374502748, 0.18924251545318685, -1.85326268569658, -2.1190778632475866, -0.28196115986216985, 0.5524679622264345, 1.4420384970602615, -0.09627353663918234, -1.0522201787108096, 0.279740918763895, 0.09830663201071498, -0.2133013467076015, 1.3106378629150464, -1.2637309305944364, -0.16618105889914972, -0.9608995743323465, -0.698163313743797, 1.6340863943666697, -0.5120062660189111, -1.3500981293658665], \"yaxis\": \"y13\"}, {\"line\": {\"color\": \"rgba(128, 128, 128, 1.0)\", \"dash\": \"solid\", \"shape\": \"linear\", \"width\": 1.3}, \"marker\": {\"size\": 2, \"symbol\": \"circle\"}, \"mode\": \"markers\", \"name\": \"D\", \"text\": \"\", \"type\": \"scatter\", \"x\": [-1.2436419169159714, 1.5692860019949753, -0.26671888492952217, 0.2815640316896209, 1.365892470714254, -1.0966017811139082, -1.7501437821712431, -1.819809038953777, 0.3286795501646575, 0.420218601730475, -0.4526951755973082, 0.6428374710337051, -0.32814944019105596, 1.9532810324072836, -0.8371761679909756, -1.50915051301245, -0.11553875435854695, -0.19808858021679637, 0.08189178164630723, -1.1690479593556529, 0.5426510623353725, -1.569302061901453, 2.2472868053504014, -0.13122045124668472, -0.03454840736457979, 0.004013916643951113, 0.9156650742937736, -1.5630225390944321, -0.8692580183140872, 0.7776652874301425, 0.37059975574200205, -0.9999879818086167, 0.6016464734009461, 0.05210885734734563, 0.10876319643384028, 0.07223691516760487, -0.488979327879292, -1.2474974282935567, 0.30088905771553354, 0.8931102695066149, 0.6345013410633477, -0.08705043588611751, -0.41296039681387836, 1.6468689809139507, -1.2191028264563968, 0.06846210845743836, 1.0803348505760164, 0.3663395830326163, -0.3837984909897694, -1.7462365995629416, 0.9324003722594186, -0.3038268359150439, -0.8786412238263824, -1.419891446791575, 2.163490032952582, -0.8058230604185269, 0.10256406153351981, 1.1139069699129942, 0.49417906199734707, 0.8760823766737829, -0.8948518726206427, -1.335563279231745, -0.27351425817938646, -1.6530349045940977, 0.7796901069802878, 0.3178371041948017, -0.5673257372555445, -0.36103792983823196, -0.17726997277506898, 0.24843619696647495, -0.05052867323180514, -0.4471599049358513, -0.21938709534885703, -0.39712704411222405, 1.6087610337457163, -0.43113504250683504, 0.0018928069012562722, -0.9713837764015597, -0.9711257871443403, -1.201135432974757, 0.6213409054564155, -0.3869811372641256, -0.2788357101710152, -0.20400907384209452, 1.011917828496073, -0.8505328360888009, 0.2379108955912931, 0.4591865745990066, 0.448859440096995, 0.16970947821971874, 3.070837746893535, 0.6488164419269693, 1.4007575897732754, 0.17720275317090023, -1.0289729246587451, 0.14937788270135635, -1.1679017277463055, 0.9170428574901506, 0.5245942932387379, -1.2885764393890806], \"xaxis\": \"x14\", \"y\": [0.10019236738679081, -0.40841508789911957, 1.0880229661305265, 0.8652643944491681, 1.3813365573972627, -0.169563633595409, 0.038547582019666356, 0.9351786616657, -1.0904950978675008, 0.19268230113792, 0.1530437529903397, -0.9610632000620131, -0.5038638512539662, -0.02868819597412543, -1.2335143536151583, 1.1044638647618985, -0.6527092429430541, -0.8502834548902157, -0.40308864747020284, 1.4624063406367676, 1.3030882168079807, 0.5241584507546425, 0.6897611065671335, 0.23926206221512422, 0.24550106500734678, 0.6909064800055937, -0.1673623231286305, 0.7936079202105257, 1.8199648806134523, 0.301111283765011, 1.0641146030563275, 0.6448701953770855, 0.2251783887729817, -0.9507188720770672, -0.7093120654633488, 1.089640515089958, 1.2809723177519126, -0.29213577576302396, 0.8401524823296217, 1.3612755483625067, -0.7887741864274915, 0.07124897413292046, -1.3512883291770754, -0.10483471513171659, -1.5414038063267268, 0.7332792909199604, -0.4939546441889498, -0.8235826072554355, -2.3004448240965285, 0.2490397916340618, -0.5990708012169211, -1.2344307225948057, -0.8966920186126316, -0.47663875979347725, 1.1507271840045061, 0.7421092404767009, -0.5914113744398791, 0.6548386359286849, -0.33790160370389055, 0.03533295024022777, 0.8938341719693075, 1.3743900300018788, -1.3341019341955622, 1.875743005624606, -1.0055707978403516, -1.6601376077024619, -1.3046740142778521, -1.018030650858319, 0.17082439143206524, -1.8726614680965534, 0.3032064240152828, 1.3407798761113288, -0.8363083792726096, 0.23864738387964837, 0.47506377189916993, -1.1069809945297964, -0.08375769526089903, 0.32085502528923615, 0.24797469587709156, 0.13233284186777314, -0.5749664374502748, 0.18924251545318685, -1.85326268569658, -2.1190778632475866, -0.28196115986216985, 0.5524679622264345, 1.4420384970602615, -0.09627353663918234, -1.0522201787108096, 0.279740918763895, 0.09830663201071498, -0.2133013467076015, 1.3106378629150464, -1.2637309305944364, -0.16618105889914972, -0.9608995743323465, -0.698163313743797, 1.6340863943666697, -0.5120062660189111, -1.3500981293658665], \"yaxis\": \"y14\"}, {\"line\": {\"color\": \"rgba(128, 128, 128, 1.0)\", \"dash\": \"solid\", \"shape\": \"linear\", \"width\": 1.3}, \"marker\": {\"size\": 2, \"symbol\": \"circle\"}, \"mode\": \"markers\", \"name\": \"D\", \"text\": \"\", \"type\": \"scatter\", \"x\": [0.37396880967063184, 0.485819109135621, -0.6351379982448391, 0.2741963480308266, 0.28441154644745953, -0.5689584930430098, -1.7764037059962785, 0.6939134036263318, -1.0914742699727626, 1.0095698440273608, 0.9038298373786826, 0.45684967147341277, -0.8962791345502362, 1.3612764577772003, 0.769046148307588, 0.6432139729219714, -0.1755969192591122, 2.0646430510096456, 0.32856162509179165, -0.45514672532900435, -2.0434119509245945, -0.22339369216589958, -0.4759677637897723, 0.6879343719088479, 2.0575370079714554, -0.2906158769931298, 1.6976548541724978, -0.8469992960252449, -0.13834361912647716, -0.0645035615577513, 0.38652777747444894, -1.193652114101707, 0.13798097726775968, 0.11739355751733577, -0.29005171504076405, 1.627157188783857, -0.2495570014946859, -0.9545308102971303, 0.13259597457059744, -0.6151063164608173, 1.5855852311862595, 0.3381393618125363, -1.6472132904138104, -0.2878903051600144, -0.5573359078645758, -0.2182996588047888, -0.4399013980494022, 0.018500459702916396, 0.09911511861381764, -1.310166314447082, -1.011624910552905, 0.3627672280932037, 2.1291298144680497, -1.1239492659211483, 1.132863981267986, 0.228193143647071, 1.5462397079810524, -0.37878613122449806, 0.694900629886083, -1.17025401083286, 0.9470238842420337, 0.235975316301273, 0.3485324740626605, -2.5406164262331252, -0.08002575297053341, -0.11300007122142385, -1.3401640072724892, 0.8417212679546352, 1.6329062905357954, -1.3454419101981803, 0.9372378100116274, 2.3832122889079166, 0.07327306689767413, 0.17373054974580543, -0.6647941881929376, -0.00037142532747681123, 0.7163662020598183, 0.32191937697929285, -0.4296635297447678, 0.8816471136098253, -0.14935605702660373, 0.151772180187301, 0.000528971197049543, -0.28363103855286514, 0.2737045895924919, 0.1699482265529984, -1.79500990750334, -1.1352030321961761, 0.3886533963873723, 1.1369473253097777, 0.651769135275047, -2.6241863552765903, 1.645556210994583, -1.9333901442105705, 0.20229028335327418, -0.3980462068338803, 1.7856968855129687, 1.0960542932501087, -0.3958576865717353, -0.3421841355431247], \"xaxis\": \"x15\", \"y\": [0.10019236738679081, -0.40841508789911957, 1.0880229661305265, 0.8652643944491681, 1.3813365573972627, -0.169563633595409, 0.038547582019666356, 0.9351786616657, -1.0904950978675008, 0.19268230113792, 0.1530437529903397, -0.9610632000620131, -0.5038638512539662, -0.02868819597412543, -1.2335143536151583, 1.1044638647618985, -0.6527092429430541, -0.8502834548902157, -0.40308864747020284, 1.4624063406367676, 1.3030882168079807, 0.5241584507546425, 0.6897611065671335, 0.23926206221512422, 0.24550106500734678, 0.6909064800055937, -0.1673623231286305, 0.7936079202105257, 1.8199648806134523, 0.301111283765011, 1.0641146030563275, 0.6448701953770855, 0.2251783887729817, -0.9507188720770672, -0.7093120654633488, 1.089640515089958, 1.2809723177519126, -0.29213577576302396, 0.8401524823296217, 1.3612755483625067, -0.7887741864274915, 0.07124897413292046, -1.3512883291770754, -0.10483471513171659, -1.5414038063267268, 0.7332792909199604, -0.4939546441889498, -0.8235826072554355, -2.3004448240965285, 0.2490397916340618, -0.5990708012169211, -1.2344307225948057, -0.8966920186126316, -0.47663875979347725, 1.1507271840045061, 0.7421092404767009, -0.5914113744398791, 0.6548386359286849, -0.33790160370389055, 0.03533295024022777, 0.8938341719693075, 1.3743900300018788, -1.3341019341955622, 1.875743005624606, -1.0055707978403516, -1.6601376077024619, -1.3046740142778521, -1.018030650858319, 0.17082439143206524, -1.8726614680965534, 0.3032064240152828, 1.3407798761113288, -0.8363083792726096, 0.23864738387964837, 0.47506377189916993, -1.1069809945297964, -0.08375769526089903, 0.32085502528923615, 0.24797469587709156, 0.13233284186777314, -0.5749664374502748, 0.18924251545318685, -1.85326268569658, -2.1190778632475866, -0.28196115986216985, 0.5524679622264345, 1.4420384970602615, -0.09627353663918234, -1.0522201787108096, 0.279740918763895, 0.09830663201071498, -0.2133013467076015, 1.3106378629150464, -1.2637309305944364, -0.16618105889914972, -0.9608995743323465, -0.698163313743797, 1.6340863943666697, -0.5120062660189111, -1.3500981293658665], \"yaxis\": \"y15\"}, {\"histfunc\": \"count\", \"histnorm\": \"\", \"marker\": {\"color\": \"rgba(128, 0, 128, 1.0)\", \"line\": {\"color\": \"#4D5663\", \"width\": 1.3}}, \"name\": \"D\", \"nbinsx\": 10, \"opacity\": 0.8, \"orientation\": \"v\", \"type\": \"histogram\", \"x\": [0.10019236738679081, -0.40841508789911957, 1.0880229661305265, 0.8652643944491681, 1.3813365573972627, -0.169563633595409, 0.038547582019666356, 0.9351786616657, -1.0904950978675008, 0.19268230113792, 0.1530437529903397, -0.9610632000620131, -0.5038638512539662, -0.02868819597412543, -1.2335143536151583, 1.1044638647618985, -0.6527092429430541, -0.8502834548902157, -0.40308864747020284, 1.4624063406367676, 1.3030882168079807, 0.5241584507546425, 0.6897611065671335, 0.23926206221512422, 0.24550106500734678, 0.6909064800055937, -0.1673623231286305, 0.7936079202105257, 1.8199648806134523, 0.301111283765011, 1.0641146030563275, 0.6448701953770855, 0.2251783887729817, -0.9507188720770672, -0.7093120654633488, 1.089640515089958, 1.2809723177519126, -0.29213577576302396, 0.8401524823296217, 1.3612755483625067, -0.7887741864274915, 0.07124897413292046, -1.3512883291770754, -0.10483471513171659, -1.5414038063267268, 0.7332792909199604, -0.4939546441889498, -0.8235826072554355, -2.3004448240965285, 0.2490397916340618, -0.5990708012169211, -1.2344307225948057, -0.8966920186126316, -0.47663875979347725, 1.1507271840045061, 0.7421092404767009, -0.5914113744398791, 0.6548386359286849, -0.33790160370389055, 0.03533295024022777, 0.8938341719693075, 1.3743900300018788, -1.3341019341955622, 1.875743005624606, -1.0055707978403516, -1.6601376077024619, -1.3046740142778521, -1.018030650858319, 0.17082439143206524, -1.8726614680965534, 0.3032064240152828, 1.3407798761113288, -0.8363083792726096, 0.23864738387964837, 0.47506377189916993, -1.1069809945297964, -0.08375769526089903, 0.32085502528923615, 0.24797469587709156, 0.13233284186777314, -0.5749664374502748, 0.18924251545318685, -1.85326268569658, -2.1190778632475866, -0.28196115986216985, 0.5524679622264345, 1.4420384970602615, -0.09627353663918234, -1.0522201787108096, 0.279740918763895, 0.09830663201071498, -0.2133013467076015, 1.3106378629150464, -1.2637309305944364, -0.16618105889914972, -0.9608995743323465, -0.698163313743797, 1.6340863943666697, -0.5120062660189111, -1.3500981293658665], \"xaxis\": \"x16\", \"yaxis\": \"y16\"}],                        {\"bargap\": 0.02, \"legend\": {\"bgcolor\": \"#F5F6F9\", \"font\": {\"color\": \"#4D5663\"}}, \"paper_bgcolor\": \"#F5F6F9\", \"plot_bgcolor\": \"#F5F6F9\", \"showlegend\": false, \"template\": {\"data\": {\"bar\": [{\"error_x\": {\"color\": \"#2a3f5f\"}, \"error_y\": {\"color\": \"#2a3f5f\"}, \"marker\": {\"line\": {\"color\": \"#E5ECF6\", \"width\": 0.5}}, \"type\": \"bar\"}], \"barpolar\": [{\"marker\": {\"line\": {\"color\": \"#E5ECF6\", \"width\": 0.5}}, \"type\": \"barpolar\"}], \"carpet\": [{\"aaxis\": {\"endlinecolor\": \"#2a3f5f\", \"gridcolor\": \"white\", \"linecolor\": \"white\", \"minorgridcolor\": \"white\", \"startlinecolor\": \"#2a3f5f\"}, \"baxis\": {\"endlinecolor\": \"#2a3f5f\", \"gridcolor\": \"white\", \"linecolor\": \"white\", \"minorgridcolor\": \"white\", \"startlinecolor\": \"#2a3f5f\"}, \"type\": \"carpet\"}], \"choropleth\": [{\"colorbar\": {\"outlinewidth\": 0, \"ticks\": \"\"}, \"type\": \"choropleth\"}], \"contour\": [{\"colorbar\": {\"outlinewidth\": 0, \"ticks\": \"\"}, \"colorscale\": [[0.0, \"#0d0887\"], [0.1111111111111111, \"#46039f\"], [0.2222222222222222, \"#7201a8\"], [0.3333333333333333, \"#9c179e\"], [0.4444444444444444, \"#bd3786\"], [0.5555555555555556, \"#d8576b\"], [0.6666666666666666, \"#ed7953\"], [0.7777777777777778, \"#fb9f3a\"], [0.8888888888888888, \"#fdca26\"], [1.0, \"#f0f921\"]], \"type\": \"contour\"}], \"contourcarpet\": [{\"colorbar\": {\"outlinewidth\": 0, \"ticks\": \"\"}, \"type\": \"contourcarpet\"}], \"heatmap\": [{\"colorbar\": {\"outlinewidth\": 0, \"ticks\": \"\"}, \"colorscale\": [[0.0, \"#0d0887\"], [0.1111111111111111, \"#46039f\"], [0.2222222222222222, \"#7201a8\"], [0.3333333333333333, \"#9c179e\"], [0.4444444444444444, \"#bd3786\"], [0.5555555555555556, \"#d8576b\"], [0.6666666666666666, \"#ed7953\"], [0.7777777777777778, \"#fb9f3a\"], [0.8888888888888888, \"#fdca26\"], [1.0, \"#f0f921\"]], \"type\": \"heatmap\"}], \"heatmapgl\": [{\"colorbar\": {\"outlinewidth\": 0, \"ticks\": \"\"}, \"colorscale\": [[0.0, \"#0d0887\"], [0.1111111111111111, \"#46039f\"], [0.2222222222222222, \"#7201a8\"], [0.3333333333333333, \"#9c179e\"], [0.4444444444444444, \"#bd3786\"], [0.5555555555555556, \"#d8576b\"], [0.6666666666666666, \"#ed7953\"], [0.7777777777777778, \"#fb9f3a\"], [0.8888888888888888, \"#fdca26\"], [1.0, \"#f0f921\"]], \"type\": \"heatmapgl\"}], \"histogram\": [{\"marker\": {\"colorbar\": {\"outlinewidth\": 0, \"ticks\": \"\"}}, \"type\": \"histogram\"}], \"histogram2d\": [{\"colorbar\": {\"outlinewidth\": 0, \"ticks\": \"\"}, \"colorscale\": [[0.0, \"#0d0887\"], [0.1111111111111111, \"#46039f\"], [0.2222222222222222, \"#7201a8\"], [0.3333333333333333, \"#9c179e\"], [0.4444444444444444, \"#bd3786\"], [0.5555555555555556, \"#d8576b\"], [0.6666666666666666, \"#ed7953\"], [0.7777777777777778, \"#fb9f3a\"], [0.8888888888888888, \"#fdca26\"], [1.0, \"#f0f921\"]], \"type\": \"histogram2d\"}], \"histogram2dcontour\": [{\"colorbar\": {\"outlinewidth\": 0, \"ticks\": \"\"}, \"colorscale\": [[0.0, \"#0d0887\"], [0.1111111111111111, \"#46039f\"], [0.2222222222222222, \"#7201a8\"], [0.3333333333333333, \"#9c179e\"], [0.4444444444444444, \"#bd3786\"], [0.5555555555555556, \"#d8576b\"], [0.6666666666666666, \"#ed7953\"], [0.7777777777777778, \"#fb9f3a\"], [0.8888888888888888, \"#fdca26\"], [1.0, \"#f0f921\"]], \"type\": \"histogram2dcontour\"}], \"mesh3d\": [{\"colorbar\": {\"outlinewidth\": 0, \"ticks\": \"\"}, \"type\": \"mesh3d\"}], \"parcoords\": [{\"line\": {\"colorbar\": {\"outlinewidth\": 0, \"ticks\": \"\"}}, \"type\": \"parcoords\"}], \"pie\": [{\"automargin\": true, \"type\": \"pie\"}], \"scatter\": [{\"marker\": {\"colorbar\": {\"outlinewidth\": 0, \"ticks\": \"\"}}, \"type\": \"scatter\"}], \"scatter3d\": [{\"line\": {\"colorbar\": {\"outlinewidth\": 0, \"ticks\": \"\"}}, \"marker\": {\"colorbar\": {\"outlinewidth\": 0, \"ticks\": \"\"}}, \"type\": \"scatter3d\"}], \"scattercarpet\": [{\"marker\": {\"colorbar\": {\"outlinewidth\": 0, \"ticks\": \"\"}}, \"type\": \"scattercarpet\"}], \"scattergeo\": [{\"marker\": {\"colorbar\": {\"outlinewidth\": 0, \"ticks\": \"\"}}, \"type\": \"scattergeo\"}], \"scattergl\": [{\"marker\": {\"colorbar\": {\"outlinewidth\": 0, \"ticks\": \"\"}}, \"type\": \"scattergl\"}], \"scattermapbox\": [{\"marker\": {\"colorbar\": {\"outlinewidth\": 0, \"ticks\": \"\"}}, \"type\": \"scattermapbox\"}], \"scatterpolar\": [{\"marker\": {\"colorbar\": {\"outlinewidth\": 0, \"ticks\": \"\"}}, \"type\": \"scatterpolar\"}], \"scatterpolargl\": [{\"marker\": {\"colorbar\": {\"outlinewidth\": 0, \"ticks\": \"\"}}, \"type\": \"scatterpolargl\"}], \"scatterternary\": [{\"marker\": {\"colorbar\": {\"outlinewidth\": 0, \"ticks\": \"\"}}, \"type\": \"scatterternary\"}], \"surface\": [{\"colorbar\": {\"outlinewidth\": 0, \"ticks\": \"\"}, \"colorscale\": [[0.0, \"#0d0887\"], [0.1111111111111111, \"#46039f\"], [0.2222222222222222, \"#7201a8\"], [0.3333333333333333, \"#9c179e\"], [0.4444444444444444, \"#bd3786\"], [0.5555555555555556, \"#d8576b\"], [0.6666666666666666, \"#ed7953\"], [0.7777777777777778, \"#fb9f3a\"], [0.8888888888888888, \"#fdca26\"], [1.0, \"#f0f921\"]], \"type\": \"surface\"}], \"table\": [{\"cells\": {\"fill\": {\"color\": \"#EBF0F8\"}, \"line\": {\"color\": \"white\"}}, \"header\": {\"fill\": {\"color\": \"#C8D4E3\"}, \"line\": {\"color\": \"white\"}}, \"type\": \"table\"}]}, \"layout\": {\"annotationdefaults\": {\"arrowcolor\": \"#2a3f5f\", \"arrowhead\": 0, \"arrowwidth\": 1}, \"autotypenumbers\": \"strict\", \"coloraxis\": {\"colorbar\": {\"outlinewidth\": 0, \"ticks\": \"\"}}, \"colorscale\": {\"diverging\": [[0, \"#8e0152\"], [0.1, \"#c51b7d\"], [0.2, \"#de77ae\"], [0.3, \"#f1b6da\"], [0.4, \"#fde0ef\"], [0.5, \"#f7f7f7\"], [0.6, \"#e6f5d0\"], [0.7, \"#b8e186\"], [0.8, \"#7fbc41\"], [0.9, \"#4d9221\"], [1, \"#276419\"]], \"sequential\": [[0.0, \"#0d0887\"], [0.1111111111111111, \"#46039f\"], [0.2222222222222222, \"#7201a8\"], [0.3333333333333333, \"#9c179e\"], [0.4444444444444444, \"#bd3786\"], [0.5555555555555556, \"#d8576b\"], [0.6666666666666666, \"#ed7953\"], [0.7777777777777778, \"#fb9f3a\"], [0.8888888888888888, \"#fdca26\"], [1.0, \"#f0f921\"]], \"sequentialminus\": [[0.0, \"#0d0887\"], [0.1111111111111111, \"#46039f\"], [0.2222222222222222, \"#7201a8\"], [0.3333333333333333, \"#9c179e\"], [0.4444444444444444, \"#bd3786\"], [0.5555555555555556, \"#d8576b\"], [0.6666666666666666, \"#ed7953\"], [0.7777777777777778, \"#fb9f3a\"], [0.8888888888888888, \"#fdca26\"], [1.0, \"#f0f921\"]]}, \"colorway\": [\"#636efa\", \"#EF553B\", \"#00cc96\", \"#ab63fa\", \"#FFA15A\", \"#19d3f3\", \"#FF6692\", \"#B6E880\", \"#FF97FF\", \"#FECB52\"], \"font\": {\"color\": \"#2a3f5f\"}, \"geo\": {\"bgcolor\": \"white\", \"lakecolor\": \"white\", \"landcolor\": \"#E5ECF6\", \"showlakes\": true, \"showland\": true, \"subunitcolor\": \"white\"}, \"hoverlabel\": {\"align\": \"left\"}, \"hovermode\": \"closest\", \"mapbox\": {\"style\": \"light\"}, \"paper_bgcolor\": \"white\", \"plot_bgcolor\": \"#E5ECF6\", \"polar\": {\"angularaxis\": {\"gridcolor\": \"white\", \"linecolor\": \"white\", \"ticks\": \"\"}, \"bgcolor\": \"#E5ECF6\", \"radialaxis\": {\"gridcolor\": \"white\", \"linecolor\": \"white\", \"ticks\": \"\"}}, \"scene\": {\"xaxis\": {\"backgroundcolor\": \"#E5ECF6\", \"gridcolor\": \"white\", \"gridwidth\": 2, \"linecolor\": \"white\", \"showbackground\": true, \"ticks\": \"\", \"zerolinecolor\": \"white\"}, \"yaxis\": {\"backgroundcolor\": \"#E5ECF6\", \"gridcolor\": \"white\", \"gridwidth\": 2, \"linecolor\": \"white\", \"showbackground\": true, \"ticks\": \"\", \"zerolinecolor\": \"white\"}, \"zaxis\": {\"backgroundcolor\": \"#E5ECF6\", \"gridcolor\": \"white\", \"gridwidth\": 2, \"linecolor\": \"white\", \"showbackground\": true, \"ticks\": \"\", \"zerolinecolor\": \"white\"}}, \"shapedefaults\": {\"line\": {\"color\": \"#2a3f5f\"}}, \"ternary\": {\"aaxis\": {\"gridcolor\": \"white\", \"linecolor\": \"white\", \"ticks\": \"\"}, \"baxis\": {\"gridcolor\": \"white\", \"linecolor\": \"white\", \"ticks\": \"\"}, \"bgcolor\": \"#E5ECF6\", \"caxis\": {\"gridcolor\": \"white\", \"linecolor\": \"white\", \"ticks\": \"\"}}, \"title\": {\"x\": 0.05}, \"xaxis\": {\"automargin\": true, \"gridcolor\": \"white\", \"linecolor\": \"white\", \"ticks\": \"\", \"title\": {\"standoff\": 15}, \"zerolinecolor\": \"white\", \"zerolinewidth\": 2}, \"yaxis\": {\"automargin\": true, \"gridcolor\": \"white\", \"linecolor\": \"white\", \"ticks\": \"\", \"title\": {\"standoff\": 15}, \"zerolinecolor\": \"white\", \"zerolinewidth\": 2}}}, \"title\": {\"font\": {\"color\": \"#4D5663\"}}, \"xaxis\": {\"anchor\": \"y\", \"domain\": [0.0, 0.2125], \"gridcolor\": \"#E1E5ED\", \"showgrid\": false, \"tickfont\": {\"color\": \"#4D5663\"}, \"title\": {\"font\": {\"color\": \"#4D5663\"}, \"text\": \"\"}, \"zerolinecolor\": \"#E1E5ED\"}, \"xaxis10\": {\"anchor\": \"y10\", \"domain\": [0.2625, 0.475], \"gridcolor\": \"#E1E5ED\", \"showgrid\": false, \"tickfont\": {\"color\": \"#4D5663\"}, \"title\": {\"font\": {\"color\": \"#4D5663\"}, \"text\": \"\"}, \"zerolinecolor\": \"#E1E5ED\"}, \"xaxis11\": {\"anchor\": \"y11\", \"domain\": [0.525, 0.7375], \"gridcolor\": \"#E1E5ED\", \"showgrid\": false, \"tickfont\": {\"color\": \"#4D5663\"}, \"title\": {\"font\": {\"color\": \"#4D5663\"}, \"text\": \"\"}, \"zerolinecolor\": \"#E1E5ED\"}, \"xaxis12\": {\"anchor\": \"y12\", \"domain\": [0.7875, 1.0], \"gridcolor\": \"#E1E5ED\", \"showgrid\": false, \"tickfont\": {\"color\": \"#4D5663\"}, \"title\": {\"font\": {\"color\": \"#4D5663\"}, \"text\": \"\"}, \"zerolinecolor\": \"#E1E5ED\"}, \"xaxis13\": {\"anchor\": \"y13\", \"domain\": [0.0, 0.2125], \"gridcolor\": \"#E1E5ED\", \"showgrid\": false, \"tickfont\": {\"color\": \"#4D5663\"}, \"title\": {\"font\": {\"color\": \"#4D5663\"}, \"text\": \"\"}, \"zerolinecolor\": \"#E1E5ED\"}, \"xaxis14\": {\"anchor\": \"y14\", \"domain\": [0.2625, 0.475], \"gridcolor\": \"#E1E5ED\", \"showgrid\": false, \"tickfont\": {\"color\": \"#4D5663\"}, \"title\": {\"font\": {\"color\": \"#4D5663\"}, \"text\": \"\"}, \"zerolinecolor\": \"#E1E5ED\"}, \"xaxis15\": {\"anchor\": \"y15\", \"domain\": [0.525, 0.7375], \"gridcolor\": \"#E1E5ED\", \"showgrid\": false, \"tickfont\": {\"color\": \"#4D5663\"}, \"title\": {\"font\": {\"color\": \"#4D5663\"}, \"text\": \"\"}, \"zerolinecolor\": \"#E1E5ED\"}, \"xaxis16\": {\"anchor\": \"y16\", \"domain\": [0.7875, 1.0], \"gridcolor\": \"#E1E5ED\", \"showgrid\": false, \"tickfont\": {\"color\": \"#4D5663\"}, \"title\": {\"font\": {\"color\": \"#4D5663\"}, \"text\": \"\"}, \"zerolinecolor\": \"#E1E5ED\"}, \"xaxis2\": {\"anchor\": \"y2\", \"domain\": [0.2625, 0.475], \"gridcolor\": \"#E1E5ED\", \"showgrid\": false, \"tickfont\": {\"color\": \"#4D5663\"}, \"title\": {\"font\": {\"color\": \"#4D5663\"}, \"text\": \"\"}, \"zerolinecolor\": \"#E1E5ED\"}, \"xaxis3\": {\"anchor\": \"y3\", \"domain\": [0.525, 0.7375], \"gridcolor\": \"#E1E5ED\", \"showgrid\": false, \"tickfont\": {\"color\": \"#4D5663\"}, \"title\": {\"font\": {\"color\": \"#4D5663\"}, \"text\": \"\"}, \"zerolinecolor\": \"#E1E5ED\"}, \"xaxis4\": {\"anchor\": \"y4\", \"domain\": [0.7875, 1.0], \"gridcolor\": \"#E1E5ED\", \"showgrid\": false, \"tickfont\": {\"color\": \"#4D5663\"}, \"title\": {\"font\": {\"color\": \"#4D5663\"}, \"text\": \"\"}, \"zerolinecolor\": \"#E1E5ED\"}, \"xaxis5\": {\"anchor\": \"y5\", \"domain\": [0.0, 0.2125], \"gridcolor\": \"#E1E5ED\", \"showgrid\": false, \"tickfont\": {\"color\": \"#4D5663\"}, \"title\": {\"font\": {\"color\": \"#4D5663\"}, \"text\": \"\"}, \"zerolinecolor\": \"#E1E5ED\"}, \"xaxis6\": {\"anchor\": \"y6\", \"domain\": [0.2625, 0.475], \"gridcolor\": \"#E1E5ED\", \"showgrid\": false, \"tickfont\": {\"color\": \"#4D5663\"}, \"title\": {\"font\": {\"color\": \"#4D5663\"}, \"text\": \"\"}, \"zerolinecolor\": \"#E1E5ED\"}, \"xaxis7\": {\"anchor\": \"y7\", \"domain\": [0.525, 0.7375], \"gridcolor\": \"#E1E5ED\", \"showgrid\": false, \"tickfont\": {\"color\": \"#4D5663\"}, \"title\": {\"font\": {\"color\": \"#4D5663\"}, \"text\": \"\"}, \"zerolinecolor\": \"#E1E5ED\"}, \"xaxis8\": {\"anchor\": \"y8\", \"domain\": [0.7875, 1.0], \"gridcolor\": \"#E1E5ED\", \"showgrid\": false, \"tickfont\": {\"color\": \"#4D5663\"}, \"title\": {\"font\": {\"color\": \"#4D5663\"}, \"text\": \"\"}, \"zerolinecolor\": \"#E1E5ED\"}, \"xaxis9\": {\"anchor\": \"y9\", \"domain\": [0.0, 0.2125], \"gridcolor\": \"#E1E5ED\", \"showgrid\": false, \"tickfont\": {\"color\": \"#4D5663\"}, \"title\": {\"font\": {\"color\": \"#4D5663\"}, \"text\": \"\"}, \"zerolinecolor\": \"#E1E5ED\"}, \"yaxis\": {\"anchor\": \"x\", \"domain\": [0.8025, 1.0], \"gridcolor\": \"#E1E5ED\", \"showgrid\": false, \"tickfont\": {\"color\": \"#4D5663\"}, \"title\": {\"font\": {\"color\": \"#4D5663\"}, \"text\": \"\"}, \"zerolinecolor\": \"#E1E5ED\"}, \"yaxis10\": {\"anchor\": \"x10\", \"domain\": [0.2675, 0.465], \"gridcolor\": \"#E1E5ED\", \"showgrid\": false, \"tickfont\": {\"color\": \"#4D5663\"}, \"title\": {\"font\": {\"color\": \"#4D5663\"}, \"text\": \"\"}, \"zerolinecolor\": \"#E1E5ED\"}, \"yaxis11\": {\"anchor\": \"x11\", \"domain\": [0.2675, 0.465], \"gridcolor\": \"#E1E5ED\", \"showgrid\": false, \"tickfont\": {\"color\": \"#4D5663\"}, \"title\": {\"font\": {\"color\": \"#4D5663\"}, \"text\": \"\"}, \"zerolinecolor\": \"#E1E5ED\"}, \"yaxis12\": {\"anchor\": \"x12\", \"domain\": [0.2675, 0.465], \"gridcolor\": \"#E1E5ED\", \"showgrid\": false, \"tickfont\": {\"color\": \"#4D5663\"}, \"title\": {\"font\": {\"color\": \"#4D5663\"}, \"text\": \"\"}, \"zerolinecolor\": \"#E1E5ED\"}, \"yaxis13\": {\"anchor\": \"x13\", \"domain\": [0.0, 0.1975], \"gridcolor\": \"#E1E5ED\", \"showgrid\": false, \"tickfont\": {\"color\": \"#4D5663\"}, \"title\": {\"font\": {\"color\": \"#4D5663\"}, \"text\": \"\"}, \"zerolinecolor\": \"#E1E5ED\"}, \"yaxis14\": {\"anchor\": \"x14\", \"domain\": [0.0, 0.1975], \"gridcolor\": \"#E1E5ED\", \"showgrid\": false, \"tickfont\": {\"color\": \"#4D5663\"}, \"title\": {\"font\": {\"color\": \"#4D5663\"}, \"text\": \"\"}, \"zerolinecolor\": \"#E1E5ED\"}, \"yaxis15\": {\"anchor\": \"x15\", \"domain\": [0.0, 0.1975], \"gridcolor\": \"#E1E5ED\", \"showgrid\": false, \"tickfont\": {\"color\": \"#4D5663\"}, \"title\": {\"font\": {\"color\": \"#4D5663\"}, \"text\": \"\"}, \"zerolinecolor\": \"#E1E5ED\"}, \"yaxis16\": {\"anchor\": \"x16\", \"domain\": [0.0, 0.1975], \"gridcolor\": \"#E1E5ED\", \"showgrid\": false, \"tickfont\": {\"color\": \"#4D5663\"}, \"title\": {\"font\": {\"color\": \"#4D5663\"}, \"text\": \"\"}, \"zerolinecolor\": \"#E1E5ED\"}, \"yaxis2\": {\"anchor\": \"x2\", \"domain\": [0.8025, 1.0], \"gridcolor\": \"#E1E5ED\", \"showgrid\": false, \"tickfont\": {\"color\": \"#4D5663\"}, \"title\": {\"font\": {\"color\": \"#4D5663\"}, \"text\": \"\"}, \"zerolinecolor\": \"#E1E5ED\"}, \"yaxis3\": {\"anchor\": \"x3\", \"domain\": [0.8025, 1.0], \"gridcolor\": \"#E1E5ED\", \"showgrid\": false, \"tickfont\": {\"color\": \"#4D5663\"}, \"title\": {\"font\": {\"color\": \"#4D5663\"}, \"text\": \"\"}, \"zerolinecolor\": \"#E1E5ED\"}, \"yaxis4\": {\"anchor\": \"x4\", \"domain\": [0.8025, 1.0], \"gridcolor\": \"#E1E5ED\", \"showgrid\": false, \"tickfont\": {\"color\": \"#4D5663\"}, \"title\": {\"font\": {\"color\": \"#4D5663\"}, \"text\": \"\"}, \"zerolinecolor\": \"#E1E5ED\"}, \"yaxis5\": {\"anchor\": \"x5\", \"domain\": [0.535, 0.7325], \"gridcolor\": \"#E1E5ED\", \"showgrid\": false, \"tickfont\": {\"color\": \"#4D5663\"}, \"title\": {\"font\": {\"color\": \"#4D5663\"}, \"text\": \"\"}, \"zerolinecolor\": \"#E1E5ED\"}, \"yaxis6\": {\"anchor\": \"x6\", \"domain\": [0.535, 0.7325], \"gridcolor\": \"#E1E5ED\", \"showgrid\": false, \"tickfont\": {\"color\": \"#4D5663\"}, \"title\": {\"font\": {\"color\": \"#4D5663\"}, \"text\": \"\"}, \"zerolinecolor\": \"#E1E5ED\"}, \"yaxis7\": {\"anchor\": \"x7\", \"domain\": [0.535, 0.7325], \"gridcolor\": \"#E1E5ED\", \"showgrid\": false, \"tickfont\": {\"color\": \"#4D5663\"}, \"title\": {\"font\": {\"color\": \"#4D5663\"}, \"text\": \"\"}, \"zerolinecolor\": \"#E1E5ED\"}, \"yaxis8\": {\"anchor\": \"x8\", \"domain\": [0.535, 0.7325], \"gridcolor\": \"#E1E5ED\", \"showgrid\": false, \"tickfont\": {\"color\": \"#4D5663\"}, \"title\": {\"font\": {\"color\": \"#4D5663\"}, \"text\": \"\"}, \"zerolinecolor\": \"#E1E5ED\"}, \"yaxis9\": {\"anchor\": \"x9\", \"domain\": [0.2675, 0.465], \"gridcolor\": \"#E1E5ED\", \"showgrid\": false, \"tickfont\": {\"color\": \"#4D5663\"}, \"title\": {\"font\": {\"color\": \"#4D5663\"}, \"text\": \"\"}, \"zerolinecolor\": \"#E1E5ED\"}},                        {\"showLink\": true, \"linkText\": \"Export to plot.ly\", \"plotlyServerURL\": \"https://plot.ly\", \"responsive\": true}                    ).then(function(){\n                            \nvar gd = document.getElementById('915f2c92-b141-45e4-8b07-27e57006cf19');\nvar x = new MutationObserver(function (mutations, observer) {{\n        var display = window.getComputedStyle(gd).display;\n        if (!display || display === 'none') {{\n            console.log([gd, 'removed!']);\n            Plotly.purge(gd);\n            observer.disconnect();\n        }}\n}});\n\n// Listen for the removal of the full notebook cells\nvar notebookContainer = gd.closest('#notebook-container');\nif (notebookContainer) {{\n    x.observe(notebookContainer, {childList: true});\n}}\n\n// Listen for the clearing of the current output cell\nvar outputEl = gd.closest('.output');\nif (outputEl) {{\n    x.observe(outputEl, {childList: true});\n}}\n\n                        })                };                });            </script>        </div>"
     },
     "metadata": {}
    }
   ],
   "source": [
    "df.scatter_matrix()"
   ]
  },
  {
   "cell_type": "code",
   "execution_count": null,
   "metadata": {},
   "outputs": [],
   "source": []
  }
 ]
}